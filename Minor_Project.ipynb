{
 "cells": [
  {
   "cell_type": "markdown",
   "id": "46c6d864",
   "metadata": {},
   "source": [
    "# Single Run Required"
   ]
  },
  {
   "cell_type": "code",
   "execution_count": 193,
   "id": "89761a2a",
   "metadata": {},
   "outputs": [],
   "source": [
    "import math\n",
    "import numpy as np\n",
    "import pandas as pd\n",
    "import matplotlib.pyplot as plt\n",
    "from datetime import datetime\n",
    "import plotly.express as px\n",
    "from sklearn.preprocessing import MinMaxScaler\n",
    "import tensorflow as tf\n",
    "from tensorflow import keras\n",
    "from tensorflow.keras import layers\n",
    "from keras import Sequential\n",
    "from tensorflow.keras.layers import LSTM, Dropout, Dense"
   ]
  },
  {
   "cell_type": "code",
   "execution_count": 194,
   "id": "4d69fa62",
   "metadata": {},
   "outputs": [],
   "source": [
    "dataset = \"TitanData/TitanFullData.csv\"\n",
    "titan = pd.read_csv(dataset)"
   ]
  },
  {
   "cell_type": "code",
   "execution_count": 195,
   "id": "64d0e867",
   "metadata": {},
   "outputs": [
    {
     "data": {
      "text/plain": [
       "(370545, 6)"
      ]
     },
     "execution_count": 195,
     "metadata": {},
     "output_type": "execute_result"
    }
   ],
   "source": [
    "titan.shape"
   ]
  },
  {
   "cell_type": "code",
   "execution_count": 196,
   "id": "9daf25e8",
   "metadata": {},
   "outputs": [],
   "source": [
    "titan.dropna(inplace=True)"
   ]
  },
  {
   "cell_type": "code",
   "execution_count": 197,
   "id": "fb23b86c",
   "metadata": {},
   "outputs": [],
   "source": [
    "titan.to_csv(\"TitanData/TitanFullDataCleaned.csv\")"
   ]
  },
  {
   "cell_type": "code",
   "execution_count": 198,
   "id": "f06681e6",
   "metadata": {},
   "outputs": [
    {
     "data": {
      "text/plain": [
       "(370404, 6)"
      ]
     },
     "execution_count": 198,
     "metadata": {},
     "output_type": "execute_result"
    }
   ],
   "source": [
    "titan.shape"
   ]
  },
  {
   "cell_type": "code",
   "execution_count": 199,
   "id": "c674e40f",
   "metadata": {},
   "outputs": [],
   "source": [
    "rows = titan.shape[0]\n",
    "train_limit = int(rows*0.8) + 1 # 80-20 split for test and train data"
   ]
  },
  {
   "cell_type": "code",
   "execution_count": 200,
   "id": "00fb41de",
   "metadata": {},
   "outputs": [],
   "source": [
    "titan_train = titan[:train_limit]"
   ]
  },
  {
   "cell_type": "code",
   "execution_count": 201,
   "id": "c2660621",
   "metadata": {},
   "outputs": [
    {
     "data": {
      "text/html": [
       "<div>\n",
       "<style scoped>\n",
       "    .dataframe tbody tr th:only-of-type {\n",
       "        vertical-align: middle;\n",
       "    }\n",
       "\n",
       "    .dataframe tbody tr th {\n",
       "        vertical-align: top;\n",
       "    }\n",
       "\n",
       "    .dataframe thead th {\n",
       "        text-align: right;\n",
       "    }\n",
       "</style>\n",
       "<table border=\"1\" class=\"dataframe\">\n",
       "  <thead>\n",
       "    <tr style=\"text-align: right;\">\n",
       "      <th></th>\n",
       "      <th>timestamp</th>\n",
       "      <th>open</th>\n",
       "      <th>high</th>\n",
       "      <th>low</th>\n",
       "      <th>close</th>\n",
       "      <th>volume</th>\n",
       "    </tr>\n",
       "  </thead>\n",
       "  <tbody>\n",
       "    <tr>\n",
       "      <th>0</th>\n",
       "      <td>2017-01-02 09:15:00+05:30</td>\n",
       "      <td>327.00</td>\n",
       "      <td>327.05</td>\n",
       "      <td>326.00</td>\n",
       "      <td>326.60</td>\n",
       "      <td>1135.0</td>\n",
       "    </tr>\n",
       "    <tr>\n",
       "      <th>1</th>\n",
       "      <td>2017-01-02 09:16:00+05:30</td>\n",
       "      <td>326.70</td>\n",
       "      <td>327.00</td>\n",
       "      <td>326.70</td>\n",
       "      <td>327.00</td>\n",
       "      <td>489.0</td>\n",
       "    </tr>\n",
       "    <tr>\n",
       "      <th>2</th>\n",
       "      <td>2017-01-02 09:17:00+05:30</td>\n",
       "      <td>327.00</td>\n",
       "      <td>327.05</td>\n",
       "      <td>326.85</td>\n",
       "      <td>326.85</td>\n",
       "      <td>4360.0</td>\n",
       "    </tr>\n",
       "    <tr>\n",
       "      <th>3</th>\n",
       "      <td>2017-01-02 09:18:00+05:30</td>\n",
       "      <td>326.85</td>\n",
       "      <td>326.85</td>\n",
       "      <td>325.80</td>\n",
       "      <td>326.00</td>\n",
       "      <td>3979.0</td>\n",
       "    </tr>\n",
       "    <tr>\n",
       "      <th>4</th>\n",
       "      <td>2017-01-02 09:19:00+05:30</td>\n",
       "      <td>326.00</td>\n",
       "      <td>326.75</td>\n",
       "      <td>326.00</td>\n",
       "      <td>326.75</td>\n",
       "      <td>177.0</td>\n",
       "    </tr>\n",
       "    <tr>\n",
       "      <th>...</th>\n",
       "      <td>...</td>\n",
       "      <td>...</td>\n",
       "      <td>...</td>\n",
       "      <td>...</td>\n",
       "      <td>...</td>\n",
       "      <td>...</td>\n",
       "    </tr>\n",
       "    <tr>\n",
       "      <th>296399</th>\n",
       "      <td>2020-03-18 11:59:00+05:30</td>\n",
       "      <td>939.20</td>\n",
       "      <td>942.50</td>\n",
       "      <td>939.00</td>\n",
       "      <td>940.35</td>\n",
       "      <td>11825.0</td>\n",
       "    </tr>\n",
       "    <tr>\n",
       "      <th>296400</th>\n",
       "      <td>2020-03-18 12:00:00+05:30</td>\n",
       "      <td>940.80</td>\n",
       "      <td>944.20</td>\n",
       "      <td>940.70</td>\n",
       "      <td>943.20</td>\n",
       "      <td>12666.0</td>\n",
       "    </tr>\n",
       "    <tr>\n",
       "      <th>296401</th>\n",
       "      <td>2020-03-18 12:01:00+05:30</td>\n",
       "      <td>943.25</td>\n",
       "      <td>943.35</td>\n",
       "      <td>939.00</td>\n",
       "      <td>940.05</td>\n",
       "      <td>9038.0</td>\n",
       "    </tr>\n",
       "    <tr>\n",
       "      <th>296402</th>\n",
       "      <td>2020-03-18 12:02:00+05:30</td>\n",
       "      <td>939.70</td>\n",
       "      <td>942.15</td>\n",
       "      <td>939.05</td>\n",
       "      <td>941.20</td>\n",
       "      <td>5171.0</td>\n",
       "    </tr>\n",
       "    <tr>\n",
       "      <th>296403</th>\n",
       "      <td>2020-03-18 12:03:00+05:30</td>\n",
       "      <td>941.20</td>\n",
       "      <td>941.90</td>\n",
       "      <td>938.30</td>\n",
       "      <td>939.45</td>\n",
       "      <td>6000.0</td>\n",
       "    </tr>\n",
       "  </tbody>\n",
       "</table>\n",
       "<p>296324 rows × 6 columns</p>\n",
       "</div>"
      ],
      "text/plain": [
       "                        timestamp    open    high     low   close   volume\n",
       "0       2017-01-02 09:15:00+05:30  327.00  327.05  326.00  326.60   1135.0\n",
       "1       2017-01-02 09:16:00+05:30  326.70  327.00  326.70  327.00    489.0\n",
       "2       2017-01-02 09:17:00+05:30  327.00  327.05  326.85  326.85   4360.0\n",
       "3       2017-01-02 09:18:00+05:30  326.85  326.85  325.80  326.00   3979.0\n",
       "4       2017-01-02 09:19:00+05:30  326.00  326.75  326.00  326.75    177.0\n",
       "...                           ...     ...     ...     ...     ...      ...\n",
       "296399  2020-03-18 11:59:00+05:30  939.20  942.50  939.00  940.35  11825.0\n",
       "296400  2020-03-18 12:00:00+05:30  940.80  944.20  940.70  943.20  12666.0\n",
       "296401  2020-03-18 12:01:00+05:30  943.25  943.35  939.00  940.05   9038.0\n",
       "296402  2020-03-18 12:02:00+05:30  939.70  942.15  939.05  941.20   5171.0\n",
       "296403  2020-03-18 12:03:00+05:30  941.20  941.90  938.30  939.45   6000.0\n",
       "\n",
       "[296324 rows x 6 columns]"
      ]
     },
     "execution_count": 201,
     "metadata": {},
     "output_type": "execute_result"
    }
   ],
   "source": [
    "titan_train"
   ]
  },
  {
   "cell_type": "code",
   "execution_count": 202,
   "id": "6c53905f",
   "metadata": {},
   "outputs": [],
   "source": [
    "titan_train.to_csv(\"TitanData/TitanTrain.csv\", index=False)"
   ]
  },
  {
   "cell_type": "code",
   "execution_count": 203,
   "id": "4492eeed",
   "metadata": {},
   "outputs": [],
   "source": [
    "titan_test = titan[train_limit:]"
   ]
  },
  {
   "cell_type": "code",
   "execution_count": 204,
   "id": "1ed79651",
   "metadata": {},
   "outputs": [
    {
     "data": {
      "text/html": [
       "<div>\n",
       "<style scoped>\n",
       "    .dataframe tbody tr th:only-of-type {\n",
       "        vertical-align: middle;\n",
       "    }\n",
       "\n",
       "    .dataframe tbody tr th {\n",
       "        vertical-align: top;\n",
       "    }\n",
       "\n",
       "    .dataframe thead th {\n",
       "        text-align: right;\n",
       "    }\n",
       "</style>\n",
       "<table border=\"1\" class=\"dataframe\">\n",
       "  <thead>\n",
       "    <tr style=\"text-align: right;\">\n",
       "      <th></th>\n",
       "      <th>timestamp</th>\n",
       "      <th>open</th>\n",
       "      <th>high</th>\n",
       "      <th>low</th>\n",
       "      <th>close</th>\n",
       "      <th>volume</th>\n",
       "    </tr>\n",
       "  </thead>\n",
       "  <tbody>\n",
       "    <tr>\n",
       "      <th>296404</th>\n",
       "      <td>2020-03-18 12:04:00+05:30</td>\n",
       "      <td>939.20</td>\n",
       "      <td>940.35</td>\n",
       "      <td>938.50</td>\n",
       "      <td>938.75</td>\n",
       "      <td>6475.0</td>\n",
       "    </tr>\n",
       "    <tr>\n",
       "      <th>296405</th>\n",
       "      <td>2020-03-18 12:05:00+05:30</td>\n",
       "      <td>938.65</td>\n",
       "      <td>939.25</td>\n",
       "      <td>938.00</td>\n",
       "      <td>938.50</td>\n",
       "      <td>5195.0</td>\n",
       "    </tr>\n",
       "    <tr>\n",
       "      <th>296406</th>\n",
       "      <td>2020-03-18 12:06:00+05:30</td>\n",
       "      <td>938.10</td>\n",
       "      <td>938.80</td>\n",
       "      <td>938.00</td>\n",
       "      <td>938.70</td>\n",
       "      <td>5400.0</td>\n",
       "    </tr>\n",
       "    <tr>\n",
       "      <th>296407</th>\n",
       "      <td>2020-03-18 12:07:00+05:30</td>\n",
       "      <td>938.00</td>\n",
       "      <td>939.75</td>\n",
       "      <td>938.00</td>\n",
       "      <td>939.75</td>\n",
       "      <td>7041.0</td>\n",
       "    </tr>\n",
       "    <tr>\n",
       "      <th>296408</th>\n",
       "      <td>2020-03-18 12:08:00+05:30</td>\n",
       "      <td>939.70</td>\n",
       "      <td>941.40</td>\n",
       "      <td>938.95</td>\n",
       "      <td>940.80</td>\n",
       "      <td>19337.0</td>\n",
       "    </tr>\n",
       "    <tr>\n",
       "      <th>...</th>\n",
       "      <td>...</td>\n",
       "      <td>...</td>\n",
       "      <td>...</td>\n",
       "      <td>...</td>\n",
       "      <td>...</td>\n",
       "      <td>...</td>\n",
       "    </tr>\n",
       "    <tr>\n",
       "      <th>370540</th>\n",
       "      <td>2021-01-01 15:25:00+05:30</td>\n",
       "      <td>1559.95</td>\n",
       "      <td>1561.95</td>\n",
       "      <td>1559.05</td>\n",
       "      <td>1560.90</td>\n",
       "      <td>4822.0</td>\n",
       "    </tr>\n",
       "    <tr>\n",
       "      <th>370541</th>\n",
       "      <td>2021-01-01 15:26:00+05:30</td>\n",
       "      <td>1560.95</td>\n",
       "      <td>1561.00</td>\n",
       "      <td>1559.25</td>\n",
       "      <td>1559.30</td>\n",
       "      <td>4585.0</td>\n",
       "    </tr>\n",
       "    <tr>\n",
       "      <th>370542</th>\n",
       "      <td>2021-01-01 15:27:00+05:30</td>\n",
       "      <td>1559.85</td>\n",
       "      <td>1560.00</td>\n",
       "      <td>1557.65</td>\n",
       "      <td>1557.95</td>\n",
       "      <td>2869.0</td>\n",
       "    </tr>\n",
       "    <tr>\n",
       "      <th>370543</th>\n",
       "      <td>2021-01-01 15:28:00+05:30</td>\n",
       "      <td>1557.95</td>\n",
       "      <td>1560.00</td>\n",
       "      <td>1557.25</td>\n",
       "      <td>1559.65</td>\n",
       "      <td>4476.0</td>\n",
       "    </tr>\n",
       "    <tr>\n",
       "      <th>370544</th>\n",
       "      <td>2021-01-01 15:29:00+05:30</td>\n",
       "      <td>1559.65</td>\n",
       "      <td>1559.75</td>\n",
       "      <td>1558.00</td>\n",
       "      <td>1558.00</td>\n",
       "      <td>2246.0</td>\n",
       "    </tr>\n",
       "  </tbody>\n",
       "</table>\n",
       "<p>74080 rows × 6 columns</p>\n",
       "</div>"
      ],
      "text/plain": [
       "                        timestamp     open     high      low    close   volume\n",
       "296404  2020-03-18 12:04:00+05:30   939.20   940.35   938.50   938.75   6475.0\n",
       "296405  2020-03-18 12:05:00+05:30   938.65   939.25   938.00   938.50   5195.0\n",
       "296406  2020-03-18 12:06:00+05:30   938.10   938.80   938.00   938.70   5400.0\n",
       "296407  2020-03-18 12:07:00+05:30   938.00   939.75   938.00   939.75   7041.0\n",
       "296408  2020-03-18 12:08:00+05:30   939.70   941.40   938.95   940.80  19337.0\n",
       "...                           ...      ...      ...      ...      ...      ...\n",
       "370540  2021-01-01 15:25:00+05:30  1559.95  1561.95  1559.05  1560.90   4822.0\n",
       "370541  2021-01-01 15:26:00+05:30  1560.95  1561.00  1559.25  1559.30   4585.0\n",
       "370542  2021-01-01 15:27:00+05:30  1559.85  1560.00  1557.65  1557.95   2869.0\n",
       "370543  2021-01-01 15:28:00+05:30  1557.95  1560.00  1557.25  1559.65   4476.0\n",
       "370544  2021-01-01 15:29:00+05:30  1559.65  1559.75  1558.00  1558.00   2246.0\n",
       "\n",
       "[74080 rows x 6 columns]"
      ]
     },
     "execution_count": 204,
     "metadata": {},
     "output_type": "execute_result"
    }
   ],
   "source": [
    "titan_test"
   ]
  },
  {
   "cell_type": "code",
   "execution_count": 205,
   "id": "df7a2022",
   "metadata": {},
   "outputs": [],
   "source": [
    "titan_test.to_csv(\"TitanData/TitanTest.csv\", index=False)"
   ]
  },
  {
   "cell_type": "code",
   "execution_count": 206,
   "id": "604a7156",
   "metadata": {},
   "outputs": [],
   "source": [
    "titan_train = titan_train.iloc[:, 1:2].values"
   ]
  },
  {
   "cell_type": "code",
   "execution_count": 207,
   "id": "bbf01566",
   "metadata": {},
   "outputs": [
    {
     "data": {
      "text/plain": [
       "array([[327.  ],\n",
       "       [326.7 ],\n",
       "       [327.  ],\n",
       "       ...,\n",
       "       [943.25],\n",
       "       [939.7 ],\n",
       "       [941.2 ]])"
      ]
     },
     "execution_count": 207,
     "metadata": {},
     "output_type": "execute_result"
    }
   ],
   "source": [
    "titan_train"
   ]
  },
  {
   "cell_type": "markdown",
   "id": "4f83b91c",
   "metadata": {},
   "source": [
    "# Load Dataset"
   ]
  },
  {
   "cell_type": "code",
   "execution_count": 27,
   "id": "0927ac89",
   "metadata": {},
   "outputs": [],
   "source": [
    "import math\n",
    "import numpy as np\n",
    "import pandas as pd\n",
    "import matplotlib.pyplot as plt\n",
    "import time\n",
    "from datetime import datetime\n",
    "import plotly.express as px\n",
    "from sklearn.preprocessing import MinMaxScaler\n",
    "import tensorflow as tf\n",
    "from tensorflow import keras\n",
    "from tensorflow.keras import layers\n",
    "from keras import Sequential\n",
    "from tensorflow.keras.layers import LSTM, Dropout, Dense"
   ]
  },
  {
   "cell_type": "code",
   "execution_count": 28,
   "id": "35cd3cdb",
   "metadata": {},
   "outputs": [],
   "source": [
    "titan = pd.read_csv(\"TitanData/TitanFullDataCleaned.csv\")"
   ]
  },
  {
   "cell_type": "code",
   "execution_count": 29,
   "id": "f9c61c61",
   "metadata": {},
   "outputs": [],
   "source": [
    "rows = titan.shape[0]\n",
    "train_limit = int(rows*0.8) + 1 # 80-20 split for test and train data"
   ]
  },
  {
   "cell_type": "code",
   "execution_count": 30,
   "id": "fb085fdd",
   "metadata": {
    "scrolled": true
   },
   "outputs": [],
   "source": [
    "titan_train = pd.read_csv(\"TitanData/TitanTrain.csv\")"
   ]
  },
  {
   "cell_type": "code",
   "execution_count": 31,
   "id": "5950a212",
   "metadata": {},
   "outputs": [
    {
     "data": {
      "text/html": [
       "<div>\n",
       "<style scoped>\n",
       "    .dataframe tbody tr th:only-of-type {\n",
       "        vertical-align: middle;\n",
       "    }\n",
       "\n",
       "    .dataframe tbody tr th {\n",
       "        vertical-align: top;\n",
       "    }\n",
       "\n",
       "    .dataframe thead th {\n",
       "        text-align: right;\n",
       "    }\n",
       "</style>\n",
       "<table border=\"1\" class=\"dataframe\">\n",
       "  <thead>\n",
       "    <tr style=\"text-align: right;\">\n",
       "      <th></th>\n",
       "      <th>timestamp</th>\n",
       "      <th>open</th>\n",
       "      <th>high</th>\n",
       "      <th>low</th>\n",
       "      <th>close</th>\n",
       "      <th>volume</th>\n",
       "    </tr>\n",
       "  </thead>\n",
       "  <tbody>\n",
       "    <tr>\n",
       "      <th>0</th>\n",
       "      <td>2017-01-02 09:15:00+05:30</td>\n",
       "      <td>327.00</td>\n",
       "      <td>327.05</td>\n",
       "      <td>326.00</td>\n",
       "      <td>326.60</td>\n",
       "      <td>1135.0</td>\n",
       "    </tr>\n",
       "    <tr>\n",
       "      <th>1</th>\n",
       "      <td>2017-01-02 09:16:00+05:30</td>\n",
       "      <td>326.70</td>\n",
       "      <td>327.00</td>\n",
       "      <td>326.70</td>\n",
       "      <td>327.00</td>\n",
       "      <td>489.0</td>\n",
       "    </tr>\n",
       "    <tr>\n",
       "      <th>2</th>\n",
       "      <td>2017-01-02 09:17:00+05:30</td>\n",
       "      <td>327.00</td>\n",
       "      <td>327.05</td>\n",
       "      <td>326.85</td>\n",
       "      <td>326.85</td>\n",
       "      <td>4360.0</td>\n",
       "    </tr>\n",
       "    <tr>\n",
       "      <th>3</th>\n",
       "      <td>2017-01-02 09:18:00+05:30</td>\n",
       "      <td>326.85</td>\n",
       "      <td>326.85</td>\n",
       "      <td>325.80</td>\n",
       "      <td>326.00</td>\n",
       "      <td>3979.0</td>\n",
       "    </tr>\n",
       "    <tr>\n",
       "      <th>4</th>\n",
       "      <td>2017-01-02 09:19:00+05:30</td>\n",
       "      <td>326.00</td>\n",
       "      <td>326.75</td>\n",
       "      <td>326.00</td>\n",
       "      <td>326.75</td>\n",
       "      <td>177.0</td>\n",
       "    </tr>\n",
       "    <tr>\n",
       "      <th>...</th>\n",
       "      <td>...</td>\n",
       "      <td>...</td>\n",
       "      <td>...</td>\n",
       "      <td>...</td>\n",
       "      <td>...</td>\n",
       "      <td>...</td>\n",
       "    </tr>\n",
       "    <tr>\n",
       "      <th>296319</th>\n",
       "      <td>2020-03-18 11:59:00+05:30</td>\n",
       "      <td>939.20</td>\n",
       "      <td>942.50</td>\n",
       "      <td>939.00</td>\n",
       "      <td>940.35</td>\n",
       "      <td>11825.0</td>\n",
       "    </tr>\n",
       "    <tr>\n",
       "      <th>296320</th>\n",
       "      <td>2020-03-18 12:00:00+05:30</td>\n",
       "      <td>940.80</td>\n",
       "      <td>944.20</td>\n",
       "      <td>940.70</td>\n",
       "      <td>943.20</td>\n",
       "      <td>12666.0</td>\n",
       "    </tr>\n",
       "    <tr>\n",
       "      <th>296321</th>\n",
       "      <td>2020-03-18 12:01:00+05:30</td>\n",
       "      <td>943.25</td>\n",
       "      <td>943.35</td>\n",
       "      <td>939.00</td>\n",
       "      <td>940.05</td>\n",
       "      <td>9038.0</td>\n",
       "    </tr>\n",
       "    <tr>\n",
       "      <th>296322</th>\n",
       "      <td>2020-03-18 12:02:00+05:30</td>\n",
       "      <td>939.70</td>\n",
       "      <td>942.15</td>\n",
       "      <td>939.05</td>\n",
       "      <td>941.20</td>\n",
       "      <td>5171.0</td>\n",
       "    </tr>\n",
       "    <tr>\n",
       "      <th>296323</th>\n",
       "      <td>2020-03-18 12:03:00+05:30</td>\n",
       "      <td>941.20</td>\n",
       "      <td>941.90</td>\n",
       "      <td>938.30</td>\n",
       "      <td>939.45</td>\n",
       "      <td>6000.0</td>\n",
       "    </tr>\n",
       "  </tbody>\n",
       "</table>\n",
       "<p>296324 rows × 6 columns</p>\n",
       "</div>"
      ],
      "text/plain": [
       "                        timestamp    open    high     low   close   volume\n",
       "0       2017-01-02 09:15:00+05:30  327.00  327.05  326.00  326.60   1135.0\n",
       "1       2017-01-02 09:16:00+05:30  326.70  327.00  326.70  327.00    489.0\n",
       "2       2017-01-02 09:17:00+05:30  327.00  327.05  326.85  326.85   4360.0\n",
       "3       2017-01-02 09:18:00+05:30  326.85  326.85  325.80  326.00   3979.0\n",
       "4       2017-01-02 09:19:00+05:30  326.00  326.75  326.00  326.75    177.0\n",
       "...                           ...     ...     ...     ...     ...      ...\n",
       "296319  2020-03-18 11:59:00+05:30  939.20  942.50  939.00  940.35  11825.0\n",
       "296320  2020-03-18 12:00:00+05:30  940.80  944.20  940.70  943.20  12666.0\n",
       "296321  2020-03-18 12:01:00+05:30  943.25  943.35  939.00  940.05   9038.0\n",
       "296322  2020-03-18 12:02:00+05:30  939.70  942.15  939.05  941.20   5171.0\n",
       "296323  2020-03-18 12:03:00+05:30  941.20  941.90  938.30  939.45   6000.0\n",
       "\n",
       "[296324 rows x 6 columns]"
      ]
     },
     "execution_count": 31,
     "metadata": {},
     "output_type": "execute_result"
    }
   ],
   "source": [
    "titan_train"
   ]
  },
  {
   "cell_type": "code",
   "execution_count": 32,
   "id": "d7c5b5ec",
   "metadata": {},
   "outputs": [],
   "source": [
    "titan_test = pd.read_csv(\"TitanData/TitanTest.csv\")"
   ]
  },
  {
   "cell_type": "code",
   "execution_count": 33,
   "id": "d803e3ec",
   "metadata": {},
   "outputs": [
    {
     "data": {
      "text/html": [
       "<div>\n",
       "<style scoped>\n",
       "    .dataframe tbody tr th:only-of-type {\n",
       "        vertical-align: middle;\n",
       "    }\n",
       "\n",
       "    .dataframe tbody tr th {\n",
       "        vertical-align: top;\n",
       "    }\n",
       "\n",
       "    .dataframe thead th {\n",
       "        text-align: right;\n",
       "    }\n",
       "</style>\n",
       "<table border=\"1\" class=\"dataframe\">\n",
       "  <thead>\n",
       "    <tr style=\"text-align: right;\">\n",
       "      <th></th>\n",
       "      <th>timestamp</th>\n",
       "      <th>open</th>\n",
       "      <th>high</th>\n",
       "      <th>low</th>\n",
       "      <th>close</th>\n",
       "      <th>volume</th>\n",
       "    </tr>\n",
       "  </thead>\n",
       "  <tbody>\n",
       "    <tr>\n",
       "      <th>0</th>\n",
       "      <td>2020-03-18 12:04:00+05:30</td>\n",
       "      <td>939.20</td>\n",
       "      <td>940.35</td>\n",
       "      <td>938.50</td>\n",
       "      <td>938.75</td>\n",
       "      <td>6475.0</td>\n",
       "    </tr>\n",
       "    <tr>\n",
       "      <th>1</th>\n",
       "      <td>2020-03-18 12:05:00+05:30</td>\n",
       "      <td>938.65</td>\n",
       "      <td>939.25</td>\n",
       "      <td>938.00</td>\n",
       "      <td>938.50</td>\n",
       "      <td>5195.0</td>\n",
       "    </tr>\n",
       "    <tr>\n",
       "      <th>2</th>\n",
       "      <td>2020-03-18 12:06:00+05:30</td>\n",
       "      <td>938.10</td>\n",
       "      <td>938.80</td>\n",
       "      <td>938.00</td>\n",
       "      <td>938.70</td>\n",
       "      <td>5400.0</td>\n",
       "    </tr>\n",
       "    <tr>\n",
       "      <th>3</th>\n",
       "      <td>2020-03-18 12:07:00+05:30</td>\n",
       "      <td>938.00</td>\n",
       "      <td>939.75</td>\n",
       "      <td>938.00</td>\n",
       "      <td>939.75</td>\n",
       "      <td>7041.0</td>\n",
       "    </tr>\n",
       "    <tr>\n",
       "      <th>4</th>\n",
       "      <td>2020-03-18 12:08:00+05:30</td>\n",
       "      <td>939.70</td>\n",
       "      <td>941.40</td>\n",
       "      <td>938.95</td>\n",
       "      <td>940.80</td>\n",
       "      <td>19337.0</td>\n",
       "    </tr>\n",
       "    <tr>\n",
       "      <th>...</th>\n",
       "      <td>...</td>\n",
       "      <td>...</td>\n",
       "      <td>...</td>\n",
       "      <td>...</td>\n",
       "      <td>...</td>\n",
       "      <td>...</td>\n",
       "    </tr>\n",
       "    <tr>\n",
       "      <th>74075</th>\n",
       "      <td>2021-01-01 15:25:00+05:30</td>\n",
       "      <td>1559.95</td>\n",
       "      <td>1561.95</td>\n",
       "      <td>1559.05</td>\n",
       "      <td>1560.90</td>\n",
       "      <td>4822.0</td>\n",
       "    </tr>\n",
       "    <tr>\n",
       "      <th>74076</th>\n",
       "      <td>2021-01-01 15:26:00+05:30</td>\n",
       "      <td>1560.95</td>\n",
       "      <td>1561.00</td>\n",
       "      <td>1559.25</td>\n",
       "      <td>1559.30</td>\n",
       "      <td>4585.0</td>\n",
       "    </tr>\n",
       "    <tr>\n",
       "      <th>74077</th>\n",
       "      <td>2021-01-01 15:27:00+05:30</td>\n",
       "      <td>1559.85</td>\n",
       "      <td>1560.00</td>\n",
       "      <td>1557.65</td>\n",
       "      <td>1557.95</td>\n",
       "      <td>2869.0</td>\n",
       "    </tr>\n",
       "    <tr>\n",
       "      <th>74078</th>\n",
       "      <td>2021-01-01 15:28:00+05:30</td>\n",
       "      <td>1557.95</td>\n",
       "      <td>1560.00</td>\n",
       "      <td>1557.25</td>\n",
       "      <td>1559.65</td>\n",
       "      <td>4476.0</td>\n",
       "    </tr>\n",
       "    <tr>\n",
       "      <th>74079</th>\n",
       "      <td>2021-01-01 15:29:00+05:30</td>\n",
       "      <td>1559.65</td>\n",
       "      <td>1559.75</td>\n",
       "      <td>1558.00</td>\n",
       "      <td>1558.00</td>\n",
       "      <td>2246.0</td>\n",
       "    </tr>\n",
       "  </tbody>\n",
       "</table>\n",
       "<p>74080 rows × 6 columns</p>\n",
       "</div>"
      ],
      "text/plain": [
       "                       timestamp     open     high      low    close   volume\n",
       "0      2020-03-18 12:04:00+05:30   939.20   940.35   938.50   938.75   6475.0\n",
       "1      2020-03-18 12:05:00+05:30   938.65   939.25   938.00   938.50   5195.0\n",
       "2      2020-03-18 12:06:00+05:30   938.10   938.80   938.00   938.70   5400.0\n",
       "3      2020-03-18 12:07:00+05:30   938.00   939.75   938.00   939.75   7041.0\n",
       "4      2020-03-18 12:08:00+05:30   939.70   941.40   938.95   940.80  19337.0\n",
       "...                          ...      ...      ...      ...      ...      ...\n",
       "74075  2021-01-01 15:25:00+05:30  1559.95  1561.95  1559.05  1560.90   4822.0\n",
       "74076  2021-01-01 15:26:00+05:30  1560.95  1561.00  1559.25  1559.30   4585.0\n",
       "74077  2021-01-01 15:27:00+05:30  1559.85  1560.00  1557.65  1557.95   2869.0\n",
       "74078  2021-01-01 15:28:00+05:30  1557.95  1560.00  1557.25  1559.65   4476.0\n",
       "74079  2021-01-01 15:29:00+05:30  1559.65  1559.75  1558.00  1558.00   2246.0\n",
       "\n",
       "[74080 rows x 6 columns]"
      ]
     },
     "execution_count": 33,
     "metadata": {},
     "output_type": "execute_result"
    }
   ],
   "source": [
    "titan_test"
   ]
  },
  {
   "cell_type": "code",
   "execution_count": 34,
   "id": "875a6f87",
   "metadata": {},
   "outputs": [],
   "source": [
    "#titan_test = titan_train.test[:, 1:2].values"
   ]
  },
  {
   "cell_type": "code",
   "execution_count": 35,
   "id": "5b9119ed",
   "metadata": {},
   "outputs": [],
   "source": [
    "titan_train = titan_train.iloc[:, 1:2].values"
   ]
  },
  {
   "cell_type": "code",
   "execution_count": 36,
   "id": "f9a18af8",
   "metadata": {},
   "outputs": [],
   "source": [
    "titan_test = titan_test.iloc[:, 1:2].values"
   ]
  },
  {
   "cell_type": "code",
   "execution_count": 37,
   "id": "cf71ccb7",
   "metadata": {},
   "outputs": [],
   "source": [
    "sc = MinMaxScaler(feature_range = (0, 1))\n",
    "titan_train_scaled = sc.fit_transform(titan_train)"
   ]
  },
  {
   "cell_type": "code",
   "execution_count": 38,
   "id": "0ce8f7d9",
   "metadata": {},
   "outputs": [],
   "source": [
    "# titan_train_scaled"
   ]
  },
  {
   "cell_type": "code",
   "execution_count": 39,
   "id": "4a1355dd",
   "metadata": {},
   "outputs": [],
   "source": [
    "n_inputs = 200 # No of previous input values \n",
    "n_outputs = 20 # No of next values to predict\n",
    "\n",
    "X_train = [] \n",
    "y_train = []\n",
    "\n",
    "for i in range(n_inputs, len(titan_train_scaled)-n_outputs):\n",
    "    X_train.append(titan_train_scaled[i-n_inputs: i, 0]) # Take last n_inputs values\n",
    "    y_train.append(titan_train_scaled[i:i+n_outputs, 0]) # In y-train append next n_outputs values\n",
    "    \n",
    "X_train, y_train = np.array(X_train), np.array(y_train)\n",
    "\n",
    "# for loop Starting from 10th value in the dataset until the last value in the dataset.\n",
    "# We append 10 values to X-train and the next value to y-train."
   ]
  },
  {
   "cell_type": "code",
   "execution_count": 40,
   "id": "4f51ed51",
   "metadata": {},
   "outputs": [
    {
     "data": {
      "text/plain": [
       "(296104, 200)"
      ]
     },
     "execution_count": 40,
     "metadata": {},
     "output_type": "execute_result"
    }
   ],
   "source": [
    "X_train.shape"
   ]
  },
  {
   "cell_type": "code",
   "execution_count": 41,
   "id": "29110272",
   "metadata": {},
   "outputs": [
    {
     "data": {
      "text/plain": [
       "(296104, 20)"
      ]
     },
     "execution_count": 41,
     "metadata": {},
     "output_type": "execute_result"
    }
   ],
   "source": [
    "y_train.shape"
   ]
  },
  {
   "cell_type": "code",
   "execution_count": 42,
   "id": "a02f8584",
   "metadata": {},
   "outputs": [
    {
     "data": {
      "text/plain": [
       "array([[0.00136246, 0.00136246, 0.00136246, ..., 0.00173831, 0.00173831,\n",
       "        0.00173831],\n",
       "       [0.00136246, 0.00136246, 0.00136246, ..., 0.00173831, 0.00173831,\n",
       "        0.00164435],\n",
       "       [0.00136246, 0.00136246, 0.00131548, ..., 0.00173831, 0.00164435,\n",
       "        0.00164435],\n",
       "       ...,\n",
       "       [0.57369039, 0.57322058, 0.57228095, ..., 0.57556965, 0.57660324,\n",
       "        0.57810665],\n",
       "       [0.57322058, 0.57228095, 0.57077754, ..., 0.57660324, 0.57810665,\n",
       "        0.58040874],\n",
       "       [0.57228095, 0.57077754, 0.57101245, ..., 0.57810665, 0.58040874,\n",
       "        0.57707306]])"
      ]
     },
     "execution_count": 42,
     "metadata": {},
     "output_type": "execute_result"
    }
   ],
   "source": [
    "y_train"
   ]
  },
  {
   "cell_type": "code",
   "execution_count": 43,
   "id": "2dfa9fc7",
   "metadata": {},
   "outputs": [],
   "source": [
    "# print(titan_train_scaled)"
   ]
  },
  {
   "cell_type": "code",
   "execution_count": 44,
   "id": "f66ab0ee",
   "metadata": {},
   "outputs": [],
   "source": [
    "X_train = np.reshape(X_train, newshape = (X_train.shape[0], X_train.shape[1], 1))"
   ]
  },
  {
   "cell_type": "code",
   "execution_count": 45,
   "id": "638b186f",
   "metadata": {},
   "outputs": [
    {
     "data": {
      "text/plain": [
       "(296104, 200, 1)"
      ]
     },
     "execution_count": 45,
     "metadata": {},
     "output_type": "execute_result"
    }
   ],
   "source": [
    "X_train.shape"
   ]
  },
  {
   "cell_type": "code",
   "execution_count": 46,
   "id": "ba8cace8",
   "metadata": {},
   "outputs": [],
   "source": [
    "y_train = np.reshape(y_train, newshape = (y_train.shape[0], y_train.shape[1], 1))"
   ]
  },
  {
   "cell_type": "code",
   "execution_count": 47,
   "id": "3172296c",
   "metadata": {},
   "outputs": [
    {
     "data": {
      "text/plain": [
       "(296104, 20, 1)"
      ]
     },
     "execution_count": 47,
     "metadata": {},
     "output_type": "execute_result"
    }
   ],
   "source": [
    "y_train.shape"
   ]
  },
  {
   "cell_type": "code",
   "execution_count": 48,
   "id": "55ec8a63",
   "metadata": {},
   "outputs": [],
   "source": [
    "regressor = Sequential()"
   ]
  },
  {
   "cell_type": "code",
   "execution_count": 49,
   "id": "c9ae6247",
   "metadata": {},
   "outputs": [],
   "source": [
    "n_units = 100\n",
    "n_epochs = 10\n",
    "batch_size = 512\n",
    "\n",
    "regressor.add(LSTM(units = n_units, return_sequences = True, input_shape = (X_train.shape[1], 1)))\n",
    "\n",
    "regressor.add(Dropout(rate = 0.2))"
   ]
  },
  {
   "cell_type": "code",
   "execution_count": 50,
   "id": "b614119a",
   "metadata": {},
   "outputs": [],
   "source": [
    "##add 2nd lstm layer\n",
    "regressor.add(LSTM(units = n_units, return_sequences = True))\n",
    "regressor.add(Dropout(rate = 0.2))##add 3rd lstm layer\n",
    "regressor.add(LSTM(units = n_units, return_sequences = True))\n",
    "regressor.add(Dropout(rate = 0.2))##add 4th lstm layer\n",
    "regressor.add(LSTM(units = n_units, return_sequences = False))\n",
    "regressor.add(Dropout(rate = 0.2))"
   ]
  },
  {
   "cell_type": "code",
   "execution_count": 51,
   "id": "f0af047c",
   "metadata": {},
   "outputs": [],
   "source": [
    "regressor.add(Dense(units = n_outputs))\n",
    "regressor.compile(optimizer = 'adam', loss = 'mean_squared_error')"
   ]
  },
  {
   "cell_type": "code",
   "execution_count": 52,
   "id": "20ada1f1",
   "metadata": {},
   "outputs": [
    {
     "name": "stdout",
     "output_type": "stream",
     "text": [
      "Epoch 1/10\n",
      "579/579 [==============================] - 233s 396ms/step - loss: 0.0079\n",
      "Epoch 2/10\n",
      "579/579 [==============================] - 230s 397ms/step - loss: 0.0017\n",
      "Epoch 3/10\n",
      "579/579 [==============================] - 232s 401ms/step - loss: 0.0011\n",
      "Epoch 4/10\n",
      "579/579 [==============================] - 227s 392ms/step - loss: 8.0229e-04\n",
      "Epoch 5/10\n",
      "579/579 [==============================] - 226s 391ms/step - loss: 6.0959e-04\n",
      "Epoch 6/10\n",
      "579/579 [==============================] - 227s 392ms/step - loss: 4.9162e-04\n",
      "Epoch 7/10\n",
      "579/579 [==============================] - 230s 398ms/step - loss: 3.9192e-04\n",
      "Epoch 8/10\n",
      "579/579 [==============================] - 232s 401ms/step - loss: 3.4555e-04\n",
      "Epoch 9/10\n",
      "579/579 [==============================] - 234s 404ms/step - loss: 2.9609e-04\n",
      "Epoch 10/10\n",
      "579/579 [==============================] - 234s 404ms/step - loss: 2.7150e-04\n"
     ]
    },
    {
     "data": {
      "text/plain": [
       "<keras.callbacks.History at 0x12ace03d370>"
      ]
     },
     "execution_count": 52,
     "metadata": {},
     "output_type": "execute_result"
    }
   ],
   "source": [
    "regressor.fit(x = X_train, y = y_train, batch_size = batch_size, epochs = n_epochs)"
   ]
  },
  {
   "cell_type": "code",
   "execution_count": 53,
   "id": "d8db515d",
   "metadata": {},
   "outputs": [],
   "source": [
    "real_stock_price = titan_test"
   ]
  },
  {
   "cell_type": "code",
   "execution_count": 54,
   "id": "d9a3bd1c",
   "metadata": {},
   "outputs": [],
   "source": [
    "titan_open = titan['open']"
   ]
  },
  {
   "cell_type": "code",
   "execution_count": 55,
   "id": "753ce206",
   "metadata": {},
   "outputs": [
    {
     "data": {
      "text/plain": [
       "0          327.00\n",
       "1          326.70\n",
       "2          327.00\n",
       "3          326.85\n",
       "4          326.00\n",
       "           ...   \n",
       "370399    1559.95\n",
       "370400    1560.95\n",
       "370401    1559.85\n",
       "370402    1557.95\n",
       "370403    1559.65\n",
       "Name: open, Length: 370404, dtype: float64"
      ]
     },
     "execution_count": 55,
     "metadata": {},
     "output_type": "execute_result"
    }
   ],
   "source": [
    "titan_open"
   ]
  },
  {
   "cell_type": "code",
   "execution_count": 56,
   "id": "f09cd8cc",
   "metadata": {},
   "outputs": [],
   "source": [
    "inputs = titan_open[len(titan_open) - len(titan_test)-n_inputs:].values"
   ]
  },
  {
   "cell_type": "code",
   "execution_count": 57,
   "id": "0d48a0dd",
   "metadata": {},
   "outputs": [],
   "source": [
    "inputs = inputs.reshape(-1, 1)"
   ]
  },
  {
   "cell_type": "code",
   "execution_count": 58,
   "id": "e168219a",
   "metadata": {},
   "outputs": [],
   "source": [
    "inputs = sc.transform(inputs)"
   ]
  },
  {
   "cell_type": "code",
   "execution_count": 59,
   "id": "eff6b017",
   "metadata": {},
   "outputs": [
    {
     "data": {
      "text/plain": [
       "array([[0.64806202],\n",
       "       [0.64416256],\n",
       "       [0.64204839],\n",
       "       ...,\n",
       "       [1.15978389],\n",
       "       [1.15799859],\n",
       "       [1.15959596]])"
      ]
     },
     "execution_count": 59,
     "metadata": {},
     "output_type": "execute_result"
    }
   ],
   "source": [
    "inputs"
   ]
  },
  {
   "cell_type": "code",
   "execution_count": 60,
   "id": "f7eef7fa",
   "metadata": {},
   "outputs": [],
   "source": [
    "X_test = []\n",
    "y_test = []\n",
    "\n",
    "for i in range(n_inputs, len(inputs)-n_outputs): \n",
    "    X_test.append(inputs[i-n_inputs: i, 0])\n",
    "    y_test.append(inputs[i:i+n_outputs, 0])\n",
    "X_test = np.array(X_test)\n",
    "y_test = np.array(y_test)\n",
    "#make numpy array as 3D , adding num of indicator\n",
    "X_test = np.reshape(X_test, newshape = (X_test.shape[0],  X_test.shape[1], 1))\n",
    "y_test = np.reshape(y_test, newshape = (y_test.shape[0],  y_test.shape[1], 1))"
   ]
  },
  {
   "cell_type": "code",
   "execution_count": 61,
   "id": "e066df38",
   "metadata": {},
   "outputs": [
    {
     "data": {
      "text/plain": [
       "array([[[0.64806202],\n",
       "        [0.64416256],\n",
       "        [0.64204839],\n",
       "        ...,\n",
       "        [0.58040874],\n",
       "        [0.57707306],\n",
       "        [0.5784825 ]],\n",
       "\n",
       "       [[0.64416256],\n",
       "        [0.64204839],\n",
       "        [0.63819591],\n",
       "        ...,\n",
       "        [0.57707306],\n",
       "        [0.5784825 ],\n",
       "        [0.57660324]],\n",
       "\n",
       "       [[0.64204839],\n",
       "        [0.63819591],\n",
       "        [0.6351891 ],\n",
       "        ...,\n",
       "        [0.5784825 ],\n",
       "        [0.57660324],\n",
       "        [0.57608645]],\n",
       "\n",
       "       ...,\n",
       "\n",
       "       [[1.16631431],\n",
       "        [1.1668311 ],\n",
       "        [1.16603242],\n",
       "        ...,\n",
       "        [1.15917313],\n",
       "        [1.15809255],\n",
       "        [1.15804557]],\n",
       "\n",
       "       [[1.1668311 ],\n",
       "        [1.16603242],\n",
       "        [1.16603242],\n",
       "        ...,\n",
       "        [1.15809255],\n",
       "        [1.15804557],\n",
       "        [1.15912615]],\n",
       "\n",
       "       [[1.16603242],\n",
       "        [1.16603242],\n",
       "        [1.16570355],\n",
       "        ...,\n",
       "        [1.15804557],\n",
       "        [1.15912615],\n",
       "        [1.15954898]]])"
      ]
     },
     "execution_count": 61,
     "metadata": {},
     "output_type": "execute_result"
    }
   ],
   "source": [
    "X_test"
   ]
  },
  {
   "cell_type": "code",
   "execution_count": 62,
   "id": "a2342d25",
   "metadata": {},
   "outputs": [
    {
     "data": {
      "text/plain": [
       "array([[[0.57660324],\n",
       "        [0.57608645],\n",
       "        [0.57556965],\n",
       "        ...,\n",
       "        [0.58224101],\n",
       "        [0.5817712 ],\n",
       "        [0.5792342 ]],\n",
       "\n",
       "       [[0.57608645],\n",
       "        [0.57556965],\n",
       "        [0.57547569],\n",
       "        ...,\n",
       "        [0.5817712 ],\n",
       "        [0.5792342 ],\n",
       "        [0.57735494]],\n",
       "\n",
       "       [[0.57556965],\n",
       "        [0.57547569],\n",
       "        [0.57707306],\n",
       "        ...,\n",
       "        [0.5792342 ],\n",
       "        [0.57735494],\n",
       "        [0.5789993 ]],\n",
       "\n",
       "       ...,\n",
       "\n",
       "       [[1.15912615],\n",
       "        [1.15954898],\n",
       "        [1.15968992],\n",
       "        ...,\n",
       "        [1.15875029],\n",
       "        [1.15987785],\n",
       "        [1.16081748]],\n",
       "\n",
       "       [[1.15954898],\n",
       "        [1.15968992],\n",
       "        [1.15964294],\n",
       "        ...,\n",
       "        [1.15987785],\n",
       "        [1.16081748],\n",
       "        [1.15978389]],\n",
       "\n",
       "       [[1.15968992],\n",
       "        [1.15964294],\n",
       "        [1.15992483],\n",
       "        ...,\n",
       "        [1.16081748],\n",
       "        [1.15978389],\n",
       "        [1.15799859]]])"
      ]
     },
     "execution_count": 62,
     "metadata": {},
     "output_type": "execute_result"
    }
   ],
   "source": [
    "y_test"
   ]
  },
  {
   "cell_type": "code",
   "execution_count": 63,
   "id": "b82bf3e8",
   "metadata": {},
   "outputs": [
    {
     "data": {
      "text/plain": [
       "(74060, 200, 1)"
      ]
     },
     "execution_count": 63,
     "metadata": {},
     "output_type": "execute_result"
    }
   ],
   "source": [
    "X_test.shape"
   ]
  },
  {
   "cell_type": "code",
   "execution_count": 64,
   "id": "58acfe6c",
   "metadata": {},
   "outputs": [
    {
     "data": {
      "text/plain": [
       "(74060, 20, 1)"
      ]
     },
     "execution_count": 64,
     "metadata": {},
     "output_type": "execute_result"
    }
   ],
   "source": [
    "y_test.shape"
   ]
  },
  {
   "cell_type": "code",
   "execution_count": 65,
   "id": "1230d166",
   "metadata": {},
   "outputs": [
    {
     "name": "stdout",
     "output_type": "stream",
     "text": [
      "2315/2315 [==============================] - 48s 20ms/step\n"
     ]
    }
   ],
   "source": [
    "predicted_stock_price = regressor.predict(X_test)"
   ]
  },
  {
   "cell_type": "code",
   "execution_count": 66,
   "id": "bf898bd0",
   "metadata": {},
   "outputs": [
    {
     "data": {
      "text/plain": [
       "array([[0.58367926, 0.5838112 , 0.58395594, ..., 0.5837392 , 0.58368254,\n",
       "        0.5837914 ],\n",
       "       [0.5839516 , 0.5840785 , 0.58421975, ..., 0.5840085 , 0.58395004,\n",
       "        0.58405375],\n",
       "       [0.58419675, 0.5843173 , 0.58445597, ..., 0.5842491 , 0.5841894 ,\n",
       "        0.58428884],\n",
       "       ...,\n",
       "       [1.1625856 , 1.1616971 , 1.1609464 , ..., 1.1623197 , 1.1620998 ,\n",
       "        1.1614968 ],\n",
       "       [1.1623856 , 1.1614956 , 1.1607468 , ..., 1.1621176 , 1.1618989 ,\n",
       "        1.1612973 ],\n",
       "       [1.1621734 , 1.1612825 , 1.1605359 , ..., 1.1619042 , 1.1616864 ,\n",
       "        1.1610866 ]], dtype=float32)"
      ]
     },
     "execution_count": 66,
     "metadata": {},
     "output_type": "execute_result"
    }
   ],
   "source": [
    "pred_backup = predicted_stock_price\n",
    "predicted_stock_price"
   ]
  },
  {
   "cell_type": "code",
   "execution_count": 67,
   "id": "b6ad95da",
   "metadata": {},
   "outputs": [
    {
     "data": {
      "text/plain": [
       "(74060, 20)"
      ]
     },
     "execution_count": 67,
     "metadata": {},
     "output_type": "execute_result"
    }
   ],
   "source": [
    "predicted_stock_price.shape"
   ]
  },
  {
   "cell_type": "code",
   "execution_count": 68,
   "id": "5ccf0172",
   "metadata": {},
   "outputs": [],
   "source": [
    "predicted_stock_price = sc.inverse_transform(predicted_stock_price)"
   ]
  },
  {
   "cell_type": "code",
   "execution_count": 69,
   "id": "2c005218",
   "metadata": {},
   "outputs": [
    {
     "data": {
      "text/plain": [
       "74060"
      ]
     },
     "execution_count": 69,
     "metadata": {},
     "output_type": "execute_result"
    }
   ],
   "source": [
    "len(predicted_stock_price)"
   ]
  },
  {
   "cell_type": "code",
   "execution_count": 70,
   "id": "93be4ae4",
   "metadata": {},
   "outputs": [
    {
     "data": {
      "text/plain": [
       "array([[ 946.73065,  946.8711 ,  947.0251 , ...,  946.79443,  946.73413,\n",
       "         946.85   ],\n",
       "       [ 947.02045,  947.1555 ,  947.30585, ...,  947.08105,  947.0188 ,\n",
       "         947.1292 ],\n",
       "       [ 947.2814 ,  947.4097 ,  947.55725, ...,  947.3371 ,  947.27356,\n",
       "         947.3794 ],\n",
       "       ...,\n",
       "       [1562.8318 , 1561.8862 , 1561.0872 , ..., 1562.5487 , 1562.3147 ,\n",
       "        1561.673  ],\n",
       "       [1562.6189 , 1561.6716 , 1560.8748 , ..., 1562.3336 , 1562.1008 ,\n",
       "        1561.4607 ],\n",
       "       [1562.3931 , 1561.445  , 1560.6504 , ..., 1562.1066 , 1561.8748 ,\n",
       "        1561.2363 ]], dtype=float32)"
      ]
     },
     "execution_count": 70,
     "metadata": {},
     "output_type": "execute_result"
    }
   ],
   "source": [
    "predicted_stock_price"
   ]
  },
  {
   "cell_type": "code",
   "execution_count": 71,
   "id": "4acaab7b",
   "metadata": {},
   "outputs": [
    {
     "data": {
      "text/plain": [
       "(74060, 20)"
      ]
     },
     "execution_count": 71,
     "metadata": {},
     "output_type": "execute_result"
    }
   ],
   "source": [
    "predicted_stock_price.shape"
   ]
  },
  {
   "cell_type": "code",
   "execution_count": 72,
   "id": "abf8864e",
   "metadata": {},
   "outputs": [],
   "source": [
    "timestamps = titan['timestamp'][train_limit:len(titan['timestamp'])-n_outputs]"
   ]
  },
  {
   "cell_type": "code",
   "execution_count": 73,
   "id": "2ab623af",
   "metadata": {},
   "outputs": [
    {
     "data": {
      "text/plain": [
       "74060"
      ]
     },
     "execution_count": 73,
     "metadata": {},
     "output_type": "execute_result"
    }
   ],
   "source": [
    "len(timestamps)"
   ]
  },
  {
   "cell_type": "code",
   "execution_count": 74,
   "id": "9f7cc795",
   "metadata": {},
   "outputs": [
    {
     "data": {
      "text/plain": [
       "74060"
      ]
     },
     "execution_count": 74,
     "metadata": {},
     "output_type": "execute_result"
    }
   ],
   "source": [
    "len(y_test)"
   ]
  },
  {
   "cell_type": "code",
   "execution_count": 75,
   "id": "8687863e",
   "metadata": {},
   "outputs": [
    {
     "data": {
      "text/plain": [
       "74060"
      ]
     },
     "execution_count": 75,
     "metadata": {},
     "output_type": "execute_result"
    }
   ],
   "source": [
    "len(predicted_stock_price)"
   ]
  },
  {
   "cell_type": "code",
   "execution_count": 76,
   "id": "bab17bfd",
   "metadata": {},
   "outputs": [
    {
     "data": {
      "text/plain": [
       "(74060,)"
      ]
     },
     "execution_count": 76,
     "metadata": {},
     "output_type": "execute_result"
    }
   ],
   "source": [
    "timestamps.shape"
   ]
  },
  {
   "cell_type": "code",
   "execution_count": 77,
   "id": "e0757ea1",
   "metadata": {},
   "outputs": [
    {
     "data": {
      "text/plain": [
       "(74080, 1)"
      ]
     },
     "execution_count": 77,
     "metadata": {},
     "output_type": "execute_result"
    }
   ],
   "source": [
    "real_stock_price.shape"
   ]
  },
  {
   "cell_type": "code",
   "execution_count": 78,
   "id": "17e01a09",
   "metadata": {},
   "outputs": [],
   "source": [
    "# real_stock_price = real_stock_price[:, 0]\n",
    "# real_stock_price.shape"
   ]
  },
  {
   "cell_type": "code",
   "execution_count": 79,
   "id": "ed0b24a4",
   "metadata": {},
   "outputs": [],
   "source": [
    "#predicted_stock_price = real_stock_price+10\n",
    "#predicted_stock_price = predicted_stock_price[:, 0]"
   ]
  },
  {
   "cell_type": "code",
   "execution_count": 80,
   "id": "48c8edb6",
   "metadata": {},
   "outputs": [
    {
     "data": {
      "text/plain": [
       "(74060, 20)"
      ]
     },
     "execution_count": 80,
     "metadata": {},
     "output_type": "execute_result"
    }
   ],
   "source": [
    "predicted_stock_price.shape"
   ]
  },
  {
   "cell_type": "code",
   "execution_count": 81,
   "id": "da74f0ff",
   "metadata": {},
   "outputs": [
    {
     "data": {
      "text/plain": [
       "array([[ 946.73065,  946.8711 ,  947.0251 , ...,  946.79443,  946.73413,\n",
       "         946.85   ],\n",
       "       [ 947.02045,  947.1555 ,  947.30585, ...,  947.08105,  947.0188 ,\n",
       "         947.1292 ],\n",
       "       [ 947.2814 ,  947.4097 ,  947.55725, ...,  947.3371 ,  947.27356,\n",
       "         947.3794 ],\n",
       "       ...,\n",
       "       [1562.8318 , 1561.8862 , 1561.0872 , ..., 1562.5487 , 1562.3147 ,\n",
       "        1561.673  ],\n",
       "       [1562.6189 , 1561.6716 , 1560.8748 , ..., 1562.3336 , 1562.1008 ,\n",
       "        1561.4607 ],\n",
       "       [1562.3931 , 1561.445  , 1560.6504 , ..., 1562.1066 , 1561.8748 ,\n",
       "        1561.2363 ]], dtype=float32)"
      ]
     },
     "execution_count": 81,
     "metadata": {},
     "output_type": "execute_result"
    }
   ],
   "source": [
    "predicted_stock_price"
   ]
  },
  {
   "cell_type": "code",
   "execution_count": 82,
   "id": "6c6e0a7b",
   "metadata": {},
   "outputs": [],
   "source": [
    "# titan_predict_compare = {'Timestamps': list(timestamps), 'Real': list(real_stock_price), 'Predicted': list(predicted_stock_price)}\n",
    "\n",
    "# titan_predict_df = pd.DataFrame(titan_predict_compare)\n",
    "\n",
    "# titan_predict_df"
   ]
  },
  {
   "cell_type": "code",
   "execution_count": 83,
   "id": "c55d8296",
   "metadata": {},
   "outputs": [],
   "source": [
    "y_test = np.reshape(y_test, newshape = (y_test.shape[0],  y_test.shape[1]))"
   ]
  },
  {
   "cell_type": "code",
   "execution_count": 84,
   "id": "53ff9fd9",
   "metadata": {},
   "outputs": [],
   "source": [
    "y_test = sc.inverse_transform(y_test)"
   ]
  },
  {
   "cell_type": "code",
   "execution_count": 85,
   "id": "fdc0c262",
   "metadata": {},
   "outputs": [
    {
     "data": {
      "text/plain": [
       "array([[-7.53065186, -8.22109375, -8.92508545, ..., -1.59443359,\n",
       "        -2.03413086, -4.84997559],\n",
       "       [-8.37044678, -9.05551758, -9.30584717, ..., -2.38105469,\n",
       "        -5.01879883, -7.12921143],\n",
       "       [-9.18137207, -9.409729  , -7.85725098, ..., -5.33709717,\n",
       "        -7.27355957, -5.62939453],\n",
       "       ...,\n",
       "       [-3.68178711, -2.28623047, -1.3371582 , ..., -3.79870605,\n",
       "        -2.36469727, -0.72297363],\n",
       "       [-3.01889648, -1.92163086, -1.17475586, ..., -2.38361816,\n",
       "        -1.15083008, -1.61069336],\n",
       "       [-2.64306641, -1.74494629, -0.65039062, ..., -1.15656738,\n",
       "        -2.02475586, -3.28632812]])"
      ]
     },
     "execution_count": 85,
     "metadata": {},
     "output_type": "execute_result"
    }
   ],
   "source": [
    "y_test - predicted_stock_price"
   ]
  },
  {
   "cell_type": "code",
   "execution_count": 86,
   "id": "dbe4e797",
   "metadata": {},
   "outputs": [],
   "source": [
    "import numpy as np\n",
    "def accuracy(real, pred):\n",
    "    diff = real-pred\n",
    "    diff_abs = np.absolute(real-pred)\n",
    "    #print(diff_abs)\n",
    "    ratio = diff_abs/real\n",
    "    #print(ratio.shape)\n",
    "    #print(ratio)\n",
    "    rms = np.sqrt(np.mean(diff**2, axis=0))\n",
    "    #print(rms)\n",
    "    absolute = np.mean(diff_abs, axis=0)\n",
    "    print(\"Absolute Avg Error = \", absolute)\n",
    "    print(\"RMS Error = \", rms)\n",
    "    print(\"Percentage Average Error = \", (absolute*100)/real)\n",
    "    print(\"Percentage RMS Error = \", (rms*100)/real)"
   ]
  },
  {
   "cell_type": "code",
   "execution_count": 87,
   "id": "e940a129",
   "metadata": {},
   "outputs": [],
   "source": [
    "# import numpy as np\n",
    "# def accuracy(real, pred):\n",
    "#     diff = real-pred\n",
    "#     diff_abs = np.absolute(real-pred)\n",
    "#     rms = np.sqrt(np.mean(diff**2))\n",
    "#     absolute = np.mean(diff_abs)\n",
    "#     print(\"Absolute Avg Error = \", absolute)\n",
    "#     print(\"RMS Error = \", rms)"
   ]
  },
  {
   "cell_type": "code",
   "execution_count": 88,
   "id": "e8333a80",
   "metadata": {},
   "outputs": [
    {
     "name": "stdout",
     "output_type": "stream",
     "text": [
      "Absolute Avg Error =  [8.43081434 8.31985356 8.35999326 8.90241313 8.9633509  8.47883643\n",
      " 8.57208096 8.90763136 8.72112883 8.33947276 9.02130495 8.91533828\n",
      " 8.62895139 9.24472443 9.30310826 9.0666756  8.81658202 8.91707154\n",
      " 8.904815   8.85623438]\n",
      "RMS Error =  [ 9.2074443   9.19481766  9.32463389  9.86040586  9.95626013  9.58185656\n",
      "  9.73821593 10.09301367  9.98537695  9.70526572 10.36118743 10.33802241\n",
      " 10.14925816 10.74624437 10.83089483 10.6837732  10.51865876 10.65373368\n",
      " 10.69545989 10.7146595 ]\n",
      "Percentage Average Error =  [[0.89765911 0.88636377 0.89116227 ... 0.94340579 0.94260771 0.94015227]\n",
      " [0.89818509 0.88688344 0.89125728 ... 0.94390511 0.94530945 0.94215259]\n",
      " [0.89871169 0.88697799 0.88964491 ... 0.94661057 0.94732074 0.94040185]\n",
      " ...\n",
      " [0.54073145 0.53346073 0.5359829  ... 0.57206554 0.57083977 0.56736182]\n",
      " [0.54057543 0.53340943 0.53600008 ... 0.57162547 0.57047407 0.56776192]\n",
      " [0.54052344 0.53342653 0.535897   ... 0.57125927 0.57087637 0.56845434]]\n",
      "Percentage RMS Error =  [[0.98034969 0.97957893 0.99399146 ... 1.12714068 1.13215411 1.13743731]\n",
      " [0.98092412 0.98015325 0.99409743 ... 1.12773724 1.13539914 1.13985739]\n",
      " [0.98149923 0.98025775 0.99229902 ... 1.13096961 1.13781488 1.13773926]\n",
      " ...\n",
      " [0.59054256 0.58956256 0.59782875 ... 0.68347931 0.68562838 0.68641914]\n",
      " [0.59037217 0.58950586 0.59784791 ... 0.68295354 0.68518914 0.6869032 ]\n",
      " [0.59031539 0.58952476 0.59773294 ... 0.68251601 0.68567233 0.68774091]]\n"
     ]
    }
   ],
   "source": [
    "accuracy(y_test, predicted_stock_price)"
   ]
  },
  {
   "cell_type": "code",
   "execution_count": 89,
   "id": "027ccfa5",
   "metadata": {},
   "outputs": [],
   "source": [
    "#titan_predict_df.columns[1:]"
   ]
  },
  {
   "cell_type": "code",
   "execution_count": 90,
   "id": "e67715ee",
   "metadata": {},
   "outputs": [],
   "source": [
    "titan_predict_compare_1 = pd.DataFrame()\n",
    "titan_predict_compare_2 = pd.DataFrame()\n",
    "titan_predict_compare_3 = pd.DataFrame()\n",
    "titan_predict_compare_4 = pd.DataFrame()\n",
    "titan_predict_compare_5 = pd.DataFrame()\n",
    "\n",
    "graph_df = [titan_predict_compare_1, titan_predict_compare_2, titan_predict_compare_3, titan_predict_compare_4, titan_predict_compare_5]\n",
    "\n",
    "for i in range(5):\n",
    "    temp = {'Timestamps': list(timestamps), 'Real': list(y_test[:, i]), 'Predicted': list(predicted_stock_price[:, i])}\n",
    "    graph_df[i] = pd.DataFrame(temp)\n"
   ]
  },
  {
   "cell_type": "code",
   "execution_count": null,
   "id": "c23c32bd",
   "metadata": {
    "scrolled": false
   },
   "outputs": [],
   "source": [
    "fig = px.line(graph_df[0], 'Timestamps', y=graph_df[0].columns[1:],\n",
    "             title='Real Price of stock vs Price predicted 1 minute before')\n",
    "fig.show()"
   ]
  },
  {
   "cell_type": "code",
   "execution_count": null,
   "id": "fc78a468",
   "metadata": {
    "scrolled": true
   },
   "outputs": [],
   "source": [
    "#fig = px.line(titan, x=timestamps, y=real_stock_rice, title=\"Titan Prediction\")\n",
    "#fig = go.Figure(go.Scatter(titan_predict_df, x='Timestamps', y=titan_predict_df.columns[1:]))\n",
    "# fig = go.Figure(go.Scatter(x=timestamps, y=predicted_stock_price))\n",
    "\n",
    "fig = px.line(graph_df[1], 'Timestamps', y=graph_df[1].columns[1:],\n",
    "             title='Real Price of stock vs Price predicted 2 minutes before')\n",
    "fig.show()"
   ]
  },
  {
   "cell_type": "code",
   "execution_count": null,
   "id": "0206cbc8",
   "metadata": {},
   "outputs": [],
   "source": [
    "#fig = px.line(titan, x=timestamps, y=real_stock_rice, title=\"Titan Prediction\")\n",
    "#fig = go.Figure(go.Scatter(titan_predict_df, x='Timestamps', y=titan_predict_df.columns[1:]))\n",
    "# fig = go.Figure(go.Scatter(x=timestamps, y=predicted_stock_price))\n",
    "fig = px.line(graph_df[2], 'Timestamps', y=graph_df[2].columns[1:],\n",
    "             title='Real Price of stock vs Price predicted 3 minutes before')\n",
    "fig.show()"
   ]
  },
  {
   "cell_type": "code",
   "execution_count": null,
   "id": "be92ef23",
   "metadata": {},
   "outputs": [],
   "source": [
    "#fig = px.line(titan, x=timestamps, y=real_stock_rice, title=\"Titan Prediction\")\n",
    "#fig = go.Figure(go.Scatter(titan_predict_df, x='Timestamps', y=titan_predict_df.columns[1:]))\n",
    "# fig = go.Figure(go.Scatter(x=timestamps, y=predicted_stock_price))\n",
    "fig = px.line(graph_df[3], 'Timestamps', y=graph_df[3].columns[1:],\n",
    "             title='Real Price of stock vs Price predicted 4 minutes before')\n",
    "fig.show()"
   ]
  },
  {
   "cell_type": "code",
   "execution_count": null,
   "id": "a9480c4c",
   "metadata": {},
   "outputs": [],
   "source": [
    "#fig = px.line(titan, x=timestamps, y=real_stock_rice, title=\"Titan Prediction\")\n",
    "#fig = go.Figure(go.Scatter(titan_predict_df, x='Timestamps', y=titan_predict_df.columns[1:]))\n",
    "# fig = go.Figure(go.Scatter(x=timestamps, y=predicted_stock_price))\n",
    "fig = px.line(graph_df[4], 'Timestamps', y=graph_df[4].columns[1:],\n",
    "             title='Real Price of stock vs Price predicted 5 minutes before')\n",
    "fig.show()"
   ]
  },
  {
   "cell_type": "code",
   "execution_count": 96,
   "id": "13bc2e74",
   "metadata": {},
   "outputs": [],
   "source": [
    "# #fig = px.line(titan, x=timestamps, y=real_stock_rice, title=\"Titan Prediction\")\n",
    "# #fig = go.Figure(go.Scatter(titan_predict_df, x='Timestamps', y=titan_predict_df.columns[1:]))\n",
    "# # fig = go.Figure(go.Scatter(x=timestamps, y=predicted_stock_price))\n",
    "# fig = px.line(x=timestamps, y=[y_test[:, 0], predicted_stock_price[:, 0]], labels = {'real', 'predicted'},\n",
    "#              title='Real Price of stock vs Price predicted 5 minutes before')\n",
    "# fig.show()"
   ]
  },
  {
   "cell_type": "code",
   "execution_count": 97,
   "id": "533c8392",
   "metadata": {},
   "outputs": [
    {
     "name": "stdout",
     "output_type": "stream",
     "text": [
      "Model: \"sequential_1\"\n",
      "_________________________________________________________________\n",
      " Layer (type)                Output Shape              Param #   \n",
      "=================================================================\n",
      " lstm_4 (LSTM)               (None, 200, 100)          40800     \n",
      "                                                                 \n",
      " dropout_4 (Dropout)         (None, 200, 100)          0         \n",
      "                                                                 \n",
      " lstm_5 (LSTM)               (None, 200, 100)          80400     \n",
      "                                                                 \n",
      " dropout_5 (Dropout)         (None, 200, 100)          0         \n",
      "                                                                 \n",
      " lstm_6 (LSTM)               (None, 200, 100)          80400     \n",
      "                                                                 \n",
      " dropout_6 (Dropout)         (None, 200, 100)          0         \n",
      "                                                                 \n",
      " lstm_7 (LSTM)               (None, 100)               80400     \n",
      "                                                                 \n",
      " dropout_7 (Dropout)         (None, 100)               0         \n",
      "                                                                 \n",
      " dense_1 (Dense)             (None, 20)                2020      \n",
      "                                                                 \n",
      "=================================================================\n",
      "Total params: 284,020\n",
      "Trainable params: 284,020\n",
      "Non-trainable params: 0\n",
      "_________________________________________________________________\n"
     ]
    }
   ],
   "source": [
    "regressor.summary()"
   ]
  },
  {
   "cell_type": "code",
   "execution_count": 98,
   "id": "fce3952b",
   "metadata": {},
   "outputs": [
    {
     "name": "stderr",
     "output_type": "stream",
     "text": [
      "WARNING:absl:Found untraced functions such as lstm_cell_4_layer_call_fn, lstm_cell_4_layer_call_and_return_conditional_losses, lstm_cell_5_layer_call_fn, lstm_cell_5_layer_call_and_return_conditional_losses, lstm_cell_6_layer_call_fn while saving (showing 5 of 8). These functions will not be directly callable after loading.\n"
     ]
    },
    {
     "name": "stdout",
     "output_type": "stream",
     "text": [
      "INFO:tensorflow:Assets written to: Models/200inputs_100units_10epochs_512batch_20outputs\\assets\n"
     ]
    },
    {
     "name": "stderr",
     "output_type": "stream",
     "text": [
      "INFO:tensorflow:Assets written to: Models/200inputs_100units_10epochs_512batch_20outputs\\assets\n"
     ]
    }
   ],
   "source": [
    "regressor.save('Models/{}inputs_{}units_{}epochs_{}batch_{}outputs'.format(n_inputs, n_units, n_epochs, batch_size, n_outputs))"
   ]
  },
  {
   "cell_type": "markdown",
   "id": "b40178d1",
   "metadata": {},
   "source": [
    "# Loading Model and Investing Strategy"
   ]
  },
  {
   "cell_type": "code",
   "execution_count": 1,
   "id": "fde65259",
   "metadata": {},
   "outputs": [],
   "source": [
    "import math\n",
    "import numpy as np\n",
    "import pandas as pd\n",
    "import matplotlib.pyplot as plt\n",
    "import time\n",
    "from datetime import datetime\n",
    "import plotly.express as px\n",
    "from sklearn.preprocessing import MinMaxScaler\n",
    "import tensorflow as tf\n",
    "from tensorflow import keras\n",
    "from tensorflow.keras import layers\n",
    "from keras import Sequential\n",
    "from tensorflow.keras.layers import LSTM, Dropout, Dense\n",
    "from tqdm import tqdm"
   ]
  },
  {
   "cell_type": "code",
   "execution_count": 2,
   "id": "c7b705fe",
   "metadata": {},
   "outputs": [
    {
     "name": "stdout",
     "output_type": "stream",
     "text": [
      "Model: \"sequential_1\"\n",
      "_________________________________________________________________\n",
      " Layer (type)                Output Shape              Param #   \n",
      "=================================================================\n",
      " lstm_4 (LSTM)               (None, 200, 100)          40800     \n",
      "                                                                 \n",
      " dropout_4 (Dropout)         (None, 200, 100)          0         \n",
      "                                                                 \n",
      " lstm_5 (LSTM)               (None, 200, 100)          80400     \n",
      "                                                                 \n",
      " dropout_5 (Dropout)         (None, 200, 100)          0         \n",
      "                                                                 \n",
      " lstm_6 (LSTM)               (None, 200, 100)          80400     \n",
      "                                                                 \n",
      " dropout_6 (Dropout)         (None, 200, 100)          0         \n",
      "                                                                 \n",
      " lstm_7 (LSTM)               (None, 100)               80400     \n",
      "                                                                 \n",
      " dropout_7 (Dropout)         (None, 100)               0         \n",
      "                                                                 \n",
      " dense_1 (Dense)             (None, 20)                2020      \n",
      "                                                                 \n",
      "=================================================================\n",
      "Total params: 284,020\n",
      "Trainable params: 284,020\n",
      "Non-trainable params: 0\n",
      "_________________________________________________________________\n"
     ]
    }
   ],
   "source": [
    "n_inputs = 200\n",
    "n_units = 100\n",
    "n_epochs = 10\n",
    "batch_size = 512\n",
    "n_outputs = 20\n",
    "\n",
    "regressor = tf.keras.models.load_model('Models/{}inputs_{}units_{}epochs_{}batch_{}outputs'.format(n_inputs, n_units, n_epochs, batch_size, n_outputs))\n",
    "\n",
    "# Check its architecture\n",
    "regressor.summary()"
   ]
  },
  {
   "cell_type": "code",
   "execution_count": 3,
   "id": "6de871b9",
   "metadata": {},
   "outputs": [
    {
     "name": "stdout",
     "output_type": "stream",
     "text": [
      "titan =  370404 \n",
      "titan_test =  74080\n"
     ]
    }
   ],
   "source": [
    "titan_test = pd.read_csv(\"TitanData/TitanTest.csv\")\n",
    "titan = pd.read_csv(\"TitanData/TitanFullDataCleaned.csv\")\n",
    "print(\"titan = \", len(titan), \"\\ntitan_test = \", len(titan_test))"
   ]
  },
  {
   "cell_type": "code",
   "execution_count": 9,
   "id": "f8548381",
   "metadata": {},
   "outputs": [],
   "source": [
    "titan_open = titan['open']\n",
    "# inputs may have to be less for our model to succeed in some parts\n",
    "inputs = titan_open[len(titan_open) - len(titan_test)-n_inputs:].values\n",
    "#inputs = inputs[51000:53000] # taking first 1000 values as inputs\n",
    "inputs = inputs.reshape(-1, 1)\n",
    "sc = MinMaxScaler(feature_range = (0, 1))\n",
    "inputs = sc.fit_transform(inputs)"
   ]
  },
  {
   "cell_type": "code",
   "execution_count": 10,
   "id": "c26fed26",
   "metadata": {},
   "outputs": [],
   "source": [
    "X_test = []\n",
    "y_test = []\n",
    "\n",
    "for i in range(n_inputs, len(inputs)-n_outputs): \n",
    "    X_test.append(inputs[i-n_inputs: i, 0])\n",
    "    y_test.append(inputs[i:i+n_outputs, 0])\n",
    "X_test = np.array(X_test)\n",
    "y_test = np.array(y_test)\n",
    "#make numpy array as 3D , adding num of indicator\n",
    "X_test = np.reshape(X_test, newshape = (X_test.shape[0],  X_test.shape[1], 1))\n",
    "y_test = np.reshape(y_test, newshape = (y_test.shape[0],  y_test.shape[1], 1))"
   ]
  },
  {
   "cell_type": "code",
   "execution_count": 11,
   "id": "307c582f",
   "metadata": {},
   "outputs": [
    {
     "data": {
      "text/plain": [
       "array([[[0.34536385],\n",
       "        [0.34049296],\n",
       "        [0.33785211],\n",
       "        ...,\n",
       "        [0.26085681],\n",
       "        [0.25669014],\n",
       "        [0.2584507 ]],\n",
       "\n",
       "       [[0.34049296],\n",
       "        [0.33785211],\n",
       "        [0.33303991],\n",
       "        ...,\n",
       "        [0.25669014],\n",
       "        [0.2584507 ],\n",
       "        [0.25610329]],\n",
       "\n",
       "       [[0.33785211],\n",
       "        [0.33303991],\n",
       "        [0.32928404],\n",
       "        ...,\n",
       "        [0.2584507 ],\n",
       "        [0.25610329],\n",
       "        [0.25545775]],\n",
       "\n",
       "       ...,\n",
       "\n",
       "       [[0.992723  ],\n",
       "        [0.99336854],\n",
       "        [0.99237089],\n",
       "        ...,\n",
       "        [0.98380282],\n",
       "        [0.98245305],\n",
       "        [0.98239437]],\n",
       "\n",
       "       [[0.99336854],\n",
       "        [0.99237089],\n",
       "        [0.99237089],\n",
       "        ...,\n",
       "        [0.98245305],\n",
       "        [0.98239437],\n",
       "        [0.98374413]],\n",
       "\n",
       "       [[0.99237089],\n",
       "        [0.99237089],\n",
       "        [0.99196009],\n",
       "        ...,\n",
       "        [0.98239437],\n",
       "        [0.98374413],\n",
       "        [0.9842723 ]]])"
      ]
     },
     "execution_count": 11,
     "metadata": {},
     "output_type": "execute_result"
    }
   ],
   "source": [
    "X_test"
   ]
  },
  {
   "cell_type": "code",
   "execution_count": 12,
   "id": "4132c7e8",
   "metadata": {},
   "outputs": [
    {
     "data": {
      "text/plain": [
       "array([[[0.25610329],\n",
       "        [0.25545775],\n",
       "        [0.25481221],\n",
       "        ...,\n",
       "        [0.26314554],\n",
       "        [0.26255869],\n",
       "        [0.25938967]],\n",
       "\n",
       "       [[0.25545775],\n",
       "        [0.25481221],\n",
       "        [0.25469484],\n",
       "        ...,\n",
       "        [0.26255869],\n",
       "        [0.25938967],\n",
       "        [0.25704225]],\n",
       "\n",
       "       [[0.25481221],\n",
       "        [0.25469484],\n",
       "        [0.25669014],\n",
       "        ...,\n",
       "        [0.25938967],\n",
       "        [0.25704225],\n",
       "        [0.25909624]],\n",
       "\n",
       "       ...,\n",
       "\n",
       "       [[0.98374413],\n",
       "        [0.9842723 ],\n",
       "        [0.98444836],\n",
       "        ...,\n",
       "        [0.98327465],\n",
       "        [0.9846831 ],\n",
       "        [0.98585681]],\n",
       "\n",
       "       [[0.9842723 ],\n",
       "        [0.98444836],\n",
       "        [0.98438967],\n",
       "        ...,\n",
       "        [0.9846831 ],\n",
       "        [0.98585681],\n",
       "        [0.98456573]],\n",
       "\n",
       "       [[0.98444836],\n",
       "        [0.98438967],\n",
       "        [0.98474178],\n",
       "        ...,\n",
       "        [0.98585681],\n",
       "        [0.98456573],\n",
       "        [0.98233568]]])"
      ]
     },
     "execution_count": 12,
     "metadata": {},
     "output_type": "execute_result"
    }
   ],
   "source": [
    "y_test"
   ]
  },
  {
   "cell_type": "code",
   "execution_count": 13,
   "id": "aefdf309",
   "metadata": {},
   "outputs": [
    {
     "data": {
      "text/plain": [
       "74060"
      ]
     },
     "execution_count": 13,
     "metadata": {},
     "output_type": "execute_result"
    }
   ],
   "source": [
    "len(X_test)"
   ]
  },
  {
   "cell_type": "code",
   "execution_count": 14,
   "id": "7b23dbed",
   "metadata": {},
   "outputs": [
    {
     "data": {
      "text/plain": [
       "74060"
      ]
     },
     "execution_count": 14,
     "metadata": {},
     "output_type": "execute_result"
    }
   ],
   "source": [
    "len(y_test)"
   ]
  },
  {
   "cell_type": "code",
   "execution_count": 15,
   "id": "6dcfaa32",
   "metadata": {},
   "outputs": [
    {
     "name": "stdout",
     "output_type": "stream",
     "text": [
      "(200, 1)\n",
      "(1, 200, 1)\n",
      "1/1 [==============================] - 4s 4s/step\n",
      "(1, 20)\n",
      "[[942.1585  942.52515 942.54333 942.86957 941.8084  941.9262  942.42975\n",
      "  942.5822  942.1478  942.7634  942.0388  942.48737 942.616   942.4051\n",
      "  942.12854 942.6204  942.0562  942.23016 941.87494 942.5085 ]]\n",
      "Predicted =  942.1585 \n",
      "Actual =  [939.2]\n",
      "Predicted =  942.52515 \n",
      "Actual =  [938.65]\n",
      "Predicted =  942.54333 \n",
      "Actual =  [938.1]\n",
      "Predicted =  942.86957 \n",
      "Actual =  [938.]\n",
      "Predicted =  941.8084 \n",
      "Actual =  [939.7]\n",
      "Predicted =  941.9262 \n",
      "Actual =  [940.3]\n",
      "Predicted =  942.42975 \n",
      "Actual =  [941.65]\n",
      "Predicted =  942.5822 \n",
      "Actual =  [938.75]\n",
      "Predicted =  942.1478 \n",
      "Actual =  [938.2]\n",
      "Predicted =  942.7634 \n",
      "Actual =  [938.]\n",
      "Predicted =  942.0388 \n",
      "Actual =  [938.35]\n",
      "Predicted =  942.48737 \n",
      "Actual =  [938.55]\n",
      "Predicted =  942.616 \n",
      "Actual =  [938.35]\n",
      "Predicted =  942.4051 \n",
      "Actual =  [939.9]\n",
      "Predicted =  942.12854 \n",
      "Actual =  [938.95]\n",
      "Predicted =  942.6204 \n",
      "Actual =  [939.3]\n",
      "Predicted =  942.0562 \n",
      "Actual =  [943.8]\n",
      "Predicted =  942.23016 \n",
      "Actual =  [945.2]\n",
      "Predicted =  941.87494 \n",
      "Actual =  [944.7]\n",
      "Predicted =  942.5085 \n",
      "Actual =  [942.]\n"
     ]
    }
   ],
   "source": [
    "#print(X_test[0])\n",
    "input_value = X_test[0]\n",
    "print(input_value.shape)\n",
    "output_value = sc.inverse_transform(y_test[0])\n",
    "input_value = np.reshape(input_value, newshape = (1, input_value.shape[0],  input_value.shape[1]))\n",
    "print(input_value.shape)\n",
    "predicted_value = regressor.predict(input_value)\n",
    "print(predicted_value.shape)\n",
    "predicted_value = sc.inverse_transform(predicted_value)\n",
    "print(predicted_value)\n",
    "\n",
    "for i in range(len(predicted_value[0])):\n",
    "    print(\"Predicted = \", predicted_value[0][i], \"\\nActual = \", output_value[i])\n",
    "    "
   ]
  },
  {
   "cell_type": "code",
   "execution_count": 16,
   "id": "ad44e51e",
   "metadata": {},
   "outputs": [
    {
     "name": "stdout",
     "output_type": "stream",
     "text": [
      "[[1015.25]\n",
      " [1011.1 ]\n",
      " [1008.85]\n",
      " [1004.75]\n",
      " [1001.55]\n",
      " [1002.15]\n",
      " [1000.75]\n",
      " [1000.3 ]\n",
      " [ 999.8 ]\n",
      " [1000.  ]\n",
      " [1001.  ]\n",
      " [1000.25]\n",
      " [ 999.5 ]\n",
      " [1000.25]\n",
      " [1000.  ]\n",
      " [1000.  ]\n",
      " [1001.35]\n",
      " [1000.35]\n",
      " [1000.8 ]\n",
      " [1002.25]\n",
      " [1001.05]\n",
      " [1000.1 ]\n",
      " [1001.25]\n",
      " [1000.6 ]\n",
      " [ 998.45]\n",
      " [ 999.95]\n",
      " [ 999.2 ]\n",
      " [1000.2 ]\n",
      " [ 999.8 ]\n",
      " [ 999.55]\n",
      " [1000.  ]\n",
      " [1028.  ]\n",
      " [1023.95]\n",
      " [1019.  ]\n",
      " [1015.15]\n",
      " [1014.  ]\n",
      " [1008.85]\n",
      " [1004.  ]\n",
      " [1001.65]\n",
      " [1003.  ]\n",
      " [1003.05]\n",
      " [1002.65]\n",
      " [1004.2 ]\n",
      " [1006.4 ]\n",
      " [1000.4 ]\n",
      " [ 996.75]\n",
      " [ 992.8 ]\n",
      " [ 993.  ]\n",
      " [ 993.35]\n",
      " [ 987.  ]\n",
      " [ 981.75]\n",
      " [ 983.25]\n",
      " [ 982.35]\n",
      " [ 985.45]\n",
      " [ 984.5 ]\n",
      " [ 981.95]\n",
      " [ 982.25]\n",
      " [ 985.8 ]\n",
      " [ 987.1 ]\n",
      " [ 983.8 ]\n",
      " [ 982.15]\n",
      " [ 981.3 ]\n",
      " [ 972.65]\n",
      " [ 973.85]\n",
      " [ 976.15]\n",
      " [ 975.65]\n",
      " [ 971.  ]\n",
      " [ 967.4 ]\n",
      " [ 970.8 ]\n",
      " [ 974.8 ]\n",
      " [ 973.65]\n",
      " [ 974.25]\n",
      " [ 976.2 ]\n",
      " [ 975.  ]\n",
      " [ 973.95]\n",
      " [ 971.55]\n",
      " [ 969.7 ]\n",
      " [ 970.7 ]\n",
      " [ 973.9 ]\n",
      " [ 970.4 ]\n",
      " [ 970.55]\n",
      " [ 972.1 ]\n",
      " [ 972.05]\n",
      " [ 972.6 ]\n",
      " [ 975.35]\n",
      " [ 969.1 ]\n",
      " [ 967.6 ]\n",
      " [ 968.05]\n",
      " [ 963.05]\n",
      " [ 943.  ]\n",
      " [ 943.1 ]\n",
      " [ 930.95]\n",
      " [ 927.6 ]\n",
      " [ 923.95]\n",
      " [ 924.5 ]\n",
      " [ 924.75]\n",
      " [ 924.85]\n",
      " [ 931.2 ]\n",
      " [ 930.  ]\n",
      " [ 927.8 ]\n",
      " [ 927.  ]\n",
      " [ 936.8 ]\n",
      " [ 933.7 ]\n",
      " [ 935.25]\n",
      " [ 928.4 ]\n",
      " [ 929.6 ]\n",
      " [ 929.  ]\n",
      " [ 929.4 ]\n",
      " [ 930.65]\n",
      " [ 932.  ]\n",
      " [ 930.7 ]\n",
      " [ 928.75]\n",
      " [ 933.6 ]\n",
      " [ 940.55]\n",
      " [ 939.  ]\n",
      " [ 938.6 ]\n",
      " [ 941.6 ]\n",
      " [ 948.  ]\n",
      " [ 945.  ]\n",
      " [ 943.3 ]\n",
      " [ 940.95]\n",
      " [ 937.55]\n",
      " [ 934.75]\n",
      " [ 934.75]\n",
      " [ 938.3 ]\n",
      " [ 937.65]\n",
      " [ 940.55]\n",
      " [ 939.25]\n",
      " [ 939.  ]\n",
      " [ 936.25]\n",
      " [ 936.8 ]\n",
      " [ 937.  ]\n",
      " [ 937.35]\n",
      " [ 938.55]\n",
      " [ 938.7 ]\n",
      " [ 941.  ]\n",
      " [ 941.4 ]\n",
      " [ 938.85]\n",
      " [ 940.45]\n",
      " [ 941.8 ]\n",
      " [ 941.95]\n",
      " [ 942.3 ]\n",
      " [ 943.75]\n",
      " [ 943.95]\n",
      " [ 944.2 ]\n",
      " [ 946.05]\n",
      " [ 945.2 ]\n",
      " [ 947.25]\n",
      " [ 947.85]\n",
      " [ 947.2 ]\n",
      " [ 942.85]\n",
      " [ 943.4 ]\n",
      " [ 946.1 ]\n",
      " [ 946.15]\n",
      " [ 944.85]\n",
      " [ 945.  ]\n",
      " [ 946.9 ]\n",
      " [ 948.2 ]\n",
      " [ 950.25]\n",
      " [ 948.9 ]\n",
      " [ 947.05]\n",
      " [ 946.7 ]\n",
      " [ 949.  ]\n",
      " [ 948.6 ]\n",
      " [ 949.4 ]\n",
      " [ 948.75]\n",
      " [ 948.1 ]\n",
      " [ 947.3 ]\n",
      " [ 948.4 ]\n",
      " [ 947.5 ]\n",
      " [ 942.45]\n",
      " [ 941.  ]\n",
      " [ 941.55]\n",
      " [ 941.75]\n",
      " [ 936.9 ]\n",
      " [ 938.2 ]\n",
      " [ 939.5 ]\n",
      " [ 936.1 ]\n",
      " [ 935.6 ]\n",
      " [ 934.6 ]\n",
      " [ 933.  ]\n",
      " [ 933.25]\n",
      " [ 934.8 ]\n",
      " [ 934.15]\n",
      " [ 935.25]\n",
      " [ 935.2 ]\n",
      " [ 935.65]\n",
      " [ 938.2 ]\n",
      " [ 940.1 ]\n",
      " [ 938.8 ]\n",
      " [ 938.  ]\n",
      " [ 938.  ]\n",
      " [ 938.15]\n",
      " [ 938.9 ]\n",
      " [ 938.1 ]\n",
      " [ 939.2 ]\n",
      " [ 940.8 ]\n",
      " [ 943.25]\n",
      " [ 939.7 ]\n",
      " [ 941.2 ]]\n",
      "941.2000000000002\n"
     ]
    }
   ],
   "source": [
    "actual_X_test = sc.inverse_transform(X_test[0])\n",
    "print(actual_X_test)\n",
    "print(actual_X_test[-1][0])"
   ]
  },
  {
   "cell_type": "code",
   "execution_count": 19,
   "id": "6fb5d37b",
   "metadata": {},
   "outputs": [
    {
     "name": "stderr",
     "output_type": "stream",
     "text": [
      "  0%|                                                                             | 78/74060 [00:04<1:17:28, 15.92it/s]"
     ]
    },
    {
     "name": "stdout",
     "output_type": "stream",
     "text": [
      "CMP =  942.2500000000001\n",
      "Shares Bought =  10.0\n",
      "Average Predicted =  953.5067\n",
      "Could have Bought\n",
      "Could have Bought\n",
      "Could have Bought\n"
     ]
    },
    {
     "name": "stderr",
     "output_type": "stream",
     "text": [
      "  0%|                                                                             | 82/74060 [00:05<1:16:02, 16.21it/s]"
     ]
    },
    {
     "name": "stdout",
     "output_type": "stream",
     "text": [
      "Could have Bought\n",
      "Could have Bought\n",
      "Could have Bought\n",
      "Could have Bought\n"
     ]
    },
    {
     "name": "stderr",
     "output_type": "stream",
     "text": [
      "  0%|▏                                                                           | 122/74060 [00:07<1:17:53, 15.82it/s]"
     ]
    },
    {
     "name": "stdout",
     "output_type": "stream",
     "text": [
      "Could have Bought\n"
     ]
    },
    {
     "name": "stderr",
     "output_type": "stream",
     "text": [
      "  0%|▏                                                                           | 138/74060 [00:08<1:18:08, 15.77it/s]"
     ]
    },
    {
     "name": "stdout",
     "output_type": "stream",
     "text": [
      "Could have Bought\n"
     ]
    },
    {
     "name": "stderr",
     "output_type": "stream",
     "text": [
      "  0%|▏                                                                           | 182/74060 [00:11<1:18:34, 15.67it/s]"
     ]
    },
    {
     "name": "stdout",
     "output_type": "stream",
     "text": [
      "Could have Bought\n",
      "Could have Bought\n",
      "Could have Bought\n",
      "Could have Bought\n"
     ]
    },
    {
     "name": "stderr",
     "output_type": "stream",
     "text": [
      "  0%|▏                                                                           | 186/74060 [00:11<1:16:08, 16.17it/s]"
     ]
    },
    {
     "name": "stdout",
     "output_type": "stream",
     "text": [
      "Could have Bought\n",
      "Could have Bought\n",
      "Could have Bought\n",
      "Could have Bought\n"
     ]
    },
    {
     "name": "stderr",
     "output_type": "stream",
     "text": [
      "  0%|▏                                                                           | 190/74060 [00:11<1:15:11, 16.37it/s]"
     ]
    },
    {
     "name": "stdout",
     "output_type": "stream",
     "text": [
      "Could have Bought\n",
      "Could have Bought\n",
      "Could have Bought\n",
      "Could have Bought\n"
     ]
    },
    {
     "name": "stderr",
     "output_type": "stream",
     "text": [
      "  0%|▏                                                                           | 210/74060 [00:13<1:17:58, 15.79it/s]"
     ]
    },
    {
     "name": "stdout",
     "output_type": "stream",
     "text": [
      "Could have Bought\n",
      "Could have Bought\n",
      "Could have Bought\n",
      "Could have Bought\n"
     ]
    },
    {
     "name": "stderr",
     "output_type": "stream",
     "text": [
      "  0%|▏                                                                           | 214/74060 [00:13<1:17:45, 15.83it/s]"
     ]
    },
    {
     "name": "stdout",
     "output_type": "stream",
     "text": [
      "Could have Bought\n",
      "Could have Bought\n",
      "Could have Bought\n"
     ]
    },
    {
     "name": "stderr",
     "output_type": "stream",
     "text": [
      "  0%|▏                                                                           | 218/74060 [00:13<1:17:53, 15.80it/s]"
     ]
    },
    {
     "name": "stdout",
     "output_type": "stream",
     "text": [
      "Could have Bought\n",
      "Could have Bought\n",
      "Could have Bought\n",
      "Could have Bought\n"
     ]
    },
    {
     "name": "stderr",
     "output_type": "stream",
     "text": [
      "  0%|▏                                                                           | 222/74060 [00:13<1:17:33, 15.87it/s]"
     ]
    },
    {
     "name": "stdout",
     "output_type": "stream",
     "text": [
      "Could have Bought\n",
      "Could have Bought\n",
      "Could have Bought\n",
      "Could have Bought\n"
     ]
    },
    {
     "name": "stderr",
     "output_type": "stream",
     "text": [
      "  0%|▏                                                                           | 226/74060 [00:14<1:17:45, 15.82it/s]"
     ]
    },
    {
     "name": "stdout",
     "output_type": "stream",
     "text": [
      "Could have Bought\n",
      "Could have Bought\n",
      "Could have Bought\n",
      "Could have Bought\n"
     ]
    },
    {
     "name": "stderr",
     "output_type": "stream",
     "text": [
      "  0%|▏                                                                           | 230/74060 [00:14<1:17:38, 15.85it/s]"
     ]
    },
    {
     "name": "stdout",
     "output_type": "stream",
     "text": [
      "Could have Bought\n",
      "Could have Bought\n"
     ]
    },
    {
     "name": "stderr",
     "output_type": "stream",
     "text": [
      "  0%|▎                                                                           | 270/74060 [00:16<1:16:28, 16.08it/s]"
     ]
    },
    {
     "name": "stdout",
     "output_type": "stream",
     "text": [
      "Condition 3\n",
      "CMP =  881.9999999999999\n",
      "Shares Sold\n",
      "Average Predicted =  869.5371\n"
     ]
    },
    {
     "name": "stderr",
     "output_type": "stream",
     "text": [
      "  0%|▎                                                                           | 322/74060 [00:20<1:17:39, 15.83it/s]"
     ]
    },
    {
     "name": "stdout",
     "output_type": "stream",
     "text": [
      "Could have Sold\n",
      "Could have Sold\n",
      "Could have Sold\n",
      "Could have Sold\n"
     ]
    },
    {
     "name": "stderr",
     "output_type": "stream",
     "text": [
      "  0%|▎                                                                           | 326/74060 [00:20<1:17:42, 15.82it/s]"
     ]
    },
    {
     "name": "stdout",
     "output_type": "stream",
     "text": [
      "Could have Sold\n",
      "Could have Sold\n",
      "Could have Sold\n",
      "Could have Sold\n"
     ]
    },
    {
     "name": "stderr",
     "output_type": "stream",
     "text": [
      "  0%|▎                                                                           | 330/74060 [00:20<1:16:28, 16.07it/s]"
     ]
    },
    {
     "name": "stdout",
     "output_type": "stream",
     "text": [
      "Could have Sold\n",
      "Could have Sold\n",
      "Could have Sold\n"
     ]
    },
    {
     "name": "stderr",
     "output_type": "stream",
     "text": [
      "  0%|▎                                                                           | 342/74060 [00:21<1:17:33, 15.84it/s]"
     ]
    },
    {
     "name": "stdout",
     "output_type": "stream",
     "text": [
      "CMP =  901.0000000000001\n",
      "Shares Bought =  10.0\n",
      "Average Predicted =  910.2202\n",
      "Could have Bought\n"
     ]
    },
    {
     "name": "stderr",
     "output_type": "stream",
     "text": [
      "  0%|▎                                                                           | 356/74060 [00:22<1:17:11, 15.91it/s]"
     ]
    },
    {
     "name": "stdout",
     "output_type": "stream",
     "text": [
      "Could have Bought\n"
     ]
    },
    {
     "name": "stderr",
     "output_type": "stream",
     "text": [
      "  1%|▍                                                                           | 372/74060 [00:23<1:15:55, 16.18it/s]"
     ]
    },
    {
     "name": "stdout",
     "output_type": "stream",
     "text": [
      "Could have Bought\n",
      "Could have Bought\n",
      "Could have Bought\n",
      "Could have Bought\n"
     ]
    },
    {
     "name": "stderr",
     "output_type": "stream",
     "text": [
      "  1%|▍                                                                           | 376/74060 [00:23<1:15:00, 16.37it/s]"
     ]
    },
    {
     "name": "stdout",
     "output_type": "stream",
     "text": [
      "Could have Bought\n",
      "Could have Bought\n",
      "Could have Bought\n",
      "Could have Bought\n"
     ]
    },
    {
     "name": "stderr",
     "output_type": "stream",
     "text": [
      "  1%|▍                                                                           | 380/74060 [00:23<1:14:56, 16.38it/s]"
     ]
    },
    {
     "name": "stdout",
     "output_type": "stream",
     "text": [
      "Could have Bought\n"
     ]
    },
    {
     "name": "stderr",
     "output_type": "stream",
     "text": [
      "  1%|▍                                                                           | 446/74060 [00:27<1:13:57, 16.59it/s]"
     ]
    },
    {
     "name": "stdout",
     "output_type": "stream",
     "text": [
      "CMP =  913.8\n",
      "Shares Sold\n",
      "Average Predicted =  904.4515\n"
     ]
    },
    {
     "name": "stderr",
     "output_type": "stream",
     "text": [
      "  1%|▍                                                                           | 452/74060 [00:28<1:14:44, 16.41it/s]"
     ]
    },
    {
     "name": "stdout",
     "output_type": "stream",
     "text": [
      "CMP =  897.2\n",
      "Shares Bought =  10.0\n",
      "Average Predicted =  908.4484\n",
      "Could have Bought\n",
      "Could have Bought\n",
      "Could have Bought\n"
     ]
    },
    {
     "name": "stderr",
     "output_type": "stream",
     "text": [
      "  1%|▍                                                                           | 458/74060 [00:28<1:14:10, 16.54it/s]"
     ]
    },
    {
     "name": "stdout",
     "output_type": "stream",
     "text": [
      "Could have Bought\n",
      "Could have Bought\n",
      "Could have Bought\n"
     ]
    },
    {
     "name": "stderr",
     "output_type": "stream",
     "text": [
      "  1%|▍                                                                           | 480/74060 [00:29<1:15:42, 16.20it/s]"
     ]
    },
    {
     "name": "stdout",
     "output_type": "stream",
     "text": [
      "Could have Bought\n",
      "Could have Bought\n"
     ]
    },
    {
     "name": "stderr",
     "output_type": "stream",
     "text": [
      "  1%|▌                                                                           | 492/74060 [00:30<1:17:17, 15.87it/s]"
     ]
    },
    {
     "name": "stdout",
     "output_type": "stream",
     "text": [
      "CMP =  910.6\n",
      "Shares Sold\n",
      "Average Predicted =  898.16974\n",
      "Could have Sold\n",
      "Could have Sold\n",
      "Could have Sold\n"
     ]
    },
    {
     "name": "stderr",
     "output_type": "stream",
     "text": [
      "  1%|▌                                                                           | 496/74060 [00:30<1:16:02, 16.12it/s]"
     ]
    },
    {
     "name": "stdout",
     "output_type": "stream",
     "text": [
      "Could have Sold\n",
      "Could have Sold\n"
     ]
    },
    {
     "name": "stderr",
     "output_type": "stream",
     "text": [
      "  1%|▌                                                                           | 516/74060 [00:32<1:16:25, 16.04it/s]"
     ]
    },
    {
     "name": "stdout",
     "output_type": "stream",
     "text": [
      "CMP =  909.8499999999999\n",
      "Shares Bought =  10.0\n",
      "Average Predicted =  919.47473\n"
     ]
    },
    {
     "name": "stderr",
     "output_type": "stream",
     "text": [
      "  1%|▌                                                                           | 528/74060 [00:32<1:16:08, 16.10it/s]"
     ]
    },
    {
     "name": "stdout",
     "output_type": "stream",
     "text": [
      "Could have Bought\n",
      "Could have Bought\n",
      "Could have Bought\n",
      "Could have Bought\n"
     ]
    },
    {
     "name": "stderr",
     "output_type": "stream",
     "text": [
      "  1%|▌                                                                           | 532/74060 [00:33<1:16:48, 15.95it/s]"
     ]
    },
    {
     "name": "stdout",
     "output_type": "stream",
     "text": [
      "Could have Bought\n"
     ]
    },
    {
     "name": "stderr",
     "output_type": "stream",
     "text": [
      "  1%|▌                                                                           | 568/74060 [00:35<1:14:55, 16.35it/s]"
     ]
    },
    {
     "name": "stdout",
     "output_type": "stream",
     "text": [
      "Could have Bought\n",
      "Could have Bought\n",
      "Could have Bought\n",
      "Could have Bought\n"
     ]
    },
    {
     "name": "stderr",
     "output_type": "stream",
     "text": [
      "  1%|▌                                                                           | 572/74060 [00:35<1:14:25, 16.46it/s]"
     ]
    },
    {
     "name": "stdout",
     "output_type": "stream",
     "text": [
      "Could have Bought\n",
      "Could have Bought\n",
      "Could have Bought\n",
      "Could have Bought\n"
     ]
    },
    {
     "name": "stderr",
     "output_type": "stream",
     "text": [
      "  1%|▌                                                                           | 576/74060 [00:35<1:15:47, 16.16it/s]"
     ]
    },
    {
     "name": "stdout",
     "output_type": "stream",
     "text": [
      "Could have Bought\n",
      "Could have Bought\n",
      "Could have Bought\n"
     ]
    },
    {
     "name": "stderr",
     "output_type": "stream",
     "text": [
      "  1%|▌                                                                           | 586/74060 [00:36<1:15:08, 16.30it/s]"
     ]
    },
    {
     "name": "stdout",
     "output_type": "stream",
     "text": [
      "CMP =  914.75\n",
      "Shares Sold\n",
      "Average Predicted =  903.1341\n",
      "Could have Sold\n"
     ]
    },
    {
     "name": "stderr",
     "output_type": "stream",
     "text": [
      "  1%|▌                                                                           | 590/74060 [00:36<1:15:56, 16.12it/s]"
     ]
    },
    {
     "name": "stdout",
     "output_type": "stream",
     "text": [
      "CMP =  893.3\n",
      "Shares Bought =  10.0\n",
      "Average Predicted =  905.8493\n"
     ]
    },
    {
     "name": "stderr",
     "output_type": "stream",
     "text": [
      "  1%|▌                                                                           | 598/74060 [00:37<1:14:49, 16.36it/s]"
     ]
    },
    {
     "name": "stdout",
     "output_type": "stream",
     "text": [
      "Could have Bought\n",
      "Could have Bought\n",
      "Could have Bought\n"
     ]
    },
    {
     "name": "stderr",
     "output_type": "stream",
     "text": [
      "  1%|▌                                                                           | 602/74060 [00:37<1:16:11, 16.07it/s]"
     ]
    },
    {
     "name": "stdout",
     "output_type": "stream",
     "text": [
      "Could have Bought\n",
      "Could have Bought\n",
      "Could have Bought\n",
      "Could have Bought\n"
     ]
    },
    {
     "name": "stderr",
     "output_type": "stream",
     "text": [
      "  1%|▌                                                                           | 606/74060 [00:37<1:14:32, 16.42it/s]"
     ]
    },
    {
     "name": "stdout",
     "output_type": "stream",
     "text": [
      "Could have Bought\n",
      "Could have Bought\n",
      "Could have Bought\n",
      "Could have Bought\n"
     ]
    },
    {
     "name": "stderr",
     "output_type": "stream",
     "text": [
      "\r",
      "  1%|▌                                                                           | 608/74060 [00:37<1:14:12, 16.50it/s]"
     ]
    },
    {
     "name": "stdout",
     "output_type": "stream",
     "text": [
      "Could have Bought\n"
     ]
    },
    {
     "name": "stderr",
     "output_type": "stream",
     "text": [
      "  1%|▋                                                                           | 612/74060 [00:37<1:16:48, 15.94it/s]"
     ]
    },
    {
     "name": "stdout",
     "output_type": "stream",
     "text": [
      "Could have Bought\n",
      "Could have Bought\n",
      "Could have Bought\n"
     ]
    },
    {
     "name": "stderr",
     "output_type": "stream",
     "text": [
      "  1%|▋                                                                           | 616/74060 [00:38<1:16:28, 16.00it/s]"
     ]
    },
    {
     "name": "stdout",
     "output_type": "stream",
     "text": [
      "Could have Bought\n"
     ]
    },
    {
     "name": "stderr",
     "output_type": "stream",
     "text": [
      "  1%|▋                                                                           | 666/74060 [00:41<1:13:55, 16.55it/s]"
     ]
    },
    {
     "name": "stdout",
     "output_type": "stream",
     "text": [
      "Could have Bought\n",
      "Could have Bought\n",
      "Could have Bought\n"
     ]
    },
    {
     "name": "stderr",
     "output_type": "stream",
     "text": [
      "  1%|▋                                                                           | 670/74060 [00:41<1:14:25, 16.44it/s]"
     ]
    },
    {
     "name": "stdout",
     "output_type": "stream",
     "text": [
      "Could have Bought\n",
      "Could have Bought\n",
      "Could have Bought\n",
      "Could have Bought\n"
     ]
    },
    {
     "name": "stderr",
     "output_type": "stream",
     "text": [
      "  1%|▋                                                                           | 674/74060 [00:41<1:16:21, 16.02it/s]"
     ]
    },
    {
     "name": "stdout",
     "output_type": "stream",
     "text": [
      "Could have Bought\n",
      "Could have Bought\n",
      "Could have Bought\n",
      "Could have Bought\n"
     ]
    },
    {
     "name": "stderr",
     "output_type": "stream",
     "text": [
      "  1%|▊                                                                           | 760/74060 [00:46<1:14:51, 16.32it/s]"
     ]
    },
    {
     "name": "stdout",
     "output_type": "stream",
     "text": [
      "CMP =  901.3\n",
      "Shares Sold\n",
      "Average Predicted =  891.07227\n",
      "Could have Sold\n",
      "Could have Sold\n",
      "Could have Sold\n"
     ]
    },
    {
     "name": "stderr",
     "output_type": "stream",
     "text": [
      "  1%|▊                                                                           | 764/74060 [00:47<1:14:57, 16.30it/s]"
     ]
    },
    {
     "name": "stdout",
     "output_type": "stream",
     "text": [
      "Could have Sold\n",
      "Could have Sold\n",
      "Could have Sold\n",
      "Could have Sold\n"
     ]
    },
    {
     "name": "stderr",
     "output_type": "stream",
     "text": [
      "  1%|▊                                                                           | 770/74060 [00:47<1:14:29, 16.40it/s]"
     ]
    },
    {
     "name": "stdout",
     "output_type": "stream",
     "text": [
      "Could have Sold\n"
     ]
    },
    {
     "name": "stderr",
     "output_type": "stream",
     "text": [
      "  1%|▊                                                                           | 790/74060 [00:48<1:15:13, 16.23it/s]"
     ]
    },
    {
     "name": "stdout",
     "output_type": "stream",
     "text": [
      "CMP =  903.0\n",
      "Shares Bought =  10.0\n",
      "Average Predicted =  914.3241\n",
      "Could have Bought\n"
     ]
    },
    {
     "name": "stderr",
     "output_type": "stream",
     "text": [
      "  1%|▊                                                                           | 796/74060 [00:49<1:16:19, 16.00it/s]"
     ]
    },
    {
     "name": "stdout",
     "output_type": "stream",
     "text": [
      "Could have Bought\n"
     ]
    },
    {
     "name": "stderr",
     "output_type": "stream",
     "text": [
      "  1%|▊                                                                           | 834/74060 [00:51<1:12:25, 16.85it/s]"
     ]
    },
    {
     "name": "stdout",
     "output_type": "stream",
     "text": [
      "CMP =  924.4499999999999\n",
      "Shares Sold\n",
      "Average Predicted =  912.8707\n"
     ]
    },
    {
     "name": "stderr",
     "output_type": "stream",
     "text": [
      "  1%|▉                                                                           | 860/74060 [00:53<1:37:04, 12.57it/s]"
     ]
    },
    {
     "name": "stdout",
     "output_type": "stream",
     "text": [
      "CMP =  915.7\n",
      "Shares Bought =  10.0\n",
      "Average Predicted =  930.92444\n",
      "Could have Bought\n",
      "Could have Bought\n"
     ]
    },
    {
     "name": "stderr",
     "output_type": "stream",
     "text": [
      "  1%|▉                                                                           | 864/74060 [00:53<1:37:41, 12.49it/s]"
     ]
    },
    {
     "name": "stdout",
     "output_type": "stream",
     "text": [
      "Could have Bought\n",
      "Could have Bought\n",
      "Could have Bought\n"
     ]
    },
    {
     "name": "stderr",
     "output_type": "stream",
     "text": [
      "\r",
      "  1%|▉                                                                           | 866/74060 [00:53<1:37:36, 12.50it/s]"
     ]
    },
    {
     "name": "stdout",
     "output_type": "stream",
     "text": [
      "Could have Bought\n",
      "Could have Bought\n",
      "Could have Bought\n"
     ]
    },
    {
     "name": "stderr",
     "output_type": "stream",
     "text": [
      "  1%|▉                                                                           | 870/74060 [00:54<1:41:56, 11.97it/s]"
     ]
    },
    {
     "name": "stdout",
     "output_type": "stream",
     "text": [
      "Could have Bought\n",
      "Could have Bought\n",
      "Could have Bought\n"
     ]
    },
    {
     "name": "stderr",
     "output_type": "stream",
     "text": [
      "\r",
      "  1%|▉                                                                           | 872/74060 [00:54<1:42:28, 11.90it/s]"
     ]
    },
    {
     "name": "stdout",
     "output_type": "stream",
     "text": [
      "Could have Bought\n",
      "Could have Bought\n",
      "Could have Bought\n"
     ]
    },
    {
     "name": "stderr",
     "output_type": "stream",
     "text": [
      "  1%|▉                                                                           | 876/74060 [00:54<1:40:39, 12.12it/s]"
     ]
    },
    {
     "name": "stdout",
     "output_type": "stream",
     "text": [
      "Could have Bought\n",
      "Could have Bought\n",
      "Could have Bought\n"
     ]
    },
    {
     "name": "stderr",
     "output_type": "stream",
     "text": [
      "\r",
      "  1%|▉                                                                           | 878/74060 [00:54<1:41:55, 11.97it/s]"
     ]
    },
    {
     "name": "stdout",
     "output_type": "stream",
     "text": [
      "Could have Bought\n",
      "Could have Bought\n",
      "Could have Bought\n"
     ]
    },
    {
     "name": "stderr",
     "output_type": "stream",
     "text": [
      "  1%|▉                                                                           | 882/74060 [00:55<1:40:21, 12.15it/s]"
     ]
    },
    {
     "name": "stdout",
     "output_type": "stream",
     "text": [
      "Could have Bought\n"
     ]
    },
    {
     "name": "stderr",
     "output_type": "stream",
     "text": [
      "  1%|▉                                                                           | 888/74060 [00:55<1:42:01, 11.95it/s]"
     ]
    },
    {
     "name": "stdout",
     "output_type": "stream",
     "text": [
      "Could have Bought\n",
      "Could have Bought\n",
      "Could have Bought\n"
     ]
    },
    {
     "name": "stderr",
     "output_type": "stream",
     "text": [
      "  1%|▉                                                                           | 900/74060 [00:56<1:39:16, 12.28it/s]"
     ]
    },
    {
     "name": "stdout",
     "output_type": "stream",
     "text": [
      "Condition 3\n",
      "CMP =  908.85\n",
      "Shares Sold\n",
      "Average Predicted =  899.27454\n"
     ]
    },
    {
     "name": "stderr",
     "output_type": "stream",
     "text": [
      "  1%|▉                                                                           | 914/74060 [00:57<1:19:03, 15.42it/s]"
     ]
    },
    {
     "name": "stdout",
     "output_type": "stream",
     "text": [
      "CMP =  895.7\n",
      "Shares Bought =  11.0\n",
      "Average Predicted =  906.5412\n",
      "Could have Bought\n"
     ]
    },
    {
     "name": "stderr",
     "output_type": "stream",
     "text": [
      "  1%|▉                                                                           | 926/74060 [00:58<1:14:10, 16.43it/s]"
     ]
    },
    {
     "name": "stdout",
     "output_type": "stream",
     "text": [
      "Could have Bought\n",
      "Could have Bought\n",
      "Could have Bought\n"
     ]
    },
    {
     "name": "stderr",
     "output_type": "stream",
     "text": [
      "  1%|▉                                                                           | 960/74060 [01:00<1:12:39, 16.77it/s]"
     ]
    },
    {
     "name": "stdout",
     "output_type": "stream",
     "text": [
      "Could have Bought\n",
      "Could have Bought\n",
      "Could have Bought\n",
      "Could have Bought\n"
     ]
    },
    {
     "name": "stderr",
     "output_type": "stream",
     "text": [
      "  1%|▉                                                                           | 964/74060 [01:00<1:13:19, 16.61it/s]"
     ]
    },
    {
     "name": "stdout",
     "output_type": "stream",
     "text": [
      "Could have Bought\n",
      "Could have Bought\n",
      "Could have Bought\n",
      "Could have Bought\n"
     ]
    },
    {
     "name": "stderr",
     "output_type": "stream",
     "text": [
      "  1%|▉                                                                           | 968/74060 [01:00<1:12:45, 16.74it/s]"
     ]
    },
    {
     "name": "stdout",
     "output_type": "stream",
     "text": [
      "Could have Bought\n",
      "Could have Bought\n",
      "Could have Bought\n",
      "Could have Bought\n"
     ]
    },
    {
     "name": "stderr",
     "output_type": "stream",
     "text": [
      "  1%|▉                                                                           | 972/74060 [01:00<1:12:29, 16.81it/s]"
     ]
    },
    {
     "name": "stdout",
     "output_type": "stream",
     "text": [
      "Could have Bought\n",
      "Could have Bought\n",
      "Could have Bought\n",
      "Could have Bought\n"
     ]
    },
    {
     "name": "stderr",
     "output_type": "stream",
     "text": [
      "  1%|█                                                                           | 976/74060 [01:01<1:12:53, 16.71it/s]"
     ]
    },
    {
     "name": "stdout",
     "output_type": "stream",
     "text": [
      "Could have Bought\n",
      "Could have Bought\n",
      "Could have Bought\n",
      "Could have Bought\n"
     ]
    },
    {
     "name": "stderr",
     "output_type": "stream",
     "text": [
      "  1%|█                                                                           | 980/74060 [01:01<1:13:01, 16.68it/s]"
     ]
    },
    {
     "name": "stdout",
     "output_type": "stream",
     "text": [
      "Could have Bought\n",
      "Could have Bought\n",
      "Could have Bought\n",
      "Could have Bought\n"
     ]
    },
    {
     "name": "stderr",
     "output_type": "stream",
     "text": [
      "  1%|█                                                                           | 984/74060 [01:01<1:13:09, 16.65it/s]"
     ]
    },
    {
     "name": "stdout",
     "output_type": "stream",
     "text": [
      "Could have Bought\n",
      "Could have Bought\n"
     ]
    },
    {
     "name": "stderr",
     "output_type": "stream",
     "text": [
      "  1%|█                                                                           | 994/74060 [01:02<1:13:14, 16.63it/s]"
     ]
    },
    {
     "name": "stdout",
     "output_type": "stream",
     "text": [
      "Could have Bought\n"
     ]
    },
    {
     "name": "stderr",
     "output_type": "stream",
     "text": [
      "  1%|█                                                                          | 1002/74060 [01:02<1:12:55, 16.70it/s]"
     ]
    },
    {
     "name": "stdout",
     "output_type": "stream",
     "text": [
      "Could have Bought\n",
      "Could have Bought\n",
      "Could have Bought\n",
      "Could have Bought\n"
     ]
    },
    {
     "name": "stderr",
     "output_type": "stream",
     "text": [
      "  1%|█                                                                          | 1006/74060 [01:03<1:13:02, 16.67it/s]"
     ]
    },
    {
     "name": "stdout",
     "output_type": "stream",
     "text": [
      "Could have Bought\n",
      "Could have Bought\n",
      "Could have Bought\n",
      "Could have Bought\n"
     ]
    },
    {
     "name": "stderr",
     "output_type": "stream",
     "text": [
      "  1%|█                                                                          | 1010/74060 [01:03<1:13:12, 16.63it/s]"
     ]
    },
    {
     "name": "stdout",
     "output_type": "stream",
     "text": [
      "Could have Bought\n",
      "Could have Bought\n",
      "Condition 2\n",
      "Condition 3\n",
      "CMP =  804.05\n",
      "Shares Sold\n",
      "Average Predicted =  805.69934\n",
      "Could have Sold\n"
     ]
    },
    {
     "name": "stderr",
     "output_type": "stream",
     "text": [
      "  1%|█                                                                          | 1014/74060 [01:03<1:12:42, 16.74it/s]"
     ]
    },
    {
     "name": "stdout",
     "output_type": "stream",
     "text": [
      "Could have Sold\n",
      "Could have Sold\n",
      "Could have Sold\n",
      "Could have Sold\n"
     ]
    },
    {
     "name": "stderr",
     "output_type": "stream",
     "text": [
      "  1%|█                                                                          | 1018/74060 [01:03<1:12:24, 16.81it/s]"
     ]
    },
    {
     "name": "stdout",
     "output_type": "stream",
     "text": [
      "Could have Sold\n",
      "Could have Sold\n",
      "Could have Sold\n",
      "Could have Sold\n"
     ]
    },
    {
     "name": "stderr",
     "output_type": "stream",
     "text": [
      "  1%|█                                                                          | 1022/74060 [01:03<1:13:31, 16.56it/s]"
     ]
    },
    {
     "name": "stdout",
     "output_type": "stream",
     "text": [
      "Could have Sold\n",
      "Could have Sold\n",
      "Could have Sold\n"
     ]
    },
    {
     "name": "stderr",
     "output_type": "stream",
     "text": [
      "  1%|█                                                                          | 1030/74060 [01:04<1:12:00, 16.90it/s]"
     ]
    },
    {
     "name": "stdout",
     "output_type": "stream",
     "text": [
      "CMP =  807.5\n",
      "Shares Bought =  11.0\n",
      "Average Predicted =  815.9573\n",
      "Could have Bought\n",
      "Could have Bought\n",
      "Could have Bought\n"
     ]
    },
    {
     "name": "stderr",
     "output_type": "stream",
     "text": [
      "  1%|█                                                                          | 1034/74060 [01:04<1:12:31, 16.78it/s]"
     ]
    },
    {
     "name": "stdout",
     "output_type": "stream",
     "text": [
      "Could have Bought\n",
      "Could have Bought\n",
      "Could have Bought\n",
      "Could have Bought\n"
     ]
    },
    {
     "name": "stderr",
     "output_type": "stream",
     "text": [
      "  1%|█                                                                          | 1038/74060 [01:04<1:13:02, 16.66it/s]"
     ]
    },
    {
     "name": "stdout",
     "output_type": "stream",
     "text": [
      "Could have Bought\n",
      "Could have Bought\n",
      "Could have Bought\n",
      "Could have Bought\n"
     ]
    },
    {
     "name": "stderr",
     "output_type": "stream",
     "text": [
      "  1%|█                                                                          | 1042/74060 [01:05<1:13:18, 16.60it/s]"
     ]
    },
    {
     "name": "stdout",
     "output_type": "stream",
     "text": [
      "Could have Bought\n",
      "Could have Bought\n",
      "Could have Bought\n"
     ]
    },
    {
     "name": "stderr",
     "output_type": "stream",
     "text": [
      "  1%|█                                                                          | 1054/74060 [01:05<1:12:49, 16.71it/s]"
     ]
    },
    {
     "name": "stdout",
     "output_type": "stream",
     "text": [
      "Could have Bought\n"
     ]
    },
    {
     "name": "stderr",
     "output_type": "stream",
     "text": [
      "  1%|█                                                                          | 1060/74060 [01:06<1:13:10, 16.63it/s]"
     ]
    },
    {
     "name": "stdout",
     "output_type": "stream",
     "text": [
      "Could have Bought\n",
      "Could have Bought\n"
     ]
    },
    {
     "name": "stderr",
     "output_type": "stream",
     "text": [
      "  2%|█▏                                                                         | 1136/74060 [01:10<1:12:16, 16.82it/s]"
     ]
    },
    {
     "name": "stdout",
     "output_type": "stream",
     "text": [
      "Could have Bought\n",
      "Could have Bought\n",
      "Could have Bought\n",
      "Could have Bought\n"
     ]
    },
    {
     "name": "stderr",
     "output_type": "stream",
     "text": [
      "  2%|█▏                                                                         | 1140/74060 [01:11<1:12:33, 16.75it/s]"
     ]
    },
    {
     "name": "stdout",
     "output_type": "stream",
     "text": [
      "Could have Bought\n",
      "Could have Bought\n",
      "Could have Bought\n",
      "Could have Bought\n"
     ]
    },
    {
     "name": "stderr",
     "output_type": "stream",
     "text": [
      "  2%|█▏                                                                         | 1146/74060 [01:11<1:12:33, 16.75it/s]"
     ]
    },
    {
     "name": "stdout",
     "output_type": "stream",
     "text": [
      "Could have Bought\n",
      "Could have Bought\n",
      "Could have Bought\n",
      "Could have Bought\n"
     ]
    },
    {
     "name": "stderr",
     "output_type": "stream",
     "text": [
      "  2%|█▏                                                                         | 1220/74060 [01:15<1:15:37, 16.05it/s]"
     ]
    },
    {
     "name": "stdout",
     "output_type": "stream",
     "text": [
      "CMP =  821.7\n",
      "Shares Sold\n",
      "Average Predicted =  811.5788\n",
      "Could have Sold\n"
     ]
    },
    {
     "name": "stderr",
     "output_type": "stream",
     "text": [
      "  2%|█▏                                                                         | 1224/74060 [01:16<1:14:34, 16.28it/s]"
     ]
    },
    {
     "name": "stdout",
     "output_type": "stream",
     "text": [
      "Could have Sold\n",
      "Could have Sold\n",
      "Could have Sold\n",
      "Could have Sold\n"
     ]
    },
    {
     "name": "stderr",
     "output_type": "stream",
     "text": [
      "  2%|█▏                                                                         | 1228/74060 [01:16<1:14:14, 16.35it/s]"
     ]
    },
    {
     "name": "stdout",
     "output_type": "stream",
     "text": [
      "Could have Sold\n"
     ]
    },
    {
     "name": "stderr",
     "output_type": "stream",
     "text": [
      "  2%|█▎                                                                         | 1238/74060 [01:17<1:14:03, 16.39it/s]"
     ]
    },
    {
     "name": "stdout",
     "output_type": "stream",
     "text": [
      "CMP =  818.1\n",
      "Shares Bought =  11.0\n",
      "Average Predicted =  827.85535\n",
      "Could have Bought\n",
      "Could have Bought\n",
      "Could have Bought\n"
     ]
    },
    {
     "name": "stderr",
     "output_type": "stream",
     "text": [
      "  2%|█▎                                                                         | 1242/74060 [01:17<1:13:49, 16.44it/s]"
     ]
    },
    {
     "name": "stdout",
     "output_type": "stream",
     "text": [
      "Could have Bought\n",
      "Could have Bought\n",
      "Could have Bought\n",
      "Could have Bought\n"
     ]
    },
    {
     "name": "stderr",
     "output_type": "stream",
     "text": [
      "  2%|█▎                                                                         | 1258/74060 [01:18<1:13:43, 16.46it/s]"
     ]
    },
    {
     "name": "stdout",
     "output_type": "stream",
     "text": [
      "Could have Bought\n",
      "Could have Bought\n",
      "Could have Bought\n",
      "Could have Bought\n"
     ]
    },
    {
     "name": "stderr",
     "output_type": "stream",
     "text": [
      "  2%|█▎                                                                         | 1262/74060 [01:18<1:13:37, 16.48it/s]"
     ]
    },
    {
     "name": "stdout",
     "output_type": "stream",
     "text": [
      "Could have Bought\n",
      "Could have Bought\n",
      "Could have Bought\n",
      "Could have Bought\n"
     ]
    },
    {
     "name": "stderr",
     "output_type": "stream",
     "text": [
      "  2%|█▎                                                                         | 1266/74060 [01:18<1:13:48, 16.44it/s]"
     ]
    },
    {
     "name": "stdout",
     "output_type": "stream",
     "text": [
      "Could have Bought\n",
      "Could have Bought\n",
      "Could have Bought\n",
      "Could have Bought\n"
     ]
    },
    {
     "name": "stderr",
     "output_type": "stream",
     "text": [
      "  2%|█▎                                                                         | 1270/74060 [01:19<1:13:55, 16.41it/s]"
     ]
    },
    {
     "name": "stdout",
     "output_type": "stream",
     "text": [
      "Could have Bought\n",
      "Could have Bought\n",
      "Could have Bought\n",
      "Could have Bought\n"
     ]
    },
    {
     "name": "stderr",
     "output_type": "stream",
     "text": [
      "  2%|█▎                                                                         | 1274/74060 [01:19<1:13:36, 16.48it/s]"
     ]
    },
    {
     "name": "stdout",
     "output_type": "stream",
     "text": [
      "Could have Bought\n",
      "Could have Bought\n",
      "Could have Bought\n"
     ]
    },
    {
     "name": "stderr",
     "output_type": "stream",
     "text": [
      "  2%|█▎                                                                         | 1278/74060 [01:19<1:13:32, 16.49it/s]"
     ]
    },
    {
     "name": "stdout",
     "output_type": "stream",
     "text": [
      "CMP =  821.95\n",
      "Shares Sold\n",
      "Average Predicted =  798.14966\n",
      "Could have Sold\n",
      "Could have Sold\n",
      "Could have Sold\n"
     ]
    },
    {
     "name": "stderr",
     "output_type": "stream",
     "text": [
      "  2%|█▎                                                                         | 1282/74060 [01:19<1:13:58, 16.40it/s]"
     ]
    },
    {
     "name": "stdout",
     "output_type": "stream",
     "text": [
      "Could have Sold\n",
      "Could have Sold\n"
     ]
    },
    {
     "name": "stderr",
     "output_type": "stream",
     "text": [
      "  2%|█▎                                                                         | 1286/74060 [01:19<1:13:16, 16.55it/s]"
     ]
    },
    {
     "name": "stdout",
     "output_type": "stream",
     "text": [
      "CMP =  791.15\n",
      "Shares Bought =  11.0\n",
      "Average Predicted =  804.4166\n",
      "Could have Bought\n",
      "Could have Bought\n",
      "Could have Bought\n"
     ]
    },
    {
     "name": "stderr",
     "output_type": "stream",
     "text": [
      "  2%|█▎                                                                         | 1290/74060 [01:20<1:13:09, 16.58it/s]"
     ]
    },
    {
     "name": "stdout",
     "output_type": "stream",
     "text": [
      "Could have Bought\n",
      "Could have Bought\n",
      "Could have Bought\n",
      "Could have Bought\n"
     ]
    },
    {
     "name": "stderr",
     "output_type": "stream",
     "text": [
      "  2%|█▎                                                                         | 1294/74060 [01:20<1:13:36, 16.48it/s]"
     ]
    },
    {
     "name": "stdout",
     "output_type": "stream",
     "text": [
      "Could have Bought\n",
      "Could have Bought\n",
      "Could have Bought\n",
      "Could have Bought\n"
     ]
    },
    {
     "name": "stderr",
     "output_type": "stream",
     "text": [
      "  2%|█▎                                                                         | 1298/74060 [01:20<1:12:56, 16.63it/s]"
     ]
    },
    {
     "name": "stdout",
     "output_type": "stream",
     "text": [
      "Could have Bought\n",
      "Could have Bought\n",
      "Could have Bought\n",
      "Could have Bought\n"
     ]
    },
    {
     "name": "stderr",
     "output_type": "stream",
     "text": [
      "  2%|█▎                                                                         | 1302/74060 [01:20<1:13:14, 16.56it/s]"
     ]
    },
    {
     "name": "stdout",
     "output_type": "stream",
     "text": [
      "Could have Bought\n",
      "Could have Bought\n",
      "Could have Bought\n",
      "Could have Bought\n"
     ]
    },
    {
     "name": "stderr",
     "output_type": "stream",
     "text": [
      "  2%|█▎                                                                         | 1306/74060 [01:21<1:12:57, 16.62it/s]"
     ]
    },
    {
     "name": "stdout",
     "output_type": "stream",
     "text": [
      "Could have Bought\n",
      "Could have Bought\n",
      "Could have Bought\n",
      "Could have Bought\n"
     ]
    },
    {
     "name": "stderr",
     "output_type": "stream",
     "text": [
      "  2%|█▎                                                                         | 1310/74060 [01:21<1:13:22, 16.52it/s]"
     ]
    },
    {
     "name": "stdout",
     "output_type": "stream",
     "text": [
      "Could have Bought\n",
      "Could have Bought\n"
     ]
    },
    {
     "name": "stderr",
     "output_type": "stream",
     "text": [
      "  2%|█▎                                                                         | 1316/74060 [01:21<1:15:14, 16.11it/s]"
     ]
    },
    {
     "name": "stdout",
     "output_type": "stream",
     "text": [
      "Condition 3\n",
      "CMP =  744.4\n",
      "Shares Sold\n",
      "Average Predicted =  736.5392\n",
      "Could have Sold\n",
      "Could have Sold\n",
      "Could have Sold\n"
     ]
    },
    {
     "name": "stderr",
     "output_type": "stream",
     "text": [
      "  2%|█▎                                                                         | 1320/74060 [01:22<1:15:57, 15.96it/s]"
     ]
    },
    {
     "name": "stdout",
     "output_type": "stream",
     "text": [
      "Could have Sold\n",
      "Could have Sold\n",
      "Could have Sold\n",
      "Could have Sold\n"
     ]
    },
    {
     "name": "stderr",
     "output_type": "stream",
     "text": [
      "  2%|█▎                                                                         | 1324/74060 [01:22<1:15:17, 16.10it/s]"
     ]
    },
    {
     "name": "stdout",
     "output_type": "stream",
     "text": [
      "Could have Sold\n",
      "Could have Sold\n",
      "Could have Sold\n",
      "Could have Sold\n"
     ]
    },
    {
     "name": "stderr",
     "output_type": "stream",
     "text": [
      "  2%|█▎                                                                         | 1328/74060 [01:22<1:14:58, 16.17it/s]"
     ]
    },
    {
     "name": "stdout",
     "output_type": "stream",
     "text": [
      "Could have Sold\n",
      "Could have Sold\n",
      "Could have Sold\n",
      "Could have Sold\n"
     ]
    },
    {
     "name": "stderr",
     "output_type": "stream",
     "text": [
      "  2%|█▎                                                                         | 1332/74060 [01:22<1:14:52, 16.19it/s]"
     ]
    },
    {
     "name": "stdout",
     "output_type": "stream",
     "text": [
      "Could have Sold\n",
      "Could have Sold\n",
      "Could have Sold\n"
     ]
    },
    {
     "name": "stderr",
     "output_type": "stream",
     "text": [
      "  2%|█▎                                                                         | 1342/74060 [01:23<1:14:10, 16.34it/s]"
     ]
    },
    {
     "name": "stdout",
     "output_type": "stream",
     "text": [
      "CMP =  757.25\n",
      "Shares Bought =  11.0\n",
      "Average Predicted =  772.1297\n",
      "Could have Bought\n",
      "Could have Bought\n"
     ]
    },
    {
     "name": "stderr",
     "output_type": "stream",
     "text": [
      "  2%|█▍                                                                         | 1362/74060 [01:24<1:13:05, 16.58it/s]"
     ]
    },
    {
     "name": "stdout",
     "output_type": "stream",
     "text": [
      "CMP =  783.3\n",
      "Shares Sold\n",
      "Average Predicted =  773.0646\n"
     ]
    },
    {
     "name": "stderr",
     "output_type": "stream",
     "text": [
      "  2%|█▍                                                                         | 1466/74060 [01:31<1:16:41, 15.78it/s]"
     ]
    },
    {
     "name": "stdout",
     "output_type": "stream",
     "text": [
      "Could have Sold\n",
      "Could have Sold\n",
      "Could have Sold\n",
      "Could have Sold\n"
     ]
    },
    {
     "name": "stderr",
     "output_type": "stream",
     "text": [
      "  2%|█▍                                                                         | 1470/74060 [01:31<1:15:55, 15.93it/s]"
     ]
    },
    {
     "name": "stdout",
     "output_type": "stream",
     "text": [
      "Could have Sold\n",
      "Could have Sold\n",
      "Could have Sold\n",
      "Could have Sold\n"
     ]
    },
    {
     "name": "stderr",
     "output_type": "stream",
     "text": [
      "  2%|█▍                                                                         | 1474/74060 [01:31<1:15:35, 16.00it/s]"
     ]
    },
    {
     "name": "stdout",
     "output_type": "stream",
     "text": [
      "Could have Sold\n",
      "Could have Sold\n",
      "Could have Sold\n",
      "Could have Sold\n"
     ]
    },
    {
     "name": "stderr",
     "output_type": "stream",
     "text": [
      "  2%|█▍                                                                         | 1478/74060 [01:32<1:15:02, 16.12it/s]"
     ]
    },
    {
     "name": "stdout",
     "output_type": "stream",
     "text": [
      "Could have Sold\n",
      "Could have Sold\n",
      "Could have Sold\n",
      "Could have Sold\n"
     ]
    },
    {
     "name": "stderr",
     "output_type": "stream",
     "text": [
      "  2%|█▌                                                                         | 1482/74060 [01:32<1:15:57, 15.93it/s]"
     ]
    },
    {
     "name": "stdout",
     "output_type": "stream",
     "text": [
      "Could have Sold\n",
      "Could have Sold\n",
      "Could have Sold\n",
      "Could have Sold\n"
     ]
    },
    {
     "name": "stderr",
     "output_type": "stream",
     "text": [
      "  2%|█▌                                                                         | 1498/74060 [01:33<1:14:19, 16.27it/s]"
     ]
    },
    {
     "name": "stdout",
     "output_type": "stream",
     "text": [
      "CMP =  816.2\n",
      "Shares Bought =  10.0\n",
      "Average Predicted =  825.6836\n",
      "Could have Bought\n"
     ]
    },
    {
     "name": "stderr",
     "output_type": "stream",
     "text": [
      "  2%|█▌                                                                         | 1502/74060 [01:33<1:13:56, 16.36it/s]"
     ]
    },
    {
     "name": "stdout",
     "output_type": "stream",
     "text": [
      "Could have Bought\n",
      "Could have Bought\n",
      "Could have Bought\n",
      "Could have Bought\n"
     ]
    },
    {
     "name": "stderr",
     "output_type": "stream",
     "text": [
      "  2%|█▌                                                                         | 1506/74060 [01:33<1:13:47, 16.39it/s]"
     ]
    },
    {
     "name": "stdout",
     "output_type": "stream",
     "text": [
      "Could have Bought\n"
     ]
    },
    {
     "name": "stderr",
     "output_type": "stream",
     "text": [
      "  2%|█▌                                                                         | 1526/74060 [01:34<1:12:24, 16.69it/s]"
     ]
    },
    {
     "name": "stdout",
     "output_type": "stream",
     "text": [
      "CMP =  838.5\n",
      "Shares Sold\n",
      "Average Predicted =  824.50665\n",
      "Could have Sold\n",
      "Could have Sold\n",
      "Could have Sold\n"
     ]
    },
    {
     "name": "stderr",
     "output_type": "stream",
     "text": [
      "  2%|█▌                                                                         | 1530/74060 [01:35<1:12:42, 16.63it/s]"
     ]
    },
    {
     "name": "stdout",
     "output_type": "stream",
     "text": [
      "Could have Sold\n",
      "Could have Sold\n",
      "Could have Sold\n",
      "Could have Sold\n"
     ]
    },
    {
     "name": "stderr",
     "output_type": "stream",
     "text": [
      "  2%|█▌                                                                         | 1540/74060 [01:35<1:12:11, 16.74it/s]"
     ]
    },
    {
     "name": "stdout",
     "output_type": "stream",
     "text": [
      "CMP =  837.45\n",
      "Shares Bought =  10.0\n",
      "Average Predicted =  846.1242\n"
     ]
    },
    {
     "name": "stderr",
     "output_type": "stream",
     "text": [
      "  2%|█▌                                                                         | 1550/74060 [01:36<1:12:27, 16.68it/s]"
     ]
    },
    {
     "name": "stdout",
     "output_type": "stream",
     "text": [
      "Could have Bought\n",
      "Could have Bought\n",
      "Could have Bought\n",
      "Could have Bought\n"
     ]
    },
    {
     "name": "stderr",
     "output_type": "stream",
     "text": [
      "  2%|█▌                                                                         | 1554/74060 [01:36<1:11:37, 16.87it/s]"
     ]
    },
    {
     "name": "stdout",
     "output_type": "stream",
     "text": [
      "Could have Bought\n",
      "Could have Bought\n",
      "Could have Bought\n",
      "Could have Bought\n"
     ]
    },
    {
     "name": "stderr",
     "output_type": "stream",
     "text": [
      "  2%|█▌                                                                         | 1558/74060 [01:36<1:11:37, 16.87it/s]"
     ]
    },
    {
     "name": "stdout",
     "output_type": "stream",
     "text": [
      "Could have Bought\n",
      "Could have Bought\n",
      "Could have Bought\n",
      "Could have Bought\n"
     ]
    },
    {
     "name": "stderr",
     "output_type": "stream",
     "text": [
      "\r",
      "  2%|█▌                                                                         | 1560/74060 [01:37<1:12:28, 16.67it/s]"
     ]
    },
    {
     "name": "stdout",
     "output_type": "stream",
     "text": [
      "Could have Bought\n",
      "Could have Bought\n",
      "Could have Bought\n"
     ]
    },
    {
     "name": "stderr",
     "output_type": "stream",
     "text": [
      "  2%|█▌                                                                         | 1564/74060 [01:37<1:24:11, 14.35it/s]"
     ]
    },
    {
     "name": "stdout",
     "output_type": "stream",
     "text": [
      "Could have Bought\n"
     ]
    },
    {
     "name": "stderr",
     "output_type": "stream",
     "text": [
      "  2%|█▌                                                                         | 1572/74060 [01:37<1:34:22, 12.80it/s]"
     ]
    },
    {
     "name": "stdout",
     "output_type": "stream",
     "text": [
      "Could have Bought\n",
      "Could have Bought\n"
     ]
    },
    {
     "name": "stderr",
     "output_type": "stream",
     "text": [
      "  2%|█▋                                                                         | 1622/74060 [01:41<1:17:16, 15.62it/s]"
     ]
    },
    {
     "name": "stdout",
     "output_type": "stream",
     "text": [
      "Could have Bought\n",
      "Could have Bought\n",
      "Could have Bought\n"
     ]
    },
    {
     "name": "stderr",
     "output_type": "stream",
     "text": [
      "  2%|█▋                                                                         | 1652/74060 [01:43<1:13:08, 16.50it/s]"
     ]
    },
    {
     "name": "stdout",
     "output_type": "stream",
     "text": [
      "Could have Bought\n",
      "Could have Bought\n",
      "Could have Bought\n",
      "Could have Bought\n"
     ]
    },
    {
     "name": "stderr",
     "output_type": "stream",
     "text": [
      "  2%|█▋                                                                         | 1656/74060 [01:43<1:14:44, 16.15it/s]"
     ]
    },
    {
     "name": "stdout",
     "output_type": "stream",
     "text": [
      "Could have Bought\n",
      "Could have Bought\n",
      "Could have Bought\n",
      "Could have Bought\n"
     ]
    },
    {
     "name": "stderr",
     "output_type": "stream",
     "text": [
      "  2%|█▋                                                                         | 1660/74060 [01:44<1:14:24, 16.22it/s]"
     ]
    },
    {
     "name": "stdout",
     "output_type": "stream",
     "text": [
      "Could have Bought\n",
      "Could have Bought\n"
     ]
    },
    {
     "name": "stderr",
     "output_type": "stream",
     "text": [
      "  2%|█▋                                                                         | 1664/74060 [01:44<1:13:59, 16.31it/s]"
     ]
    },
    {
     "name": "stdout",
     "output_type": "stream",
     "text": [
      "Could have Bought\n",
      "Could have Bought\n",
      "Could have Bought\n",
      "Could have Bought\n"
     ]
    },
    {
     "name": "stderr",
     "output_type": "stream",
     "text": [
      "  2%|█▋                                                                         | 1668/74060 [01:44<1:13:45, 16.36it/s]"
     ]
    },
    {
     "name": "stdout",
     "output_type": "stream",
     "text": [
      "Could have Bought\n",
      "Could have Bought\n",
      "Could have Bought\n"
     ]
    },
    {
     "name": "stderr",
     "output_type": "stream",
     "text": [
      "  2%|█▋                                                                         | 1672/74060 [01:44<1:15:39, 15.95it/s]"
     ]
    },
    {
     "name": "stdout",
     "output_type": "stream",
     "text": [
      "Could have Bought\n",
      "Could have Bought\n",
      "Could have Bought\n",
      "Could have Bought\n"
     ]
    },
    {
     "name": "stderr",
     "output_type": "stream",
     "text": [
      "  2%|█▋                                                                         | 1676/74060 [01:45<1:16:03, 15.86it/s]"
     ]
    },
    {
     "name": "stdout",
     "output_type": "stream",
     "text": [
      "Could have Bought\n",
      "Could have Bought\n",
      "Could have Bought\n",
      "Could have Bought\n"
     ]
    },
    {
     "name": "stderr",
     "output_type": "stream",
     "text": [
      "  2%|█▋                                                                         | 1680/74060 [01:45<1:16:02, 15.86it/s]"
     ]
    },
    {
     "name": "stdout",
     "output_type": "stream",
     "text": [
      "Could have Bought\n",
      "Could have Bought\n",
      "Could have Bought\n",
      "Could have Bought\n"
     ]
    },
    {
     "name": "stderr",
     "output_type": "stream",
     "text": [
      "  2%|█▋                                                                         | 1684/74060 [01:45<1:16:22, 15.79it/s]"
     ]
    },
    {
     "name": "stdout",
     "output_type": "stream",
     "text": [
      "Could have Bought\n",
      "Could have Bought\n"
     ]
    },
    {
     "name": "stderr",
     "output_type": "stream",
     "text": [
      "  2%|█▋                                                                         | 1688/74060 [01:45<1:14:43, 16.14it/s]"
     ]
    },
    {
     "name": "stdout",
     "output_type": "stream",
     "text": [
      "Could have Bought\n",
      "Could have Bought\n",
      "Could have Bought\n",
      "Could have Bought\n"
     ]
    },
    {
     "name": "stderr",
     "output_type": "stream",
     "text": [
      "  2%|█▋                                                                         | 1692/74060 [01:46<1:17:00, 15.66it/s]"
     ]
    },
    {
     "name": "stdout",
     "output_type": "stream",
     "text": [
      "Could have Bought\n"
     ]
    },
    {
     "name": "stderr",
     "output_type": "stream",
     "text": [
      "  2%|█▋                                                                         | 1702/74060 [01:46<1:16:02, 15.86it/s]"
     ]
    },
    {
     "name": "stdout",
     "output_type": "stream",
     "text": [
      "Condition 3\n",
      "CMP =  803.5\n",
      "Shares Sold\n",
      "Average Predicted =  794.07623\n",
      "Could have Sold\n",
      "Could have Sold\n",
      "Could have Sold\n"
     ]
    },
    {
     "name": "stderr",
     "output_type": "stream",
     "text": [
      "  2%|█▋                                                                         | 1708/74060 [01:47<1:17:24, 15.58it/s]"
     ]
    },
    {
     "name": "stdout",
     "output_type": "stream",
     "text": [
      "Could have Sold\n"
     ]
    },
    {
     "name": "stderr",
     "output_type": "stream",
     "text": [
      "  2%|█▊                                                                         | 1732/74060 [01:48<1:16:24, 15.78it/s]"
     ]
    },
    {
     "name": "stdout",
     "output_type": "stream",
     "text": [
      "Could have Sold\n"
     ]
    },
    {
     "name": "stderr",
     "output_type": "stream",
     "text": [
      "  2%|█▊                                                                         | 1798/74060 [01:52<1:13:04, 16.48it/s]"
     ]
    },
    {
     "name": "stdout",
     "output_type": "stream",
     "text": [
      "CMP =  811.2\n",
      "Shares Bought =  10.0\n",
      "Average Predicted =  819.4535\n"
     ]
    },
    {
     "name": "stderr",
     "output_type": "stream",
     "text": [
      "  3%|█▉                                                                         | 1862/74060 [01:56<1:14:23, 16.18it/s]"
     ]
    },
    {
     "name": "stdout",
     "output_type": "stream",
     "text": [
      "CMP =  829.75\n",
      "Shares Sold\n",
      "Average Predicted =  820.35284\n",
      "Could have Sold\n",
      "Could have Sold\n",
      "Could have Sold\n"
     ]
    },
    {
     "name": "stderr",
     "output_type": "stream",
     "text": [
      "  3%|█▉                                                                         | 1866/74060 [01:56<1:15:49, 15.87it/s]"
     ]
    },
    {
     "name": "stdout",
     "output_type": "stream",
     "text": [
      "Could have Sold\n",
      "Could have Sold\n",
      "Could have Sold\n"
     ]
    },
    {
     "name": "stderr",
     "output_type": "stream",
     "text": [
      "  3%|█▉                                                                         | 1902/74060 [01:59<1:12:53, 16.50it/s]"
     ]
    },
    {
     "name": "stdout",
     "output_type": "stream",
     "text": [
      "Could have Sold\n",
      "Could have Sold\n",
      "Could have Sold\n"
     ]
    },
    {
     "name": "stderr",
     "output_type": "stream",
     "text": [
      "  3%|█▉                                                                         | 1906/74060 [01:59<1:14:23, 16.17it/s]"
     ]
    },
    {
     "name": "stdout",
     "output_type": "stream",
     "text": [
      "Could have Sold\n",
      "CMP =  848.2\n",
      "Shares Bought =  10.0\n",
      "Average Predicted =  857.64294\n"
     ]
    },
    {
     "name": "stderr",
     "output_type": "stream",
     "text": [
      "  3%|█▉                                                                         | 1912/74060 [01:59<1:16:22, 15.74it/s]"
     ]
    },
    {
     "name": "stdout",
     "output_type": "stream",
     "text": [
      "Could have Bought\n",
      "Could have Bought\n",
      "Could have Bought\n",
      "Could have Bought\n"
     ]
    },
    {
     "name": "stderr",
     "output_type": "stream",
     "text": [
      "  3%|█▉                                                                         | 1916/74060 [02:00<1:17:28, 15.52it/s]"
     ]
    },
    {
     "name": "stdout",
     "output_type": "stream",
     "text": [
      "Could have Bought\n",
      "Could have Bought\n",
      "Could have Bought\n",
      "Could have Bought\n"
     ]
    },
    {
     "name": "stderr",
     "output_type": "stream",
     "text": [
      "  3%|█▉                                                                         | 1920/74060 [02:00<1:15:56, 15.83it/s]"
     ]
    },
    {
     "name": "stdout",
     "output_type": "stream",
     "text": [
      "Could have Bought\n",
      "Could have Bought\n",
      "Could have Bought\n"
     ]
    },
    {
     "name": "stderr",
     "output_type": "stream",
     "text": [
      "  3%|█▉                                                                         | 1942/74060 [02:01<1:17:45, 15.46it/s]"
     ]
    },
    {
     "name": "stdout",
     "output_type": "stream",
     "text": [
      "Could have Bought\n"
     ]
    },
    {
     "name": "stderr",
     "output_type": "stream",
     "text": [
      "  3%|█▉                                                                         | 1964/74060 [02:03<1:16:04, 15.80it/s]"
     ]
    },
    {
     "name": "stdout",
     "output_type": "stream",
     "text": [
      "CMP =  871.75\n",
      "Shares Sold\n",
      "Average Predicted =  860.83826\n",
      "Could have Sold\n"
     ]
    },
    {
     "name": "stderr",
     "output_type": "stream",
     "text": [
      "  3%|█▉                                                                         | 1972/74060 [02:03<1:22:18, 14.60it/s]"
     ]
    },
    {
     "name": "stdout",
     "output_type": "stream",
     "text": [
      "CMP =  856.9\n",
      "Shares Bought =  10.0\n",
      "Average Predicted =  868.3622\n"
     ]
    },
    {
     "name": "stderr",
     "output_type": "stream",
     "text": [
      "  3%|██                                                                         | 2012/74060 [02:06<1:18:42, 15.26it/s]"
     ]
    },
    {
     "name": "stdout",
     "output_type": "stream",
     "text": [
      "Could have Bought\n"
     ]
    },
    {
     "name": "stderr",
     "output_type": "stream",
     "text": [
      "  3%|██                                                                         | 2020/74060 [02:06<1:16:10, 15.76it/s]"
     ]
    },
    {
     "name": "stdout",
     "output_type": "stream",
     "text": [
      "CMP =  891.0\n",
      "Shares Sold\n",
      "Average Predicted =  881.9127\n",
      "Could have Sold\n",
      "Could have Sold\n",
      "Could have Sold\n"
     ]
    },
    {
     "name": "stderr",
     "output_type": "stream",
     "text": [
      "  3%|██                                                                         | 2034/74060 [02:07<1:04:56, 18.48it/s]"
     ]
    },
    {
     "name": "stdout",
     "output_type": "stream",
     "text": [
      "CMP =  878.1000000000001\n",
      "Shares Bought =  10.0\n",
      "Average Predicted =  890.87756\n",
      "Could have Bought\n",
      "Could have Bought\n"
     ]
    },
    {
     "name": "stderr",
     "output_type": "stream",
     "text": [
      "  3%|██                                                                         | 2038/74060 [02:07<1:05:52, 18.22it/s]"
     ]
    },
    {
     "name": "stdout",
     "output_type": "stream",
     "text": [
      "Could have Bought\n",
      "Could have Bought\n",
      "Could have Bought\n"
     ]
    },
    {
     "name": "stderr",
     "output_type": "stream",
     "text": [
      "  3%|██                                                                         | 2046/74060 [02:08<1:05:21, 18.36it/s]"
     ]
    },
    {
     "name": "stdout",
     "output_type": "stream",
     "text": [
      "CMP =  897.2\n",
      "Shares Sold\n",
      "Average Predicted =  885.3862\n",
      "Could have Sold\n",
      "Could have Sold\n",
      "Could have Sold\n"
     ]
    },
    {
     "name": "stderr",
     "output_type": "stream",
     "text": [
      "  3%|██                                                                         | 2050/74060 [02:08<1:06:36, 18.02it/s]"
     ]
    },
    {
     "name": "stdout",
     "output_type": "stream",
     "text": [
      "Could have Sold\n",
      "Could have Sold\n",
      "Could have Sold\n",
      "Could have Sold\n"
     ]
    },
    {
     "name": "stderr",
     "output_type": "stream",
     "text": [
      "  3%|██                                                                         | 2054/74060 [02:08<1:05:16, 18.39it/s]"
     ]
    },
    {
     "name": "stdout",
     "output_type": "stream",
     "text": [
      "Could have Sold\n",
      "Could have Sold\n",
      "Could have Sold\n",
      "Could have Sold\n"
     ]
    },
    {
     "name": "stderr",
     "output_type": "stream",
     "text": [
      "  3%|██                                                                         | 2060/74060 [02:08<1:04:19, 18.65it/s]"
     ]
    },
    {
     "name": "stdout",
     "output_type": "stream",
     "text": [
      "Could have Sold\n",
      "Could have Sold\n",
      "Could have Sold\n"
     ]
    },
    {
     "name": "stderr",
     "output_type": "stream",
     "text": [
      "  3%|██                                                                         | 2064/74060 [02:09<1:04:24, 18.63it/s]"
     ]
    },
    {
     "name": "stdout",
     "output_type": "stream",
     "text": [
      "Could have Sold\n"
     ]
    },
    {
     "name": "stderr",
     "output_type": "stream",
     "text": [
      "  3%|██▏                                                                        | 2102/74060 [02:11<1:04:14, 18.67it/s]"
     ]
    },
    {
     "name": "stdout",
     "output_type": "stream",
     "text": [
      "CMP =  918.0000000000001\n",
      "Shares Bought =  10.0\n",
      "Average Predicted =  928.64856\n",
      "Could have Bought\n",
      "Could have Bought\n",
      "Could have Bought\n"
     ]
    },
    {
     "name": "stderr",
     "output_type": "stream",
     "text": [
      "  3%|██▏                                                                        | 2106/74060 [02:11<1:04:51, 18.49it/s]"
     ]
    },
    {
     "name": "stdout",
     "output_type": "stream",
     "text": [
      "Could have Bought\n",
      "Could have Bought\n",
      "Could have Bought\n",
      "Could have Bought\n"
     ]
    },
    {
     "name": "stderr",
     "output_type": "stream",
     "text": [
      "  3%|██▏                                                                        | 2110/74060 [02:11<1:05:33, 18.29it/s]"
     ]
    },
    {
     "name": "stdout",
     "output_type": "stream",
     "text": [
      "Could have Bought\n",
      "Could have Bought\n",
      "Could have Bought\n",
      "Could have Bought\n"
     ]
    },
    {
     "name": "stderr",
     "output_type": "stream",
     "text": [
      "  3%|██▏                                                                        | 2122/74060 [02:12<1:05:10, 18.40it/s]"
     ]
    },
    {
     "name": "stdout",
     "output_type": "stream",
     "text": [
      "Could have Bought\n",
      "Could have Bought\n",
      "Could have Bought\n",
      "Could have Bought\n",
      "Could have Bought\n"
     ]
    },
    {
     "name": "stderr",
     "output_type": "stream",
     "text": [
      "  3%|██▏                                                                        | 2126/74060 [02:12<1:04:56, 18.46it/s]"
     ]
    },
    {
     "name": "stdout",
     "output_type": "stream",
     "text": [
      "Could have Bought\n",
      "Could have Bought\n",
      "Could have Bought\n",
      "Could have Bought\n",
      "Could have Bought\n"
     ]
    },
    {
     "name": "stderr",
     "output_type": "stream",
     "text": [
      "  3%|██▏                                                                        | 2132/74060 [02:12<1:04:36, 18.55it/s]"
     ]
    },
    {
     "name": "stdout",
     "output_type": "stream",
     "text": [
      "Could have Bought\n"
     ]
    },
    {
     "name": "stderr",
     "output_type": "stream",
     "text": [
      "  3%|██▏                                                                        | 2138/74060 [02:13<1:05:34, 18.28it/s]"
     ]
    },
    {
     "name": "stdout",
     "output_type": "stream",
     "text": [
      "Could have Bought\n",
      "Could have Bought\n",
      "Could have Bought\n"
     ]
    },
    {
     "name": "stderr",
     "output_type": "stream",
     "text": [
      "  3%|██▏                                                                        | 2142/74060 [02:13<1:05:15, 18.37it/s]"
     ]
    },
    {
     "name": "stdout",
     "output_type": "stream",
     "text": [
      "Could have Bought\n",
      "Could have Bought\n",
      "Could have Bought\n",
      "Could have Bought\n"
     ]
    },
    {
     "name": "stderr",
     "output_type": "stream",
     "text": [
      "  3%|██▏                                                                        | 2146/74060 [02:13<1:05:20, 18.34it/s]"
     ]
    },
    {
     "name": "stdout",
     "output_type": "stream",
     "text": [
      "Could have Bought\n"
     ]
    },
    {
     "name": "stderr",
     "output_type": "stream",
     "text": [
      "  3%|██▏                                                                        | 2156/74060 [02:14<1:04:56, 18.45it/s]"
     ]
    },
    {
     "name": "stdout",
     "output_type": "stream",
     "text": [
      "Could have Bought\n",
      "Could have Bought\n",
      "Could have Bought\n"
     ]
    },
    {
     "name": "stderr",
     "output_type": "stream",
     "text": [
      "  3%|██▏                                                                        | 2160/74060 [02:14<1:04:17, 18.64it/s]"
     ]
    },
    {
     "name": "stdout",
     "output_type": "stream",
     "text": [
      "Could have Bought\n",
      "Could have Bought\n",
      "Could have Bought\n"
     ]
    },
    {
     "name": "stderr",
     "output_type": "stream",
     "text": [
      "  3%|██▏                                                                        | 2166/74060 [02:14<1:05:06, 18.40it/s]"
     ]
    },
    {
     "name": "stdout",
     "output_type": "stream",
     "text": [
      "Could have Bought\n",
      "Could have Bought\n",
      "Could have Bought\n"
     ]
    },
    {
     "name": "stderr",
     "output_type": "stream",
     "text": [
      "  3%|██▏                                                                        | 2170/74060 [02:14<1:04:46, 18.50it/s]"
     ]
    },
    {
     "name": "stdout",
     "output_type": "stream",
     "text": [
      "Could have Bought\n",
      "Could have Bought\n",
      "Could have Bought\n"
     ]
    },
    {
     "name": "stderr",
     "output_type": "stream",
     "text": [
      "  3%|██▏                                                                        | 2176/74060 [02:15<1:05:46, 18.22it/s]"
     ]
    },
    {
     "name": "stdout",
     "output_type": "stream",
     "text": [
      "Condition 3\n",
      "CMP =  901.8\n",
      "Shares Sold\n",
      "Average Predicted =  890.61633\n",
      "Could have Sold\n",
      "Could have Sold\n",
      "Could have Sold\n"
     ]
    },
    {
     "name": "stderr",
     "output_type": "stream",
     "text": [
      "  3%|██▏                                                                        | 2180/74060 [02:15<1:05:13, 18.37it/s]"
     ]
    },
    {
     "name": "stdout",
     "output_type": "stream",
     "text": [
      "Could have Sold\n",
      "Could have Sold\n"
     ]
    },
    {
     "name": "stderr",
     "output_type": "stream",
     "text": [
      "  3%|██▏                                                                        | 2212/74060 [02:17<1:04:20, 18.61it/s]"
     ]
    },
    {
     "name": "stdout",
     "output_type": "stream",
     "text": [
      "CMP =  900.15\n",
      "Shares Bought =  10.0\n",
      "Average Predicted =  912.9756\n"
     ]
    },
    {
     "name": "stderr",
     "output_type": "stream",
     "text": [
      "  3%|██▎                                                                        | 2278/74060 [02:20<1:05:01, 18.40it/s]"
     ]
    },
    {
     "name": "stdout",
     "output_type": "stream",
     "text": [
      "Could have Bought\n",
      "Could have Bought\n",
      "Could have Bought\n",
      "Could have Bought\n"
     ]
    },
    {
     "name": "stderr",
     "output_type": "stream",
     "text": [
      "  3%|██▎                                                                        | 2282/74060 [02:20<1:06:40, 17.94it/s]"
     ]
    },
    {
     "name": "stdout",
     "output_type": "stream",
     "text": [
      "Could have Bought\n",
      "Could have Bought\n"
     ]
    },
    {
     "name": "stderr",
     "output_type": "stream",
     "text": [
      "  3%|██▎                                                                        | 2312/74060 [02:22<1:03:14, 18.91it/s]"
     ]
    },
    {
     "name": "stdout",
     "output_type": "stream",
     "text": [
      "Could have Bought\n"
     ]
    },
    {
     "name": "stderr",
     "output_type": "stream",
     "text": [
      "  3%|██▎                                                                        | 2316/74060 [02:22<1:05:30, 18.25it/s]"
     ]
    },
    {
     "name": "stdout",
     "output_type": "stream",
     "text": [
      "Could have Bought\n",
      "Could have Bought\n",
      "Could have Bought\n"
     ]
    },
    {
     "name": "stderr",
     "output_type": "stream",
     "text": [
      "  3%|██▍                                                                        | 2374/74060 [02:26<1:15:31, 15.82it/s]"
     ]
    },
    {
     "name": "stdout",
     "output_type": "stream",
     "text": [
      "Could have Bought\n",
      "Could have Bought\n",
      "Could have Bought\n"
     ]
    },
    {
     "name": "stderr",
     "output_type": "stream",
     "text": [
      "  3%|██▍                                                                        | 2378/74060 [02:26<1:15:26, 15.84it/s]"
     ]
    },
    {
     "name": "stdout",
     "output_type": "stream",
     "text": [
      "Could have Bought\n",
      "Could have Bought\n"
     ]
    },
    {
     "name": "stderr",
     "output_type": "stream",
     "text": [
      "  3%|██▍                                                                        | 2400/74060 [02:27<1:14:33, 16.02it/s]"
     ]
    },
    {
     "name": "stdout",
     "output_type": "stream",
     "text": [
      "CMP =  946.4499999999999\n",
      "Shares Sold\n",
      "Average Predicted =  934.6498\n",
      "Could have Sold\n"
     ]
    },
    {
     "name": "stderr",
     "output_type": "stream",
     "text": [
      "  3%|██▍                                                                        | 2404/74060 [02:28<1:15:54, 15.73it/s]"
     ]
    },
    {
     "name": "stdout",
     "output_type": "stream",
     "text": [
      "Could have Sold\n",
      "Could have Sold\n",
      "Could have Sold\n"
     ]
    },
    {
     "name": "stderr",
     "output_type": "stream",
     "text": [
      "  3%|██▍                                                                        | 2410/74060 [02:28<1:16:47, 15.55it/s]"
     ]
    },
    {
     "name": "stdout",
     "output_type": "stream",
     "text": [
      "CMP =  941.05\n",
      "Shares Bought =  10.0\n",
      "Average Predicted =  950.85876\n",
      "Could have Bought\n"
     ]
    },
    {
     "name": "stderr",
     "output_type": "stream",
     "text": [
      "  3%|██▍                                                                        | 2430/74060 [02:29<1:17:02, 15.49it/s]"
     ]
    },
    {
     "name": "stdout",
     "output_type": "stream",
     "text": [
      "Could have Bought\n",
      "Could have Bought\n",
      "Could have Bought\n"
     ]
    },
    {
     "name": "stderr",
     "output_type": "stream",
     "text": [
      "  3%|██▍                                                                        | 2434/74060 [02:30<1:16:48, 15.54it/s]"
     ]
    },
    {
     "name": "stdout",
     "output_type": "stream",
     "text": [
      "Could have Bought\n",
      "Could have Bought\n",
      "Could have Bought\n"
     ]
    },
    {
     "name": "stderr",
     "output_type": "stream",
     "text": [
      "  3%|██▍                                                                        | 2466/74060 [02:32<1:14:07, 16.10it/s]"
     ]
    },
    {
     "name": "stdout",
     "output_type": "stream",
     "text": [
      "Could have Bought\n"
     ]
    },
    {
     "name": "stderr",
     "output_type": "stream",
     "text": [
      "  3%|██▌                                                                        | 2480/74060 [02:33<1:16:12, 15.65it/s]"
     ]
    },
    {
     "name": "stdout",
     "output_type": "stream",
     "text": [
      "Could have Bought\n",
      "Could have Bought\n",
      "Could have Bought\n"
     ]
    },
    {
     "name": "stderr",
     "output_type": "stream",
     "text": [
      "  3%|██▌                                                                        | 2484/74060 [02:33<1:15:05, 15.88it/s]"
     ]
    },
    {
     "name": "stdout",
     "output_type": "stream",
     "text": [
      "Could have Bought\n",
      "Could have Bought\n"
     ]
    },
    {
     "name": "stderr",
     "output_type": "stream",
     "text": [
      "  3%|██▌                                                                        | 2490/74060 [02:33<1:13:43, 16.18it/s]"
     ]
    },
    {
     "name": "stdout",
     "output_type": "stream",
     "text": [
      "Could have Bought\n",
      "Could have Bought\n",
      "Could have Bought\n",
      "Could have Bought\n"
     ]
    },
    {
     "name": "stderr",
     "output_type": "stream",
     "text": [
      "  3%|██▌                                                                        | 2494/74060 [02:33<1:14:49, 15.94it/s]"
     ]
    },
    {
     "name": "stdout",
     "output_type": "stream",
     "text": [
      "Could have Bought\n",
      "Could have Bought\n",
      "Could have Bought\n",
      "Could have Bought\n"
     ]
    },
    {
     "name": "stderr",
     "output_type": "stream",
     "text": [
      "  3%|██▌                                                                        | 2498/74060 [02:34<1:12:45, 16.39it/s]"
     ]
    },
    {
     "name": "stdout",
     "output_type": "stream",
     "text": [
      "Could have Bought\n",
      "Could have Bought\n",
      "Could have Bought\n",
      "Could have Bought\n"
     ]
    },
    {
     "name": "stderr",
     "output_type": "stream",
     "text": [
      "  3%|██▌                                                                        | 2502/74060 [02:34<1:15:12, 15.86it/s]"
     ]
    },
    {
     "name": "stdout",
     "output_type": "stream",
     "text": [
      "Could have Bought\n",
      "Could have Bought\n",
      "Could have Bought\n",
      "Could have Bought\n"
     ]
    },
    {
     "name": "stderr",
     "output_type": "stream",
     "text": [
      "  3%|██▌                                                                        | 2506/74060 [02:34<1:13:23, 16.25it/s]"
     ]
    },
    {
     "name": "stdout",
     "output_type": "stream",
     "text": [
      "Could have Bought\n",
      "Could have Bought\n"
     ]
    },
    {
     "name": "stderr",
     "output_type": "stream",
     "text": [
      "  3%|██▌                                                                        | 2520/74060 [02:35<1:12:59, 16.33it/s]"
     ]
    },
    {
     "name": "stdout",
     "output_type": "stream",
     "text": [
      "Could have Bought\n",
      "Could have Bought\n",
      "Could have Bought\n",
      "Could have Bought\n"
     ]
    },
    {
     "name": "stderr",
     "output_type": "stream",
     "text": [
      "  3%|██▌                                                                        | 2524/74060 [02:35<1:14:33, 15.99it/s]"
     ]
    },
    {
     "name": "stdout",
     "output_type": "stream",
     "text": [
      "Could have Bought\n",
      "Could have Bought\n",
      "Could have Bought\n",
      "Could have Bought\n"
     ]
    },
    {
     "name": "stderr",
     "output_type": "stream",
     "text": [
      "  3%|██▌                                                                        | 2528/74060 [02:36<1:13:43, 16.17it/s]"
     ]
    },
    {
     "name": "stdout",
     "output_type": "stream",
     "text": [
      "Could have Bought\n",
      "Could have Bought\n",
      "Could have Bought\n"
     ]
    },
    {
     "name": "stderr",
     "output_type": "stream",
     "text": [
      "  3%|██▌                                                                        | 2536/74060 [02:36<1:12:44, 16.39it/s]"
     ]
    },
    {
     "name": "stdout",
     "output_type": "stream",
     "text": [
      "Condition 3\n",
      "CMP =  916.0\n",
      "Shares Sold\n",
      "Average Predicted =  905.58527\n",
      "Could have Sold\n"
     ]
    },
    {
     "name": "stderr",
     "output_type": "stream",
     "text": [
      "  3%|██▌                                                                        | 2542/74060 [02:36<1:15:05, 15.87it/s]"
     ]
    },
    {
     "name": "stdout",
     "output_type": "stream",
     "text": [
      "Could have Sold\n",
      "Could have Sold\n"
     ]
    },
    {
     "name": "stderr",
     "output_type": "stream",
     "text": [
      "  3%|██▌                                                                        | 2548/74060 [02:37<1:14:43, 15.95it/s]"
     ]
    },
    {
     "name": "stdout",
     "output_type": "stream",
     "text": [
      "Could have Sold\n"
     ]
    },
    {
     "name": "stderr",
     "output_type": "stream",
     "text": [
      "  3%|██▌                                                                        | 2554/74060 [02:37<1:12:39, 16.40it/s]"
     ]
    },
    {
     "name": "stdout",
     "output_type": "stream",
     "text": [
      "Could have Sold\n",
      "Could have Sold\n"
     ]
    },
    {
     "name": "stderr",
     "output_type": "stream",
     "text": [
      "  4%|██▋                                                                        | 2664/74060 [02:44<1:24:10, 14.14it/s]"
     ]
    },
    {
     "name": "stdout",
     "output_type": "stream",
     "text": [
      "Could have Sold\n"
     ]
    },
    {
     "name": "stderr",
     "output_type": "stream",
     "text": [
      "  4%|██▊                                                                        | 2722/74060 [02:48<1:13:04, 16.27it/s]"
     ]
    },
    {
     "name": "stdout",
     "output_type": "stream",
     "text": [
      "CMP =  939.3\n",
      "Shares Bought =  10.0\n",
      "Average Predicted =  949.32947\n",
      "Could have Bought\n",
      "Could have Bought\n",
      "Could have Bought\n"
     ]
    },
    {
     "name": "stderr",
     "output_type": "stream",
     "text": [
      "  4%|██▊                                                                        | 2726/74060 [02:48<1:13:28, 16.18it/s]"
     ]
    },
    {
     "name": "stdout",
     "output_type": "stream",
     "text": [
      "Could have Bought\n",
      "Could have Bought\n",
      "Could have Bought\n",
      "Could have Bought\n"
     ]
    },
    {
     "name": "stderr",
     "output_type": "stream",
     "text": [
      "  4%|██▊                                                                        | 2730/74060 [02:49<1:15:23, 15.77it/s]"
     ]
    },
    {
     "name": "stdout",
     "output_type": "stream",
     "text": [
      "Could have Bought\n",
      "Could have Bought\n",
      "Could have Bought\n",
      "Could have Bought\n"
     ]
    },
    {
     "name": "stderr",
     "output_type": "stream",
     "text": [
      "  4%|██▊                                                                        | 2734/74060 [02:49<1:13:51, 16.09it/s]"
     ]
    },
    {
     "name": "stdout",
     "output_type": "stream",
     "text": [
      "Could have Bought\n",
      "Could have Bought\n",
      "Could have Bought\n",
      "Could have Bought\n"
     ]
    },
    {
     "name": "stderr",
     "output_type": "stream",
     "text": [
      "  4%|██▊                                                                        | 2778/74060 [02:52<1:15:35, 15.71it/s]"
     ]
    },
    {
     "name": "stdout",
     "output_type": "stream",
     "text": [
      "Could have Bought\n",
      "Could have Bought\n",
      "Could have Bought\n",
      "Could have Bought\n"
     ]
    },
    {
     "name": "stderr",
     "output_type": "stream",
     "text": [
      "  4%|██▊                                                                        | 2782/74060 [02:52<1:13:50, 16.09it/s]"
     ]
    },
    {
     "name": "stdout",
     "output_type": "stream",
     "text": [
      "Could have Bought\n",
      "Could have Bought\n",
      "Could have Bought\n",
      "Could have Bought\n"
     ]
    },
    {
     "name": "stderr",
     "output_type": "stream",
     "text": [
      "  4%|██▊                                                                        | 2786/74060 [02:52<1:12:34, 16.37it/s]"
     ]
    },
    {
     "name": "stdout",
     "output_type": "stream",
     "text": [
      "Could have Bought\n",
      "Could have Bought\n"
     ]
    },
    {
     "name": "stderr",
     "output_type": "stream",
     "text": [
      "  4%|██▊                                                                        | 2792/74060 [02:53<1:13:55, 16.07it/s]"
     ]
    },
    {
     "name": "stdout",
     "output_type": "stream",
     "text": [
      "Could have Bought\n",
      "Could have Bought\n",
      "Could have Bought\n"
     ]
    },
    {
     "name": "stderr",
     "output_type": "stream",
     "text": [
      "  4%|██▊                                                                        | 2832/74060 [02:55<1:12:27, 16.38it/s]"
     ]
    },
    {
     "name": "stdout",
     "output_type": "stream",
     "text": [
      "Could have Bought\n"
     ]
    },
    {
     "name": "stderr",
     "output_type": "stream",
     "text": [
      "  4%|██▉                                                                        | 2892/74060 [02:59<1:11:38, 16.56it/s]"
     ]
    },
    {
     "name": "stdout",
     "output_type": "stream",
     "text": [
      "Could have Bought\n"
     ]
    },
    {
     "name": "stderr",
     "output_type": "stream",
     "text": [
      "  4%|███▏                                                                       | 3136/74060 [03:14<1:11:28, 16.54it/s]"
     ]
    },
    {
     "name": "stdout",
     "output_type": "stream",
     "text": [
      "CMP =  948.0500000000001\n",
      "Shares Sold\n",
      "Average Predicted =  936.72833\n",
      "Could have Sold\n",
      "Could have Sold\n"
     ]
    },
    {
     "name": "stderr",
     "output_type": "stream",
     "text": [
      "  4%|███▏                                                                       | 3152/74060 [03:15<1:10:25, 16.78it/s]"
     ]
    },
    {
     "name": "stdout",
     "output_type": "stream",
     "text": [
      "Could have Sold\n",
      "Could have Sold\n",
      "Could have Sold\n"
     ]
    },
    {
     "name": "stderr",
     "output_type": "stream",
     "text": [
      "  4%|███▏                                                                       | 3166/74060 [03:16<1:13:28, 16.08it/s]"
     ]
    },
    {
     "name": "stdout",
     "output_type": "stream",
     "text": [
      "CMP =  948.0500000000001\n",
      "Shares Bought =  10.0\n",
      "Average Predicted =  958.7995\n",
      "Could have Bought\n"
     ]
    },
    {
     "name": "stderr",
     "output_type": "stream",
     "text": [
      "  4%|███▏                                                                       | 3188/74060 [03:17<1:12:07, 16.38it/s]"
     ]
    },
    {
     "name": "stdout",
     "output_type": "stream",
     "text": [
      "Could have Bought\n",
      "Could have Bought\n"
     ]
    },
    {
     "name": "stderr",
     "output_type": "stream",
     "text": [
      "  4%|███▏                                                                       | 3200/74060 [03:18<1:11:36, 16.49it/s]"
     ]
    },
    {
     "name": "stdout",
     "output_type": "stream",
     "text": [
      "Could have Bought\n"
     ]
    },
    {
     "name": "stderr",
     "output_type": "stream",
     "text": [
      "  4%|███▏                                                                       | 3208/74060 [03:18<1:10:37, 16.72it/s]"
     ]
    },
    {
     "name": "stdout",
     "output_type": "stream",
     "text": [
      "Could have Bought\n",
      "Could have Bought\n"
     ]
    },
    {
     "name": "stderr",
     "output_type": "stream",
     "text": [
      "  4%|███▎                                                                       | 3212/74060 [03:18<1:10:55, 16.65it/s]"
     ]
    },
    {
     "name": "stdout",
     "output_type": "stream",
     "text": [
      "Could have Bought\n"
     ]
    },
    {
     "name": "stderr",
     "output_type": "stream",
     "text": [
      "  4%|███▎                                                                       | 3244/74060 [03:20<1:13:31, 16.05it/s]"
     ]
    },
    {
     "name": "stdout",
     "output_type": "stream",
     "text": [
      "Could have Bought\n",
      "Could have Bought\n",
      "Could have Bought\n",
      "Could have Bought\n"
     ]
    },
    {
     "name": "stderr",
     "output_type": "stream",
     "text": [
      "  4%|███▎                                                                       | 3248/74060 [03:21<1:12:09, 16.35it/s]"
     ]
    },
    {
     "name": "stdout",
     "output_type": "stream",
     "text": [
      "Could have Bought\n",
      "Could have Bought\n",
      "Could have Bought\n",
      "Could have Bought\n"
     ]
    },
    {
     "name": "stderr",
     "output_type": "stream",
     "text": [
      "  4%|███▎                                                                       | 3252/74060 [03:21<1:14:03, 15.94it/s]"
     ]
    },
    {
     "name": "stdout",
     "output_type": "stream",
     "text": [
      "Could have Bought\n",
      "Could have Bought\n",
      "Could have Bought\n",
      "Could have Bought\n"
     ]
    },
    {
     "name": "stderr",
     "output_type": "stream",
     "text": [
      "  4%|███▎                                                                       | 3258/74060 [03:21<1:11:50, 16.43it/s]"
     ]
    },
    {
     "name": "stdout",
     "output_type": "stream",
     "text": [
      "Could have Bought\n"
     ]
    },
    {
     "name": "stderr",
     "output_type": "stream",
     "text": [
      "  5%|███▍                                                                       | 3386/74060 [03:29<1:11:15, 16.53it/s]"
     ]
    },
    {
     "name": "stdout",
     "output_type": "stream",
     "text": [
      "Could have Bought\n",
      "Could have Bought\n",
      "Could have Bought\n",
      "Could have Bought\n"
     ]
    },
    {
     "name": "stderr",
     "output_type": "stream",
     "text": [
      "  5%|███▍                                                                       | 3390/74060 [03:29<1:11:29, 16.47it/s]"
     ]
    },
    {
     "name": "stdout",
     "output_type": "stream",
     "text": [
      "Could have Bought\n"
     ]
    },
    {
     "name": "stderr",
     "output_type": "stream",
     "text": [
      "  5%|███▍                                                                       | 3424/74060 [03:31<1:11:07, 16.55it/s]"
     ]
    },
    {
     "name": "stdout",
     "output_type": "stream",
     "text": [
      "Could have Bought\n",
      "Could have Bought\n",
      "Could have Bought\n"
     ]
    },
    {
     "name": "stderr",
     "output_type": "stream",
     "text": [
      "  5%|███▍                                                                       | 3450/74060 [03:33<1:10:37, 16.66it/s]"
     ]
    },
    {
     "name": "stdout",
     "output_type": "stream",
     "text": [
      "Could have Bought\n",
      "Could have Bought\n",
      "Could have Bought\n",
      "Could have Bought\n"
     ]
    },
    {
     "name": "stderr",
     "output_type": "stream",
     "text": [
      "  5%|███▍                                                                       | 3454/74060 [03:33<1:11:53, 16.37it/s]"
     ]
    },
    {
     "name": "stdout",
     "output_type": "stream",
     "text": [
      "Could have Bought\n",
      "Could have Bought\n",
      "Could have Bought\n",
      "Could have Bought\n"
     ]
    },
    {
     "name": "stderr",
     "output_type": "stream",
     "text": [
      "  5%|███▌                                                                       | 3458/74060 [03:34<1:13:12, 16.07it/s]"
     ]
    },
    {
     "name": "stdout",
     "output_type": "stream",
     "text": [
      "Could have Bought\n",
      "Could have Bought\n",
      "Could have Bought\n",
      "Could have Bought\n"
     ]
    },
    {
     "name": "stderr",
     "output_type": "stream",
     "text": [
      "  5%|███▌                                                                       | 3462/74060 [03:34<1:11:33, 16.44it/s]"
     ]
    },
    {
     "name": "stdout",
     "output_type": "stream",
     "text": [
      "Could have Bought\n",
      "Could have Bought\n"
     ]
    },
    {
     "name": "stderr",
     "output_type": "stream",
     "text": [
      "  5%|███▌                                                                       | 3490/74060 [03:35<1:11:15, 16.51it/s]"
     ]
    },
    {
     "name": "stdout",
     "output_type": "stream",
     "text": [
      "Could have Bought\n"
     ]
    },
    {
     "name": "stderr",
     "output_type": "stream",
     "text": [
      "  5%|███▌                                                                       | 3528/74060 [03:38<1:12:25, 16.23it/s]"
     ]
    },
    {
     "name": "stdout",
     "output_type": "stream",
     "text": [
      "Could have Bought\n",
      "Could have Bought\n",
      "Could have Bought\n",
      "Could have Bought\n"
     ]
    },
    {
     "name": "stderr",
     "output_type": "stream",
     "text": [
      "  5%|███▌                                                                       | 3532/74060 [03:38<1:14:09, 15.85it/s]"
     ]
    },
    {
     "name": "stdout",
     "output_type": "stream",
     "text": [
      "Could have Bought\n",
      "Could have Bought\n",
      "Could have Bought\n"
     ]
    },
    {
     "name": "stderr",
     "output_type": "stream",
     "text": [
      "  5%|███▌                                                                       | 3538/74060 [03:38<1:15:10, 15.64it/s]"
     ]
    },
    {
     "name": "stdout",
     "output_type": "stream",
     "text": [
      "Could have Bought\n"
     ]
    },
    {
     "name": "stderr",
     "output_type": "stream",
     "text": [
      "  5%|███▌                                                                       | 3544/74060 [03:39<1:13:58, 15.89it/s]"
     ]
    },
    {
     "name": "stdout",
     "output_type": "stream",
     "text": [
      "Could have Bought\n",
      "Could have Bought\n",
      "Could have Bought\n",
      "Could have Bought\n"
     ]
    },
    {
     "name": "stderr",
     "output_type": "stream",
     "text": [
      "  5%|███▌                                                                       | 3548/74060 [03:39<1:12:15, 16.26it/s]"
     ]
    },
    {
     "name": "stdout",
     "output_type": "stream",
     "text": [
      "Could have Bought\n",
      "Could have Bought\n",
      "Could have Bought\n",
      "Could have Bought\n"
     ]
    },
    {
     "name": "stderr",
     "output_type": "stream",
     "text": [
      "  5%|███▌                                                                       | 3552/74060 [03:39<1:11:25, 16.45it/s]"
     ]
    },
    {
     "name": "stdout",
     "output_type": "stream",
     "text": [
      "Could have Bought\n",
      "Could have Bought\n",
      "Could have Bought\n",
      "Could have Bought\n"
     ]
    },
    {
     "name": "stderr",
     "output_type": "stream",
     "text": [
      "  5%|███▌                                                                       | 3556/74060 [03:40<1:11:18, 16.48it/s]"
     ]
    },
    {
     "name": "stdout",
     "output_type": "stream",
     "text": [
      "Could have Bought\n",
      "Could have Bought\n",
      "Could have Bought\n",
      "Could have Bought\n"
     ]
    },
    {
     "name": "stderr",
     "output_type": "stream",
     "text": [
      "  5%|███▌                                                                       | 3560/74060 [03:40<1:10:32, 16.66it/s]"
     ]
    },
    {
     "name": "stdout",
     "output_type": "stream",
     "text": [
      "Could have Bought\n"
     ]
    },
    {
     "name": "stderr",
     "output_type": "stream",
     "text": [
      "  5%|███▊                                                                       | 3788/74060 [03:54<1:12:51, 16.07it/s]"
     ]
    },
    {
     "name": "stdout",
     "output_type": "stream",
     "text": [
      "Could have Bought\n",
      "Could have Bought\n"
     ]
    },
    {
     "name": "stderr",
     "output_type": "stream",
     "text": [
      "  5%|███▉                                                                       | 3874/74060 [03:59<1:05:16, 17.92it/s]"
     ]
    },
    {
     "name": "stdout",
     "output_type": "stream",
     "text": [
      "Condition 3\n",
      "CMP =  936.95\n",
      "Shares Sold\n",
      "Average Predicted =  927.32764\n"
     ]
    },
    {
     "name": "stderr",
     "output_type": "stream",
     "text": [
      "  5%|███▉                                                                       | 3902/74060 [04:01<1:07:08, 17.42it/s]"
     ]
    },
    {
     "name": "stdout",
     "output_type": "stream",
     "text": [
      "CMP =  930.0000000000001\n",
      "Shares Bought =  10.0\n",
      "Average Predicted =  940.80457\n",
      "Could have Bought\n",
      "Could have Bought\n",
      "Could have Bought\n"
     ]
    },
    {
     "name": "stderr",
     "output_type": "stream",
     "text": [
      "  5%|███▉                                                                       | 3906/74060 [04:01<1:06:22, 17.61it/s]"
     ]
    },
    {
     "name": "stdout",
     "output_type": "stream",
     "text": [
      "Could have Bought\n",
      "Could have Bought\n",
      "Could have Bought\n",
      "Could have Bought\n"
     ]
    },
    {
     "name": "stderr",
     "output_type": "stream",
     "text": [
      "  5%|███▉                                                                       | 3910/74060 [04:01<1:06:27, 17.59it/s]"
     ]
    },
    {
     "name": "stdout",
     "output_type": "stream",
     "text": [
      "Could have Bought\n",
      "Could have Bought\n",
      "Could have Bought\n",
      "Could have Bought\n"
     ]
    },
    {
     "name": "stderr",
     "output_type": "stream",
     "text": [
      "  5%|███▉                                                                       | 3914/74060 [04:01<1:05:35, 17.82it/s]"
     ]
    },
    {
     "name": "stdout",
     "output_type": "stream",
     "text": [
      "Could have Bought\n",
      "Could have Bought\n",
      "Could have Bought\n",
      "Could have Bought\n"
     ]
    },
    {
     "name": "stderr",
     "output_type": "stream",
     "text": [
      "  5%|███▉                                                                       | 3918/74060 [04:02<1:05:21, 17.89it/s]"
     ]
    },
    {
     "name": "stdout",
     "output_type": "stream",
     "text": [
      "Could have Bought\n",
      "Could have Bought\n",
      "Could have Bought\n",
      "Could have Bought\n"
     ]
    },
    {
     "name": "stderr",
     "output_type": "stream",
     "text": [
      "  5%|███▉                                                                       | 3922/74060 [04:02<1:05:08, 17.95it/s]"
     ]
    },
    {
     "name": "stdout",
     "output_type": "stream",
     "text": [
      "Could have Bought\n",
      "Could have Bought\n",
      "Could have Bought\n",
      "Could have Bought\n"
     ]
    },
    {
     "name": "stderr",
     "output_type": "stream",
     "text": [
      "  5%|███▉                                                                       | 3926/74060 [04:02<1:04:31, 18.11it/s]"
     ]
    },
    {
     "name": "stdout",
     "output_type": "stream",
     "text": [
      "Could have Bought\n",
      "Could have Bought\n",
      "Could have Bought\n",
      "Could have Bought\n"
     ]
    },
    {
     "name": "stderr",
     "output_type": "stream",
     "text": [
      "  5%|███▉                                                                       | 3930/74060 [04:02<1:03:41, 18.35it/s]"
     ]
    },
    {
     "name": "stdout",
     "output_type": "stream",
     "text": [
      "Could have Bought\n",
      "Could have Bought\n"
     ]
    },
    {
     "name": "stderr",
     "output_type": "stream",
     "text": [
      "  5%|████                                                                       | 4040/74060 [04:08<1:02:19, 18.73it/s]"
     ]
    },
    {
     "name": "stdout",
     "output_type": "stream",
     "text": [
      "Could have Bought\n"
     ]
    },
    {
     "name": "stderr",
     "output_type": "stream",
     "text": [
      "  6%|████▏                                                                      | 4084/74060 [04:11<1:04:01, 18.22it/s]"
     ]
    },
    {
     "name": "stdout",
     "output_type": "stream",
     "text": [
      "Could have Bought\n",
      "Could have Bought\n",
      "Could have Bought\n",
      "Could have Bought\n"
     ]
    },
    {
     "name": "stderr",
     "output_type": "stream",
     "text": [
      "  6%|████▏                                                                      | 4088/74060 [04:11<1:03:01, 18.50it/s]"
     ]
    },
    {
     "name": "stdout",
     "output_type": "stream",
     "text": [
      "Could have Bought\n",
      "Could have Bought\n",
      "Could have Bought\n",
      "Could have Bought\n"
     ]
    },
    {
     "name": "stderr",
     "output_type": "stream",
     "text": [
      "  6%|████▏                                                                      | 4092/74060 [04:11<1:03:50, 18.27it/s]"
     ]
    },
    {
     "name": "stdout",
     "output_type": "stream",
     "text": [
      "Could have Bought\n"
     ]
    },
    {
     "name": "stderr",
     "output_type": "stream",
     "text": [
      "  6%|████▏                                                                      | 4098/74060 [04:11<1:03:28, 18.37it/s]"
     ]
    },
    {
     "name": "stdout",
     "output_type": "stream",
     "text": [
      "Could have Bought\n",
      "Could have Bought\n",
      "Could have Bought\n",
      "Could have Bought\n"
     ]
    },
    {
     "name": "stderr",
     "output_type": "stream",
     "text": [
      "  6%|████▏                                                                      | 4190/74060 [04:16<1:03:08, 18.44it/s]"
     ]
    },
    {
     "name": "stdout",
     "output_type": "stream",
     "text": [
      "Could have Bought\n",
      "Could have Bought\n",
      "Could have Bought\n"
     ]
    },
    {
     "name": "stderr",
     "output_type": "stream",
     "text": [
      "  6%|████▏                                                                      | 4194/74060 [04:17<1:02:41, 18.58it/s]"
     ]
    },
    {
     "name": "stdout",
     "output_type": "stream",
     "text": [
      "Could have Bought\n",
      "Could have Bought\n"
     ]
    },
    {
     "name": "stderr",
     "output_type": "stream",
     "text": [
      "  6%|████▎                                                                      | 4198/74060 [04:17<1:03:22, 18.37it/s]"
     ]
    },
    {
     "name": "stdout",
     "output_type": "stream",
     "text": [
      "Could have Bought\n",
      "Could have Bought\n",
      "Could have Bought\n",
      "Could have Bought\n"
     ]
    },
    {
     "name": "stderr",
     "output_type": "stream",
     "text": [
      "  6%|████▎                                                                      | 4204/74060 [04:17<1:02:58, 18.49it/s]"
     ]
    },
    {
     "name": "stdout",
     "output_type": "stream",
     "text": [
      "Could have Bought\n",
      "Could have Bought\n"
     ]
    },
    {
     "name": "stderr",
     "output_type": "stream",
     "text": [
      "  6%|████▎                                                                      | 4212/74060 [04:18<1:02:48, 18.53it/s]"
     ]
    },
    {
     "name": "stdout",
     "output_type": "stream",
     "text": [
      "Could have Bought\n"
     ]
    },
    {
     "name": "stderr",
     "output_type": "stream",
     "text": [
      "  6%|████▎                                                                      | 4244/74060 [04:19<1:04:57, 17.91it/s]"
     ]
    },
    {
     "name": "stdout",
     "output_type": "stream",
     "text": [
      "Could have Bought\n",
      "Could have Bought\n"
     ]
    },
    {
     "name": "stderr",
     "output_type": "stream",
     "text": [
      "  6%|████▎                                                                      | 4248/74060 [04:20<1:04:10, 18.13it/s]"
     ]
    },
    {
     "name": "stdout",
     "output_type": "stream",
     "text": [
      "Could have Bought\n",
      "Could have Bought\n",
      "Could have Bought\n",
      "Could have Bought\n"
     ]
    },
    {
     "name": "stderr",
     "output_type": "stream",
     "text": [
      "  6%|████▎                                                                      | 4254/74060 [04:20<1:02:04, 18.74it/s]"
     ]
    },
    {
     "name": "stdout",
     "output_type": "stream",
     "text": [
      "Could have Bought\n",
      "Could have Bought\n"
     ]
    },
    {
     "name": "stderr",
     "output_type": "stream",
     "text": [
      "  6%|████▎                                                                      | 4278/74060 [04:21<1:02:56, 18.48it/s]"
     ]
    },
    {
     "name": "stdout",
     "output_type": "stream",
     "text": [
      "Condition 3\n",
      "CMP =  900.0999999999999\n",
      "Shares Sold\n",
      "Average Predicted =  867.66736\n",
      "Could have Sold\n",
      "Could have Sold\n",
      "Could have Sold\n"
     ]
    },
    {
     "name": "stderr",
     "output_type": "stream",
     "text": [
      "  6%|████▎                                                                      | 4282/74060 [04:21<1:02:57, 18.47it/s]"
     ]
    },
    {
     "name": "stdout",
     "output_type": "stream",
     "text": [
      "Could have Sold\n",
      "Could have Sold\n",
      "Could have Sold\n",
      "Could have Sold\n",
      "Could have Sold\n"
     ]
    },
    {
     "name": "stderr",
     "output_type": "stream",
     "text": [
      "  6%|████▎                                                                      | 4288/74060 [04:22<1:22:07, 14.16it/s]"
     ]
    },
    {
     "name": "stdout",
     "output_type": "stream",
     "text": [
      "Could have Sold\n",
      "Could have Sold\n"
     ]
    },
    {
     "name": "stderr",
     "output_type": "stream",
     "text": [
      "  6%|████▎                                                                      | 4294/74060 [04:22<1:09:54, 16.63it/s]"
     ]
    },
    {
     "name": "stdout",
     "output_type": "stream",
     "text": [
      "CMP =  894.55\n",
      "Shares Bought =  10.0\n",
      "Average Predicted =  904.0044\n"
     ]
    },
    {
     "name": "stderr",
     "output_type": "stream",
     "text": [
      "  6%|████▍                                                                      | 4322/74060 [04:24<1:05:38, 17.71it/s]"
     ]
    },
    {
     "name": "stdout",
     "output_type": "stream",
     "text": [
      "Could have Bought\n",
      "Could have Bought\n"
     ]
    },
    {
     "name": "stderr",
     "output_type": "stream",
     "text": [
      "  6%|████▍                                                                      | 4332/74060 [04:24<1:03:49, 18.21it/s]"
     ]
    },
    {
     "name": "stdout",
     "output_type": "stream",
     "text": [
      "Could have Bought\n"
     ]
    },
    {
     "name": "stderr",
     "output_type": "stream",
     "text": [
      "  6%|████▍                                                                      | 4370/74060 [04:27<1:05:45, 17.66it/s]"
     ]
    },
    {
     "name": "stdout",
     "output_type": "stream",
     "text": [
      "CMP =  919.1500000000001\n",
      "Shares Sold\n",
      "Average Predicted =  909.2289\n"
     ]
    },
    {
     "name": "stderr",
     "output_type": "stream",
     "text": [
      "  6%|████▋                                                                      | 4570/74060 [04:37<1:03:15, 18.31it/s]"
     ]
    },
    {
     "name": "stdout",
     "output_type": "stream",
     "text": [
      "CMP =  943.0\n",
      "Shares Bought =  10.0\n",
      "Average Predicted =  953.4679\n",
      "Could have Bought\n",
      "Could have Bought\n",
      "Could have Bought\n"
     ]
    },
    {
     "name": "stderr",
     "output_type": "stream",
     "text": [
      "  6%|████▋                                                                      | 4574/74060 [04:38<1:02:52, 18.42it/s]"
     ]
    },
    {
     "name": "stdout",
     "output_type": "stream",
     "text": [
      "Could have Bought\n",
      "Could have Bought\n"
     ]
    },
    {
     "name": "stderr",
     "output_type": "stream",
     "text": [
      "  6%|████▋                                                                      | 4626/74060 [04:40<1:03:06, 18.34it/s]"
     ]
    },
    {
     "name": "stdout",
     "output_type": "stream",
     "text": [
      "Could have Bought\n",
      "Could have Bought\n"
     ]
    },
    {
     "name": "stderr",
     "output_type": "stream",
     "text": [
      "  6%|████▋                                                                      | 4648/74060 [04:42<1:04:43, 17.87it/s]"
     ]
    },
    {
     "name": "stdout",
     "output_type": "stream",
     "text": [
      "Could have Bought\n",
      "Could have Bought\n",
      "Could have Bought\n"
     ]
    },
    {
     "name": "stderr",
     "output_type": "stream",
     "text": [
      "  6%|████▋                                                                      | 4652/74060 [04:42<1:05:56, 17.54it/s]"
     ]
    },
    {
     "name": "stdout",
     "output_type": "stream",
     "text": [
      "Could have Bought\n",
      "Could have Bought\n"
     ]
    },
    {
     "name": "stderr",
     "output_type": "stream",
     "text": [
      "  6%|████▋                                                                      | 4658/74060 [04:42<1:07:16, 17.19it/s]"
     ]
    },
    {
     "name": "stdout",
     "output_type": "stream",
     "text": [
      "Could have Bought\n"
     ]
    },
    {
     "name": "stderr",
     "output_type": "stream",
     "text": [
      "  6%|████▋                                                                      | 4668/74060 [04:43<1:09:37, 16.61it/s]"
     ]
    },
    {
     "name": "stdout",
     "output_type": "stream",
     "text": [
      "CMP =  958.0000000000001\n",
      "Shares Sold\n",
      "Average Predicted =  948.241\n",
      "Could have Sold\n"
     ]
    },
    {
     "name": "stderr",
     "output_type": "stream",
     "text": [
      "  6%|████▋                                                                      | 4674/74060 [04:43<1:08:35, 16.86it/s]"
     ]
    },
    {
     "name": "stdout",
     "output_type": "stream",
     "text": [
      "CMP =  940.4\n",
      "Shares Bought =  10.0\n",
      "Average Predicted =  951.96533\n"
     ]
    },
    {
     "name": "stderr",
     "output_type": "stream",
     "text": [
      "  6%|████▊                                                                      | 4696/74060 [04:45<1:08:05, 16.98it/s]"
     ]
    },
    {
     "name": "stdout",
     "output_type": "stream",
     "text": [
      "Could have Bought\n",
      "Could have Bought\n",
      "Could have Bought\n"
     ]
    },
    {
     "name": "stderr",
     "output_type": "stream",
     "text": [
      "  6%|████▊                                                                      | 4700/74060 [04:45<1:11:29, 16.17it/s]"
     ]
    },
    {
     "name": "stdout",
     "output_type": "stream",
     "text": [
      "Could have Bought\n",
      "Could have Bought\n"
     ]
    },
    {
     "name": "stderr",
     "output_type": "stream",
     "text": [
      "  6%|████▊                                                                      | 4732/74060 [04:47<1:19:07, 14.60it/s]"
     ]
    },
    {
     "name": "stdout",
     "output_type": "stream",
     "text": [
      "Could have Bought\n",
      "Could have Bought\n",
      "Could have Bought\n",
      "Could have Bought\n"
     ]
    },
    {
     "name": "stderr",
     "output_type": "stream",
     "text": [
      "  6%|████▊                                                                      | 4736/74060 [04:47<1:19:20, 14.56it/s]"
     ]
    },
    {
     "name": "stdout",
     "output_type": "stream",
     "text": [
      "Could have Bought\n",
      "Could have Bought\n",
      "Could have Bought\n",
      "Could have Bought\n"
     ]
    },
    {
     "name": "stderr",
     "output_type": "stream",
     "text": [
      "  6%|████▊                                                                      | 4748/74060 [04:48<1:23:28, 13.84it/s]"
     ]
    },
    {
     "name": "stdout",
     "output_type": "stream",
     "text": [
      "Could have Bought\n",
      "Could have Bought\n",
      "Could have Bought\n"
     ]
    },
    {
     "name": "stderr",
     "output_type": "stream",
     "text": [
      "  6%|████▊                                                                      | 4752/74060 [04:48<1:14:19, 15.54it/s]"
     ]
    },
    {
     "name": "stdout",
     "output_type": "stream",
     "text": [
      "Could have Bought\n",
      "Could have Bought\n",
      "Could have Bought\n",
      "Could have Bought\n"
     ]
    },
    {
     "name": "stderr",
     "output_type": "stream",
     "text": [
      "  6%|████▊                                                                      | 4756/74060 [04:49<1:10:23, 16.41it/s]"
     ]
    },
    {
     "name": "stdout",
     "output_type": "stream",
     "text": [
      "Could have Bought\n",
      "Could have Bought\n",
      "Could have Bought\n",
      "Could have Bought\n"
     ]
    },
    {
     "name": "stderr",
     "output_type": "stream",
     "text": [
      "  6%|████▊                                                                      | 4760/74060 [04:49<1:09:53, 16.53it/s]"
     ]
    },
    {
     "name": "stdout",
     "output_type": "stream",
     "text": [
      "Could have Bought\n",
      "Could have Bought\n",
      "Could have Bought\n",
      "Could have Bought\n"
     ]
    },
    {
     "name": "stderr",
     "output_type": "stream",
     "text": [
      "  6%|████▊                                                                      | 4764/74060 [04:49<1:08:18, 16.91it/s]"
     ]
    },
    {
     "name": "stdout",
     "output_type": "stream",
     "text": [
      "Could have Bought\n",
      "Could have Bought\n",
      "Could have Bought\n",
      "Could have Bought\n"
     ]
    },
    {
     "name": "stderr",
     "output_type": "stream",
     "text": [
      "  6%|████▊                                                                      | 4768/74060 [04:49<1:07:02, 17.22it/s]"
     ]
    },
    {
     "name": "stdout",
     "output_type": "stream",
     "text": [
      "Could have Bought\n",
      "Could have Bought\n",
      "Could have Bought\n"
     ]
    },
    {
     "name": "stderr",
     "output_type": "stream",
     "text": [
      "  6%|████▊                                                                      | 4774/74060 [04:50<1:06:52, 17.27it/s]"
     ]
    },
    {
     "name": "stdout",
     "output_type": "stream",
     "text": [
      "Could have Bought\n",
      "Could have Bought\n",
      "Could have Bought\n",
      "Could have Bought\n"
     ]
    },
    {
     "name": "stderr",
     "output_type": "stream",
     "text": [
      "  6%|████▊                                                                      | 4778/74060 [04:50<1:06:57, 17.24it/s]"
     ]
    },
    {
     "name": "stdout",
     "output_type": "stream",
     "text": [
      "Could have Bought\n",
      "Could have Bought\n"
     ]
    },
    {
     "name": "stderr",
     "output_type": "stream",
     "text": [
      "  7%|████▉                                                                      | 4860/74060 [04:55<1:07:38, 17.05it/s]"
     ]
    },
    {
     "name": "stdout",
     "output_type": "stream",
     "text": [
      "Could have Bought\n",
      "Could have Bought\n"
     ]
    },
    {
     "name": "stderr",
     "output_type": "stream",
     "text": [
      "  7%|████▉                                                                      | 4866/74060 [04:55<1:07:35, 17.06it/s]"
     ]
    },
    {
     "name": "stdout",
     "output_type": "stream",
     "text": [
      "Could have Bought\n",
      "Could have Bought\n",
      "Could have Bought\n"
     ]
    },
    {
     "name": "stderr",
     "output_type": "stream",
     "text": [
      "  7%|█████                                                                      | 4946/74060 [05:00<1:07:44, 17.00it/s]"
     ]
    },
    {
     "name": "stdout",
     "output_type": "stream",
     "text": [
      "Could have Bought\n",
      "Could have Bought\n",
      "Could have Bought\n",
      "Could have Bought\n"
     ]
    },
    {
     "name": "stderr",
     "output_type": "stream",
     "text": [
      "  7%|█████                                                                      | 4950/74060 [05:00<1:08:01, 16.93it/s]"
     ]
    },
    {
     "name": "stdout",
     "output_type": "stream",
     "text": [
      "Could have Bought\n",
      "Could have Bought\n",
      "Could have Bought\n",
      "Could have Bought\n"
     ]
    },
    {
     "name": "stderr",
     "output_type": "stream",
     "text": [
      "  7%|█████                                                                      | 4954/74060 [05:00<1:07:24, 17.09it/s]"
     ]
    },
    {
     "name": "stdout",
     "output_type": "stream",
     "text": [
      "Could have Bought\n",
      "Could have Bought\n",
      "Could have Bought\n",
      "Could have Bought\n"
     ]
    },
    {
     "name": "stderr",
     "output_type": "stream",
     "text": [
      "  7%|█████                                                                      | 4958/74060 [05:00<1:07:35, 17.04it/s]"
     ]
    },
    {
     "name": "stdout",
     "output_type": "stream",
     "text": [
      "Could have Bought\n",
      "Could have Bought\n",
      "Could have Bought\n",
      "Could have Bought\n"
     ]
    },
    {
     "name": "stderr",
     "output_type": "stream",
     "text": [
      "  7%|█████                                                                      | 4962/74060 [05:01<1:06:38, 17.28it/s]"
     ]
    },
    {
     "name": "stdout",
     "output_type": "stream",
     "text": [
      "Could have Bought\n",
      "Could have Bought\n",
      "Could have Bought\n",
      "Could have Bought\n"
     ]
    },
    {
     "name": "stderr",
     "output_type": "stream",
     "text": [
      "  7%|█████                                                                      | 4966/74060 [05:01<1:06:18, 17.37it/s]"
     ]
    },
    {
     "name": "stdout",
     "output_type": "stream",
     "text": [
      "Could have Bought\n",
      "Could have Bought\n"
     ]
    },
    {
     "name": "stderr",
     "output_type": "stream",
     "text": [
      "  7%|█████                                                                      | 4970/74060 [05:01<1:05:48, 17.50it/s]"
     ]
    },
    {
     "name": "stdout",
     "output_type": "stream",
     "text": [
      "Could have Bought\n"
     ]
    },
    {
     "name": "stderr",
     "output_type": "stream",
     "text": [
      "  7%|█████                                                                      | 4984/74060 [05:02<1:05:28, 17.58it/s]"
     ]
    },
    {
     "name": "stdout",
     "output_type": "stream",
     "text": [
      "Condition 3\n",
      "CMP =  918.55\n",
      "Shares Sold\n",
      "Average Predicted =  907.0497\n"
     ]
    },
    {
     "name": "stderr",
     "output_type": "stream",
     "text": [
      "  7%|█████                                                                      | 5028/74060 [05:04<1:04:35, 17.81it/s]"
     ]
    },
    {
     "name": "stdout",
     "output_type": "stream",
     "text": [
      "Could have Sold\n",
      "Could have Sold\n",
      "Could have Sold\n"
     ]
    },
    {
     "name": "stderr",
     "output_type": "stream",
     "text": [
      "  7%|█████                                                                      | 5032/74060 [05:05<1:05:11, 17.65it/s]"
     ]
    },
    {
     "name": "stdout",
     "output_type": "stream",
     "text": [
      "Could have Sold\n",
      "Could have Sold\n",
      "Could have Sold\n",
      "Could have Sold\n"
     ]
    },
    {
     "name": "stderr",
     "output_type": "stream",
     "text": [
      "  7%|█████                                                                      | 5042/74060 [05:05<1:05:17, 17.62it/s]"
     ]
    },
    {
     "name": "stdout",
     "output_type": "stream",
     "text": [
      "CMP =  922.4\n",
      "Shares Bought =  10.0\n",
      "Average Predicted =  931.9376\n",
      "Could have Bought\n"
     ]
    },
    {
     "name": "stderr",
     "output_type": "stream",
     "text": [
      "  7%|█████▏                                                                     | 5134/74060 [05:10<1:08:17, 16.82it/s]"
     ]
    },
    {
     "name": "stdout",
     "output_type": "stream",
     "text": [
      "Could have Bought\n"
     ]
    },
    {
     "name": "stderr",
     "output_type": "stream",
     "text": [
      "  7%|█████▎                                                                     | 5188/74060 [05:13<1:05:59, 17.39it/s]"
     ]
    },
    {
     "name": "stdout",
     "output_type": "stream",
     "text": [
      "CMP =  985.0\n",
      "Shares Sold\n",
      "Average Predicted =  973.6307\n"
     ]
    },
    {
     "name": "stderr",
     "output_type": "stream",
     "text": [
      "  7%|█████▎                                                                     | 5200/74060 [05:14<1:04:49, 17.71it/s]"
     ]
    },
    {
     "name": "stdout",
     "output_type": "stream",
     "text": [
      "CMP =  974.9999999999999\n",
      "Shares Bought =  10.0\n",
      "Average Predicted =  984.98224\n"
     ]
    },
    {
     "name": "stderr",
     "output_type": "stream",
     "text": [
      "  7%|█████▎                                                                     | 5232/74060 [05:16<1:06:03, 17.37it/s]"
     ]
    },
    {
     "name": "stdout",
     "output_type": "stream",
     "text": [
      "Could have Bought\n",
      "Could have Bought\n"
     ]
    },
    {
     "name": "stderr",
     "output_type": "stream",
     "text": [
      "  7%|█████▎                                                                     | 5242/74060 [05:16<1:05:27, 17.52it/s]"
     ]
    },
    {
     "name": "stdout",
     "output_type": "stream",
     "text": [
      "Could have Bought\n"
     ]
    },
    {
     "name": "stderr",
     "output_type": "stream",
     "text": [
      "  7%|█████▎                                                                     | 5264/74060 [05:18<1:06:30, 17.24it/s]"
     ]
    },
    {
     "name": "stdout",
     "output_type": "stream",
     "text": [
      "Could have Bought\n"
     ]
    },
    {
     "name": "stderr",
     "output_type": "stream",
     "text": [
      "  7%|█████▎                                                                     | 5270/74060 [05:18<1:04:10, 17.87it/s]"
     ]
    },
    {
     "name": "stdout",
     "output_type": "stream",
     "text": [
      "Could have Bought\n",
      "Could have Bought\n",
      "Could have Bought\n",
      "Could have Bought\n"
     ]
    },
    {
     "name": "stderr",
     "output_type": "stream",
     "text": [
      "  7%|█████▎                                                                     | 5274/74060 [05:18<1:04:18, 17.83it/s]"
     ]
    },
    {
     "name": "stdout",
     "output_type": "stream",
     "text": [
      "Could have Bought\n",
      "Could have Bought\n",
      "Could have Bought\n"
     ]
    },
    {
     "name": "stderr",
     "output_type": "stream",
     "text": [
      "  7%|█████▎                                                                     | 5278/74060 [05:19<1:04:14, 17.85it/s]"
     ]
    },
    {
     "name": "stdout",
     "output_type": "stream",
     "text": [
      "Could have Bought\n",
      "Could have Bought\n",
      "Could have Bought\n",
      "Could have Bought\n"
     ]
    },
    {
     "name": "stderr",
     "output_type": "stream",
     "text": [
      "  7%|█████▎                                                                     | 5286/74060 [05:19<1:05:55, 17.39it/s]"
     ]
    },
    {
     "name": "stdout",
     "output_type": "stream",
     "text": [
      "Could have Bought\n",
      "Could have Bought\n",
      "Could have Bought\n"
     ]
    },
    {
     "name": "stderr",
     "output_type": "stream",
     "text": [
      "  7%|█████▍                                                                     | 5338/74060 [05:22<1:09:45, 16.42it/s]"
     ]
    },
    {
     "name": "stdout",
     "output_type": "stream",
     "text": [
      "Could have Bought\n",
      "Could have Bought\n",
      "Could have Bought\n"
     ]
    },
    {
     "name": "stderr",
     "output_type": "stream",
     "text": [
      "  7%|█████▍                                                                     | 5396/74060 [05:25<1:06:08, 17.30it/s]"
     ]
    },
    {
     "name": "stdout",
     "output_type": "stream",
     "text": [
      "CMP =  1025.4\n",
      "Shares Sold\n",
      "Average Predicted =  1009.40625\n",
      "Could have Sold\n"
     ]
    },
    {
     "name": "stderr",
     "output_type": "stream",
     "text": [
      "  7%|█████▍                                                                     | 5404/74060 [05:26<1:05:29, 17.47it/s]"
     ]
    },
    {
     "name": "stdout",
     "output_type": "stream",
     "text": [
      "CMP =  996.8\n",
      "Shares Bought =  10.0\n",
      "Average Predicted =  1017.478\n",
      "Could have Bought\n",
      "Could have Bought\n",
      "Could have Bought\n"
     ]
    },
    {
     "name": "stderr",
     "output_type": "stream",
     "text": [
      "  7%|█████▍                                                                     | 5408/74060 [05:26<1:06:48, 17.13it/s]"
     ]
    },
    {
     "name": "stdout",
     "output_type": "stream",
     "text": [
      "Could have Bought\n",
      "Could have Bought\n",
      "Could have Bought\n",
      "Could have Bought\n"
     ]
    },
    {
     "name": "stderr",
     "output_type": "stream",
     "text": [
      "  7%|█████▍                                                                     | 5412/74060 [05:26<1:06:27, 17.21it/s]"
     ]
    },
    {
     "name": "stdout",
     "output_type": "stream",
     "text": [
      "Could have Bought\n",
      "Could have Bought\n",
      "Could have Bought\n",
      "Could have Bought\n"
     ]
    },
    {
     "name": "stderr",
     "output_type": "stream",
     "text": [
      "  7%|█████▍                                                                     | 5416/74060 [05:27<1:07:14, 17.02it/s]"
     ]
    },
    {
     "name": "stdout",
     "output_type": "stream",
     "text": [
      "Could have Bought\n",
      "Could have Bought\n",
      "Could have Bought\n",
      "Could have Bought\n"
     ]
    },
    {
     "name": "stderr",
     "output_type": "stream",
     "text": [
      "  7%|█████▍                                                                     | 5420/74060 [05:27<1:06:19, 17.25it/s]"
     ]
    },
    {
     "name": "stdout",
     "output_type": "stream",
     "text": [
      "Could have Bought\n",
      "Could have Bought\n",
      "Could have Bought\n",
      "Could have Bought\n"
     ]
    },
    {
     "name": "stderr",
     "output_type": "stream",
     "text": [
      "  7%|█████▍                                                                     | 5424/74060 [05:27<1:05:30, 17.46it/s]"
     ]
    },
    {
     "name": "stdout",
     "output_type": "stream",
     "text": [
      "Could have Bought\n",
      "Could have Bought\n",
      "Could have Bought\n",
      "Could have Bought\n"
     ]
    },
    {
     "name": "stderr",
     "output_type": "stream",
     "text": [
      "  7%|█████▍                                                                     | 5428/74060 [05:27<1:06:12, 17.28it/s]"
     ]
    },
    {
     "name": "stdout",
     "output_type": "stream",
     "text": [
      "Could have Bought\n",
      "Could have Bought\n",
      "Could have Bought\n",
      "Could have Bought\n"
     ]
    },
    {
     "name": "stderr",
     "output_type": "stream",
     "text": [
      "  7%|█████▌                                                                     | 5432/74060 [05:28<1:05:44, 17.40it/s]"
     ]
    },
    {
     "name": "stdout",
     "output_type": "stream",
     "text": [
      "Could have Bought\n",
      "Could have Bought\n",
      "Could have Bought\n",
      "Could have Bought\n"
     ]
    },
    {
     "name": "stderr",
     "output_type": "stream",
     "text": [
      "  7%|█████▌                                                                     | 5436/74060 [05:28<1:05:52, 17.36it/s]"
     ]
    },
    {
     "name": "stdout",
     "output_type": "stream",
     "text": [
      "Could have Bought\n",
      "Could have Bought\n",
      "Could have Bought\n",
      "Could have Bought\n"
     ]
    },
    {
     "name": "stderr",
     "output_type": "stream",
     "text": [
      "  7%|█████▌                                                                     | 5440/74060 [05:28<1:05:30, 17.46it/s]"
     ]
    },
    {
     "name": "stdout",
     "output_type": "stream",
     "text": [
      "Could have Bought\n",
      "Could have Bought\n",
      "Could have Bought\n"
     ]
    },
    {
     "name": "stderr",
     "output_type": "stream",
     "text": [
      "  7%|█████▌                                                                     | 5444/74060 [05:28<1:06:29, 17.20it/s]"
     ]
    },
    {
     "name": "stdout",
     "output_type": "stream",
     "text": [
      "Could have Bought\n",
      "Could have Bought\n",
      "Could have Bought\n",
      "Could have Bought\n"
     ]
    },
    {
     "name": "stderr",
     "output_type": "stream",
     "text": [
      "  7%|█████▌                                                                     | 5448/74060 [05:29<1:06:45, 17.13it/s]"
     ]
    },
    {
     "name": "stdout",
     "output_type": "stream",
     "text": [
      "Could have Bought\n",
      "Could have Bought\n",
      "Could have Bought\n",
      "Could have Bought\n"
     ]
    },
    {
     "name": "stderr",
     "output_type": "stream",
     "text": [
      "  7%|█████▌                                                                     | 5452/74060 [05:29<1:06:21, 17.23it/s]"
     ]
    },
    {
     "name": "stdout",
     "output_type": "stream",
     "text": [
      "Could have Bought\n"
     ]
    },
    {
     "name": "stderr",
     "output_type": "stream",
     "text": [
      "  7%|█████▌                                                                     | 5468/74060 [05:30<1:05:48, 17.37it/s]"
     ]
    },
    {
     "name": "stdout",
     "output_type": "stream",
     "text": [
      "Could have Bought\n",
      "Could have Bought\n",
      "Could have Bought\n"
     ]
    },
    {
     "name": "stderr",
     "output_type": "stream",
     "text": [
      "  7%|█████▌                                                                     | 5472/74060 [05:30<1:05:28, 17.46it/s]"
     ]
    },
    {
     "name": "stdout",
     "output_type": "stream",
     "text": [
      "Could have Bought\n"
     ]
    },
    {
     "name": "stderr",
     "output_type": "stream",
     "text": [
      "  7%|█████▌                                                                     | 5490/74060 [05:31<1:05:48, 17.37it/s]"
     ]
    },
    {
     "name": "stdout",
     "output_type": "stream",
     "text": [
      "Condition 3\n",
      "CMP =  973.9999999999999\n",
      "Shares Sold\n",
      "Average Predicted =  960.8125\n",
      "Could have Sold\n"
     ]
    },
    {
     "name": "stderr",
     "output_type": "stream",
     "text": [
      "  7%|█████▌                                                                     | 5508/74060 [05:32<1:13:09, 15.62it/s]"
     ]
    },
    {
     "name": "stdout",
     "output_type": "stream",
     "text": [
      "CMP =  962.2\n",
      "Shares Bought =  10.0\n",
      "Average Predicted =  973.342\n",
      "Could have Bought\n",
      "Could have Bought\n"
     ]
    },
    {
     "name": "stderr",
     "output_type": "stream",
     "text": [
      "  7%|█████▌                                                                     | 5512/74060 [05:32<1:13:13, 15.60it/s]"
     ]
    },
    {
     "name": "stdout",
     "output_type": "stream",
     "text": [
      "Could have Bought\n",
      "Could have Bought\n",
      "Could have Bought\n"
     ]
    },
    {
     "name": "stderr",
     "output_type": "stream",
     "text": [
      "  7%|█████▌                                                                     | 5516/74060 [05:33<1:14:49, 15.27it/s]"
     ]
    },
    {
     "name": "stdout",
     "output_type": "stream",
     "text": [
      "Could have Bought\n"
     ]
    },
    {
     "name": "stderr",
     "output_type": "stream",
     "text": [
      "  8%|█████▋                                                                     | 5594/74060 [05:38<1:09:57, 16.31it/s]"
     ]
    },
    {
     "name": "stdout",
     "output_type": "stream",
     "text": [
      "Could have Bought\n",
      "Could have Bought\n",
      "Could have Bought\n",
      "Could have Bought\n"
     ]
    },
    {
     "name": "stderr",
     "output_type": "stream",
     "text": [
      "  8%|█████▋                                                                     | 5598/74060 [05:38<1:12:00, 15.84it/s]"
     ]
    },
    {
     "name": "stdout",
     "output_type": "stream",
     "text": [
      "Could have Bought\n",
      "Could have Bought\n",
      "Could have Bought\n",
      "Could have Bought\n"
     ]
    },
    {
     "name": "stderr",
     "output_type": "stream",
     "text": [
      "  8%|█████▋                                                                     | 5602/74060 [05:38<1:11:46, 15.90it/s]"
     ]
    },
    {
     "name": "stdout",
     "output_type": "stream",
     "text": [
      "Could have Bought\n"
     ]
    },
    {
     "name": "stderr",
     "output_type": "stream",
     "text": [
      "  8%|█████▋                                                                     | 5638/74060 [05:40<1:12:36, 15.71it/s]"
     ]
    },
    {
     "name": "stdout",
     "output_type": "stream",
     "text": [
      "Could have Bought\n",
      "Could have Bought\n",
      "Could have Bought\n"
     ]
    },
    {
     "name": "stderr",
     "output_type": "stream",
     "text": [
      "  8%|█████▋                                                                     | 5664/74060 [05:42<1:09:45, 16.34it/s]"
     ]
    },
    {
     "name": "stdout",
     "output_type": "stream",
     "text": [
      "Could have Bought\n"
     ]
    },
    {
     "name": "stderr",
     "output_type": "stream",
     "text": [
      "  8%|█████▊                                                                     | 5748/74060 [05:47<1:12:15, 15.76it/s]"
     ]
    },
    {
     "name": "stdout",
     "output_type": "stream",
     "text": [
      "Could have Bought\n",
      "Could have Bought\n"
     ]
    },
    {
     "name": "stderr",
     "output_type": "stream",
     "text": [
      "  8%|█████▊                                                                     | 5778/74060 [05:49<1:12:53, 15.61it/s]"
     ]
    },
    {
     "name": "stdout",
     "output_type": "stream",
     "text": [
      "CMP =  990.0\n",
      "Shares Sold\n",
      "Average Predicted =  973.27405\n",
      "Could have Sold\n"
     ]
    },
    {
     "name": "stderr",
     "output_type": "stream",
     "text": [
      "  8%|█████▊                                                                     | 5790/74060 [05:50<1:11:36, 15.89it/s]"
     ]
    },
    {
     "name": "stdout",
     "output_type": "stream",
     "text": [
      "CMP =  967.0\n",
      "Shares Bought =  11.0\n",
      "Average Predicted =  979.0199\n",
      "Could have Bought\n",
      "Could have Bought\n",
      "Could have Bought\n"
     ]
    },
    {
     "name": "stderr",
     "output_type": "stream",
     "text": [
      "  8%|█████▊                                                                     | 5794/74060 [05:50<1:11:08, 15.99it/s]"
     ]
    },
    {
     "name": "stdout",
     "output_type": "stream",
     "text": [
      "Could have Bought\n",
      "Could have Bought\n",
      "Could have Bought\n"
     ]
    },
    {
     "name": "stderr",
     "output_type": "stream",
     "text": [
      "  8%|█████▊                                                                     | 5798/74060 [05:50<1:12:22, 15.72it/s]"
     ]
    },
    {
     "name": "stdout",
     "output_type": "stream",
     "text": [
      "Could have Bought\n"
     ]
    },
    {
     "name": "stderr",
     "output_type": "stream",
     "text": [
      "  8%|█████▉                                                                     | 5914/74060 [05:58<1:01:37, 18.43it/s]"
     ]
    },
    {
     "name": "stdout",
     "output_type": "stream",
     "text": [
      "Could have Bought\n"
     ]
    },
    {
     "name": "stderr",
     "output_type": "stream",
     "text": [
      "  8%|██████                                                                     | 6020/74060 [06:04<1:10:02, 16.19it/s]"
     ]
    },
    {
     "name": "stdout",
     "output_type": "stream",
     "text": [
      "Could have Bought\n",
      "Could have Bought\n",
      "Could have Bought\n"
     ]
    },
    {
     "name": "stderr",
     "output_type": "stream",
     "text": [
      "  8%|██████                                                                     | 6026/74060 [06:04<1:10:57, 15.98it/s]"
     ]
    },
    {
     "name": "stdout",
     "output_type": "stream",
     "text": [
      "Could have Bought\n",
      "Could have Bought\n"
     ]
    },
    {
     "name": "stderr",
     "output_type": "stream",
     "text": [
      "  8%|██████▏                                                                    | 6080/74060 [06:08<1:11:30, 15.84it/s]"
     ]
    },
    {
     "name": "stdout",
     "output_type": "stream",
     "text": [
      "Could have Bought\n",
      "Could have Bought\n",
      "Could have Bought\n",
      "Could have Bought\n"
     ]
    },
    {
     "name": "stderr",
     "output_type": "stream",
     "text": [
      "  8%|██████▏                                                                    | 6084/74060 [06:08<1:11:43, 15.80it/s]"
     ]
    },
    {
     "name": "stdout",
     "output_type": "stream",
     "text": [
      "Could have Bought\n",
      "Could have Bought\n"
     ]
    },
    {
     "name": "stderr",
     "output_type": "stream",
     "text": [
      "  8%|██████▏                                                                    | 6124/74060 [06:10<1:09:52, 16.20it/s]"
     ]
    },
    {
     "name": "stdout",
     "output_type": "stream",
     "text": [
      "Could have Bought\n",
      "Could have Bought\n",
      "Could have Bought\n",
      "Could have Bought\n"
     ]
    },
    {
     "name": "stderr",
     "output_type": "stream",
     "text": [
      "  8%|██████▏                                                                    | 6128/74060 [06:11<1:09:23, 16.31it/s]"
     ]
    },
    {
     "name": "stdout",
     "output_type": "stream",
     "text": [
      "Could have Bought\n",
      "Could have Bought\n",
      "Could have Bought\n"
     ]
    },
    {
     "name": "stderr",
     "output_type": "stream",
     "text": [
      "  8%|██████▏                                                                    | 6132/74060 [06:11<1:09:25, 16.31it/s]"
     ]
    },
    {
     "name": "stdout",
     "output_type": "stream",
     "text": [
      "Could have Bought\n",
      "Could have Bought\n",
      "Could have Bought\n"
     ]
    },
    {
     "name": "stderr",
     "output_type": "stream",
     "text": [
      "  8%|██████▏                                                                    | 6136/74060 [06:11<1:09:52, 16.20it/s]"
     ]
    },
    {
     "name": "stdout",
     "output_type": "stream",
     "text": [
      "Could have Bought\n",
      "Could have Bought\n",
      "Could have Bought\n",
      "Could have Bought\n"
     ]
    },
    {
     "name": "stderr",
     "output_type": "stream",
     "text": [
      "  8%|██████▏                                                                    | 6140/74060 [06:11<1:09:42, 16.24it/s]"
     ]
    },
    {
     "name": "stdout",
     "output_type": "stream",
     "text": [
      "Could have Bought\n",
      "Could have Bought\n"
     ]
    },
    {
     "name": "stderr",
     "output_type": "stream",
     "text": [
      "  8%|██████▏                                                                    | 6146/74060 [06:12<1:10:12, 16.12it/s]"
     ]
    },
    {
     "name": "stdout",
     "output_type": "stream",
     "text": [
      "Could have Bought\n",
      "Could have Bought\n",
      "Could have Bought\n",
      "Could have Bought\n"
     ]
    },
    {
     "name": "stderr",
     "output_type": "stream",
     "text": [
      "  8%|██████▏                                                                    | 6150/74060 [06:12<1:10:41, 16.01it/s]"
     ]
    },
    {
     "name": "stdout",
     "output_type": "stream",
     "text": [
      "Could have Bought\n",
      "Could have Bought\n",
      "Could have Bought\n",
      "Could have Bought\n"
     ]
    },
    {
     "name": "stderr",
     "output_type": "stream",
     "text": [
      "  8%|██████▏                                                                    | 6154/74060 [06:12<1:12:01, 15.71it/s]"
     ]
    },
    {
     "name": "stdout",
     "output_type": "stream",
     "text": [
      "Could have Bought\n",
      "Could have Bought\n",
      "Could have Bought\n",
      "Could have Bought\n"
     ]
    },
    {
     "name": "stderr",
     "output_type": "stream",
     "text": [
      "  8%|██████▏                                                                    | 6158/74060 [06:13<1:11:29, 15.83it/s]"
     ]
    },
    {
     "name": "stdout",
     "output_type": "stream",
     "text": [
      "Could have Bought\n",
      "Could have Bought\n",
      "Could have Bought\n",
      "Could have Bought\n"
     ]
    },
    {
     "name": "stderr",
     "output_type": "stream",
     "text": [
      "  8%|██████▏                                                                    | 6162/74060 [06:13<1:11:55, 15.74it/s]"
     ]
    },
    {
     "name": "stdout",
     "output_type": "stream",
     "text": [
      "Could have Bought\n",
      "Could have Bought\n",
      "Could have Bought\n",
      "Could have Bought\n"
     ]
    },
    {
     "name": "stderr",
     "output_type": "stream",
     "text": [
      "  8%|██████▎                                                                    | 6236/74060 [06:17<1:10:51, 15.95it/s]"
     ]
    },
    {
     "name": "stdout",
     "output_type": "stream",
     "text": [
      "Could have Bought\n"
     ]
    },
    {
     "name": "stderr",
     "output_type": "stream",
     "text": [
      "  8%|██████▎                                                                    | 6294/74060 [06:21<1:08:30, 16.49it/s]"
     ]
    },
    {
     "name": "stdout",
     "output_type": "stream",
     "text": [
      "Could have Bought\n",
      "Could have Bought\n",
      "Could have Bought\n",
      "Could have Bought\n"
     ]
    },
    {
     "name": "stderr",
     "output_type": "stream",
     "text": [
      "  9%|██████▍                                                                    | 6298/74060 [06:21<1:09:10, 16.32it/s]"
     ]
    },
    {
     "name": "stdout",
     "output_type": "stream",
     "text": [
      "Could have Bought\n",
      "Could have Bought\n",
      "Could have Bought\n"
     ]
    },
    {
     "name": "stderr",
     "output_type": "stream",
     "text": [
      "  9%|██████▌                                                                    | 6528/74060 [06:36<1:13:37, 15.29it/s]"
     ]
    },
    {
     "name": "stdout",
     "output_type": "stream",
     "text": [
      "CMP =  1011.3\n",
      "Shares Sold\n",
      "Average Predicted =  993.6544\n",
      "Could have Sold\n",
      "Could have Sold\n"
     ]
    },
    {
     "name": "stderr",
     "output_type": "stream",
     "text": [
      "  9%|██████▋                                                                    | 6546/74060 [06:37<1:10:41, 15.92it/s]"
     ]
    },
    {
     "name": "stdout",
     "output_type": "stream",
     "text": [
      "CMP =  996.8\n",
      "Shares Bought =  11.0\n",
      "Average Predicted =  1010.43243\n",
      "Could have Bought\n",
      "Could have Bought\n",
      "Could have Bought\n"
     ]
    },
    {
     "name": "stderr",
     "output_type": "stream",
     "text": [
      "  9%|██████▋                                                                    | 6550/74060 [06:37<1:12:53, 15.44it/s]"
     ]
    },
    {
     "name": "stdout",
     "output_type": "stream",
     "text": [
      "Could have Bought\n",
      "Could have Bought\n",
      "Could have Bought\n",
      "Could have Bought\n"
     ]
    },
    {
     "name": "stderr",
     "output_type": "stream",
     "text": [
      "  9%|██████▋                                                                    | 6556/74060 [06:38<1:12:21, 15.55it/s]"
     ]
    },
    {
     "name": "stdout",
     "output_type": "stream",
     "text": [
      "Could have Bought\n",
      "Could have Bought\n",
      "Could have Bought\n"
     ]
    },
    {
     "name": "stderr",
     "output_type": "stream",
     "text": [
      "  9%|██████▋                                                                    | 6564/74060 [06:38<1:11:48, 15.67it/s]"
     ]
    },
    {
     "name": "stdout",
     "output_type": "stream",
     "text": [
      "Could have Bought\n",
      "Could have Bought\n"
     ]
    },
    {
     "name": "stderr",
     "output_type": "stream",
     "text": [
      "  9%|██████▋                                                                    | 6568/74060 [06:38<1:11:00, 15.84it/s]"
     ]
    },
    {
     "name": "stdout",
     "output_type": "stream",
     "text": [
      "Could have Bought\n",
      "Could have Bought\n",
      "Could have Bought\n",
      "Could have Bought\n"
     ]
    },
    {
     "name": "stderr",
     "output_type": "stream",
     "text": [
      "  9%|██████▋                                                                    | 6572/74060 [06:39<1:10:45, 15.90it/s]"
     ]
    },
    {
     "name": "stdout",
     "output_type": "stream",
     "text": [
      "Could have Bought\n",
      "Could have Bought\n",
      "Could have Bought\n",
      "Could have Bought\n"
     ]
    },
    {
     "name": "stderr",
     "output_type": "stream",
     "text": [
      "  9%|██████▋                                                                    | 6576/74060 [06:39<1:10:32, 15.95it/s]"
     ]
    },
    {
     "name": "stdout",
     "output_type": "stream",
     "text": [
      "Could have Bought\n",
      "Could have Bought\n",
      "Could have Bought\n"
     ]
    },
    {
     "name": "stderr",
     "output_type": "stream",
     "text": [
      "  9%|██████▋                                                                    | 6582/74060 [06:39<1:09:31, 16.17it/s]"
     ]
    },
    {
     "name": "stdout",
     "output_type": "stream",
     "text": [
      "Could have Bought\n",
      "Could have Bought\n",
      "Could have Bought\n",
      "Could have Bought\n"
     ]
    },
    {
     "name": "stderr",
     "output_type": "stream",
     "text": [
      "  9%|██████▋                                                                    | 6586/74060 [06:40<1:10:25, 15.97it/s]"
     ]
    },
    {
     "name": "stdout",
     "output_type": "stream",
     "text": [
      "Could have Bought\n",
      "Could have Bought\n"
     ]
    },
    {
     "name": "stderr",
     "output_type": "stream",
     "text": [
      "  9%|██████▋                                                                    | 6606/74060 [06:41<1:12:32, 15.50it/s]"
     ]
    },
    {
     "name": "stdout",
     "output_type": "stream",
     "text": [
      "Could have Bought\n"
     ]
    },
    {
     "name": "stderr",
     "output_type": "stream",
     "text": [
      "  9%|██████▋                                                                    | 6630/74060 [06:42<1:11:31, 15.71it/s]"
     ]
    },
    {
     "name": "stdout",
     "output_type": "stream",
     "text": [
      "Could have Bought\n",
      "Could have Bought\n"
     ]
    },
    {
     "name": "stderr",
     "output_type": "stream",
     "text": [
      "  9%|██████▋                                                                    | 6638/74060 [06:43<1:10:51, 15.86it/s]"
     ]
    },
    {
     "name": "stdout",
     "output_type": "stream",
     "text": [
      "Could have Bought\n",
      "Could have Bought\n",
      "Could have Bought\n"
     ]
    },
    {
     "name": "stderr",
     "output_type": "stream",
     "text": [
      "  9%|██████▋                                                                    | 6646/74060 [06:43<1:10:23, 15.96it/s]"
     ]
    },
    {
     "name": "stdout",
     "output_type": "stream",
     "text": [
      "Could have Bought\n",
      "Could have Bought\n"
     ]
    },
    {
     "name": "stderr",
     "output_type": "stream",
     "text": [
      "  9%|██████▉                                                                    | 6864/74060 [06:57<1:11:47, 15.60it/s]"
     ]
    },
    {
     "name": "stdout",
     "output_type": "stream",
     "text": [
      "Could have Bought\n",
      "Could have Bought\n",
      "Could have Bought\n",
      "Could have Bought\n"
     ]
    },
    {
     "name": "stderr",
     "output_type": "stream",
     "text": [
      "  9%|██████▉                                                                    | 6868/74060 [06:57<1:10:23, 15.91it/s]"
     ]
    },
    {
     "name": "stdout",
     "output_type": "stream",
     "text": [
      "Could have Bought\n",
      "Could have Bought\n",
      "Could have Bought\n",
      "Could have Bought\n"
     ]
    },
    {
     "name": "stderr",
     "output_type": "stream",
     "text": [
      "  9%|██████▉                                                                    | 6872/74060 [06:57<1:10:45, 15.83it/s]"
     ]
    },
    {
     "name": "stdout",
     "output_type": "stream",
     "text": [
      "Could have Bought\n"
     ]
    },
    {
     "name": "stderr",
     "output_type": "stream",
     "text": [
      "  9%|██████▉                                                                    | 6904/74060 [06:59<1:12:49, 15.37it/s]"
     ]
    },
    {
     "name": "stdout",
     "output_type": "stream",
     "text": [
      "Could have Bought\n"
     ]
    },
    {
     "name": "stderr",
     "output_type": "stream",
     "text": [
      "  9%|██████▉                                                                    | 6908/74060 [06:59<1:14:18, 15.06it/s]"
     ]
    },
    {
     "name": "stdout",
     "output_type": "stream",
     "text": [
      "Could have Bought\n",
      "Could have Bought\n"
     ]
    },
    {
     "name": "stderr",
     "output_type": "stream",
     "text": [
      "  9%|███████                                                                    | 6920/74060 [07:00<1:13:51, 15.15it/s]"
     ]
    },
    {
     "name": "stdout",
     "output_type": "stream",
     "text": [
      "Could have Bought\n",
      "Could have Bought\n",
      "Could have Bought\n"
     ]
    },
    {
     "name": "stderr",
     "output_type": "stream",
     "text": [
      "  9%|███████                                                                    | 6924/74060 [07:00<1:14:04, 15.11it/s]"
     ]
    },
    {
     "name": "stdout",
     "output_type": "stream",
     "text": [
      "Could have Bought\n",
      "Could have Bought\n",
      "Could have Bought\n",
      "Could have Bought\n"
     ]
    },
    {
     "name": "stderr",
     "output_type": "stream",
     "text": [
      "  9%|███████                                                                    | 7024/74060 [07:07<1:12:38, 15.38it/s]"
     ]
    },
    {
     "name": "stdout",
     "output_type": "stream",
     "text": [
      "Could have Bought\n",
      "Could have Bought\n"
     ]
    },
    {
     "name": "stderr",
     "output_type": "stream",
     "text": [
      " 10%|███████▎                                                                   | 7278/74060 [07:23<1:11:41, 15.53it/s]"
     ]
    },
    {
     "name": "stdout",
     "output_type": "stream",
     "text": [
      "Could have Bought\n",
      "Could have Bought\n",
      "Could have Bought\n",
      "Could have Bought\n"
     ]
    },
    {
     "name": "stderr",
     "output_type": "stream",
     "text": [
      " 10%|███████▎                                                                   | 7282/74060 [07:23<1:10:29, 15.79it/s]"
     ]
    },
    {
     "name": "stdout",
     "output_type": "stream",
     "text": [
      "Could have Bought\n",
      "Could have Bought\n",
      "Could have Bought\n",
      "Could have Bought\n"
     ]
    },
    {
     "name": "stderr",
     "output_type": "stream",
     "text": [
      " 10%|███████▍                                                                   | 7286/74060 [07:24<1:11:13, 15.63it/s]"
     ]
    },
    {
     "name": "stdout",
     "output_type": "stream",
     "text": [
      "Could have Bought\n",
      "Could have Bought\n",
      "Could have Bought\n",
      "Could have Bought\n"
     ]
    },
    {
     "name": "stderr",
     "output_type": "stream",
     "text": [
      " 10%|███████▍                                                                   | 7290/74060 [07:24<1:09:46, 15.95it/s]"
     ]
    },
    {
     "name": "stdout",
     "output_type": "stream",
     "text": [
      "Could have Bought\n",
      "Could have Bought\n",
      "Could have Bought\n",
      "Could have Bought\n"
     ]
    },
    {
     "name": "stderr",
     "output_type": "stream",
     "text": [
      " 10%|███████▍                                                                   | 7294/74060 [07:24<1:09:43, 15.96it/s]"
     ]
    },
    {
     "name": "stdout",
     "output_type": "stream",
     "text": [
      "Could have Bought\n"
     ]
    },
    {
     "name": "stderr",
     "output_type": "stream",
     "text": [
      " 10%|███████▍                                                                   | 7386/74060 [07:30<1:07:49, 16.39it/s]"
     ]
    },
    {
     "name": "stdout",
     "output_type": "stream",
     "text": [
      "Could have Bought\n",
      "Could have Bought\n",
      "Could have Bought\n",
      "Could have Bought\n"
     ]
    },
    {
     "name": "stderr",
     "output_type": "stream",
     "text": [
      " 10%|███████▍                                                                   | 7390/74060 [07:30<1:08:50, 16.14it/s]"
     ]
    },
    {
     "name": "stdout",
     "output_type": "stream",
     "text": [
      "Could have Bought\n",
      "Could have Bought\n",
      "Could have Bought\n",
      "Could have Bought\n"
     ]
    },
    {
     "name": "stderr",
     "output_type": "stream",
     "text": [
      " 10%|███████▍                                                                   | 7398/74060 [07:31<1:08:28, 16.23it/s]"
     ]
    },
    {
     "name": "stdout",
     "output_type": "stream",
     "text": [
      "Could have Bought\n",
      "Could have Bought\n",
      "Could have Bought\n"
     ]
    },
    {
     "name": "stderr",
     "output_type": "stream",
     "text": [
      " 10%|███████▌                                                                   | 7422/74060 [07:33<1:32:33, 12.00it/s]"
     ]
    },
    {
     "name": "stdout",
     "output_type": "stream",
     "text": [
      "Could have Bought\n",
      "Could have Bought\n",
      "Could have Bought\n"
     ]
    },
    {
     "name": "stderr",
     "output_type": "stream",
     "text": [
      " 10%|███████▋                                                                   | 7618/74060 [07:45<1:08:11, 16.24it/s]"
     ]
    },
    {
     "name": "stdout",
     "output_type": "stream",
     "text": [
      "Could have Bought\n",
      "Could have Bought\n",
      "Could have Bought\n"
     ]
    },
    {
     "name": "stderr",
     "output_type": "stream",
     "text": [
      " 10%|███████▊                                                                   | 7654/74060 [07:48<1:09:19, 15.96it/s]"
     ]
    },
    {
     "name": "stdout",
     "output_type": "stream",
     "text": [
      "Could have Bought\n",
      "Could have Bought\n",
      "Could have Bought\n"
     ]
    },
    {
     "name": "stderr",
     "output_type": "stream",
     "text": [
      " 10%|███████▊                                                                   | 7682/74060 [07:49<1:08:28, 16.15it/s]"
     ]
    },
    {
     "name": "stdout",
     "output_type": "stream",
     "text": [
      "Could have Bought\n",
      "Could have Bought\n"
     ]
    },
    {
     "name": "stderr",
     "output_type": "stream",
     "text": [
      " 11%|███████▉                                                                   | 7786/74060 [07:56<1:08:43, 16.07it/s]"
     ]
    },
    {
     "name": "stdout",
     "output_type": "stream",
     "text": [
      "Could have Bought\n",
      "Could have Bought\n",
      "Could have Bought\n"
     ]
    },
    {
     "name": "stderr",
     "output_type": "stream",
     "text": [
      "\r",
      " 11%|███████▉                                                                   | 7788/74060 [07:56<1:09:24, 15.91it/s]"
     ]
    },
    {
     "name": "stdout",
     "output_type": "stream",
     "text": [
      "Could have Bought\n",
      "Could have Bought\n"
     ]
    },
    {
     "name": "stderr",
     "output_type": "stream",
     "text": [
      " 11%|████████                                                                   | 7910/74060 [08:04<1:08:45, 16.03it/s]"
     ]
    },
    {
     "name": "stdout",
     "output_type": "stream",
     "text": [
      "Could have Bought\n",
      "Could have Bought\n"
     ]
    },
    {
     "name": "stderr",
     "output_type": "stream",
     "text": [
      " 11%|████████                                                                   | 8000/74060 [08:09<1:07:12, 16.38it/s]"
     ]
    },
    {
     "name": "stdout",
     "output_type": "stream",
     "text": [
      "Could have Bought\n"
     ]
    },
    {
     "name": "stderr",
     "output_type": "stream",
     "text": [
      " 11%|████████▏                                                                  | 8028/74060 [08:11<1:05:39, 16.76it/s]"
     ]
    },
    {
     "name": "stdout",
     "output_type": "stream",
     "text": [
      "Could have Bought\n",
      "Could have Bought\n",
      "Could have Bought\n",
      "Could have Bought\n"
     ]
    },
    {
     "name": "stderr",
     "output_type": "stream",
     "text": [
      " 11%|████████▏                                                                  | 8032/74060 [08:11<1:05:33, 16.79it/s]"
     ]
    },
    {
     "name": "stdout",
     "output_type": "stream",
     "text": [
      "Could have Bought\n",
      "Could have Bought\n",
      "Could have Bought\n",
      "Could have Bought\n"
     ]
    },
    {
     "name": "stderr",
     "output_type": "stream",
     "text": [
      " 11%|████████▏                                                                  | 8036/74060 [08:11<1:06:30, 16.55it/s]"
     ]
    },
    {
     "name": "stdout",
     "output_type": "stream",
     "text": [
      "Could have Bought\n",
      "Could have Bought\n",
      "Could have Bought\n",
      "Could have Bought\n"
     ]
    },
    {
     "name": "stderr",
     "output_type": "stream",
     "text": [
      " 11%|████████▏                                                                  | 8040/74060 [08:12<1:08:01, 16.18it/s]"
     ]
    },
    {
     "name": "stdout",
     "output_type": "stream",
     "text": [
      "Could have Bought\n"
     ]
    },
    {
     "name": "stderr",
     "output_type": "stream",
     "text": [
      " 11%|████████▏                                                                  | 8142/74060 [08:18<1:05:24, 16.80it/s]"
     ]
    },
    {
     "name": "stdout",
     "output_type": "stream",
     "text": [
      "Could have Bought\n"
     ]
    },
    {
     "name": "stderr",
     "output_type": "stream",
     "text": [
      " 11%|████████▎                                                                  | 8258/74060 [08:26<1:28:29, 12.39it/s]"
     ]
    },
    {
     "name": "stdout",
     "output_type": "stream",
     "text": [
      "Could have Bought\n"
     ]
    },
    {
     "name": "stderr",
     "output_type": "stream",
     "text": [
      " 11%|████████▎                                                                  | 8268/74060 [08:27<1:28:14, 12.43it/s]"
     ]
    },
    {
     "name": "stdout",
     "output_type": "stream",
     "text": [
      "Could have Bought\n",
      "Could have Bought\n",
      "Could have Bought\n"
     ]
    },
    {
     "name": "stderr",
     "output_type": "stream",
     "text": [
      " 11%|████████▍                                                                  | 8274/74060 [08:27<1:28:59, 12.32it/s]"
     ]
    },
    {
     "name": "stdout",
     "output_type": "stream",
     "text": [
      "Could have Bought\n"
     ]
    },
    {
     "name": "stderr",
     "output_type": "stream",
     "text": [
      " 11%|████████▍                                                                  | 8288/74060 [08:28<1:28:16, 12.42it/s]"
     ]
    },
    {
     "name": "stdout",
     "output_type": "stream",
     "text": [
      "Could have Bought\n"
     ]
    },
    {
     "name": "stderr",
     "output_type": "stream",
     "text": [
      " 11%|████████▌                                                                  | 8404/74060 [08:36<1:06:44, 16.40it/s]"
     ]
    },
    {
     "name": "stdout",
     "output_type": "stream",
     "text": [
      "Could have Bought\n",
      "Could have Bought\n",
      "Could have Bought\n",
      "Could have Bought\n"
     ]
    },
    {
     "name": "stderr",
     "output_type": "stream",
     "text": [
      " 11%|████████▌                                                                  | 8408/74060 [08:36<1:06:37, 16.42it/s]"
     ]
    },
    {
     "name": "stdout",
     "output_type": "stream",
     "text": [
      "Could have Bought\n",
      "Could have Bought\n",
      "Could have Bought\n"
     ]
    },
    {
     "name": "stderr",
     "output_type": "stream",
     "text": [
      " 11%|████████▌                                                                  | 8426/74060 [08:37<1:05:57, 16.58it/s]"
     ]
    },
    {
     "name": "stdout",
     "output_type": "stream",
     "text": [
      "Condition 3\n",
      "CMP =  922.0\n",
      "Shares Sold\n",
      "Average Predicted =  911.5524\n"
     ]
    },
    {
     "name": "stderr",
     "output_type": "stream",
     "text": [
      " 11%|████████▌                                                                  | 8480/74060 [08:41<1:07:42, 16.14it/s]"
     ]
    },
    {
     "name": "stdout",
     "output_type": "stream",
     "text": [
      "CMP =  911.5\n",
      "Shares Bought =  11.0\n",
      "Average Predicted =  925.22815\n",
      "Could have Bought\n"
     ]
    },
    {
     "name": "stderr",
     "output_type": "stream",
     "text": [
      " 11%|████████▌                                                                  | 8484/74060 [08:41<1:08:03, 16.06it/s]"
     ]
    },
    {
     "name": "stdout",
     "output_type": "stream",
     "text": [
      "Could have Bought\n"
     ]
    },
    {
     "name": "stderr",
     "output_type": "stream",
     "text": [
      " 12%|████████▋                                                                  | 8614/74060 [08:49<1:06:20, 16.44it/s]"
     ]
    },
    {
     "name": "stdout",
     "output_type": "stream",
     "text": [
      "Could have Bought\n",
      "Could have Bought\n"
     ]
    },
    {
     "name": "stderr",
     "output_type": "stream",
     "text": [
      " 12%|████████▋                                                                  | 8622/74060 [08:49<1:06:02, 16.52it/s]"
     ]
    },
    {
     "name": "stdout",
     "output_type": "stream",
     "text": [
      "Could have Bought\n",
      "Could have Bought\n",
      "Could have Bought\n"
     ]
    },
    {
     "name": "stderr",
     "output_type": "stream",
     "text": [
      " 12%|████████▉                                                                  | 8778/74060 [08:59<1:06:52, 16.27it/s]"
     ]
    },
    {
     "name": "stdout",
     "output_type": "stream",
     "text": [
      "CMP =  918.05\n",
      "Shares Sold\n",
      "Average Predicted =  908.6537\n",
      "Could have Sold\n",
      "Could have Sold\n"
     ]
    },
    {
     "name": "stderr",
     "output_type": "stream",
     "text": [
      " 12%|████████▉                                                                  | 8782/74060 [09:00<1:07:07, 16.21it/s]"
     ]
    },
    {
     "name": "stdout",
     "output_type": "stream",
     "text": [
      "Could have Sold\n"
     ]
    },
    {
     "name": "stderr",
     "output_type": "stream",
     "text": [
      " 12%|█████████▎                                                                 | 9166/74060 [09:23<1:10:21, 15.37it/s]"
     ]
    },
    {
     "name": "stdout",
     "output_type": "stream",
     "text": [
      "CMP =  928.4\n",
      "Shares Bought =  11.0\n",
      "Average Predicted =  938.432\n",
      "Could have Bought\n",
      "Could have Bought\n",
      "Could have Bought\n"
     ]
    },
    {
     "name": "stderr",
     "output_type": "stream",
     "text": [
      " 12%|█████████▎                                                                 | 9170/74060 [09:23<1:07:38, 15.99it/s]"
     ]
    },
    {
     "name": "stdout",
     "output_type": "stream",
     "text": [
      "Could have Bought\n",
      "Could have Bought\n"
     ]
    },
    {
     "name": "stderr",
     "output_type": "stream",
     "text": [
      " 12%|█████████▎                                                                 | 9176/74060 [09:24<1:07:07, 16.11it/s]"
     ]
    },
    {
     "name": "stdout",
     "output_type": "stream",
     "text": [
      "Could have Bought\n",
      "Could have Bought\n",
      "Could have Bought\n",
      "Could have Bought\n"
     ]
    },
    {
     "name": "stderr",
     "output_type": "stream",
     "text": [
      " 12%|█████████▎                                                                 | 9180/74060 [09:24<1:05:41, 16.46it/s]"
     ]
    },
    {
     "name": "stdout",
     "output_type": "stream",
     "text": [
      "Could have Bought\n",
      "Could have Bought\n"
     ]
    },
    {
     "name": "stderr",
     "output_type": "stream",
     "text": [
      " 13%|█████████▋                                                                 | 9532/74060 [09:46<1:06:25, 16.19it/s]"
     ]
    },
    {
     "name": "stdout",
     "output_type": "stream",
     "text": [
      "Could have Bought\n"
     ]
    },
    {
     "name": "stderr",
     "output_type": "stream",
     "text": [
      " 13%|█████████▋                                                                 | 9548/74060 [09:47<1:06:21, 16.20it/s]"
     ]
    },
    {
     "name": "stdout",
     "output_type": "stream",
     "text": [
      "Could have Bought\n"
     ]
    },
    {
     "name": "stderr",
     "output_type": "stream",
     "text": [
      " 13%|█████████▋                                                                 | 9558/74060 [09:47<1:07:00, 16.04it/s]"
     ]
    },
    {
     "name": "stdout",
     "output_type": "stream",
     "text": [
      "Could have Bought\n"
     ]
    },
    {
     "name": "stderr",
     "output_type": "stream",
     "text": [
      " 13%|██████████                                                                 | 9974/74060 [10:13<1:03:11, 16.90it/s]"
     ]
    },
    {
     "name": "stdout",
     "output_type": "stream",
     "text": [
      "Could have Bought\n"
     ]
    },
    {
     "name": "stderr",
     "output_type": "stream",
     "text": [
      " 14%|██████████                                                                | 10118/74060 [10:23<1:26:33, 12.31it/s]"
     ]
    },
    {
     "name": "stdout",
     "output_type": "stream",
     "text": [
      "Could have Bought\n",
      "Could have Bought\n"
     ]
    },
    {
     "name": "stderr",
     "output_type": "stream",
     "text": [
      " 14%|██████████▎                                                               | 10276/74060 [10:36<1:26:46, 12.25it/s]"
     ]
    },
    {
     "name": "stdout",
     "output_type": "stream",
     "text": [
      "Could have Bought\n",
      "Could have Bought\n",
      "Could have Bought\n"
     ]
    },
    {
     "name": "stderr",
     "output_type": "stream",
     "text": [
      " 14%|██████████▎                                                               | 10280/74060 [10:37<1:26:55, 12.23it/s]"
     ]
    },
    {
     "name": "stdout",
     "output_type": "stream",
     "text": [
      "Could have Bought\n",
      "Could have Bought\n",
      "Could have Bought\n"
     ]
    },
    {
     "name": "stderr",
     "output_type": "stream",
     "text": [
      "\r",
      " 14%|██████████▎                                                               | 10282/74060 [10:37<1:26:48, 12.25it/s]"
     ]
    },
    {
     "name": "stdout",
     "output_type": "stream",
     "text": [
      "Could have Bought\n",
      "Could have Bought\n",
      "Could have Bought\n"
     ]
    },
    {
     "name": "stderr",
     "output_type": "stream",
     "text": [
      " 14%|██████████▎                                                               | 10286/74060 [10:37<1:26:18, 12.32it/s]"
     ]
    },
    {
     "name": "stdout",
     "output_type": "stream",
     "text": [
      "Could have Bought\n",
      "Could have Bought\n",
      "Could have Bought\n"
     ]
    },
    {
     "name": "stderr",
     "output_type": "stream",
     "text": [
      "\r",
      " 14%|██████████▎                                                               | 10288/74060 [10:37<1:26:31, 12.28it/s]"
     ]
    },
    {
     "name": "stdout",
     "output_type": "stream",
     "text": [
      "Could have Bought\n",
      "Could have Bought\n",
      "Could have Bought\n"
     ]
    },
    {
     "name": "stderr",
     "output_type": "stream",
     "text": [
      " 14%|██████████▎                                                               | 10292/74060 [10:37<1:26:59, 12.22it/s]"
     ]
    },
    {
     "name": "stdout",
     "output_type": "stream",
     "text": [
      "Could have Bought\n",
      "Could have Bought\n",
      "Could have Bought\n"
     ]
    },
    {
     "name": "stderr",
     "output_type": "stream",
     "text": [
      "\r",
      " 14%|██████████▎                                                               | 10294/74060 [10:38<1:28:01, 12.07it/s]"
     ]
    },
    {
     "name": "stdout",
     "output_type": "stream",
     "text": [
      "Could have Bought\n",
      "Could have Bought\n",
      "Could have Bought\n"
     ]
    },
    {
     "name": "stderr",
     "output_type": "stream",
     "text": [
      " 14%|██████████▎                                                               | 10302/74060 [10:38<1:27:06, 12.20it/s]"
     ]
    },
    {
     "name": "stdout",
     "output_type": "stream",
     "text": [
      "Could have Bought\n",
      "Could have Bought\n",
      "Could have Bought\n"
     ]
    },
    {
     "name": "stderr",
     "output_type": "stream",
     "text": [
      " 14%|██████████▎                                                               | 10306/74060 [10:39<1:27:23, 12.16it/s]"
     ]
    },
    {
     "name": "stdout",
     "output_type": "stream",
     "text": [
      "Could have Bought\n",
      "Could have Bought\n",
      "Could have Bought\n"
     ]
    },
    {
     "name": "stderr",
     "output_type": "stream",
     "text": [
      " 14%|██████████▋                                                                 | 10358/74060 [10:42<58:16, 18.22it/s]"
     ]
    },
    {
     "name": "stdout",
     "output_type": "stream",
     "text": [
      "Could have Bought\n",
      "Could have Bought\n",
      "Could have Bought\n",
      "Could have Bought\n"
     ]
    },
    {
     "name": "stderr",
     "output_type": "stream",
     "text": [
      " 14%|██████████▋                                                                 | 10362/74060 [10:42<57:14, 18.55it/s]"
     ]
    },
    {
     "name": "stdout",
     "output_type": "stream",
     "text": [
      "Could have Bought\n",
      "Could have Bought\n",
      "Could have Bought\n",
      "Could have Bought\n"
     ]
    },
    {
     "name": "stderr",
     "output_type": "stream",
     "text": [
      " 14%|██████████▋                                                                 | 10366/74060 [10:42<56:50, 18.68it/s]"
     ]
    },
    {
     "name": "stdout",
     "output_type": "stream",
     "text": [
      "Could have Bought\n",
      "Could have Bought\n"
     ]
    },
    {
     "name": "stderr",
     "output_type": "stream",
     "text": [
      " 14%|██████████▋                                                                 | 10386/74060 [10:43<57:12, 18.55it/s]"
     ]
    },
    {
     "name": "stdout",
     "output_type": "stream",
     "text": [
      "Could have Bought\n",
      "Could have Bought\n",
      "Could have Bought\n",
      "Could have Bought\n"
     ]
    },
    {
     "name": "stderr",
     "output_type": "stream",
     "text": [
      " 14%|██████████▋                                                                 | 10430/74060 [10:46<58:09, 18.23it/s]"
     ]
    },
    {
     "name": "stdout",
     "output_type": "stream",
     "text": [
      "Could have Bought\n"
     ]
    },
    {
     "name": "stderr",
     "output_type": "stream",
     "text": [
      " 14%|██████████▋                                                               | 10668/74060 [11:00<1:05:27, 16.14it/s]"
     ]
    },
    {
     "name": "stdout",
     "output_type": "stream",
     "text": [
      "Could have Bought\n",
      "Could have Bought\n",
      "Could have Bought\n",
      "Could have Bought\n"
     ]
    },
    {
     "name": "stderr",
     "output_type": "stream",
     "text": [
      " 14%|██████████▋                                                               | 10672/74060 [11:01<1:05:02, 16.24it/s]"
     ]
    },
    {
     "name": "stdout",
     "output_type": "stream",
     "text": [
      "Could have Bought\n",
      "Could have Bought\n",
      "Could have Bought\n",
      "Could have Bought\n"
     ]
    },
    {
     "name": "stderr",
     "output_type": "stream",
     "text": [
      " 14%|██████████▋                                                               | 10676/74060 [11:01<1:04:26, 16.39it/s]"
     ]
    },
    {
     "name": "stdout",
     "output_type": "stream",
     "text": [
      "Could have Bought\n",
      "Could have Bought\n",
      "Could have Bought\n",
      "Could have Bought\n"
     ]
    },
    {
     "name": "stderr",
     "output_type": "stream",
     "text": [
      " 15%|██████████▉                                                               | 10970/74060 [11:19<1:04:05, 16.41it/s]"
     ]
    },
    {
     "name": "stdout",
     "output_type": "stream",
     "text": [
      "Could have Bought\n",
      "Could have Bought\n",
      "Could have Bought\n"
     ]
    },
    {
     "name": "stderr",
     "output_type": "stream",
     "text": [
      " 15%|██████████▉                                                               | 10974/74060 [11:19<1:04:11, 16.38it/s]"
     ]
    },
    {
     "name": "stdout",
     "output_type": "stream",
     "text": [
      "Could have Bought\n",
      "Could have Bought\n"
     ]
    },
    {
     "name": "stderr",
     "output_type": "stream",
     "text": [
      " 15%|██████████▉                                                               | 10992/74060 [11:20<1:02:51, 16.72it/s]"
     ]
    },
    {
     "name": "stdout",
     "output_type": "stream",
     "text": [
      "Could have Bought\n",
      "Could have Bought\n"
     ]
    },
    {
     "name": "stderr",
     "output_type": "stream",
     "text": [
      " 15%|██████████▉                                                               | 10998/74060 [11:21<1:04:06, 16.39it/s]"
     ]
    },
    {
     "name": "stdout",
     "output_type": "stream",
     "text": [
      "Could have Bought\n"
     ]
    },
    {
     "name": "stderr",
     "output_type": "stream",
     "text": [
      " 15%|███████████                                                               | 11028/74060 [11:23<1:25:02, 12.35it/s]"
     ]
    },
    {
     "name": "stdout",
     "output_type": "stream",
     "text": [
      "Could have Bought\n",
      "Could have Bought\n",
      "Could have Bought\n"
     ]
    },
    {
     "name": "stderr",
     "output_type": "stream",
     "text": [
      "\r",
      " 15%|███████████                                                               | 11030/74060 [11:23<1:26:44, 12.11it/s]"
     ]
    },
    {
     "name": "stdout",
     "output_type": "stream",
     "text": [
      "Could have Bought\n",
      "Could have Bought\n",
      "Could have Bought\n"
     ]
    },
    {
     "name": "stderr",
     "output_type": "stream",
     "text": [
      " 15%|███████████                                                               | 11034/74060 [11:23<1:22:40, 12.71it/s]"
     ]
    },
    {
     "name": "stdout",
     "output_type": "stream",
     "text": [
      "Could have Bought\n",
      "Could have Bought\n",
      "Could have Bought\n",
      "Could have Bought\n"
     ]
    },
    {
     "name": "stderr",
     "output_type": "stream",
     "text": [
      " 15%|███████████                                                               | 11038/74060 [11:24<1:14:03, 14.18it/s]"
     ]
    },
    {
     "name": "stdout",
     "output_type": "stream",
     "text": [
      "Could have Bought\n"
     ]
    },
    {
     "name": "stderr",
     "output_type": "stream",
     "text": [
      " 15%|███████████                                                               | 11042/74060 [11:24<1:08:57, 15.23it/s]"
     ]
    },
    {
     "name": "stdout",
     "output_type": "stream",
     "text": [
      "Could have Bought\n",
      "Could have Bought\n"
     ]
    },
    {
     "name": "stderr",
     "output_type": "stream",
     "text": [
      " 15%|███████████                                                               | 11046/74060 [11:24<1:06:32, 15.78it/s]"
     ]
    },
    {
     "name": "stdout",
     "output_type": "stream",
     "text": [
      "Could have Bought\n",
      "Could have Bought\n",
      "Could have Bought\n"
     ]
    },
    {
     "name": "stderr",
     "output_type": "stream",
     "text": [
      " 15%|███████████                                                               | 11052/74060 [11:25<1:06:01, 15.91it/s]"
     ]
    },
    {
     "name": "stdout",
     "output_type": "stream",
     "text": [
      "Could have Bought\n"
     ]
    },
    {
     "name": "stderr",
     "output_type": "stream",
     "text": [
      " 15%|███████████▏                                                              | 11230/74060 [11:35<1:04:50, 16.15it/s]"
     ]
    },
    {
     "name": "stdout",
     "output_type": "stream",
     "text": [
      "Could have Bought\n"
     ]
    },
    {
     "name": "stderr",
     "output_type": "stream",
     "text": [
      " 15%|███████████▍                                                              | 11414/74060 [11:47<1:04:26, 16.20it/s]"
     ]
    },
    {
     "name": "stdout",
     "output_type": "stream",
     "text": [
      "Could have Bought\n",
      "Could have Bought\n",
      "Could have Bought\n"
     ]
    },
    {
     "name": "stderr",
     "output_type": "stream",
     "text": [
      " 15%|███████████▍                                                              | 11418/74060 [11:47<1:05:16, 16.00it/s]"
     ]
    },
    {
     "name": "stdout",
     "output_type": "stream",
     "text": [
      "Could have Bought\n",
      "Could have Bought\n",
      "Could have Bought\n"
     ]
    },
    {
     "name": "stderr",
     "output_type": "stream",
     "text": [
      " 15%|███████████▍                                                              | 11422/74060 [11:47<1:05:03, 16.04it/s]"
     ]
    },
    {
     "name": "stdout",
     "output_type": "stream",
     "text": [
      "Could have Bought\n",
      "Could have Bought\n",
      "Could have Bought\n"
     ]
    },
    {
     "name": "stderr",
     "output_type": "stream",
     "text": [
      " 15%|███████████▍                                                              | 11426/74060 [11:48<1:05:20, 15.98it/s]"
     ]
    },
    {
     "name": "stdout",
     "output_type": "stream",
     "text": [
      "Could have Bought\n",
      "Could have Bought\n"
     ]
    },
    {
     "name": "stderr",
     "output_type": "stream",
     "text": [
      " 15%|███████████▍                                                              | 11454/74060 [11:49<1:03:00, 16.56it/s]"
     ]
    },
    {
     "name": "stdout",
     "output_type": "stream",
     "text": [
      "Could have Bought\n",
      "Could have Bought\n",
      "Could have Bought\n",
      "Could have Bought\n"
     ]
    },
    {
     "name": "stderr",
     "output_type": "stream",
     "text": [
      " 15%|███████████▍                                                              | 11460/74060 [11:50<1:04:04, 16.28it/s]"
     ]
    },
    {
     "name": "stdout",
     "output_type": "stream",
     "text": [
      "Could have Bought\n",
      "Could have Bought\n"
     ]
    },
    {
     "name": "stderr",
     "output_type": "stream",
     "text": [
      " 15%|███████████▍                                                              | 11464/74060 [11:50<1:03:24, 16.45it/s]"
     ]
    },
    {
     "name": "stdout",
     "output_type": "stream",
     "text": [
      "Could have Bought\n",
      "Could have Bought\n",
      "Could have Bought\n",
      "Could have Bought\n"
     ]
    },
    {
     "name": "stderr",
     "output_type": "stream",
     "text": [
      " 16%|███████████▊                                                              | 11780/74060 [12:09<1:02:28, 16.61it/s]"
     ]
    },
    {
     "name": "stdout",
     "output_type": "stream",
     "text": [
      "Condition 3\n",
      "CMP =  861.95\n",
      "Shares Sold\n",
      "Average Predicted =  853.3004\n"
     ]
    },
    {
     "name": "stderr",
     "output_type": "stream",
     "text": [
      " 16%|███████████▊                                                              | 11792/74060 [12:10<1:01:52, 16.77it/s]"
     ]
    },
    {
     "name": "stdout",
     "output_type": "stream",
     "text": [
      "CMP =  849.9\n",
      "Shares Bought =  11.0\n",
      "Average Predicted =  858.6489\n"
     ]
    },
    {
     "name": "stderr",
     "output_type": "stream",
     "text": [
      " 16%|███████████▊                                                              | 11836/74060 [12:13<1:23:58, 12.35it/s]"
     ]
    },
    {
     "name": "stdout",
     "output_type": "stream",
     "text": [
      "Could have Bought\n"
     ]
    },
    {
     "name": "stderr",
     "output_type": "stream",
     "text": [
      " 16%|███████████▊                                                              | 11876/74060 [12:16<1:07:10, 15.43it/s]"
     ]
    },
    {
     "name": "stdout",
     "output_type": "stream",
     "text": [
      "Could have Bought\n",
      "Could have Bought\n",
      "Could have Bought\n",
      "Could have Bought\n"
     ]
    },
    {
     "name": "stderr",
     "output_type": "stream",
     "text": [
      " 16%|███████████▉                                                              | 11886/74060 [12:17<1:05:40, 15.78it/s]"
     ]
    },
    {
     "name": "stdout",
     "output_type": "stream",
     "text": [
      "Could have Bought\n",
      "Could have Bought\n"
     ]
    },
    {
     "name": "stderr",
     "output_type": "stream",
     "text": [
      " 16%|███████████▉                                                              | 11890/74060 [12:17<1:04:43, 16.01it/s]"
     ]
    },
    {
     "name": "stdout",
     "output_type": "stream",
     "text": [
      "Could have Bought\n",
      "Could have Bought\n",
      "Could have Bought\n"
     ]
    },
    {
     "name": "stderr",
     "output_type": "stream",
     "text": [
      " 16%|███████████▉                                                              | 11894/74060 [12:17<1:04:02, 16.18it/s]"
     ]
    },
    {
     "name": "stdout",
     "output_type": "stream",
     "text": [
      "Could have Bought\n",
      "Could have Bought\n",
      "Could have Bought\n"
     ]
    },
    {
     "name": "stderr",
     "output_type": "stream",
     "text": [
      " 16%|████████████▏                                                             | 12152/74060 [12:33<1:02:20, 16.55it/s]"
     ]
    },
    {
     "name": "stdout",
     "output_type": "stream",
     "text": [
      "Condition 3\n",
      "CMP =  848.45\n",
      "Shares Sold\n",
      "Average Predicted =  836.30554\n",
      "Could have Sold\n"
     ]
    },
    {
     "name": "stderr",
     "output_type": "stream",
     "text": [
      " 16%|████████████▏                                                             | 12158/74060 [12:33<1:02:36, 16.48it/s]"
     ]
    },
    {
     "name": "stdout",
     "output_type": "stream",
     "text": [
      "Could have Sold\n"
     ]
    },
    {
     "name": "stderr",
     "output_type": "stream",
     "text": [
      " 16%|████████████▏                                                             | 12172/74060 [12:34<1:02:16, 16.56it/s]"
     ]
    },
    {
     "name": "stdout",
     "output_type": "stream",
     "text": [
      "CMP =  841.1\n",
      "Shares Bought =  11.0\n",
      "Average Predicted =  849.57776\n",
      "Could have Bought\n"
     ]
    },
    {
     "name": "stderr",
     "output_type": "stream",
     "text": [
      " 16%|████████████▏                                                             | 12218/74060 [12:37<1:02:21, 16.53it/s]"
     ]
    },
    {
     "name": "stdout",
     "output_type": "stream",
     "text": [
      "Could have Bought\n",
      "Could have Bought\n"
     ]
    },
    {
     "name": "stderr",
     "output_type": "stream",
     "text": [
      " 17%|████████████▊                                                               | 12528/74060 [12:54<54:54, 18.68it/s]"
     ]
    },
    {
     "name": "stdout",
     "output_type": "stream",
     "text": [
      "Could have Bought\n"
     ]
    },
    {
     "name": "stderr",
     "output_type": "stream",
     "text": [
      " 17%|████████████▉                                                               | 12564/74060 [12:56<56:07, 18.26it/s]"
     ]
    },
    {
     "name": "stdout",
     "output_type": "stream",
     "text": [
      "Could have Bought\n",
      "Could have Bought\n",
      "Could have Bought\n",
      "Could have Bought\n"
     ]
    },
    {
     "name": "stderr",
     "output_type": "stream",
     "text": [
      " 17%|████████████▉                                                               | 12570/74060 [12:56<54:58, 18.64it/s]"
     ]
    },
    {
     "name": "stdout",
     "output_type": "stream",
     "text": [
      "Could have Bought\n"
     ]
    },
    {
     "name": "stderr",
     "output_type": "stream",
     "text": [
      " 17%|████████████▉                                                               | 12574/74060 [12:57<57:39, 17.77it/s]"
     ]
    },
    {
     "name": "stdout",
     "output_type": "stream",
     "text": [
      "Could have Bought\n",
      "Could have Bought\n",
      "Could have Bought\n",
      "Could have Bought\n"
     ]
    },
    {
     "name": "stderr",
     "output_type": "stream",
     "text": [
      " 17%|████████████▉                                                               | 12578/74060 [12:57<55:51, 18.34it/s]"
     ]
    },
    {
     "name": "stdout",
     "output_type": "stream",
     "text": [
      "Could have Bought\n",
      "Could have Bought\n"
     ]
    },
    {
     "name": "stderr",
     "output_type": "stream",
     "text": [
      " 17%|█████████████▏                                                              | 12902/74060 [13:15<55:15, 18.45it/s]"
     ]
    },
    {
     "name": "stdout",
     "output_type": "stream",
     "text": [
      "CMP =  874.9499999999999\n",
      "Shares Sold\n",
      "Average Predicted =  850.0187\n",
      "Could have Sold\n",
      "Could have Sold\n",
      "Could have Sold\n"
     ]
    },
    {
     "name": "stderr",
     "output_type": "stream",
     "text": [
      " 17%|█████████████▏                                                              | 12906/74060 [13:15<55:24, 18.40it/s]"
     ]
    },
    {
     "name": "stdout",
     "output_type": "stream",
     "text": [
      "Could have Sold\n",
      "Could have Sold\n",
      "Could have Sold\n",
      "Could have Sold\n"
     ]
    },
    {
     "name": "stderr",
     "output_type": "stream",
     "text": [
      " 17%|█████████████▏                                                              | 12910/74060 [13:16<56:01, 18.19it/s]"
     ]
    },
    {
     "name": "stdout",
     "output_type": "stream",
     "text": [
      "Could have Sold\n"
     ]
    },
    {
     "name": "stderr",
     "output_type": "stream",
     "text": [
      " 17%|█████████████▎                                                              | 12934/74060 [13:17<55:32, 18.34it/s]"
     ]
    },
    {
     "name": "stdout",
     "output_type": "stream",
     "text": [
      "CMP =  867.3\n",
      "Shares Bought =  11.0\n",
      "Average Predicted =  876.1987\n",
      "Could have Bought\n"
     ]
    },
    {
     "name": "stderr",
     "output_type": "stream",
     "text": [
      " 18%|█████████████▌                                                              | 13250/74060 [13:34<55:36, 18.23it/s]"
     ]
    },
    {
     "name": "stdout",
     "output_type": "stream",
     "text": [
      "Could have Bought\n",
      "Could have Bought\n",
      "Could have Bought\n",
      "Could have Bought\n",
      "Could have Bought\n"
     ]
    },
    {
     "name": "stderr",
     "output_type": "stream",
     "text": [
      " 18%|█████████████▌                                                              | 13254/74060 [13:34<55:43, 18.19it/s]"
     ]
    },
    {
     "name": "stdout",
     "output_type": "stream",
     "text": [
      "Could have Bought\n",
      "Could have Bought\n",
      "Could have Bought\n"
     ]
    },
    {
     "name": "stderr",
     "output_type": "stream",
     "text": [
      " 18%|█████████████▋                                                              | 13278/74060 [13:36<53:13, 19.03it/s]"
     ]
    },
    {
     "name": "stdout",
     "output_type": "stream",
     "text": [
      "Could have Bought\n",
      "Could have Bought\n",
      "Could have Bought\n",
      "Could have Bought\n"
     ]
    },
    {
     "name": "stderr",
     "output_type": "stream",
     "text": [
      " 18%|█████████████▋                                                              | 13284/74060 [13:36<53:06, 19.07it/s]"
     ]
    },
    {
     "name": "stdout",
     "output_type": "stream",
     "text": [
      "Could have Bought\n",
      "Could have Bought\n",
      "Could have Bought\n"
     ]
    },
    {
     "name": "stderr",
     "output_type": "stream",
     "text": [
      " 18%|█████████████▋                                                              | 13288/74060 [13:36<53:03, 19.09it/s]"
     ]
    },
    {
     "name": "stdout",
     "output_type": "stream",
     "text": [
      "Could have Bought\n"
     ]
    },
    {
     "name": "stderr",
     "output_type": "stream",
     "text": [
      " 18%|█████████████▋                                                              | 13314/74060 [13:38<52:48, 19.17it/s]"
     ]
    },
    {
     "name": "stdout",
     "output_type": "stream",
     "text": [
      "Could have Bought\n"
     ]
    },
    {
     "name": "stderr",
     "output_type": "stream",
     "text": [
      " 18%|█████████████▋                                                              | 13318/74060 [13:38<52:02, 19.45it/s]"
     ]
    },
    {
     "name": "stdout",
     "output_type": "stream",
     "text": [
      "Could have Bought\n"
     ]
    },
    {
     "name": "stderr",
     "output_type": "stream",
     "text": [
      " 18%|█████████████▋                                                            | 13694/74060 [14:01<1:22:34, 12.18it/s]"
     ]
    },
    {
     "name": "stdout",
     "output_type": "stream",
     "text": [
      "Could have Bought\n"
     ]
    },
    {
     "name": "stderr",
     "output_type": "stream",
     "text": [
      " 18%|█████████████▋                                                            | 13698/74060 [14:01<1:22:03, 12.26it/s]"
     ]
    },
    {
     "name": "stdout",
     "output_type": "stream",
     "text": [
      "Could have Bought\n"
     ]
    },
    {
     "name": "stderr",
     "output_type": "stream",
     "text": [
      " 19%|██████████████                                                            | 14028/74060 [14:28<1:21:33, 12.27it/s]"
     ]
    },
    {
     "name": "stdout",
     "output_type": "stream",
     "text": [
      "Could have Bought\n",
      "Could have Bought\n",
      "Could have Bought\n"
     ]
    },
    {
     "name": "stderr",
     "output_type": "stream",
     "text": [
      "\r",
      " 19%|██████████████                                                            | 14030/74060 [14:28<1:21:34, 12.27it/s]"
     ]
    },
    {
     "name": "stdout",
     "output_type": "stream",
     "text": [
      "Could have Bought\n",
      "Could have Bought\n",
      "Could have Bought\n"
     ]
    },
    {
     "name": "stderr",
     "output_type": "stream",
     "text": [
      " 19%|██████████████                                                            | 14034/74060 [14:29<1:21:08, 12.33it/s]"
     ]
    },
    {
     "name": "stdout",
     "output_type": "stream",
     "text": [
      "Could have Bought\n",
      "Could have Bought\n",
      "Could have Bought\n"
     ]
    },
    {
     "name": "stderr",
     "output_type": "stream",
     "text": [
      "\r",
      " 19%|██████████████                                                            | 14036/74060 [14:29<1:20:47, 12.38it/s]"
     ]
    },
    {
     "name": "stdout",
     "output_type": "stream",
     "text": [
      "Could have Bought\n",
      "Could have Bought\n",
      "Could have Bought\n"
     ]
    },
    {
     "name": "stderr",
     "output_type": "stream",
     "text": [
      " 19%|██████████████                                                            | 14040/74060 [14:29<1:21:08, 12.33it/s]"
     ]
    },
    {
     "name": "stdout",
     "output_type": "stream",
     "text": [
      "Could have Bought\n",
      "Could have Bought\n",
      "Could have Bought\n"
     ]
    },
    {
     "name": "stderr",
     "output_type": "stream",
     "text": [
      "\r",
      " 19%|██████████████                                                            | 14042/74060 [14:29<1:21:07, 12.33it/s]"
     ]
    },
    {
     "name": "stdout",
     "output_type": "stream",
     "text": [
      "Could have Bought\n",
      "Could have Bought\n",
      "Could have Bought\n"
     ]
    },
    {
     "name": "stderr",
     "output_type": "stream",
     "text": [
      " 19%|██████████████                                                            | 14046/74060 [14:30<1:21:03, 12.34it/s]"
     ]
    },
    {
     "name": "stdout",
     "output_type": "stream",
     "text": [
      "Could have Bought\n",
      "Could have Bought\n",
      "Could have Bought\n"
     ]
    },
    {
     "name": "stderr",
     "output_type": "stream",
     "text": [
      "\r",
      " 19%|██████████████                                                            | 14048/74060 [14:30<1:20:59, 12.35it/s]"
     ]
    },
    {
     "name": "stdout",
     "output_type": "stream",
     "text": [
      "Could have Bought\n"
     ]
    },
    {
     "name": "stderr",
     "output_type": "stream",
     "text": [
      " 19%|██████████████                                                            | 14054/74060 [14:30<1:21:17, 12.30it/s]"
     ]
    },
    {
     "name": "stdout",
     "output_type": "stream",
     "text": [
      "Could have Bought\n",
      "Could have Bought\n",
      "Could have Bought\n"
     ]
    },
    {
     "name": "stderr",
     "output_type": "stream",
     "text": [
      " 19%|██████████████                                                            | 14058/74060 [14:31<1:21:22, 12.29it/s]"
     ]
    },
    {
     "name": "stdout",
     "output_type": "stream",
     "text": [
      "Could have Bought\n",
      "Could have Bought\n",
      "Could have Bought\n"
     ]
    },
    {
     "name": "stderr",
     "output_type": "stream",
     "text": [
      "\r",
      " 19%|██████████████                                                            | 14060/74060 [14:31<1:21:17, 12.30it/s]"
     ]
    },
    {
     "name": "stdout",
     "output_type": "stream",
     "text": [
      "Could have Bought\n",
      "Could have Bought\n"
     ]
    },
    {
     "name": "stderr",
     "output_type": "stream",
     "text": [
      " 19%|██████████████                                                            | 14082/74060 [14:32<1:21:29, 12.27it/s]"
     ]
    },
    {
     "name": "stdout",
     "output_type": "stream",
     "text": [
      "Could have Bought\n"
     ]
    },
    {
     "name": "stderr",
     "output_type": "stream",
     "text": [
      " 19%|██████████████                                                            | 14118/74060 [14:35<1:21:08, 12.31it/s]"
     ]
    },
    {
     "name": "stdout",
     "output_type": "stream",
     "text": [
      "Could have Bought\n",
      "Could have Bought\n"
     ]
    },
    {
     "name": "stderr",
     "output_type": "stream",
     "text": [
      " 19%|██████████████                                                            | 14122/74060 [14:36<1:21:14, 12.30it/s]"
     ]
    },
    {
     "name": "stdout",
     "output_type": "stream",
     "text": [
      "Could have Bought\n",
      "Could have Bought\n"
     ]
    },
    {
     "name": "stderr",
     "output_type": "stream",
     "text": [
      " 19%|██████████████▎                                                           | 14280/74060 [14:49<1:22:00, 12.15it/s]"
     ]
    },
    {
     "name": "stdout",
     "output_type": "stream",
     "text": [
      "Could have Bought\n"
     ]
    },
    {
     "name": "stderr",
     "output_type": "stream",
     "text": [
      " 19%|██████████████▍                                                           | 14388/74060 [14:57<1:21:38, 12.18it/s]"
     ]
    },
    {
     "name": "stdout",
     "output_type": "stream",
     "text": [
      "Could have Bought\n",
      "Could have Bought\n",
      "Could have Bought\n"
     ]
    },
    {
     "name": "stderr",
     "output_type": "stream",
     "text": [
      " 19%|██████████████▍                                                           | 14392/74060 [14:58<1:22:01, 12.12it/s]"
     ]
    },
    {
     "name": "stdout",
     "output_type": "stream",
     "text": [
      "Could have Bought\n",
      "Could have Bought\n",
      "Could have Bought\n"
     ]
    },
    {
     "name": "stderr",
     "output_type": "stream",
     "text": [
      "\r",
      " 19%|██████████████▍                                                           | 14394/74060 [14:58<1:21:50, 12.15it/s]"
     ]
    },
    {
     "name": "stdout",
     "output_type": "stream",
     "text": [
      "Could have Bought\n"
     ]
    },
    {
     "name": "stderr",
     "output_type": "stream",
     "text": [
      " 19%|██████████████▍                                                           | 14432/74060 [15:01<1:33:24, 10.64it/s]"
     ]
    },
    {
     "name": "stdout",
     "output_type": "stream",
     "text": [
      "Condition 3\n",
      "CMP =  836.5\n",
      "Shares Sold\n",
      "Average Predicted =  828.0392\n",
      "Could have Sold\n"
     ]
    },
    {
     "name": "stderr",
     "output_type": "stream",
     "text": [
      " 20%|██████████████▌                                                           | 14514/74060 [15:08<1:25:14, 11.64it/s]"
     ]
    },
    {
     "name": "stdout",
     "output_type": "stream",
     "text": [
      "CMP =  835.2\n",
      "Shares Bought =  11.0\n",
      "Average Predicted =  844.0653\n"
     ]
    },
    {
     "name": "stderr",
     "output_type": "stream",
     "text": [
      " 21%|███████████████▉                                                            | 15529/74060 [16:14<51:06, 19.08it/s]"
     ]
    },
    {
     "name": "stdout",
     "output_type": "stream",
     "text": [
      "Could have Bought\n",
      "Could have Bought\n"
     ]
    },
    {
     "name": "stderr",
     "output_type": "stream",
     "text": [
      " 21%|████████████████                                                            | 15613/74060 [16:19<51:25, 18.94it/s]"
     ]
    },
    {
     "name": "stdout",
     "output_type": "stream",
     "text": [
      "Could have Bought\n"
     ]
    },
    {
     "name": "stderr",
     "output_type": "stream",
     "text": [
      " 21%|███████████████▉                                                          | 15903/74060 [16:36<1:03:20, 15.30it/s]"
     ]
    },
    {
     "name": "stdout",
     "output_type": "stream",
     "text": [
      "CMP =  862.0\n",
      "Shares Sold\n",
      "Average Predicted =  853.1574\n",
      "Could have Sold\n",
      "Could have Sold\n"
     ]
    },
    {
     "name": "stderr",
     "output_type": "stream",
     "text": [
      " 22%|████████████████▋                                                           | 16277/74060 [17:00<58:50, 16.37it/s]"
     ]
    },
    {
     "name": "stdout",
     "output_type": "stream",
     "text": [
      "CMP =  884.9\n",
      "Shares Bought =  11.0\n",
      "Average Predicted =  894.92786\n",
      "Could have Bought\n",
      "Could have Bought\n",
      "Could have Bought\n"
     ]
    },
    {
     "name": "stderr",
     "output_type": "stream",
     "text": [
      " 22%|████████████████▋                                                           | 16281/74060 [17:00<59:30, 16.18it/s]"
     ]
    },
    {
     "name": "stdout",
     "output_type": "stream",
     "text": [
      "Could have Bought\n",
      "Could have Bought\n",
      "Could have Bought\n",
      "Could have Bought\n"
     ]
    },
    {
     "name": "stderr",
     "output_type": "stream",
     "text": [
      " 22%|████████████████▎                                                         | 16285/74060 [17:00<1:00:02, 16.04it/s]"
     ]
    },
    {
     "name": "stdout",
     "output_type": "stream",
     "text": [
      "Could have Bought\n",
      "Could have Bought\n",
      "Could have Bought\n"
     ]
    },
    {
     "name": "stderr",
     "output_type": "stream",
     "text": [
      " 22%|████████████████▋                                                           | 16289/74060 [17:00<58:50, 16.36it/s]"
     ]
    },
    {
     "name": "stdout",
     "output_type": "stream",
     "text": [
      "Could have Bought\n",
      "Could have Bought\n",
      "Could have Bought\n",
      "Could have Bought\n"
     ]
    },
    {
     "name": "stderr",
     "output_type": "stream",
     "text": [
      " 22%|████████████████▎                                                         | 16295/74060 [17:01<1:00:18, 15.96it/s]"
     ]
    },
    {
     "name": "stdout",
     "output_type": "stream",
     "text": [
      "Could have Bought\n"
     ]
    },
    {
     "name": "stderr",
     "output_type": "stream",
     "text": [
      " 22%|█████████████████                                                           | 16653/74060 [17:23<58:24, 16.38it/s]"
     ]
    },
    {
     "name": "stdout",
     "output_type": "stream",
     "text": [
      "Could have Bought\n",
      "Could have Bought\n"
     ]
    },
    {
     "name": "stderr",
     "output_type": "stream",
     "text": [
      " 23%|█████████████████▏                                                          | 16711/74060 [17:26<58:37, 16.31it/s]"
     ]
    },
    {
     "name": "stdout",
     "output_type": "stream",
     "text": [
      "Could have Bought\n"
     ]
    },
    {
     "name": "stderr",
     "output_type": "stream",
     "text": [
      " 23%|█████████████████▏                                                          | 16717/74060 [17:27<59:14, 16.13it/s]"
     ]
    },
    {
     "name": "stdout",
     "output_type": "stream",
     "text": [
      "Could have Bought\n",
      "Could have Bought\n"
     ]
    },
    {
     "name": "stderr",
     "output_type": "stream",
     "text": [
      " 23%|█████████████████▎                                                          | 16917/74060 [17:39<59:16, 16.07it/s]"
     ]
    },
    {
     "name": "stdout",
     "output_type": "stream",
     "text": [
      "Could have Bought\n"
     ]
    },
    {
     "name": "stderr",
     "output_type": "stream",
     "text": [
      " 23%|█████████████████▍                                                          | 17029/74060 [17:46<58:46, 16.17it/s]"
     ]
    },
    {
     "name": "stdout",
     "output_type": "stream",
     "text": [
      "Could have Bought\n",
      "Could have Bought\n",
      "Could have Bought\n",
      "Could have Bought\n"
     ]
    },
    {
     "name": "stderr",
     "output_type": "stream",
     "text": [
      " 23%|█████████████████▍                                                          | 17037/74060 [17:47<58:56, 16.12it/s]"
     ]
    },
    {
     "name": "stdout",
     "output_type": "stream",
     "text": [
      "Could have Bought\n"
     ]
    },
    {
     "name": "stderr",
     "output_type": "stream",
     "text": [
      " 23%|█████████████████▍                                                          | 17043/74060 [17:47<59:47, 15.89it/s]"
     ]
    },
    {
     "name": "stdout",
     "output_type": "stream",
     "text": [
      "Could have Bought\n",
      "Could have Bought\n",
      "Could have Bought\n",
      "Could have Bought\n"
     ]
    },
    {
     "name": "stderr",
     "output_type": "stream",
     "text": [
      " 23%|█████████████████▍                                                          | 17047/74060 [17:47<59:49, 15.88it/s]"
     ]
    },
    {
     "name": "stdout",
     "output_type": "stream",
     "text": [
      "Could have Bought\n"
     ]
    },
    {
     "name": "stderr",
     "output_type": "stream",
     "text": [
      " 23%|█████████████████▍                                                          | 17051/74060 [17:48<59:47, 15.89it/s]"
     ]
    },
    {
     "name": "stdout",
     "output_type": "stream",
     "text": [
      "Could have Bought\n"
     ]
    },
    {
     "name": "stderr",
     "output_type": "stream",
     "text": [
      " 23%|█████████████████▍                                                        | 17403/74060 [18:10<1:00:10, 15.69it/s]"
     ]
    },
    {
     "name": "stdout",
     "output_type": "stream",
     "text": [
      "CMP =  904.8500000000001\n",
      "Shares Sold\n",
      "Average Predicted =  894.0748\n",
      "Could have Sold\n",
      "Could have Sold\n",
      "Could have Sold\n"
     ]
    },
    {
     "name": "stderr",
     "output_type": "stream",
     "text": [
      " 24%|█████████████████▍                                                        | 17407/74060 [18:11<1:01:51, 15.26it/s]"
     ]
    },
    {
     "name": "stdout",
     "output_type": "stream",
     "text": [
      "Could have Sold\n",
      "Could have Sold\n"
     ]
    },
    {
     "name": "stderr",
     "output_type": "stream",
     "text": [
      " 24%|██████████████████                                                          | 17653/74060 [18:26<56:15, 16.71it/s]"
     ]
    },
    {
     "name": "stdout",
     "output_type": "stream",
     "text": [
      "CMP =  968.0\n",
      "Shares Bought =  10.0\n",
      "Average Predicted =  979.1128\n",
      "Could have Bought\n",
      "Could have Bought\n"
     ]
    },
    {
     "name": "stderr",
     "output_type": "stream",
     "text": [
      " 24%|██████████████████▏                                                         | 17669/74060 [18:27<56:13, 16.72it/s]"
     ]
    },
    {
     "name": "stdout",
     "output_type": "stream",
     "text": [
      "Could have Bought\n"
     ]
    },
    {
     "name": "stderr",
     "output_type": "stream",
     "text": [
      " 24%|██████████████████▏                                                         | 17673/74060 [18:28<56:58, 16.50it/s]"
     ]
    },
    {
     "name": "stdout",
     "output_type": "stream",
     "text": [
      "Could have Bought\n"
     ]
    },
    {
     "name": "stderr",
     "output_type": "stream",
     "text": [
      " 24%|██████████████████▏                                                         | 17707/74060 [18:30<56:45, 16.55it/s]"
     ]
    },
    {
     "name": "stdout",
     "output_type": "stream",
     "text": [
      "Could have Bought\n",
      "Could have Bought\n"
     ]
    },
    {
     "name": "stderr",
     "output_type": "stream",
     "text": [
      " 24%|██████████████████▏                                                         | 17769/74060 [18:33<57:04, 16.44it/s]"
     ]
    },
    {
     "name": "stdout",
     "output_type": "stream",
     "text": [
      "Could have Bought\n"
     ]
    },
    {
     "name": "stderr",
     "output_type": "stream",
     "text": [
      " 24%|██████████████████▏                                                         | 17779/74060 [18:34<59:51, 15.67it/s]"
     ]
    },
    {
     "name": "stdout",
     "output_type": "stream",
     "text": [
      "Could have Bought\n",
      "Could have Bought\n",
      "Could have Bought\n"
     ]
    },
    {
     "name": "stderr",
     "output_type": "stream",
     "text": [
      " 24%|██████████████████▎                                                         | 17787/74060 [18:35<58:12, 16.11it/s]"
     ]
    },
    {
     "name": "stdout",
     "output_type": "stream",
     "text": [
      "CMP =  970.75\n",
      "Shares Sold\n",
      "Average Predicted =  958.80505\n",
      "Could have Sold\n",
      "Could have Sold\n",
      "Could have Sold\n"
     ]
    },
    {
     "name": "stderr",
     "output_type": "stream",
     "text": [
      " 24%|██████████████████▎                                                         | 17839/74060 [18:38<56:08, 16.69it/s]"
     ]
    },
    {
     "name": "stdout",
     "output_type": "stream",
     "text": [
      "CMP =  957.6500000000001\n",
      "Shares Bought =  10.0\n",
      "Average Predicted =  969.1086\n",
      "Could have Bought\n",
      "Could have Bought\n"
     ]
    },
    {
     "name": "stderr",
     "output_type": "stream",
     "text": [
      " 25%|██████████████████▋                                                         | 18153/74060 [18:56<52:37, 17.71it/s]"
     ]
    },
    {
     "name": "stdout",
     "output_type": "stream",
     "text": [
      "CMP =  992.05\n",
      "Shares Sold\n",
      "Average Predicted =  980.3302\n",
      "Could have Sold\n",
      "Could have Sold\n"
     ]
    },
    {
     "name": "stderr",
     "output_type": "stream",
     "text": [
      " 25%|██████████████████▋                                                         | 18201/74060 [18:59<53:14, 17.49it/s]"
     ]
    },
    {
     "name": "stdout",
     "output_type": "stream",
     "text": [
      "CMP =  988.75\n",
      "Shares Bought =  10.0\n",
      "Average Predicted =  1000.6338\n",
      "Could have Bought\n"
     ]
    },
    {
     "name": "stderr",
     "output_type": "stream",
     "text": [
      " 25%|██████████████████▉                                                         | 18497/74060 [19:17<53:34, 17.29it/s]"
     ]
    },
    {
     "name": "stdout",
     "output_type": "stream",
     "text": [
      "Could have Bought\n",
      "Could have Bought\n",
      "Could have Bought\n",
      "Could have Bought\n"
     ]
    },
    {
     "name": "stderr",
     "output_type": "stream",
     "text": [
      " 25%|██████████████████▉                                                         | 18501/74060 [19:17<54:24, 17.02it/s]"
     ]
    },
    {
     "name": "stdout",
     "output_type": "stream",
     "text": [
      "Could have Bought\n",
      "Could have Bought\n",
      "Could have Bought\n"
     ]
    },
    {
     "name": "stderr",
     "output_type": "stream",
     "text": [
      " 25%|███████████████████                                                         | 18515/74060 [19:18<53:17, 17.37it/s]"
     ]
    },
    {
     "name": "stdout",
     "output_type": "stream",
     "text": [
      "Could have Bought\n"
     ]
    },
    {
     "name": "stderr",
     "output_type": "stream",
     "text": [
      " 25%|███████████████████                                                         | 18527/74060 [19:19<52:32, 17.62it/s]"
     ]
    },
    {
     "name": "stdout",
     "output_type": "stream",
     "text": [
      "Could have Bought\n",
      "Could have Bought\n",
      "Could have Bought\n",
      "Could have Bought\n"
     ]
    },
    {
     "name": "stderr",
     "output_type": "stream",
     "text": [
      " 25%|███████████████████                                                         | 18531/74060 [19:19<52:40, 17.57it/s]"
     ]
    },
    {
     "name": "stdout",
     "output_type": "stream",
     "text": [
      "Could have Bought\n",
      "Could have Bought\n",
      "Could have Bought\n",
      "Could have Bought\n"
     ]
    },
    {
     "name": "stderr",
     "output_type": "stream",
     "text": [
      " 25%|███████████████████                                                         | 18535/74060 [19:19<52:29, 17.63it/s]"
     ]
    },
    {
     "name": "stdout",
     "output_type": "stream",
     "text": [
      "Could have Bought\n",
      "Could have Bought\n",
      "Could have Bought\n",
      "Could have Bought\n"
     ]
    },
    {
     "name": "stderr",
     "output_type": "stream",
     "text": [
      " 25%|███████████████████                                                         | 18539/74060 [19:19<52:31, 17.62it/s]"
     ]
    },
    {
     "name": "stdout",
     "output_type": "stream",
     "text": [
      "Could have Bought\n",
      "Could have Bought\n",
      "Could have Bought\n",
      "Could have Bought\n"
     ]
    },
    {
     "name": "stderr",
     "output_type": "stream",
     "text": [
      " 25%|███████████████████                                                         | 18543/74060 [19:20<52:42, 17.55it/s]"
     ]
    },
    {
     "name": "stdout",
     "output_type": "stream",
     "text": [
      "Could have Bought\n",
      "Could have Bought\n",
      "Could have Bought\n",
      "Could have Bought\n"
     ]
    },
    {
     "name": "stderr",
     "output_type": "stream",
     "text": [
      " 25%|███████████████████                                                         | 18547/74060 [19:20<54:01, 17.12it/s]"
     ]
    },
    {
     "name": "stdout",
     "output_type": "stream",
     "text": [
      "Could have Bought\n",
      "Could have Bought\n",
      "Could have Bought\n"
     ]
    },
    {
     "name": "stderr",
     "output_type": "stream",
     "text": [
      " 25%|███████████████████                                                         | 18559/74060 [19:20<53:00, 17.45it/s]"
     ]
    },
    {
     "name": "stdout",
     "output_type": "stream",
     "text": [
      "Could have Bought\n",
      "Could have Bought\n",
      "Could have Bought\n",
      "Could have Bought\n"
     ]
    },
    {
     "name": "stderr",
     "output_type": "stream",
     "text": [
      " 25%|███████████████████                                                         | 18563/74060 [19:21<53:18, 17.35it/s]"
     ]
    },
    {
     "name": "stdout",
     "output_type": "stream",
     "text": [
      "Could have Bought\n"
     ]
    },
    {
     "name": "stderr",
     "output_type": "stream",
     "text": [
      " 25%|███████████████████▏                                                        | 18697/74060 [19:28<52:32, 17.56it/s]"
     ]
    },
    {
     "name": "stdout",
     "output_type": "stream",
     "text": [
      "Could have Bought\n"
     ]
    },
    {
     "name": "stderr",
     "output_type": "stream",
     "text": [
      " 26%|███████████████████▍                                                        | 18937/74060 [19:42<55:08, 16.66it/s]"
     ]
    },
    {
     "name": "stdout",
     "output_type": "stream",
     "text": [
      "Could have Bought\n",
      "Could have Bought\n"
     ]
    },
    {
     "name": "stderr",
     "output_type": "stream",
     "text": [
      " 26%|███████████████████▍                                                        | 18941/74060 [19:42<54:44, 16.78it/s]"
     ]
    },
    {
     "name": "stdout",
     "output_type": "stream",
     "text": [
      "Could have Bought\n",
      "Could have Bought\n"
     ]
    },
    {
     "name": "stderr",
     "output_type": "stream",
     "text": [
      " 26%|███████████████████▍                                                        | 18965/74060 [19:44<53:35, 17.13it/s]"
     ]
    },
    {
     "name": "stdout",
     "output_type": "stream",
     "text": [
      "Could have Bought\n"
     ]
    },
    {
     "name": "stderr",
     "output_type": "stream",
     "text": [
      " 26%|███████████████████▍                                                        | 18975/74060 [19:44<53:11, 17.26it/s]"
     ]
    },
    {
     "name": "stdout",
     "output_type": "stream",
     "text": [
      "Could have Bought\n",
      "Could have Bought\n"
     ]
    },
    {
     "name": "stderr",
     "output_type": "stream",
     "text": [
      " 26%|███████████████████▎                                                      | 19277/74060 [20:03<1:00:07, 15.18it/s]"
     ]
    },
    {
     "name": "stdout",
     "output_type": "stream",
     "text": [
      "CMP =  1008.9999999999999\n",
      "Shares Sold\n",
      "Average Predicted =  995.95105\n",
      "Could have Sold\n",
      "Could have Sold\n",
      "Could have Sold\n"
     ]
    },
    {
     "name": "stderr",
     "output_type": "stream",
     "text": [
      " 26%|███████████████████▎                                                      | 19281/74060 [20:03<1:01:05, 14.94it/s]"
     ]
    },
    {
     "name": "stdout",
     "output_type": "stream",
     "text": [
      "Could have Sold\n",
      "Could have Sold\n",
      "Could have Sold\n"
     ]
    },
    {
     "name": "stderr",
     "output_type": "stream",
     "text": [
      " 26%|███████████████████▎                                                      | 19285/74060 [20:04<1:01:35, 14.82it/s]"
     ]
    },
    {
     "name": "stdout",
     "output_type": "stream",
     "text": [
      "Could have Sold\n",
      "Could have Sold\n",
      "Could have Sold\n",
      "Could have Sold\n"
     ]
    },
    {
     "name": "stderr",
     "output_type": "stream",
     "text": [
      " 26%|███████████████████▎                                                      | 19289/74060 [20:04<1:00:23, 15.11it/s]"
     ]
    },
    {
     "name": "stdout",
     "output_type": "stream",
     "text": [
      "Could have Sold\n",
      "Could have Sold\n"
     ]
    },
    {
     "name": "stderr",
     "output_type": "stream",
     "text": [
      " 26%|███████████████████▎                                                      | 19293/74060 [20:04<1:00:30, 15.09it/s]"
     ]
    },
    {
     "name": "stdout",
     "output_type": "stream",
     "text": [
      "Could have Sold\n"
     ]
    },
    {
     "name": "stderr",
     "output_type": "stream",
     "text": [
      " 26%|███████████████████▎                                                      | 19311/74060 [20:05<1:02:33, 14.58it/s]"
     ]
    },
    {
     "name": "stdout",
     "output_type": "stream",
     "text": [
      "CMP =  1038.0\n",
      "Shares Bought =  10.0\n",
      "Average Predicted =  1049.6139\n",
      "Could have Bought\n"
     ]
    },
    {
     "name": "stderr",
     "output_type": "stream",
     "text": [
      " 26%|███████████████████▎                                                      | 19317/74060 [20:06<1:01:12, 14.91it/s]"
     ]
    },
    {
     "name": "stdout",
     "output_type": "stream",
     "text": [
      "Could have Bought\n",
      "Could have Bought\n",
      "Could have Bought\n",
      "Could have Bought\n"
     ]
    },
    {
     "name": "stderr",
     "output_type": "stream",
     "text": [
      " 26%|███████████████████▎                                                      | 19321/74060 [20:06<1:01:23, 14.86it/s]"
     ]
    },
    {
     "name": "stdout",
     "output_type": "stream",
     "text": [
      "Could have Bought\n",
      "Could have Bought\n",
      "Could have Bought\n"
     ]
    },
    {
     "name": "stderr",
     "output_type": "stream",
     "text": [
      " 26%|███████████████████▎                                                      | 19325/74060 [20:06<1:00:10, 15.16it/s]"
     ]
    },
    {
     "name": "stdout",
     "output_type": "stream",
     "text": [
      "Could have Bought\n",
      "Could have Bought\n",
      "Could have Bought\n",
      "Could have Bought\n"
     ]
    },
    {
     "name": "stderr",
     "output_type": "stream",
     "text": [
      " 26%|███████████████████▎                                                      | 19329/74060 [20:07<1:00:44, 15.02it/s]"
     ]
    },
    {
     "name": "stdout",
     "output_type": "stream",
     "text": [
      "Could have Bought\n",
      "Could have Bought\n",
      "Could have Bought\n",
      "Could have Bought\n"
     ]
    },
    {
     "name": "stderr",
     "output_type": "stream",
     "text": [
      " 26%|███████████████████▎                                                      | 19357/74060 [20:08<1:00:40, 15.03it/s]"
     ]
    },
    {
     "name": "stdout",
     "output_type": "stream",
     "text": [
      "Could have Bought\n",
      "Could have Bought\n",
      "Could have Bought\n"
     ]
    },
    {
     "name": "stderr",
     "output_type": "stream",
     "text": [
      " 26%|███████████████████▍                                                      | 19393/74060 [20:11<1:01:11, 14.89it/s]"
     ]
    },
    {
     "name": "stdout",
     "output_type": "stream",
     "text": [
      "Could have Bought\n"
     ]
    },
    {
     "name": "stderr",
     "output_type": "stream",
     "text": [
      " 26%|███████████████████▍                                                      | 19471/74060 [20:16<1:01:18, 14.84it/s]"
     ]
    },
    {
     "name": "stdout",
     "output_type": "stream",
     "text": [
      "Could have Bought\n"
     ]
    },
    {
     "name": "stderr",
     "output_type": "stream",
     "text": [
      " 26%|███████████████████▍                                                      | 19501/74060 [20:18<1:00:06, 15.13it/s]"
     ]
    },
    {
     "name": "stdout",
     "output_type": "stream",
     "text": [
      "Could have Bought\n"
     ]
    },
    {
     "name": "stderr",
     "output_type": "stream",
     "text": [
      " 26%|███████████████████▌                                                      | 19531/74060 [20:20<1:00:12, 15.09it/s]"
     ]
    },
    {
     "name": "stdout",
     "output_type": "stream",
     "text": [
      "Could have Bought\n",
      "Could have Bought\n"
     ]
    },
    {
     "name": "stderr",
     "output_type": "stream",
     "text": [
      " 26%|███████████████████▌                                                      | 19615/74060 [20:26<1:00:24, 15.02it/s]"
     ]
    },
    {
     "name": "stdout",
     "output_type": "stream",
     "text": [
      "Could have Bought\n",
      "Could have Bought\n",
      "Could have Bought\n"
     ]
    },
    {
     "name": "stderr",
     "output_type": "stream",
     "text": [
      " 26%|████████████████████▏                                                       | 19619/74060 [20:26<59:33, 15.23it/s]"
     ]
    },
    {
     "name": "stdout",
     "output_type": "stream",
     "text": [
      "Could have Bought\n",
      "Could have Bought\n",
      "Could have Bought\n",
      "Could have Bought\n"
     ]
    },
    {
     "name": "stderr",
     "output_type": "stream",
     "text": [
      " 27%|███████████████████▋                                                      | 19659/74060 [20:29<1:00:25, 15.00it/s]"
     ]
    },
    {
     "name": "stdout",
     "output_type": "stream",
     "text": [
      "Could have Bought\n",
      "Could have Bought\n",
      "Could have Bought\n",
      "Could have Bought\n"
     ]
    },
    {
     "name": "stderr",
     "output_type": "stream",
     "text": [
      " 27%|███████████████████▋                                                      | 19663/74060 [20:29<1:00:35, 14.96it/s]"
     ]
    },
    {
     "name": "stdout",
     "output_type": "stream",
     "text": [
      "Could have Bought\n",
      "Could have Bought\n",
      "Could have Bought\n",
      "Could have Bought\n"
     ]
    },
    {
     "name": "stderr",
     "output_type": "stream",
     "text": [
      " 27%|████████████████████▏                                                       | 19667/74060 [20:29<59:43, 15.18it/s]"
     ]
    },
    {
     "name": "stdout",
     "output_type": "stream",
     "text": [
      "Could have Bought\n",
      "Could have Bought\n",
      "Could have Bought\n"
     ]
    },
    {
     "name": "stderr",
     "output_type": "stream",
     "text": [
      " 27%|████████████████████▏                                                       | 19671/74060 [20:29<59:58, 15.11it/s]"
     ]
    },
    {
     "name": "stdout",
     "output_type": "stream",
     "text": [
      "Could have Bought\n",
      "Could have Bought\n",
      "Could have Bought\n",
      "Could have Bought\n"
     ]
    },
    {
     "name": "stderr",
     "output_type": "stream",
     "text": [
      "\r",
      " 27%|████████████████████▏                                                       | 19673/74060 [20:30<59:38, 15.20it/s]"
     ]
    },
    {
     "name": "stdout",
     "output_type": "stream",
     "text": [
      "Could have Bought\n"
     ]
    },
    {
     "name": "stderr",
     "output_type": "stream",
     "text": [
      " 27%|███████████████████▋                                                      | 19685/74060 [20:30<1:00:42, 14.93it/s]"
     ]
    },
    {
     "name": "stdout",
     "output_type": "stream",
     "text": [
      "Could have Bought\n",
      "Could have Bought\n",
      "Could have Bought\n",
      "Could have Bought\n"
     ]
    },
    {
     "name": "stderr",
     "output_type": "stream",
     "text": [
      "\r",
      " 27%|███████████████████▋                                                      | 19687/74060 [20:31<1:00:07, 15.07it/s]"
     ]
    },
    {
     "name": "stdout",
     "output_type": "stream",
     "text": [
      "Could have Bought\n",
      "Could have Bought\n",
      "Could have Bought\n"
     ]
    },
    {
     "name": "stderr",
     "output_type": "stream",
     "text": [
      " 27%|███████████████████▋                                                      | 19691/74060 [20:31<1:00:29, 14.98it/s]"
     ]
    },
    {
     "name": "stdout",
     "output_type": "stream",
     "text": [
      "Could have Bought\n",
      "Could have Bought\n",
      "Could have Bought\n"
     ]
    },
    {
     "name": "stderr",
     "output_type": "stream",
     "text": [
      " 27%|███████████████████▋                                                      | 19695/74060 [20:31<1:00:49, 14.89it/s]"
     ]
    },
    {
     "name": "stdout",
     "output_type": "stream",
     "text": [
      "Could have Bought\n",
      "Could have Bought\n",
      "Could have Bought\n"
     ]
    },
    {
     "name": "stderr",
     "output_type": "stream",
     "text": [
      " 27%|███████████████████▊                                                      | 19829/74060 [20:40<1:00:02, 15.05it/s]"
     ]
    },
    {
     "name": "stdout",
     "output_type": "stream",
     "text": [
      "Could have Bought\n",
      "Could have Bought\n",
      "Could have Bought\n",
      "Could have Bought\n"
     ]
    },
    {
     "name": "stderr",
     "output_type": "stream",
     "text": [
      " 27%|███████████████████▊                                                      | 19833/74060 [20:40<1:01:26, 14.71it/s]"
     ]
    },
    {
     "name": "stdout",
     "output_type": "stream",
     "text": [
      "Could have Bought\n",
      "Could have Bought\n",
      "Could have Bought\n",
      "Could have Bought\n"
     ]
    },
    {
     "name": "stderr",
     "output_type": "stream",
     "text": [
      " 27%|███████████████████▊                                                      | 19839/74060 [20:41<1:01:20, 14.73it/s]"
     ]
    },
    {
     "name": "stdout",
     "output_type": "stream",
     "text": [
      "Could have Bought\n",
      "Could have Bought\n"
     ]
    },
    {
     "name": "stderr",
     "output_type": "stream",
     "text": [
      " 27%|███████████████████▊                                                      | 19843/74060 [20:41<1:01:06, 14.79it/s]"
     ]
    },
    {
     "name": "stdout",
     "output_type": "stream",
     "text": [
      "Could have Bought\n",
      "Could have Bought\n",
      "Could have Bought\n",
      "Could have Bought\n"
     ]
    },
    {
     "name": "stderr",
     "output_type": "stream",
     "text": [
      " 27%|███████████████████▊                                                      | 19847/74060 [20:41<1:00:41, 14.89it/s]"
     ]
    },
    {
     "name": "stdout",
     "output_type": "stream",
     "text": [
      "Could have Bought\n",
      "Could have Bought\n",
      "Could have Bought\n",
      "Could have Bought\n"
     ]
    },
    {
     "name": "stderr",
     "output_type": "stream",
     "text": [
      " 27%|███████████████████▊                                                      | 19851/74060 [20:41<1:00:33, 14.92it/s]"
     ]
    },
    {
     "name": "stdout",
     "output_type": "stream",
     "text": [
      "Could have Bought\n",
      "Could have Bought\n",
      "Could have Bought\n",
      "Could have Bought\n"
     ]
    },
    {
     "name": "stderr",
     "output_type": "stream",
     "text": [
      " 27%|███████████████████▊                                                      | 19855/74060 [20:42<1:00:11, 15.01it/s]"
     ]
    },
    {
     "name": "stdout",
     "output_type": "stream",
     "text": [
      "Could have Bought\n"
     ]
    },
    {
     "name": "stderr",
     "output_type": "stream",
     "text": [
      " 27%|████████████████████▍                                                       | 19891/74060 [20:44<59:54, 15.07it/s]"
     ]
    },
    {
     "name": "stdout",
     "output_type": "stream",
     "text": [
      "Could have Bought\n"
     ]
    },
    {
     "name": "stderr",
     "output_type": "stream",
     "text": [
      " 27%|███████████████████▉                                                      | 19945/74060 [20:48<1:00:38, 14.87it/s]"
     ]
    },
    {
     "name": "stdout",
     "output_type": "stream",
     "text": [
      "Could have Bought\n",
      "Could have Bought\n",
      "Could have Bought\n",
      "Could have Bought\n"
     ]
    },
    {
     "name": "stderr",
     "output_type": "stream",
     "text": [
      "\r",
      " 27%|███████████████████▉                                                      | 19947/74060 [20:48<1:01:14, 14.73it/s]"
     ]
    },
    {
     "name": "stdout",
     "output_type": "stream",
     "text": [
      "Could have Bought\n",
      "Could have Bought\n"
     ]
    },
    {
     "name": "stderr",
     "output_type": "stream",
     "text": [
      " 27%|███████████████████▉                                                      | 19969/74060 [20:49<1:00:43, 14.84it/s]"
     ]
    },
    {
     "name": "stdout",
     "output_type": "stream",
     "text": [
      "Could have Bought\n",
      "Could have Bought\n",
      "Could have Bought\n",
      "Could have Bought\n"
     ]
    },
    {
     "name": "stderr",
     "output_type": "stream",
     "text": [
      " 27%|███████████████████▉                                                      | 19973/74060 [20:50<1:00:29, 14.90it/s]"
     ]
    },
    {
     "name": "stdout",
     "output_type": "stream",
     "text": [
      "Could have Bought\n",
      "Could have Bought\n",
      "Could have Bought\n",
      "Could have Bought\n"
     ]
    },
    {
     "name": "stderr",
     "output_type": "stream",
     "text": [
      " 27%|███████████████████▉                                                      | 19977/74060 [20:50<1:01:36, 14.63it/s]"
     ]
    },
    {
     "name": "stdout",
     "output_type": "stream",
     "text": [
      "Could have Bought\n"
     ]
    },
    {
     "name": "stderr",
     "output_type": "stream",
     "text": [
      " 27%|███████████████████▉                                                      | 20009/74060 [20:52<1:00:13, 14.96it/s]"
     ]
    },
    {
     "name": "stdout",
     "output_type": "stream",
     "text": [
      "Could have Bought\n"
     ]
    },
    {
     "name": "stderr",
     "output_type": "stream",
     "text": [
      " 27%|███████████████████▉                                                      | 20013/74060 [20:52<1:01:02, 14.76it/s]"
     ]
    },
    {
     "name": "stdout",
     "output_type": "stream",
     "text": [
      "Could have Bought\n",
      "Could have Bought\n"
     ]
    },
    {
     "name": "stderr",
     "output_type": "stream",
     "text": [
      " 27%|████████████████████                                                      | 20019/74060 [20:53<1:00:54, 14.79it/s]"
     ]
    },
    {
     "name": "stdout",
     "output_type": "stream",
     "text": [
      "Could have Bought\n",
      "Could have Bought\n",
      "Could have Bought\n",
      "Could have Bought\n"
     ]
    },
    {
     "name": "stderr",
     "output_type": "stream",
     "text": [
      " 27%|████████████████████                                                      | 20023/74060 [20:53<1:00:40, 14.84it/s]"
     ]
    },
    {
     "name": "stdout",
     "output_type": "stream",
     "text": [
      "Could have Bought\n",
      "Could have Bought\n",
      "Could have Bought\n"
     ]
    },
    {
     "name": "stderr",
     "output_type": "stream",
     "text": [
      " 27%|████████████████████▌                                                       | 20039/74060 [20:54<59:37, 15.10it/s]"
     ]
    },
    {
     "name": "stdout",
     "output_type": "stream",
     "text": [
      "Could have Bought\n",
      "Could have Bought\n",
      "Could have Bought\n"
     ]
    },
    {
     "name": "stderr",
     "output_type": "stream",
     "text": [
      " 27%|████████████████████▏                                                     | 20157/74060 [21:02<1:00:25, 14.87it/s]"
     ]
    },
    {
     "name": "stdout",
     "output_type": "stream",
     "text": [
      "Could have Bought\n",
      "Could have Bought\n"
     ]
    },
    {
     "name": "stderr",
     "output_type": "stream",
     "text": [
      " 27%|████████████████████▎                                                     | 20305/74060 [21:12<1:00:29, 14.81it/s]"
     ]
    },
    {
     "name": "stdout",
     "output_type": "stream",
     "text": [
      "Could have Bought\n"
     ]
    },
    {
     "name": "stderr",
     "output_type": "stream",
     "text": [
      " 27%|████████████████████▎                                                     | 20347/74060 [21:15<1:00:00, 14.92it/s]"
     ]
    },
    {
     "name": "stdout",
     "output_type": "stream",
     "text": [
      "Could have Bought\n",
      "Could have Bought\n",
      "Could have Bought\n",
      "Could have Bought\n"
     ]
    },
    {
     "name": "stderr",
     "output_type": "stream",
     "text": [
      " 27%|████████████████████▎                                                     | 20351/74060 [21:15<1:00:01, 14.91it/s]"
     ]
    },
    {
     "name": "stdout",
     "output_type": "stream",
     "text": [
      "Could have Bought\n",
      "Could have Bought\n",
      "Could have Bought\n",
      "Could have Bought\n"
     ]
    },
    {
     "name": "stderr",
     "output_type": "stream",
     "text": [
      " 28%|████████████████████▉                                                       | 20401/74060 [21:18<51:44, 17.29it/s]"
     ]
    },
    {
     "name": "stdout",
     "output_type": "stream",
     "text": [
      "Could have Bought\n",
      "Could have Bought\n",
      "Could have Bought\n"
     ]
    },
    {
     "name": "stderr",
     "output_type": "stream",
     "text": [
      " 28%|████████████████████▉                                                       | 20405/74060 [21:19<51:16, 17.44it/s]"
     ]
    },
    {
     "name": "stdout",
     "output_type": "stream",
     "text": [
      "Could have Bought\n",
      "Could have Bought\n",
      "Could have Bought\n",
      "Could have Bought\n"
     ]
    },
    {
     "name": "stderr",
     "output_type": "stream",
     "text": [
      " 28%|████████████████████▉                                                       | 20409/74060 [21:19<51:37, 17.32it/s]"
     ]
    },
    {
     "name": "stdout",
     "output_type": "stream",
     "text": [
      "Could have Bought\n",
      "Could have Bought\n",
      "Could have Bought\n",
      "Could have Bought\n"
     ]
    },
    {
     "name": "stderr",
     "output_type": "stream",
     "text": [
      " 28%|████████████████████▉                                                       | 20415/74060 [21:19<51:59, 17.20it/s]"
     ]
    },
    {
     "name": "stdout",
     "output_type": "stream",
     "text": [
      "Could have Bought\n"
     ]
    },
    {
     "name": "stderr",
     "output_type": "stream",
     "text": [
      " 28%|█████████████████████▎                                                      | 20777/74060 [21:41<53:18, 16.66it/s]"
     ]
    },
    {
     "name": "stdout",
     "output_type": "stream",
     "text": [
      "Could have Bought\n",
      "Could have Bought\n",
      "Could have Bought\n",
      "Could have Bought\n"
     ]
    },
    {
     "name": "stderr",
     "output_type": "stream",
     "text": [
      " 28%|█████████████████████▎                                                      | 20781/74060 [21:41<52:49, 16.81it/s]"
     ]
    },
    {
     "name": "stdout",
     "output_type": "stream",
     "text": [
      "Could have Bought\n",
      "Could have Bought\n",
      "Could have Bought\n",
      "Could have Bought\n"
     ]
    },
    {
     "name": "stderr",
     "output_type": "stream",
     "text": [
      " 28%|█████████████████████▋                                                      | 21081/74060 [21:59<49:28, 17.85it/s]"
     ]
    },
    {
     "name": "stdout",
     "output_type": "stream",
     "text": [
      "Condition 3\n",
      "CMP =  983.4999999999999\n",
      "Shares Sold\n",
      "Average Predicted =  970.8561\n",
      "Could have Sold\n"
     ]
    },
    {
     "name": "stderr",
     "output_type": "stream",
     "text": [
      " 29%|█████████████████████▋                                                      | 21163/74060 [22:03<49:41, 17.74it/s]"
     ]
    },
    {
     "name": "stdout",
     "output_type": "stream",
     "text": [
      "CMP =  969.75\n",
      "Shares Bought =  10.0\n",
      "Average Predicted =  980.2169\n",
      "Could have Bought\n",
      "Could have Bought\n",
      "Could have Bought\n"
     ]
    },
    {
     "name": "stderr",
     "output_type": "stream",
     "text": [
      " 29%|█████████████████████▋                                                      | 21167/74060 [22:03<49:37, 17.77it/s]"
     ]
    },
    {
     "name": "stdout",
     "output_type": "stream",
     "text": [
      "Could have Bought\n",
      "Could have Bought\n",
      "Could have Bought\n",
      "Could have Bought\n"
     ]
    },
    {
     "name": "stderr",
     "output_type": "stream",
     "text": [
      " 29%|█████████████████████▋                                                      | 21171/74060 [22:04<49:33, 17.79it/s]"
     ]
    },
    {
     "name": "stdout",
     "output_type": "stream",
     "text": [
      "Could have Bought\n",
      "Could have Bought\n"
     ]
    },
    {
     "name": "stderr",
     "output_type": "stream",
     "text": [
      " 29%|█████████████████████▊                                                      | 21211/74060 [22:06<50:17, 17.52it/s]"
     ]
    },
    {
     "name": "stdout",
     "output_type": "stream",
     "text": [
      "Could have Bought\n",
      "Could have Bought\n"
     ]
    },
    {
     "name": "stderr",
     "output_type": "stream",
     "text": [
      " 29%|█████████████████████▊                                                      | 21277/74060 [22:10<57:19, 15.35it/s]"
     ]
    },
    {
     "name": "stdout",
     "output_type": "stream",
     "text": [
      "Could have Bought\n",
      "Could have Bought\n",
      "Could have Bought\n"
     ]
    },
    {
     "name": "stderr",
     "output_type": "stream",
     "text": [
      " 29%|██████████████████████                                                      | 21479/74060 [22:24<58:23, 15.01it/s]"
     ]
    },
    {
     "name": "stdout",
     "output_type": "stream",
     "text": [
      "Could have Bought\n",
      "Could have Bought\n"
     ]
    },
    {
     "name": "stderr",
     "output_type": "stream",
     "text": [
      " 29%|██████████████████████                                                      | 21509/74060 [22:26<58:24, 14.99it/s]"
     ]
    },
    {
     "name": "stdout",
     "output_type": "stream",
     "text": [
      "Could have Bought\n"
     ]
    },
    {
     "name": "stderr",
     "output_type": "stream",
     "text": [
      " 29%|██████████████████████                                                      | 21527/74060 [22:27<58:23, 14.99it/s]"
     ]
    },
    {
     "name": "stdout",
     "output_type": "stream",
     "text": [
      "Condition 3\n",
      "CMP =  965.0\n",
      "Shares Sold\n",
      "Average Predicted =  952.56934\n",
      "Could have Sold\n",
      "Could have Sold\n",
      "Could have Sold\n"
     ]
    },
    {
     "name": "stderr",
     "output_type": "stream",
     "text": [
      " 29%|█████████████████████▋                                                    | 21757/74060 [22:43<1:02:00, 14.06it/s]"
     ]
    },
    {
     "name": "stdout",
     "output_type": "stream",
     "text": [
      "CMP =  948.0\n",
      "Shares Bought =  10.0\n",
      "Average Predicted =  958.44257\n",
      "Could have Bought\n",
      "Could have Bought\n"
     ]
    },
    {
     "name": "stderr",
     "output_type": "stream",
     "text": [
      " 29%|█████████████████████▋                                                    | 21761/74060 [22:43<1:01:08, 14.26it/s]"
     ]
    },
    {
     "name": "stdout",
     "output_type": "stream",
     "text": [
      "Could have Bought\n"
     ]
    },
    {
     "name": "stderr",
     "output_type": "stream",
     "text": [
      " 29%|█████████████████████▋                                                    | 21765/74060 [22:43<1:00:03, 14.51it/s]"
     ]
    },
    {
     "name": "stdout",
     "output_type": "stream",
     "text": [
      "Could have Bought\n",
      "Could have Bought\n",
      "Could have Bought\n"
     ]
    },
    {
     "name": "stderr",
     "output_type": "stream",
     "text": [
      " 29%|█████████████████████▊                                                    | 21769/74060 [22:44<1:00:13, 14.47it/s]"
     ]
    },
    {
     "name": "stdout",
     "output_type": "stream",
     "text": [
      "Could have Bought\n",
      "Could have Bought\n",
      "Could have Bought\n"
     ]
    },
    {
     "name": "stderr",
     "output_type": "stream",
     "text": [
      " 30%|█████████████████████▉                                                    | 21903/74060 [22:53<1:00:33, 14.36it/s]"
     ]
    },
    {
     "name": "stdout",
     "output_type": "stream",
     "text": [
      "Could have Bought\n"
     ]
    },
    {
     "name": "stderr",
     "output_type": "stream",
     "text": [
      " 30%|██████████████████████▍                                                     | 21907/74060 [22:53<59:22, 14.64it/s]"
     ]
    },
    {
     "name": "stdout",
     "output_type": "stream",
     "text": [
      "Could have Bought\n",
      "Could have Bought\n",
      "Could have Bought\n",
      "Could have Bought\n"
     ]
    },
    {
     "name": "stderr",
     "output_type": "stream",
     "text": [
      " 30%|██████████████████████▍                                                     | 21911/74060 [22:53<58:35, 14.83it/s]"
     ]
    },
    {
     "name": "stdout",
     "output_type": "stream",
     "text": [
      "Could have Bought\n",
      "Could have Bought\n"
     ]
    },
    {
     "name": "stderr",
     "output_type": "stream",
     "text": [
      " 30%|██████████████████████▊                                                     | 22277/74060 [23:18<59:21, 14.54it/s]"
     ]
    },
    {
     "name": "stdout",
     "output_type": "stream",
     "text": [
      "Could have Bought\n"
     ]
    },
    {
     "name": "stderr",
     "output_type": "stream",
     "text": [
      " 30%|██████████████████████▉                                                     | 22369/74060 [23:25<58:17, 14.78it/s]"
     ]
    },
    {
     "name": "stdout",
     "output_type": "stream",
     "text": [
      "Could have Bought\n"
     ]
    },
    {
     "name": "stderr",
     "output_type": "stream",
     "text": [
      " 31%|███████████████████████▎                                                    | 22675/74060 [23:45<56:15, 15.22it/s]"
     ]
    },
    {
     "name": "stdout",
     "output_type": "stream",
     "text": [
      "Could have Bought\n",
      "Could have Bought\n",
      "Could have Bought\n"
     ]
    },
    {
     "name": "stderr",
     "output_type": "stream",
     "text": [
      " 31%|██████████████████████▊                                                   | 22853/74060 [24:02<1:00:08, 14.19it/s]"
     ]
    },
    {
     "name": "stdout",
     "output_type": "stream",
     "text": [
      "Could have Bought\n"
     ]
    },
    {
     "name": "stderr",
     "output_type": "stream",
     "text": [
      " 31%|██████████████████████▉                                                   | 23007/74060 [24:26<1:00:24, 14.09it/s]"
     ]
    },
    {
     "name": "stdout",
     "output_type": "stream",
     "text": [
      "Could have Bought\n",
      "Could have Bought\n"
     ]
    },
    {
     "name": "stderr",
     "output_type": "stream",
     "text": [
      " 31%|███████████████████████                                                   | 23118/74060 [24:46<3:56:57,  3.58it/s]"
     ]
    },
    {
     "name": "stdout",
     "output_type": "stream",
     "text": [
      "Could have Bought\n"
     ]
    },
    {
     "name": "stderr",
     "output_type": "stream",
     "text": [
      " 31%|███████████████████████▏                                                  | 23176/74060 [24:55<3:47:17,  3.73it/s]"
     ]
    },
    {
     "name": "stdout",
     "output_type": "stream",
     "text": [
      "Could have Bought\n"
     ]
    },
    {
     "name": "stderr",
     "output_type": "stream",
     "text": [
      " 32%|███████████████████████▌                                                  | 23523/74060 [25:49<1:27:30,  9.62it/s]"
     ]
    },
    {
     "name": "stdout",
     "output_type": "stream",
     "text": [
      "Could have Bought\n",
      "Could have Bought\n",
      "Could have Bought\n",
      "Could have Bought\n"
     ]
    },
    {
     "name": "stderr",
     "output_type": "stream",
     "text": [
      " 32%|████████████████████████▌                                                   | 23916/74060 [26:43<51:12, 16.32it/s]"
     ]
    },
    {
     "name": "stdout",
     "output_type": "stream",
     "text": [
      "Could have Bought\n",
      "Could have Bought\n",
      "Could have Bought\n"
     ]
    },
    {
     "name": "stderr",
     "output_type": "stream",
     "text": [
      " 32%|████████████████████████▌                                                   | 23920/74060 [26:43<53:00, 15.76it/s]"
     ]
    },
    {
     "name": "stdout",
     "output_type": "stream",
     "text": [
      "Could have Bought\n",
      "Could have Bought\n",
      "Could have Bought\n",
      "Could have Bought\n"
     ]
    },
    {
     "name": "stderr",
     "output_type": "stream",
     "text": [
      " 32%|████████████████████████▌                                                   | 23924/74060 [26:43<52:32, 15.90it/s]"
     ]
    },
    {
     "name": "stdout",
     "output_type": "stream",
     "text": [
      "Could have Bought\n",
      "Could have Bought\n"
     ]
    },
    {
     "name": "stderr",
     "output_type": "stream",
     "text": [
      " 32%|████████████████████████▋                                                   | 24038/74060 [26:50<52:24, 15.91it/s]"
     ]
    },
    {
     "name": "stdout",
     "output_type": "stream",
     "text": [
      "Could have Bought\n",
      "Could have Bought\n",
      "Could have Bought\n",
      "Could have Bought\n"
     ]
    },
    {
     "name": "stderr",
     "output_type": "stream",
     "text": [
      " 32%|████████████████████████▋                                                   | 24042/74060 [26:50<51:54, 16.06it/s]"
     ]
    },
    {
     "name": "stdout",
     "output_type": "stream",
     "text": [
      "Could have Bought\n",
      "Could have Bought\n",
      "Could have Bought\n"
     ]
    },
    {
     "name": "stderr",
     "output_type": "stream",
     "text": [
      " 32%|████████████████████████▋                                                   | 24048/74060 [26:51<51:41, 16.13it/s]"
     ]
    },
    {
     "name": "stdout",
     "output_type": "stream",
     "text": [
      "Could have Bought\n",
      "Could have Bought\n",
      "Could have Bought\n"
     ]
    },
    {
     "name": "stderr",
     "output_type": "stream",
     "text": [
      " 33%|████████████████████████▊                                                   | 24160/74060 [26:58<52:06, 15.96it/s]"
     ]
    },
    {
     "name": "stdout",
     "output_type": "stream",
     "text": [
      "Could have Bought\n",
      "Could have Bought\n"
     ]
    },
    {
     "name": "stderr",
     "output_type": "stream",
     "text": [
      " 33%|█████████████████████████▏                                                  | 24562/74060 [27:24<52:41, 15.66it/s]"
     ]
    },
    {
     "name": "stdout",
     "output_type": "stream",
     "text": [
      "Could have Bought\n"
     ]
    },
    {
     "name": "stderr",
     "output_type": "stream",
     "text": [
      " 33%|█████████████████████████▎                                                  | 24656/74060 [27:30<51:55, 15.86it/s]"
     ]
    },
    {
     "name": "stdout",
     "output_type": "stream",
     "text": [
      "Could have Bought\n"
     ]
    },
    {
     "name": "stderr",
     "output_type": "stream",
     "text": [
      " 33%|█████████████████████████▎                                                  | 24670/74060 [27:30<52:07, 15.79it/s]"
     ]
    },
    {
     "name": "stdout",
     "output_type": "stream",
     "text": [
      "Could have Bought\n",
      "Could have Bought\n"
     ]
    },
    {
     "name": "stderr",
     "output_type": "stream",
     "text": [
      " 33%|█████████████████████████▎                                                  | 24674/74060 [27:31<52:22, 15.72it/s]"
     ]
    },
    {
     "name": "stdout",
     "output_type": "stream",
     "text": [
      "Could have Bought\n",
      "Could have Bought\n"
     ]
    },
    {
     "name": "stderr",
     "output_type": "stream",
     "text": [
      " 34%|█████████████████████████▍                                                  | 24822/74060 [27:40<53:03, 15.46it/s]"
     ]
    },
    {
     "name": "stdout",
     "output_type": "stream",
     "text": [
      "Could have Bought\n",
      "Could have Bought\n"
     ]
    },
    {
     "name": "stderr",
     "output_type": "stream",
     "text": [
      " 34%|█████████████████████████▌                                                  | 24908/74060 [27:46<52:41, 15.55it/s]"
     ]
    },
    {
     "name": "stdout",
     "output_type": "stream",
     "text": [
      "Could have Bought\n",
      "Could have Bought\n",
      "Could have Bought\n",
      "Could have Bought\n"
     ]
    },
    {
     "name": "stderr",
     "output_type": "stream",
     "text": [
      " 34%|█████████████████████████▌                                                  | 24912/74060 [27:46<52:23, 15.64it/s]"
     ]
    },
    {
     "name": "stdout",
     "output_type": "stream",
     "text": [
      "Could have Bought\n",
      "Could have Bought\n",
      "Could have Bought\n",
      "Could have Bought\n"
     ]
    },
    {
     "name": "stderr",
     "output_type": "stream",
     "text": [
      " 34%|█████████████████████████▌                                                  | 24916/74060 [27:46<52:27, 15.61it/s]"
     ]
    },
    {
     "name": "stdout",
     "output_type": "stream",
     "text": [
      "Could have Bought\n",
      "Could have Bought\n",
      "Could have Bought\n"
     ]
    },
    {
     "name": "stderr",
     "output_type": "stream",
     "text": [
      " 34%|█████████████████████████▌                                                  | 24920/74060 [27:46<52:08, 15.71it/s]"
     ]
    },
    {
     "name": "stdout",
     "output_type": "stream",
     "text": [
      "Could have Bought\n",
      "Could have Bought\n",
      "Could have Bought\n",
      "Could have Bought\n"
     ]
    },
    {
     "name": "stderr",
     "output_type": "stream",
     "text": [
      " 34%|█████████████████████████▌                                                  | 24924/74060 [27:47<52:25, 15.62it/s]"
     ]
    },
    {
     "name": "stdout",
     "output_type": "stream",
     "text": [
      "Could have Bought\n",
      "Could have Bought\n",
      "Could have Bought\n"
     ]
    },
    {
     "name": "stderr",
     "output_type": "stream",
     "text": [
      " 34%|█████████████████████████▌                                                  | 24944/74060 [27:48<52:36, 15.56it/s]"
     ]
    },
    {
     "name": "stdout",
     "output_type": "stream",
     "text": [
      "Could have Bought\n",
      "Could have Bought\n",
      "Could have Bought\n",
      "Could have Bought\n"
     ]
    },
    {
     "name": "stderr",
     "output_type": "stream",
     "text": [
      " 34%|█████████████████████████▌                                                  | 24948/74060 [27:48<52:18, 15.65it/s]"
     ]
    },
    {
     "name": "stdout",
     "output_type": "stream",
     "text": [
      "Could have Bought\n"
     ]
    },
    {
     "name": "stderr",
     "output_type": "stream",
     "text": [
      " 34%|█████████████████████████▋                                                  | 25012/74060 [27:52<51:12, 15.96it/s]"
     ]
    },
    {
     "name": "stdout",
     "output_type": "stream",
     "text": [
      "Could have Bought\n",
      "Could have Bought\n",
      "Could have Bought\n",
      "Could have Bought\n"
     ]
    },
    {
     "name": "stderr",
     "output_type": "stream",
     "text": [
      " 34%|█████████████████████████▋                                                  | 25016/74060 [27:53<51:09, 15.98it/s]"
     ]
    },
    {
     "name": "stdout",
     "output_type": "stream",
     "text": [
      "Could have Bought\n",
      "Could have Bought\n",
      "Could have Bought\n",
      "Could have Bought\n"
     ]
    },
    {
     "name": "stderr",
     "output_type": "stream",
     "text": [
      " 34%|█████████████████████████▋                                                  | 25020/74060 [27:53<51:15, 15.94it/s]"
     ]
    },
    {
     "name": "stdout",
     "output_type": "stream",
     "text": [
      "Could have Bought\n",
      "Could have Bought\n",
      "Could have Bought\n"
     ]
    },
    {
     "name": "stderr",
     "output_type": "stream",
     "text": [
      " 35%|██████████████████████████▍                                                 | 25772/74060 [28:40<50:38, 15.89it/s]"
     ]
    },
    {
     "name": "stdout",
     "output_type": "stream",
     "text": [
      "Could have Bought\n",
      "Could have Bought\n",
      "Could have Bought\n",
      "Could have Bought\n"
     ]
    },
    {
     "name": "stderr",
     "output_type": "stream",
     "text": [
      " 35%|██████████████████████████▍                                                 | 25776/74060 [28:41<50:37, 15.90it/s]"
     ]
    },
    {
     "name": "stdout",
     "output_type": "stream",
     "text": [
      "Could have Bought\n",
      "Could have Bought\n",
      "Could have Bought\n"
     ]
    },
    {
     "name": "stderr",
     "output_type": "stream",
     "text": [
      " 35%|██████████████████████████▍                                                 | 25780/74060 [28:41<50:39, 15.89it/s]"
     ]
    },
    {
     "name": "stdout",
     "output_type": "stream",
     "text": [
      "Could have Bought\n",
      "Could have Bought\n",
      "Could have Bought\n",
      "Could have Bought\n"
     ]
    },
    {
     "name": "stderr",
     "output_type": "stream",
     "text": [
      " 35%|██████████████████████████▍                                                 | 25784/74060 [28:41<50:12, 16.03it/s]"
     ]
    },
    {
     "name": "stdout",
     "output_type": "stream",
     "text": [
      "Could have Bought\n",
      "Could have Bought\n",
      "Could have Bought\n",
      "Could have Bought\n"
     ]
    },
    {
     "name": "stderr",
     "output_type": "stream",
     "text": [
      " 35%|██████████████████████████▍                                                 | 25788/74060 [28:41<50:02, 16.08it/s]"
     ]
    },
    {
     "name": "stdout",
     "output_type": "stream",
     "text": [
      "Could have Bought\n"
     ]
    },
    {
     "name": "stderr",
     "output_type": "stream",
     "text": [
      " 36%|███████████████████████████                                                 | 26388/74060 [29:20<50:46, 15.65it/s]"
     ]
    },
    {
     "name": "stdout",
     "output_type": "stream",
     "text": [
      "Could have Bought\n"
     ]
    },
    {
     "name": "stderr",
     "output_type": "stream",
     "text": [
      " 36%|███████████████████████████▍                                                | 26798/74060 [29:47<52:25, 15.02it/s]"
     ]
    },
    {
     "name": "stdout",
     "output_type": "stream",
     "text": [
      "Could have Bought\n",
      "Could have Bought\n",
      "Could have Bought\n",
      "Could have Bought\n"
     ]
    },
    {
     "name": "stderr",
     "output_type": "stream",
     "text": [
      " 37%|███████████████████████████▊                                                | 27156/74060 [30:11<52:05, 15.01it/s]"
     ]
    },
    {
     "name": "stdout",
     "output_type": "stream",
     "text": [
      "Could have Bought\n"
     ]
    },
    {
     "name": "stderr",
     "output_type": "stream",
     "text": [
      " 37%|███████████████████████████▉                                                | 27278/74060 [30:19<50:48, 15.34it/s]"
     ]
    },
    {
     "name": "stdout",
     "output_type": "stream",
     "text": [
      "Could have Bought\n",
      "Could have Bought\n"
     ]
    },
    {
     "name": "stderr",
     "output_type": "stream",
     "text": [
      " 37%|████████████████████████████                                                | 27298/74060 [30:20<51:26, 15.15it/s]"
     ]
    },
    {
     "name": "stdout",
     "output_type": "stream",
     "text": [
      "Could have Bought\n"
     ]
    },
    {
     "name": "stderr",
     "output_type": "stream",
     "text": [
      " 37%|████████████████████████████▎                                               | 27538/74060 [30:36<51:12, 15.14it/s]"
     ]
    },
    {
     "name": "stdout",
     "output_type": "stream",
     "text": [
      "Could have Bought\n",
      "Could have Bought\n",
      "Could have Bought\n"
     ]
    },
    {
     "name": "stderr",
     "output_type": "stream",
     "text": [
      " 37%|████████████████████████████▎                                               | 27542/74060 [30:37<51:00, 15.20it/s]"
     ]
    },
    {
     "name": "stdout",
     "output_type": "stream",
     "text": [
      "Could have Bought\n"
     ]
    },
    {
     "name": "stderr",
     "output_type": "stream",
     "text": [
      " 37%|████████████████████████████▎                                               | 27624/74060 [30:42<51:34, 15.01it/s]"
     ]
    },
    {
     "name": "stdout",
     "output_type": "stream",
     "text": [
      "Could have Bought\n",
      "Could have Bought\n",
      "Could have Bought\n"
     ]
    },
    {
     "name": "stderr",
     "output_type": "stream",
     "text": [
      " 37%|████████████████████████████▎                                               | 27628/74060 [30:42<51:36, 14.99it/s]"
     ]
    },
    {
     "name": "stdout",
     "output_type": "stream",
     "text": [
      "Could have Bought\n"
     ]
    },
    {
     "name": "stderr",
     "output_type": "stream",
     "text": [
      " 37%|████████████████████████████▎                                               | 27644/74060 [30:43<52:23, 14.77it/s]"
     ]
    },
    {
     "name": "stdout",
     "output_type": "stream",
     "text": [
      "Could have Bought\n",
      "Could have Bought\n"
     ]
    },
    {
     "name": "stderr",
     "output_type": "stream",
     "text": [
      " 38%|████████████████████████████▌                                               | 27790/74060 [30:53<51:02, 15.11it/s]"
     ]
    },
    {
     "name": "stdout",
     "output_type": "stream",
     "text": [
      "Could have Bought\n"
     ]
    },
    {
     "name": "stderr",
     "output_type": "stream",
     "text": [
      " 38%|████████████████████████████▌                                               | 27848/74060 [30:57<49:44, 15.48it/s]"
     ]
    },
    {
     "name": "stdout",
     "output_type": "stream",
     "text": [
      "Could have Bought\n"
     ]
    },
    {
     "name": "stderr",
     "output_type": "stream",
     "text": [
      " 38%|████████████████████████████▋                                               | 27912/74060 [31:01<50:54, 15.11it/s]"
     ]
    },
    {
     "name": "stdout",
     "output_type": "stream",
     "text": [
      "Could have Bought\n",
      "Could have Bought\n",
      "Could have Bought\n"
     ]
    },
    {
     "name": "stderr",
     "output_type": "stream",
     "text": [
      " 38%|████████████████████████████▋                                               | 27916/74060 [31:01<50:50, 15.12it/s]"
     ]
    },
    {
     "name": "stdout",
     "output_type": "stream",
     "text": [
      "Could have Bought\n",
      "Could have Bought\n"
     ]
    },
    {
     "name": "stderr",
     "output_type": "stream",
     "text": [
      " 38%|████████████████████████████▋                                               | 27924/74060 [31:02<51:08, 15.04it/s]"
     ]
    },
    {
     "name": "stdout",
     "output_type": "stream",
     "text": [
      "Could have Bought\n",
      "Could have Bought\n"
     ]
    },
    {
     "name": "stderr",
     "output_type": "stream",
     "text": [
      " 38%|█████████████████████████████                                               | 28276/74060 [31:25<50:46, 15.03it/s]"
     ]
    },
    {
     "name": "stdout",
     "output_type": "stream",
     "text": [
      "Could have Bought\n",
      "Could have Bought\n",
      "Could have Bought\n"
     ]
    },
    {
     "name": "stderr",
     "output_type": "stream",
     "text": [
      " 38%|█████████████████████████████                                               | 28280/74060 [31:25<50:52, 15.00it/s]"
     ]
    },
    {
     "name": "stdout",
     "output_type": "stream",
     "text": [
      "Could have Bought\n",
      "Could have Bought\n",
      "Could have Bought\n",
      "Could have Bought\n"
     ]
    },
    {
     "name": "stderr",
     "output_type": "stream",
     "text": [
      " 38%|█████████████████████████████                                               | 28284/74060 [31:26<50:58, 14.97it/s]"
     ]
    },
    {
     "name": "stdout",
     "output_type": "stream",
     "text": [
      "Could have Bought\n",
      "Could have Bought\n"
     ]
    },
    {
     "name": "stderr",
     "output_type": "stream",
     "text": [
      " 38%|█████████████████████████████                                               | 28292/74060 [31:26<50:06, 15.22it/s]"
     ]
    },
    {
     "name": "stdout",
     "output_type": "stream",
     "text": [
      "Could have Bought\n",
      "Could have Bought\n"
     ]
    },
    {
     "name": "stderr",
     "output_type": "stream",
     "text": [
      " 38%|█████████████████████████████                                               | 28300/74060 [31:27<49:22, 15.45it/s]"
     ]
    },
    {
     "name": "stdout",
     "output_type": "stream",
     "text": [
      "Could have Bought\n",
      "Could have Bought\n"
     ]
    },
    {
     "name": "stderr",
     "output_type": "stream",
     "text": [
      " 38%|█████████████████████████████▏                                              | 28470/74060 [31:38<48:59, 15.51it/s]"
     ]
    },
    {
     "name": "stdout",
     "output_type": "stream",
     "text": [
      "Could have Bought\n",
      "Could have Bought\n",
      "Could have Bought\n",
      "Could have Bought\n"
     ]
    },
    {
     "name": "stderr",
     "output_type": "stream",
     "text": [
      " 38%|█████████████████████████████▏                                              | 28474/74060 [31:38<49:19, 15.40it/s]"
     ]
    },
    {
     "name": "stdout",
     "output_type": "stream",
     "text": [
      "Could have Bought\n",
      "Could have Bought\n"
     ]
    },
    {
     "name": "stderr",
     "output_type": "stream",
     "text": [
      " 39%|█████████████████████████████▊                                              | 29026/74060 [32:15<50:13, 14.94it/s]"
     ]
    },
    {
     "name": "stdout",
     "output_type": "stream",
     "text": [
      "Could have Bought\n",
      "Could have Bought\n"
     ]
    },
    {
     "name": "stderr",
     "output_type": "stream",
     "text": [
      " 39%|█████████████████████████████▊                                              | 29036/74060 [32:15<50:05, 14.98it/s]"
     ]
    },
    {
     "name": "stdout",
     "output_type": "stream",
     "text": [
      "Could have Bought\n",
      "Could have Bought\n",
      "Could have Bought\n"
     ]
    },
    {
     "name": "stderr",
     "output_type": "stream",
     "text": [
      " 40%|██████████████████████████████                                              | 29266/74060 [32:30<49:14, 15.16it/s]"
     ]
    },
    {
     "name": "stdout",
     "output_type": "stream",
     "text": [
      "Could have Bought\n"
     ]
    },
    {
     "name": "stderr",
     "output_type": "stream",
     "text": [
      " 40%|██████████████████████████████▌                                             | 29758/74060 [33:03<49:31, 14.91it/s]"
     ]
    },
    {
     "name": "stdout",
     "output_type": "stream",
     "text": [
      "Could have Bought\n",
      "Could have Bought\n"
     ]
    },
    {
     "name": "stderr",
     "output_type": "stream",
     "text": [
      " 40%|██████████████████████████████▌                                             | 29780/74060 [33:04<50:13, 14.69it/s]"
     ]
    },
    {
     "name": "stdout",
     "output_type": "stream",
     "text": [
      "Could have Bought\n",
      "Could have Bought\n",
      "Could have Bought\n"
     ]
    },
    {
     "name": "stderr",
     "output_type": "stream",
     "text": [
      " 40%|██████████████████████████████▌                                             | 29784/74060 [33:05<49:28, 14.92it/s]"
     ]
    },
    {
     "name": "stdout",
     "output_type": "stream",
     "text": [
      "Could have Bought\n",
      "Could have Bought\n",
      "Could have Bought\n",
      "Could have Bought\n"
     ]
    },
    {
     "name": "stderr",
     "output_type": "stream",
     "text": [
      " 40%|██████████████████████████████▌                                             | 29788/74060 [33:05<51:07, 14.43it/s]"
     ]
    },
    {
     "name": "stdout",
     "output_type": "stream",
     "text": [
      "Could have Bought\n",
      "Could have Bought\n",
      "Could have Bought\n",
      "Could have Bought\n"
     ]
    },
    {
     "name": "stderr",
     "output_type": "stream",
     "text": [
      " 40%|██████████████████████████████▌                                             | 29792/74060 [33:05<49:58, 14.76it/s]"
     ]
    },
    {
     "name": "stdout",
     "output_type": "stream",
     "text": [
      "Could have Bought\n",
      "Could have Bought\n",
      "Could have Bought\n",
      "Could have Bought\n"
     ]
    },
    {
     "name": "stderr",
     "output_type": "stream",
     "text": [
      " 40%|██████████████████████████████▌                                             | 29796/74060 [33:05<49:22, 14.94it/s]"
     ]
    },
    {
     "name": "stdout",
     "output_type": "stream",
     "text": [
      "Could have Bought\n",
      "Could have Bought\n"
     ]
    },
    {
     "name": "stderr",
     "output_type": "stream",
     "text": [
      " 41%|███████████████████████████████▎                                            | 30530/74060 [33:54<48:19, 15.01it/s]"
     ]
    },
    {
     "name": "stdout",
     "output_type": "stream",
     "text": [
      "Could have Bought\n",
      "Could have Bought\n"
     ]
    },
    {
     "name": "stderr",
     "output_type": "stream",
     "text": [
      " 41%|███████████████████████████████▎                                            | 30534/74060 [33:55<48:25, 14.98it/s]"
     ]
    },
    {
     "name": "stdout",
     "output_type": "stream",
     "text": [
      "Could have Bought\n",
      "Could have Bought\n",
      "Could have Bought\n"
     ]
    },
    {
     "name": "stderr",
     "output_type": "stream",
     "text": [
      "\r",
      " 41%|███████████████████████████████▎                                            | 30536/74060 [33:55<48:47, 14.87it/s]"
     ]
    },
    {
     "name": "stdout",
     "output_type": "stream",
     "text": [
      "Could have Bought\n",
      "Could have Bought\n",
      "Could have Bought\n"
     ]
    },
    {
     "name": "stderr",
     "output_type": "stream",
     "text": [
      " 41%|███████████████████████████████▎                                            | 30540/74060 [33:55<48:06, 15.08it/s]"
     ]
    },
    {
     "name": "stdout",
     "output_type": "stream",
     "text": [
      "Could have Bought\n"
     ]
    },
    {
     "name": "stderr",
     "output_type": "stream",
     "text": [
      " 42%|███████████████████████████████▌                                            | 30786/74060 [34:11<46:24, 15.54it/s]"
     ]
    },
    {
     "name": "stdout",
     "output_type": "stream",
     "text": [
      "Could have Bought\n",
      "Could have Bought\n"
     ]
    },
    {
     "name": "stderr",
     "output_type": "stream",
     "text": [
      " 42%|███████████████████████████████▊                                            | 30994/74060 [34:25<47:44, 15.03it/s]"
     ]
    },
    {
     "name": "stdout",
     "output_type": "stream",
     "text": [
      "Could have Bought\n"
     ]
    },
    {
     "name": "stderr",
     "output_type": "stream",
     "text": [
      " 42%|████████████████████████████████                                            | 31298/74060 [34:45<46:31, 15.32it/s]"
     ]
    },
    {
     "name": "stdout",
     "output_type": "stream",
     "text": [
      "Could have Bought\n",
      "Could have Bought\n",
      "Could have Bought\n"
     ]
    },
    {
     "name": "stderr",
     "output_type": "stream",
     "text": [
      " 43%|████████████████████████████████▌                                           | 31676/74060 [35:09<44:56, 15.72it/s]"
     ]
    },
    {
     "name": "stdout",
     "output_type": "stream",
     "text": [
      "Could have Bought\n",
      "Could have Bought\n",
      "Could have Bought\n",
      "Could have Bought\n"
     ]
    },
    {
     "name": "stderr",
     "output_type": "stream",
     "text": [
      " 43%|████████████████████████████████▌                                           | 31680/74060 [35:10<45:02, 15.68it/s]"
     ]
    },
    {
     "name": "stdout",
     "output_type": "stream",
     "text": [
      "Could have Bought\n",
      "Could have Bought\n",
      "Could have Bought\n"
     ]
    },
    {
     "name": "stderr",
     "output_type": "stream",
     "text": [
      " 43%|████████████████████████████████▊                                           | 32026/74060 [35:32<46:05, 15.20it/s]"
     ]
    },
    {
     "name": "stdout",
     "output_type": "stream",
     "text": [
      "Could have Bought\n",
      "Could have Bought\n",
      "Could have Bought\n",
      "Could have Bought\n"
     ]
    },
    {
     "name": "stderr",
     "output_type": "stream",
     "text": [
      " 43%|████████████████████████████████▊                                           | 32030/74060 [35:33<45:57, 15.24it/s]"
     ]
    },
    {
     "name": "stdout",
     "output_type": "stream",
     "text": [
      "Could have Bought\n",
      "Could have Bought\n",
      "Could have Bought\n"
     ]
    },
    {
     "name": "stderr",
     "output_type": "stream",
     "text": [
      " 43%|████████████████████████████████▊                                           | 32034/74060 [35:33<46:32, 15.05it/s]"
     ]
    },
    {
     "name": "stdout",
     "output_type": "stream",
     "text": [
      "Could have Bought\n",
      "Could have Bought\n",
      "Could have Bought\n",
      "Could have Bought\n"
     ]
    },
    {
     "name": "stderr",
     "output_type": "stream",
     "text": [
      " 43%|████████████████████████████████▉                                           | 32038/74060 [35:33<46:06, 15.19it/s]"
     ]
    },
    {
     "name": "stdout",
     "output_type": "stream",
     "text": [
      "Could have Bought\n"
     ]
    },
    {
     "name": "stderr",
     "output_type": "stream",
     "text": [
      " 43%|████████████████████████████████▉                                           | 32078/74060 [35:36<46:46, 14.96it/s]"
     ]
    },
    {
     "name": "stdout",
     "output_type": "stream",
     "text": [
      "Could have Bought\n",
      "Could have Bought\n",
      "Could have Bought\n",
      "Could have Bought\n"
     ]
    },
    {
     "name": "stderr",
     "output_type": "stream",
     "text": [
      " 43%|████████████████████████████████▉                                           | 32082/74060 [35:36<48:00, 14.57it/s]"
     ]
    },
    {
     "name": "stdout",
     "output_type": "stream",
     "text": [
      "Could have Bought\n",
      "Could have Bought\n",
      "Could have Bought\n"
     ]
    },
    {
     "name": "stderr",
     "output_type": "stream",
     "text": [
      " 43%|████████████████████████████████▉                                           | 32118/74060 [35:38<46:21, 15.08it/s]"
     ]
    },
    {
     "name": "stdout",
     "output_type": "stream",
     "text": [
      "Could have Bought\n",
      "Could have Bought\n",
      "Could have Bought\n",
      "Could have Bought\n"
     ]
    },
    {
     "name": "stderr",
     "output_type": "stream",
     "text": [
      " 43%|████████████████████████████████▉                                           | 32122/74060 [35:39<45:41, 15.30it/s]"
     ]
    },
    {
     "name": "stdout",
     "output_type": "stream",
     "text": [
      "Could have Bought\n",
      "Could have Bought\n",
      "Could have Bought\n",
      "Could have Bought\n"
     ]
    },
    {
     "name": "stderr",
     "output_type": "stream",
     "text": [
      " 43%|████████████████████████████████▉                                           | 32148/74060 [35:40<45:14, 15.44it/s]"
     ]
    },
    {
     "name": "stdout",
     "output_type": "stream",
     "text": [
      "Could have Bought\n",
      "Could have Bought\n",
      "Could have Bought\n",
      "Could have Bought\n"
     ]
    },
    {
     "name": "stderr",
     "output_type": "stream",
     "text": [
      " 43%|████████████████████████████████▉                                           | 32152/74060 [35:41<45:16, 15.43it/s]"
     ]
    },
    {
     "name": "stdout",
     "output_type": "stream",
     "text": [
      "Could have Bought\n",
      "Could have Bought\n",
      "Could have Bought\n",
      "Could have Bought\n"
     ]
    },
    {
     "name": "stderr",
     "output_type": "stream",
     "text": [
      " 43%|████████████████████████████████▉                                           | 32156/74060 [35:41<45:33, 15.33it/s]"
     ]
    },
    {
     "name": "stdout",
     "output_type": "stream",
     "text": [
      "Could have Bought\n",
      "Could have Bought\n"
     ]
    },
    {
     "name": "stderr",
     "output_type": "stream",
     "text": [
      " 44%|█████████████████████████████████▎                                          | 32408/74060 [35:58<46:45, 14.85it/s]"
     ]
    },
    {
     "name": "stdout",
     "output_type": "stream",
     "text": [
      "Could have Bought\n",
      "Could have Bought\n",
      "Could have Bought\n"
     ]
    },
    {
     "name": "stderr",
     "output_type": "stream",
     "text": [
      " 44%|█████████████████████████████████▎                                          | 32412/74060 [35:58<46:32, 14.92it/s]"
     ]
    },
    {
     "name": "stdout",
     "output_type": "stream",
     "text": [
      "Could have Bought\n",
      "Could have Bought\n",
      "Could have Bought\n",
      "Could have Bought\n"
     ]
    },
    {
     "name": "stderr",
     "output_type": "stream",
     "text": [
      "\r",
      " 44%|█████████████████████████████████▎                                          | 32414/74060 [35:58<46:22, 14.97it/s]"
     ]
    },
    {
     "name": "stdout",
     "output_type": "stream",
     "text": [
      "Could have Bought\n"
     ]
    },
    {
     "name": "stderr",
     "output_type": "stream",
     "text": [
      " 44%|█████████████████████████████████▎                                          | 32478/74060 [36:02<43:57, 15.77it/s]"
     ]
    },
    {
     "name": "stdout",
     "output_type": "stream",
     "text": [
      "Could have Bought\n"
     ]
    },
    {
     "name": "stderr",
     "output_type": "stream",
     "text": [
      " 44%|█████████████████████████████████▍                                          | 32544/74060 [36:07<48:02, 14.40it/s]"
     ]
    },
    {
     "name": "stdout",
     "output_type": "stream",
     "text": [
      "Could have Bought\n",
      "Could have Bought\n",
      "Could have Bought\n"
     ]
    },
    {
     "name": "stderr",
     "output_type": "stream",
     "text": [
      " 44%|█████████████████████████████████▍                                          | 32642/74060 [36:13<45:35, 15.14it/s]"
     ]
    },
    {
     "name": "stdout",
     "output_type": "stream",
     "text": [
      "Could have Bought\n",
      "Could have Bought\n",
      "Could have Bought\n",
      "Could have Bought\n"
     ]
    },
    {
     "name": "stderr",
     "output_type": "stream",
     "text": [
      " 44%|█████████████████████████████████▌                                          | 32646/74060 [36:14<45:59, 15.01it/s]"
     ]
    },
    {
     "name": "stdout",
     "output_type": "stream",
     "text": [
      "Could have Bought\n",
      "Could have Bought\n"
     ]
    },
    {
     "name": "stderr",
     "output_type": "stream",
     "text": [
      " 44%|█████████████████████████████████▌                                          | 32650/74060 [36:14<46:31, 14.83it/s]"
     ]
    },
    {
     "name": "stdout",
     "output_type": "stream",
     "text": [
      "Could have Bought\n",
      "Could have Bought\n",
      "Could have Bought\n",
      "Could have Bought\n"
     ]
    },
    {
     "name": "stderr",
     "output_type": "stream",
     "text": [
      "\r",
      " 44%|█████████████████████████████████▌                                          | 32652/74060 [36:14<46:29, 14.84it/s]"
     ]
    },
    {
     "name": "stdout",
     "output_type": "stream",
     "text": [
      "Could have Bought\n",
      "Could have Bought\n",
      "Could have Bought\n"
     ]
    },
    {
     "name": "stderr",
     "output_type": "stream",
     "text": [
      " 44%|█████████████████████████████████▋                                          | 32804/74060 [36:24<46:50, 14.68it/s]"
     ]
    },
    {
     "name": "stdout",
     "output_type": "stream",
     "text": [
      "Could have Bought\n",
      "Could have Bought\n",
      "Could have Bought\n"
     ]
    },
    {
     "name": "stderr",
     "output_type": "stream",
     "text": [
      " 44%|█████████████████████████████████▋                                          | 32808/74060 [36:25<47:27, 14.49it/s]"
     ]
    },
    {
     "name": "stdout",
     "output_type": "stream",
     "text": [
      "Could have Bought\n",
      "Could have Bought\n",
      "Could have Bought\n"
     ]
    },
    {
     "name": "stderr",
     "output_type": "stream",
     "text": [
      " 44%|█████████████████████████████████▋                                          | 32812/74060 [36:25<47:32, 14.46it/s]"
     ]
    },
    {
     "name": "stdout",
     "output_type": "stream",
     "text": [
      "Could have Bought\n",
      "Could have Bought\n",
      "Could have Bought\n",
      "Could have Bought\n"
     ]
    },
    {
     "name": "stderr",
     "output_type": "stream",
     "text": [
      "\r",
      " 44%|█████████████████████████████████▋                                          | 32814/74060 [36:25<47:10, 14.57it/s]"
     ]
    },
    {
     "name": "stdout",
     "output_type": "stream",
     "text": [
      "Could have Bought\n",
      "Could have Bought\n"
     ]
    },
    {
     "name": "stderr",
     "output_type": "stream",
     "text": [
      " 44%|█████████████████████████████████▋                                          | 32854/74060 [36:28<45:16, 15.17it/s]"
     ]
    },
    {
     "name": "stdout",
     "output_type": "stream",
     "text": [
      "Could have Bought\n",
      "Could have Bought\n"
     ]
    },
    {
     "name": "stderr",
     "output_type": "stream",
     "text": [
      " 45%|██████████████████████████████████                                          | 33204/74060 [36:50<44:34, 15.28it/s]"
     ]
    },
    {
     "name": "stdout",
     "output_type": "stream",
     "text": [
      "Could have Bought\n"
     ]
    },
    {
     "name": "stderr",
     "output_type": "stream",
     "text": [
      " 45%|██████████████████████████████████▍                                         | 33602/74060 [37:16<42:30, 15.86it/s]"
     ]
    },
    {
     "name": "stdout",
     "output_type": "stream",
     "text": [
      "Could have Bought\n"
     ]
    },
    {
     "name": "stderr",
     "output_type": "stream",
     "text": [
      " 45%|██████████████████████████████████▍                                         | 33606/74060 [37:16<42:13, 15.97it/s]"
     ]
    },
    {
     "name": "stdout",
     "output_type": "stream",
     "text": [
      "Could have Bought\n",
      "Could have Bought\n"
     ]
    },
    {
     "name": "stderr",
     "output_type": "stream",
     "text": [
      " 46%|██████████████████████████████████▋                                         | 33756/74060 [37:25<41:05, 16.34it/s]"
     ]
    },
    {
     "name": "stdout",
     "output_type": "stream",
     "text": [
      "Could have Bought\n"
     ]
    },
    {
     "name": "stderr",
     "output_type": "stream",
     "text": [
      " 46%|██████████████████████████████████▊                                         | 33908/74060 [37:35<42:17, 15.82it/s]"
     ]
    },
    {
     "name": "stdout",
     "output_type": "stream",
     "text": [
      "Could have Bought\n",
      "Could have Bought\n",
      "Could have Bought\n",
      "Could have Bought\n"
     ]
    },
    {
     "name": "stderr",
     "output_type": "stream",
     "text": [
      " 46%|███████████████████████████████████▎                                        | 34386/74060 [38:04<40:25, 16.36it/s]"
     ]
    },
    {
     "name": "stdout",
     "output_type": "stream",
     "text": [
      "Could have Bought\n"
     ]
    },
    {
     "name": "stderr",
     "output_type": "stream",
     "text": [
      " 47%|███████████████████████████████████▍                                        | 34476/74060 [38:10<40:23, 16.33it/s]"
     ]
    },
    {
     "name": "stdout",
     "output_type": "stream",
     "text": [
      "Could have Bought\n",
      "Could have Bought\n"
     ]
    },
    {
     "name": "stderr",
     "output_type": "stream",
     "text": [
      " 47%|███████████████████████████████████▍                                        | 34480/74060 [38:10<40:21, 16.34it/s]"
     ]
    },
    {
     "name": "stdout",
     "output_type": "stream",
     "text": [
      "Could have Bought\n"
     ]
    },
    {
     "name": "stderr",
     "output_type": "stream",
     "text": [
      " 47%|███████████████████████████████████▌                                        | 34612/74060 [38:18<40:36, 16.19it/s]"
     ]
    },
    {
     "name": "stdout",
     "output_type": "stream",
     "text": [
      "Could have Bought\n",
      "Could have Bought\n"
     ]
    },
    {
     "name": "stderr",
     "output_type": "stream",
     "text": [
      " 47%|███████████████████████████████████▌                                        | 34618/74060 [38:19<40:19, 16.30it/s]"
     ]
    },
    {
     "name": "stdout",
     "output_type": "stream",
     "text": [
      "Could have Bought\n",
      "Could have Bought\n",
      "Could have Bought\n",
      "Could have Bought\n"
     ]
    },
    {
     "name": "stderr",
     "output_type": "stream",
     "text": [
      " 47%|███████████████████████████████████▌                                        | 34640/74060 [38:20<40:03, 16.40it/s]"
     ]
    },
    {
     "name": "stdout",
     "output_type": "stream",
     "text": [
      "Could have Bought\n",
      "Could have Bought\n",
      "Could have Bought\n",
      "Could have Bought\n"
     ]
    },
    {
     "name": "stderr",
     "output_type": "stream",
     "text": [
      " 47%|███████████████████████████████████▌                                        | 34644/74060 [38:20<40:15, 16.32it/s]"
     ]
    },
    {
     "name": "stdout",
     "output_type": "stream",
     "text": [
      "Could have Bought\n"
     ]
    },
    {
     "name": "stderr",
     "output_type": "stream",
     "text": [
      " 47%|███████████████████████████████████▌                                        | 34674/74060 [38:22<41:10, 15.95it/s]"
     ]
    },
    {
     "name": "stdout",
     "output_type": "stream",
     "text": [
      "Could have Bought\n"
     ]
    },
    {
     "name": "stderr",
     "output_type": "stream",
     "text": [
      " 47%|███████████████████████████████████▌                                        | 34692/74060 [38:23<40:04, 16.37it/s]"
     ]
    },
    {
     "name": "stdout",
     "output_type": "stream",
     "text": [
      "Could have Bought\n"
     ]
    },
    {
     "name": "stderr",
     "output_type": "stream",
     "text": [
      " 47%|███████████████████████████████████▌                                        | 34714/74060 [38:25<42:45, 15.33it/s]"
     ]
    },
    {
     "name": "stdout",
     "output_type": "stream",
     "text": [
      "Could have Bought\n"
     ]
    },
    {
     "name": "stderr",
     "output_type": "stream",
     "text": [
      " 47%|███████████████████████████████████▉                                        | 35008/74060 [38:43<40:42, 15.99it/s]"
     ]
    },
    {
     "name": "stdout",
     "output_type": "stream",
     "text": [
      "Could have Bought\n"
     ]
    },
    {
     "name": "stderr",
     "output_type": "stream",
     "text": [
      " 47%|████████████████████████████████████                                        | 35168/74060 [38:53<39:08, 16.56it/s]"
     ]
    },
    {
     "name": "stdout",
     "output_type": "stream",
     "text": [
      "Could have Bought\n",
      "Could have Bought\n"
     ]
    },
    {
     "name": "stderr",
     "output_type": "stream",
     "text": [
      " 48%|████████████████████████████████████                                        | 35180/74060 [38:53<40:22, 16.05it/s]"
     ]
    },
    {
     "name": "stdout",
     "output_type": "stream",
     "text": [
      "Could have Bought\n",
      "Could have Bought\n"
     ]
    },
    {
     "name": "stderr",
     "output_type": "stream",
     "text": [
      " 48%|████████████████████████████████████                                        | 35190/74060 [38:54<39:27, 16.42it/s]"
     ]
    },
    {
     "name": "stdout",
     "output_type": "stream",
     "text": [
      "Could have Bought\n",
      "Could have Bought\n",
      "Could have Bought\n",
      "Could have Bought\n"
     ]
    },
    {
     "name": "stderr",
     "output_type": "stream",
     "text": [
      " 48%|████████████████████████████████████▎                                       | 35416/74060 [39:08<39:19, 16.38it/s]"
     ]
    },
    {
     "name": "stdout",
     "output_type": "stream",
     "text": [
      "Could have Bought\n",
      "Could have Bought\n",
      "Could have Bought\n",
      "Could have Bought\n"
     ]
    },
    {
     "name": "stderr",
     "output_type": "stream",
     "text": [
      " 48%|████████████████████████████████████▎                                       | 35420/74060 [39:08<39:27, 16.32it/s]"
     ]
    },
    {
     "name": "stdout",
     "output_type": "stream",
     "text": [
      "Could have Bought\n",
      "Could have Bought\n",
      "Could have Bought\n",
      "Could have Bought\n"
     ]
    },
    {
     "name": "stderr",
     "output_type": "stream",
     "text": [
      " 48%|████████████████████████████████████▎                                       | 35424/74060 [39:09<39:46, 16.19it/s]"
     ]
    },
    {
     "name": "stdout",
     "output_type": "stream",
     "text": [
      "Could have Bought\n",
      "Could have Bought\n"
     ]
    },
    {
     "name": "stderr",
     "output_type": "stream",
     "text": [
      " 48%|████████████████████████████████████▋                                       | 35710/74060 [39:26<38:40, 16.53it/s]"
     ]
    },
    {
     "name": "stdout",
     "output_type": "stream",
     "text": [
      "Could have Bought\n",
      "Could have Bought\n"
     ]
    },
    {
     "name": "stderr",
     "output_type": "stream",
     "text": [
      " 48%|████████████████████████████████████▋                                       | 35714/74060 [39:27<39:12, 16.30it/s]"
     ]
    },
    {
     "name": "stdout",
     "output_type": "stream",
     "text": [
      "Could have Bought\n",
      "Could have Bought\n"
     ]
    },
    {
     "name": "stderr",
     "output_type": "stream",
     "text": [
      " 48%|████████████████████████████████████▋                                       | 35778/74060 [39:31<39:57, 15.97it/s]"
     ]
    },
    {
     "name": "stdout",
     "output_type": "stream",
     "text": [
      "Could have Bought\n",
      "Could have Bought\n",
      "Could have Bought\n",
      "Could have Bought\n"
     ]
    },
    {
     "name": "stderr",
     "output_type": "stream",
     "text": [
      " 49%|████████████████████████████████████▉                                       | 35952/74060 [39:41<38:20, 16.56it/s]"
     ]
    },
    {
     "name": "stdout",
     "output_type": "stream",
     "text": [
      "Could have Bought\n",
      "Could have Bought\n",
      "Could have Bought\n",
      "Could have Bought\n"
     ]
    },
    {
     "name": "stderr",
     "output_type": "stream",
     "text": [
      " 49%|████████████████████████████████████▉                                       | 35956/74060 [39:41<38:48, 16.37it/s]"
     ]
    },
    {
     "name": "stdout",
     "output_type": "stream",
     "text": [
      "Could have Bought\n",
      "Could have Bought\n",
      "Could have Bought\n",
      "Could have Bought\n"
     ]
    },
    {
     "name": "stderr",
     "output_type": "stream",
     "text": [
      " 49%|████████████████████████████████████▉                                       | 35960/74060 [39:42<39:05, 16.25it/s]"
     ]
    },
    {
     "name": "stdout",
     "output_type": "stream",
     "text": [
      "Could have Bought\n",
      "Could have Bought\n",
      "Could have Bought\n"
     ]
    },
    {
     "name": "stderr",
     "output_type": "stream",
     "text": [
      " 49%|████████████████████████████████████▉                                       | 35964/74060 [39:42<39:12, 16.19it/s]"
     ]
    },
    {
     "name": "stdout",
     "output_type": "stream",
     "text": [
      "Could have Bought\n",
      "Could have Bought\n",
      "Could have Bought\n"
     ]
    },
    {
     "name": "stderr",
     "output_type": "stream",
     "text": [
      " 49%|████████████████████████████████████▉                                       | 35968/74060 [39:42<39:03, 16.26it/s]"
     ]
    },
    {
     "name": "stdout",
     "output_type": "stream",
     "text": [
      "Could have Bought\n",
      "Could have Bought\n",
      "Could have Bought\n",
      "Could have Bought\n"
     ]
    },
    {
     "name": "stderr",
     "output_type": "stream",
     "text": [
      " 49%|████████████████████████████████████▉                                       | 35972/74060 [39:42<39:08, 16.22it/s]"
     ]
    },
    {
     "name": "stdout",
     "output_type": "stream",
     "text": [
      "Could have Bought\n",
      "Could have Bought\n",
      "Could have Bought\n",
      "Could have Bought\n"
     ]
    },
    {
     "name": "stderr",
     "output_type": "stream",
     "text": [
      " 49%|█████████████████████████████████████▏                                      | 36178/74060 [39:55<39:38, 15.93it/s]"
     ]
    },
    {
     "name": "stdout",
     "output_type": "stream",
     "text": [
      "Could have Bought\n"
     ]
    },
    {
     "name": "stderr",
     "output_type": "stream",
     "text": [
      " 49%|█████████████████████████████████████▍                                      | 36468/74060 [40:13<39:09, 16.00it/s]"
     ]
    },
    {
     "name": "stdout",
     "output_type": "stream",
     "text": [
      "Could have Bought\n",
      "Could have Bought\n"
     ]
    },
    {
     "name": "stderr",
     "output_type": "stream",
     "text": [
      " 49%|█████████████████████████████████████▍                                      | 36472/74060 [40:14<39:12, 15.98it/s]"
     ]
    },
    {
     "name": "stdout",
     "output_type": "stream",
     "text": [
      "Could have Bought\n",
      "Could have Bought\n",
      "Could have Bought\n"
     ]
    },
    {
     "name": "stderr",
     "output_type": "stream",
     "text": [
      " 49%|█████████████████████████████████████▍                                      | 36528/74060 [40:17<38:53, 16.08it/s]"
     ]
    },
    {
     "name": "stdout",
     "output_type": "stream",
     "text": [
      "Could have Bought\n",
      "Could have Bought\n",
      "Could have Bought\n",
      "Could have Bought\n"
     ]
    },
    {
     "name": "stderr",
     "output_type": "stream",
     "text": [
      " 49%|█████████████████████████████████████▍                                      | 36532/74060 [40:17<39:45, 15.73it/s]"
     ]
    },
    {
     "name": "stdout",
     "output_type": "stream",
     "text": [
      "Could have Bought\n",
      "Could have Bought\n",
      "Could have Bought\n",
      "Could have Bought\n"
     ]
    },
    {
     "name": "stderr",
     "output_type": "stream",
     "text": [
      " 49%|█████████████████████████████████████▍                                      | 36536/74060 [40:18<39:44, 15.74it/s]"
     ]
    },
    {
     "name": "stdout",
     "output_type": "stream",
     "text": [
      "Could have Bought\n",
      "Could have Bought\n",
      "Could have Bought\n"
     ]
    },
    {
     "name": "stderr",
     "output_type": "stream",
     "text": [
      " 49%|█████████████████████████████████████▍                                      | 36540/74060 [40:18<39:29, 15.83it/s]"
     ]
    },
    {
     "name": "stdout",
     "output_type": "stream",
     "text": [
      "Could have Bought\n"
     ]
    },
    {
     "name": "stderr",
     "output_type": "stream",
     "text": [
      " 49%|█████████████████████████████████████▌                                      | 36546/74060 [40:18<38:57, 16.05it/s]"
     ]
    },
    {
     "name": "stdout",
     "output_type": "stream",
     "text": [
      "Could have Bought\n"
     ]
    },
    {
     "name": "stderr",
     "output_type": "stream",
     "text": [
      " 49%|█████████████████████████████████████▌                                      | 36560/74060 [40:19<39:15, 15.92it/s]"
     ]
    },
    {
     "name": "stdout",
     "output_type": "stream",
     "text": [
      "Could have Bought\n",
      "Could have Bought\n",
      "Could have Bought\n",
      "Could have Bought\n"
     ]
    },
    {
     "name": "stderr",
     "output_type": "stream",
     "text": [
      " 49%|█████████████████████████████████████▌                                      | 36564/74060 [40:19<39:11, 15.94it/s]"
     ]
    },
    {
     "name": "stdout",
     "output_type": "stream",
     "text": [
      "Could have Bought\n",
      "Could have Bought\n",
      "Could have Bought\n"
     ]
    },
    {
     "name": "stderr",
     "output_type": "stream",
     "text": [
      " 49%|█████████████████████████████████████▌                                      | 36568/74060 [40:20<39:19, 15.89it/s]"
     ]
    },
    {
     "name": "stdout",
     "output_type": "stream",
     "text": [
      "Could have Bought\n",
      "Could have Bought\n",
      "Could have Bought\n",
      "Could have Bought\n"
     ]
    },
    {
     "name": "stderr",
     "output_type": "stream",
     "text": [
      " 49%|█████████████████████████████████████▌                                      | 36572/74060 [40:20<38:49, 16.09it/s]"
     ]
    },
    {
     "name": "stdout",
     "output_type": "stream",
     "text": [
      "Could have Bought\n",
      "Could have Bought\n"
     ]
    },
    {
     "name": "stderr",
     "output_type": "stream",
     "text": [
      " 49%|█████████████████████████████████████▌                                      | 36580/74060 [40:20<40:11, 15.54it/s]"
     ]
    },
    {
     "name": "stdout",
     "output_type": "stream",
     "text": [
      "Could have Bought\n",
      "Could have Bought\n"
     ]
    },
    {
     "name": "stderr",
     "output_type": "stream",
     "text": [
      " 49%|█████████████████████████████████████▌                                      | 36586/74060 [40:21<38:45, 16.12it/s]"
     ]
    },
    {
     "name": "stdout",
     "output_type": "stream",
     "text": [
      "Could have Bought\n"
     ]
    },
    {
     "name": "stderr",
     "output_type": "stream",
     "text": [
      " 50%|█████████████████████████████████████▊                                      | 36830/74060 [40:36<37:53, 16.38it/s]"
     ]
    },
    {
     "name": "stdout",
     "output_type": "stream",
     "text": [
      "Could have Bought\n",
      "Could have Bought\n",
      "Could have Bought\n"
     ]
    },
    {
     "name": "stderr",
     "output_type": "stream",
     "text": [
      " 50%|█████████████████████████████████████▊                                      | 36904/74060 [40:41<37:53, 16.34it/s]"
     ]
    },
    {
     "name": "stdout",
     "output_type": "stream",
     "text": [
      "Could have Bought\n",
      "Could have Bought\n"
     ]
    },
    {
     "name": "stderr",
     "output_type": "stream",
     "text": [
      " 50%|█████████████████████████████████████▉                                      | 36946/74060 [40:43<38:04, 16.25it/s]"
     ]
    },
    {
     "name": "stdout",
     "output_type": "stream",
     "text": [
      "Could have Bought\n",
      "Could have Bought\n",
      "Could have Bought\n",
      "Could have Bought\n"
     ]
    },
    {
     "name": "stderr",
     "output_type": "stream",
     "text": [
      " 50%|█████████████████████████████████████▉                                      | 36954/74060 [40:44<38:08, 16.21it/s]"
     ]
    },
    {
     "name": "stdout",
     "output_type": "stream",
     "text": [
      "Could have Bought\n"
     ]
    },
    {
     "name": "stderr",
     "output_type": "stream",
     "text": [
      " 50%|██████████████████████████████████████                                      | 37086/74060 [40:52<38:33, 15.98it/s]"
     ]
    },
    {
     "name": "stdout",
     "output_type": "stream",
     "text": [
      "Could have Bought\n",
      "Could have Bought\n"
     ]
    },
    {
     "name": "stderr",
     "output_type": "stream",
     "text": [
      " 50%|██████████████████████████████████████                                      | 37092/74060 [40:52<38:52, 15.85it/s]"
     ]
    },
    {
     "name": "stdout",
     "output_type": "stream",
     "text": [
      "Could have Bought\n"
     ]
    },
    {
     "name": "stderr",
     "output_type": "stream",
     "text": [
      " 50%|██████████████████████████████████████                                      | 37100/74060 [40:53<38:23, 16.05it/s]"
     ]
    },
    {
     "name": "stdout",
     "output_type": "stream",
     "text": [
      "Could have Bought\n",
      "Could have Bought\n",
      "Could have Bought\n"
     ]
    },
    {
     "name": "stderr",
     "output_type": "stream",
     "text": [
      " 51%|██████████████████████████████████████▍                                     | 37448/74060 [41:15<37:25, 16.31it/s]"
     ]
    },
    {
     "name": "stdout",
     "output_type": "stream",
     "text": [
      "Could have Bought\n"
     ]
    },
    {
     "name": "stderr",
     "output_type": "stream",
     "text": [
      " 51%|██████████████████████████████████████▋                                     | 37670/74060 [41:29<38:09, 15.89it/s]"
     ]
    },
    {
     "name": "stdout",
     "output_type": "stream",
     "text": [
      "Could have Bought\n"
     ]
    },
    {
     "name": "stderr",
     "output_type": "stream",
     "text": [
      " 51%|██████████████████████████████████████▉                                     | 37940/74060 [41:45<38:01, 15.83it/s]"
     ]
    },
    {
     "name": "stdout",
     "output_type": "stream",
     "text": [
      "Could have Bought\n",
      "Could have Bought\n"
     ]
    },
    {
     "name": "stderr",
     "output_type": "stream",
     "text": [
      " 51%|██████████████████████████████████████▉                                     | 37958/74060 [41:47<36:33, 16.46it/s]"
     ]
    },
    {
     "name": "stdout",
     "output_type": "stream",
     "text": [
      "Could have Bought\n",
      "Could have Bought\n"
     ]
    },
    {
     "name": "stderr",
     "output_type": "stream",
     "text": [
      " 51%|███████████████████████████████████████                                     | 38050/74060 [41:52<36:03, 16.64it/s]"
     ]
    },
    {
     "name": "stdout",
     "output_type": "stream",
     "text": [
      "Could have Bought\n",
      "Could have Bought\n",
      "Could have Bought\n"
     ]
    },
    {
     "name": "stderr",
     "output_type": "stream",
     "text": [
      " 51%|███████████████████████████████████████                                     | 38054/74060 [41:52<36:47, 16.31it/s]"
     ]
    },
    {
     "name": "stdout",
     "output_type": "stream",
     "text": [
      "Could have Bought\n"
     ]
    },
    {
     "name": "stderr",
     "output_type": "stream",
     "text": [
      " 52%|███████████████████████████████████████▊                                    | 38814/74060 [42:40<38:33, 15.24it/s]"
     ]
    },
    {
     "name": "stdout",
     "output_type": "stream",
     "text": [
      "Could have Bought\n",
      "Could have Bought\n"
     ]
    },
    {
     "name": "stderr",
     "output_type": "stream",
     "text": [
      " 53%|████████████████████████████████████████▏                                   | 39152/74060 [43:02<35:28, 16.40it/s]"
     ]
    },
    {
     "name": "stdout",
     "output_type": "stream",
     "text": [
      "Could have Bought\n",
      "Could have Bought\n",
      "Could have Bought\n",
      "Could have Bought\n"
     ]
    },
    {
     "name": "stderr",
     "output_type": "stream",
     "text": [
      " 53%|████████████████████████████████████████▏                                   | 39156/74060 [43:02<36:40, 15.86it/s]"
     ]
    },
    {
     "name": "stdout",
     "output_type": "stream",
     "text": [
      "Could have Bought\n",
      "Could have Bought\n",
      "Could have Bought\n",
      "Could have Bought\n"
     ]
    },
    {
     "name": "stderr",
     "output_type": "stream",
     "text": [
      " 53%|████████████████████████████████████████▏                                   | 39160/74060 [43:02<36:58, 15.73it/s]"
     ]
    },
    {
     "name": "stdout",
     "output_type": "stream",
     "text": [
      "Could have Bought\n",
      "Could have Bought\n",
      "Could have Bought\n"
     ]
    },
    {
     "name": "stderr",
     "output_type": "stream",
     "text": [
      " 53%|████████████████████████████████████████▏                                   | 39194/74060 [43:05<40:39, 14.29it/s]"
     ]
    },
    {
     "name": "stdout",
     "output_type": "stream",
     "text": [
      "Could have Bought\n",
      "Could have Bought\n",
      "Could have Bought\n"
     ]
    },
    {
     "name": "stderr",
     "output_type": "stream",
     "text": [
      "\r",
      " 53%|████████████████████████████████████████▏                                   | 39196/74060 [43:05<39:58, 14.54it/s]"
     ]
    },
    {
     "name": "stdout",
     "output_type": "stream",
     "text": [
      "Could have Bought\n",
      "Could have Bought\n",
      "Could have Bought\n"
     ]
    },
    {
     "name": "stderr",
     "output_type": "stream",
     "text": [
      " 53%|████████████████████████████████████████▏                                   | 39200/74060 [43:05<39:53, 14.57it/s]"
     ]
    },
    {
     "name": "stdout",
     "output_type": "stream",
     "text": [
      "Could have Bought\n",
      "Could have Bought\n"
     ]
    },
    {
     "name": "stderr",
     "output_type": "stream",
     "text": [
      " 54%|████████████████████████████████████████▉                                   | 39906/74060 [43:49<35:19, 16.12it/s]"
     ]
    },
    {
     "name": "stdout",
     "output_type": "stream",
     "text": [
      "Could have Bought\n",
      "Could have Bought\n"
     ]
    },
    {
     "name": "stderr",
     "output_type": "stream",
     "text": [
      " 54%|████████████████████████████████████████▉                                   | 39916/74060 [43:50<36:04, 15.78it/s]"
     ]
    },
    {
     "name": "stdout",
     "output_type": "stream",
     "text": [
      "Could have Bought\n"
     ]
    },
    {
     "name": "stderr",
     "output_type": "stream",
     "text": [
      " 54%|█████████████████████████████████████████▎                                  | 40286/74060 [44:13<33:42, 16.70it/s]"
     ]
    },
    {
     "name": "stdout",
     "output_type": "stream",
     "text": [
      "Could have Bought\n",
      "Could have Bought\n"
     ]
    },
    {
     "name": "stderr",
     "output_type": "stream",
     "text": [
      " 55%|██████████████████████████████████████████                                  | 40996/74060 [44:58<33:37, 16.39it/s]"
     ]
    },
    {
     "name": "stdout",
     "output_type": "stream",
     "text": [
      "Could have Bought\n",
      "Could have Bought\n"
     ]
    },
    {
     "name": "stderr",
     "output_type": "stream",
     "text": [
      " 55%|██████████████████████████████████████████                                  | 41018/74060 [45:00<33:39, 16.36it/s]"
     ]
    },
    {
     "name": "stdout",
     "output_type": "stream",
     "text": [
      "Could have Bought\n",
      "Could have Bought\n",
      "Could have Bought\n",
      "Could have Bought\n"
     ]
    },
    {
     "name": "stderr",
     "output_type": "stream",
     "text": [
      " 55%|██████████████████████████████████████████                                  | 41022/74060 [45:00<34:48, 15.82it/s]"
     ]
    },
    {
     "name": "stdout",
     "output_type": "stream",
     "text": [
      "Could have Bought\n",
      "Could have Bought\n",
      "Could have Bought\n"
     ]
    },
    {
     "name": "stderr",
     "output_type": "stream",
     "text": [
      " 56%|██████████████████████████████████████████▌                                 | 41464/74060 [45:28<33:09, 16.38it/s]"
     ]
    },
    {
     "name": "stdout",
     "output_type": "stream",
     "text": [
      "Could have Bought\n"
     ]
    },
    {
     "name": "stderr",
     "output_type": "stream",
     "text": [
      " 56%|██████████████████████████████████████████▉                                 | 41822/74060 [45:50<33:28, 16.05it/s]"
     ]
    },
    {
     "name": "stdout",
     "output_type": "stream",
     "text": [
      "Could have Bought\n",
      "Could have Bought\n",
      "Could have Bought\n",
      "Could have Bought\n"
     ]
    },
    {
     "name": "stderr",
     "output_type": "stream",
     "text": [
      " 56%|██████████████████████████████████████████▉                                 | 41826/74060 [45:50<33:11, 16.18it/s]"
     ]
    },
    {
     "name": "stdout",
     "output_type": "stream",
     "text": [
      "Could have Bought\n"
     ]
    },
    {
     "name": "stderr",
     "output_type": "stream",
     "text": [
      " 57%|██████████████████████████████████████████▉                                 | 41868/74060 [45:53<33:22, 16.07it/s]"
     ]
    },
    {
     "name": "stdout",
     "output_type": "stream",
     "text": [
      "Could have Bought\n",
      "Could have Bought\n",
      "Could have Bought\n"
     ]
    },
    {
     "name": "stderr",
     "output_type": "stream",
     "text": [
      " 57%|██████████████████████████████████████████▉                                 | 41902/74060 [45:55<32:29, 16.50it/s]"
     ]
    },
    {
     "name": "stdout",
     "output_type": "stream",
     "text": [
      "Could have Bought\n",
      "Could have Bought\n"
     ]
    },
    {
     "name": "stderr",
     "output_type": "stream",
     "text": [
      " 57%|███████████████████████████████████████████                                 | 41918/74060 [45:56<32:32, 16.46it/s]"
     ]
    },
    {
     "name": "stdout",
     "output_type": "stream",
     "text": [
      "Could have Bought\n"
     ]
    },
    {
     "name": "stderr",
     "output_type": "stream",
     "text": [
      " 57%|███████████████████████████████████████████                                 | 41928/74060 [45:57<33:01, 16.22it/s]"
     ]
    },
    {
     "name": "stdout",
     "output_type": "stream",
     "text": [
      "Could have Bought\n",
      "Could have Bought\n",
      "Could have Bought\n",
      "Could have Bought\n"
     ]
    },
    {
     "name": "stderr",
     "output_type": "stream",
     "text": [
      "\r",
      " 57%|███████████████████████████████████████████                                 | 41930/74060 [45:57<33:51, 15.81it/s]"
     ]
    },
    {
     "name": "stdout",
     "output_type": "stream",
     "text": [
      "Could have Bought\n",
      "Could have Bought\n"
     ]
    },
    {
     "name": "stderr",
     "output_type": "stream",
     "text": [
      " 57%|███████████████████████████████████████████                                 | 41934/74060 [45:57<47:00, 11.39it/s]"
     ]
    },
    {
     "name": "stdout",
     "output_type": "stream",
     "text": [
      "Could have Bought\n",
      "Could have Bought\n",
      "Could have Bought\n"
     ]
    },
    {
     "name": "stderr",
     "output_type": "stream",
     "text": [
      " 57%|███████████████████████████████████████████                                 | 41938/74060 [45:57<38:30, 13.90it/s]"
     ]
    },
    {
     "name": "stdout",
     "output_type": "stream",
     "text": [
      "Could have Bought\n",
      "Could have Bought\n",
      "Could have Bought\n"
     ]
    },
    {
     "name": "stderr",
     "output_type": "stream",
     "text": [
      " 57%|███████████████████████████████████████████                                 | 41942/74060 [45:58<35:58, 14.88it/s]"
     ]
    },
    {
     "name": "stdout",
     "output_type": "stream",
     "text": [
      "Could have Bought\n"
     ]
    },
    {
     "name": "stderr",
     "output_type": "stream",
     "text": [
      " 57%|███████████████████████████████████████████                                 | 42022/74060 [46:03<34:18, 15.56it/s]"
     ]
    },
    {
     "name": "stdout",
     "output_type": "stream",
     "text": [
      "Could have Bought\n"
     ]
    },
    {
     "name": "stderr",
     "output_type": "stream",
     "text": [
      " 57%|███████████████████████████████████████████▏                                | 42096/74060 [46:07<32:50, 16.22it/s]"
     ]
    },
    {
     "name": "stdout",
     "output_type": "stream",
     "text": [
      "Could have Bought\n",
      "Could have Bought\n",
      "Could have Bought\n",
      "Could have Bought\n"
     ]
    },
    {
     "name": "stderr",
     "output_type": "stream",
     "text": [
      " 57%|███████████████████████████████████████████▏                                | 42100/74060 [46:08<32:46, 16.25it/s]"
     ]
    },
    {
     "name": "stdout",
     "output_type": "stream",
     "text": [
      "Could have Bought\n",
      "Could have Bought\n",
      "Could have Bought\n",
      "Could have Bought\n"
     ]
    },
    {
     "name": "stderr",
     "output_type": "stream",
     "text": [
      " 57%|███████████████████████████████████████████▏                                | 42104/74060 [46:08<32:36, 16.33it/s]"
     ]
    },
    {
     "name": "stdout",
     "output_type": "stream",
     "text": [
      "Could have Bought\n",
      "Could have Bought\n"
     ]
    },
    {
     "name": "stderr",
     "output_type": "stream",
     "text": [
      " 57%|███████████████████████████████████████████▎                                | 42150/74060 [46:11<34:07, 15.59it/s]"
     ]
    },
    {
     "name": "stdout",
     "output_type": "stream",
     "text": [
      "Could have Bought\n"
     ]
    },
    {
     "name": "stderr",
     "output_type": "stream",
     "text": [
      " 57%|███████████████████████████████████████████▎                                | 42192/74060 [46:13<34:02, 15.61it/s]"
     ]
    },
    {
     "name": "stdout",
     "output_type": "stream",
     "text": [
      "Could have Bought\n",
      "Could have Bought\n"
     ]
    },
    {
     "name": "stderr",
     "output_type": "stream",
     "text": [
      " 57%|███████████████████████████████████████████▋                                | 42526/74060 [46:34<33:57, 15.48it/s]"
     ]
    },
    {
     "name": "stdout",
     "output_type": "stream",
     "text": [
      "Could have Bought\n",
      "Could have Bought\n"
     ]
    },
    {
     "name": "stderr",
     "output_type": "stream",
     "text": [
      " 57%|███████████████████████████████████████████▋                                | 42530/74060 [46:35<33:48, 15.55it/s]"
     ]
    },
    {
     "name": "stdout",
     "output_type": "stream",
     "text": [
      "Could have Bought\n",
      "Could have Bought\n",
      "Could have Bought\n",
      "Could have Bought\n"
     ]
    },
    {
     "name": "stderr",
     "output_type": "stream",
     "text": [
      " 57%|███████████████████████████████████████████▋                                | 42534/74060 [46:35<34:13, 15.35it/s]"
     ]
    },
    {
     "name": "stdout",
     "output_type": "stream",
     "text": [
      "Could have Bought\n",
      "Could have Bought\n"
     ]
    },
    {
     "name": "stderr",
     "output_type": "stream",
     "text": [
      " 57%|███████████████████████████████████████████▋                                | 42538/74060 [46:35<34:10, 15.37it/s]"
     ]
    },
    {
     "name": "stdout",
     "output_type": "stream",
     "text": [
      "Could have Bought\n",
      "Could have Bought\n"
     ]
    },
    {
     "name": "stderr",
     "output_type": "stream",
     "text": [
      " 58%|████████████████████████████████████████████                                | 42962/74060 [47:02<32:12, 16.09it/s]"
     ]
    },
    {
     "name": "stdout",
     "output_type": "stream",
     "text": [
      "Could have Bought\n",
      "Could have Bought\n",
      "Could have Bought\n",
      "Could have Bought\n"
     ]
    },
    {
     "name": "stderr",
     "output_type": "stream",
     "text": [
      " 58%|████████████████████████████████████████████                                | 42968/74060 [47:02<32:34, 15.91it/s]"
     ]
    },
    {
     "name": "stdout",
     "output_type": "stream",
     "text": [
      "Could have Bought\n"
     ]
    },
    {
     "name": "stderr",
     "output_type": "stream",
     "text": [
      " 58%|████████████████████████████████████████████▏                               | 43010/74060 [47:05<32:01, 16.16it/s]"
     ]
    },
    {
     "name": "stdout",
     "output_type": "stream",
     "text": [
      "Could have Bought\n"
     ]
    },
    {
     "name": "stderr",
     "output_type": "stream",
     "text": [
      " 58%|████████████████████████████████████████████▎                               | 43202/74060 [47:17<30:36, 16.81it/s]"
     ]
    },
    {
     "name": "stdout",
     "output_type": "stream",
     "text": [
      "Could have Bought\n"
     ]
    },
    {
     "name": "stderr",
     "output_type": "stream",
     "text": [
      " 58%|████████████████████████████████████████████▍                               | 43276/74060 [47:21<31:43, 16.17it/s]"
     ]
    },
    {
     "name": "stdout",
     "output_type": "stream",
     "text": [
      "Could have Bought\n",
      "Could have Bought\n",
      "Could have Bought\n",
      "Could have Bought\n"
     ]
    },
    {
     "name": "stderr",
     "output_type": "stream",
     "text": [
      " 58%|████████████████████████████████████████████▍                               | 43280/74060 [47:22<30:55, 16.59it/s]"
     ]
    },
    {
     "name": "stdout",
     "output_type": "stream",
     "text": [
      "Could have Bought\n",
      "Could have Bought\n",
      "Could have Bought\n",
      "Could have Bought\n"
     ]
    },
    {
     "name": "stderr",
     "output_type": "stream",
     "text": [
      " 59%|████████████████████████████████████████████▌                               | 43410/74060 [47:30<31:01, 16.47it/s]"
     ]
    },
    {
     "name": "stdout",
     "output_type": "stream",
     "text": [
      "Could have Bought\n",
      "Could have Bought\n",
      "Could have Bought\n"
     ]
    },
    {
     "name": "stderr",
     "output_type": "stream",
     "text": [
      " 59%|████████████████████████████████████████████▌                               | 43424/74060 [47:31<32:21, 15.78it/s]"
     ]
    },
    {
     "name": "stdout",
     "output_type": "stream",
     "text": [
      "Could have Bought\n",
      "Could have Bought\n"
     ]
    },
    {
     "name": "stderr",
     "output_type": "stream",
     "text": [
      " 59%|████████████████████████████████████████████▌                               | 43430/74060 [47:31<32:10, 15.87it/s]"
     ]
    },
    {
     "name": "stdout",
     "output_type": "stream",
     "text": [
      "Could have Bought\n"
     ]
    },
    {
     "name": "stderr",
     "output_type": "stream",
     "text": [
      " 59%|████████████████████████████████████████████▋                               | 43546/74060 [47:38<32:07, 15.83it/s]"
     ]
    },
    {
     "name": "stdout",
     "output_type": "stream",
     "text": [
      "Could have Bought\n"
     ]
    },
    {
     "name": "stderr",
     "output_type": "stream",
     "text": [
      " 59%|████████████████████████████████████████████▋                               | 43552/74060 [47:39<31:48, 15.99it/s]"
     ]
    },
    {
     "name": "stdout",
     "output_type": "stream",
     "text": [
      "Could have Bought\n",
      "Could have Bought\n"
     ]
    },
    {
     "name": "stderr",
     "output_type": "stream",
     "text": [
      " 59%|████████████████████████████████████████████▋                               | 43596/74060 [47:41<31:09, 16.29it/s]"
     ]
    },
    {
     "name": "stdout",
     "output_type": "stream",
     "text": [
      "Could have Bought\n"
     ]
    },
    {
     "name": "stderr",
     "output_type": "stream",
     "text": [
      " 59%|████████████████████████████████████████████▋                               | 43602/74060 [47:42<31:16, 16.23it/s]"
     ]
    },
    {
     "name": "stdout",
     "output_type": "stream",
     "text": [
      "Could have Bought\n"
     ]
    },
    {
     "name": "stderr",
     "output_type": "stream",
     "text": [
      " 59%|████████████████████████████████████████████▊                               | 43662/74060 [47:45<31:13, 16.23it/s]"
     ]
    },
    {
     "name": "stdout",
     "output_type": "stream",
     "text": [
      "Could have Bought\n"
     ]
    },
    {
     "name": "stderr",
     "output_type": "stream",
     "text": [
      " 59%|████████████████████████████████████████████▊                               | 43672/74060 [47:46<31:05, 16.29it/s]"
     ]
    },
    {
     "name": "stdout",
     "output_type": "stream",
     "text": [
      "Could have Bought\n",
      "Could have Bought\n",
      "Could have Bought\n"
     ]
    },
    {
     "name": "stderr",
     "output_type": "stream",
     "text": [
      " 59%|████████████████████████████████████████████▊                               | 43676/74060 [47:46<31:18, 16.18it/s]"
     ]
    },
    {
     "name": "stdout",
     "output_type": "stream",
     "text": [
      "Could have Bought\n",
      "Could have Bought\n",
      "Could have Bought\n",
      "Could have Bought\n"
     ]
    },
    {
     "name": "stderr",
     "output_type": "stream",
     "text": [
      " 59%|████████████████████████████████████████████▊                               | 43680/74060 [47:47<31:04, 16.30it/s]"
     ]
    },
    {
     "name": "stdout",
     "output_type": "stream",
     "text": [
      "Could have Bought\n",
      "Could have Bought\n",
      "Could have Bought\n",
      "Could have Bought\n"
     ]
    },
    {
     "name": "stderr",
     "output_type": "stream",
     "text": [
      " 59%|█████████████████████████████████████████████                               | 43864/74060 [47:58<32:11, 15.64it/s]"
     ]
    },
    {
     "name": "stdout",
     "output_type": "stream",
     "text": [
      "Could have Bought\n",
      "Could have Bought\n",
      "Could have Bought\n",
      "Could have Bought\n"
     ]
    },
    {
     "name": "stderr",
     "output_type": "stream",
     "text": [
      " 59%|█████████████████████████████████████████████                               | 43868/74060 [47:58<31:25, 16.01it/s]"
     ]
    },
    {
     "name": "stdout",
     "output_type": "stream",
     "text": [
      "Could have Bought\n",
      "Could have Bought\n",
      "Could have Bought\n",
      "Could have Bought\n"
     ]
    },
    {
     "name": "stderr",
     "output_type": "stream",
     "text": [
      " 59%|█████████████████████████████████████████████                               | 43966/74060 [48:04<31:21, 15.99it/s]"
     ]
    },
    {
     "name": "stdout",
     "output_type": "stream",
     "text": [
      "Could have Bought\n",
      "Could have Bought\n"
     ]
    },
    {
     "name": "stderr",
     "output_type": "stream",
     "text": [
      " 59%|█████████████████████████████████████████████                               | 43970/74060 [48:05<30:56, 16.21it/s]"
     ]
    },
    {
     "name": "stdout",
     "output_type": "stream",
     "text": [
      "Could have Bought\n"
     ]
    },
    {
     "name": "stderr",
     "output_type": "stream",
     "text": [
      " 59%|█████████████████████████████████████████████▏                              | 44028/74060 [48:08<31:13, 16.03it/s]"
     ]
    },
    {
     "name": "stdout",
     "output_type": "stream",
     "text": [
      "Could have Bought\n",
      "Could have Bought\n",
      "Could have Bought\n",
      "Could have Bought\n"
     ]
    },
    {
     "name": "stderr",
     "output_type": "stream",
     "text": [
      " 59%|█████████████████████████████████████████████▏                              | 44032/74060 [48:09<31:02, 16.13it/s]"
     ]
    },
    {
     "name": "stdout",
     "output_type": "stream",
     "text": [
      "Could have Bought\n",
      "Could have Bought\n",
      "Could have Bought\n",
      "Could have Bought\n"
     ]
    },
    {
     "name": "stderr",
     "output_type": "stream",
     "text": [
      " 59%|█████████████████████████████████████████████▏                              | 44036/74060 [48:09<32:02, 15.62it/s]"
     ]
    },
    {
     "name": "stdout",
     "output_type": "stream",
     "text": [
      "Could have Bought\n"
     ]
    },
    {
     "name": "stderr",
     "output_type": "stream",
     "text": [
      " 60%|█████████████████████████████████████████████▎                              | 44194/74060 [48:19<31:04, 16.01it/s]"
     ]
    },
    {
     "name": "stdout",
     "output_type": "stream",
     "text": [
      "Could have Bought\n",
      "Could have Bought\n"
     ]
    },
    {
     "name": "stderr",
     "output_type": "stream",
     "text": [
      " 60%|█████████████████████████████████████████████▌                              | 44400/74060 [48:32<29:59, 16.48it/s]"
     ]
    },
    {
     "name": "stdout",
     "output_type": "stream",
     "text": [
      "Could have Bought\n"
     ]
    },
    {
     "name": "stderr",
     "output_type": "stream",
     "text": [
      " 60%|█████████████████████████████████████████████▌                              | 44416/74060 [48:33<30:58, 15.95it/s]"
     ]
    },
    {
     "name": "stdout",
     "output_type": "stream",
     "text": [
      "Could have Bought\n"
     ]
    },
    {
     "name": "stderr",
     "output_type": "stream",
     "text": [
      " 60%|█████████████████████████████████████████████▌                              | 44460/74060 [48:35<31:09, 15.83it/s]"
     ]
    },
    {
     "name": "stdout",
     "output_type": "stream",
     "text": [
      "Could have Bought\n",
      "Could have Bought\n"
     ]
    },
    {
     "name": "stderr",
     "output_type": "stream",
     "text": [
      " 60%|█████████████████████████████████████████████▋                              | 44512/74060 [48:39<30:44, 16.02it/s]"
     ]
    },
    {
     "name": "stdout",
     "output_type": "stream",
     "text": [
      "Could have Bought\n"
     ]
    },
    {
     "name": "stderr",
     "output_type": "stream",
     "text": [
      " 60%|█████████████████████████████████████████████▋                              | 44570/74060 [48:42<31:56, 15.38it/s]"
     ]
    },
    {
     "name": "stdout",
     "output_type": "stream",
     "text": [
      "Could have Bought\n",
      "Could have Bought\n",
      "Could have Bought\n"
     ]
    },
    {
     "name": "stderr",
     "output_type": "stream",
     "text": [
      " 60%|█████████████████████████████████████████████▋                              | 44576/74060 [48:43<31:28, 15.61it/s]"
     ]
    },
    {
     "name": "stdout",
     "output_type": "stream",
     "text": [
      "Could have Bought\n",
      "Could have Bought\n"
     ]
    },
    {
     "name": "stderr",
     "output_type": "stream",
     "text": [
      " 60%|█████████████████████████████████████████████▉                              | 44784/74060 [48:56<30:00, 16.26it/s]"
     ]
    },
    {
     "name": "stdout",
     "output_type": "stream",
     "text": [
      "Could have Bought\n"
     ]
    },
    {
     "name": "stderr",
     "output_type": "stream",
     "text": [
      " 60%|█████████████████████████████████████████████▉                              | 44792/74060 [48:56<31:10, 15.65it/s]"
     ]
    },
    {
     "name": "stdout",
     "output_type": "stream",
     "text": [
      "Could have Bought\n"
     ]
    },
    {
     "name": "stderr",
     "output_type": "stream",
     "text": [
      " 61%|██████████████████████████████████████████████                              | 44862/74060 [49:01<31:14, 15.57it/s]"
     ]
    },
    {
     "name": "stdout",
     "output_type": "stream",
     "text": [
      "Could have Bought\n"
     ]
    },
    {
     "name": "stderr",
     "output_type": "stream",
     "text": [
      " 61%|██████████████████████████████████████████████▍                             | 45194/74060 [49:22<28:47, 16.71it/s]"
     ]
    },
    {
     "name": "stdout",
     "output_type": "stream",
     "text": [
      "Could have Bought\n",
      "Could have Bought\n"
     ]
    },
    {
     "name": "stderr",
     "output_type": "stream",
     "text": [
      " 61%|██████████████████████████████████████████████▍                             | 45200/74060 [49:22<29:41, 16.20it/s]"
     ]
    },
    {
     "name": "stdout",
     "output_type": "stream",
     "text": [
      "Could have Bought\n",
      "Could have Bought\n",
      "Could have Bought\n",
      "Could have Bought\n"
     ]
    },
    {
     "name": "stderr",
     "output_type": "stream",
     "text": [
      " 61%|██████████████████████████████████████████████▍                             | 45204/74060 [49:22<28:57, 16.61it/s]"
     ]
    },
    {
     "name": "stdout",
     "output_type": "stream",
     "text": [
      "Could have Bought\n",
      "Could have Bought\n",
      "Could have Bought\n",
      "Could have Bought\n"
     ]
    },
    {
     "name": "stderr",
     "output_type": "stream",
     "text": [
      " 61%|██████████████████████████████████████████████▍                             | 45212/74060 [49:23<29:51, 16.10it/s]"
     ]
    },
    {
     "name": "stdout",
     "output_type": "stream",
     "text": [
      "Could have Bought\n"
     ]
    },
    {
     "name": "stderr",
     "output_type": "stream",
     "text": [
      " 61%|██████████████████████████████████████████████▍                             | 45266/74060 [49:26<28:32, 16.81it/s]"
     ]
    },
    {
     "name": "stdout",
     "output_type": "stream",
     "text": [
      "Could have Bought\n",
      "Could have Bought\n"
     ]
    },
    {
     "name": "stderr",
     "output_type": "stream",
     "text": [
      " 62%|███████████████████████████████████████████████                             | 45818/74060 [50:00<29:05, 16.18it/s]"
     ]
    },
    {
     "name": "stdout",
     "output_type": "stream",
     "text": [
      "Could have Bought\n"
     ]
    },
    {
     "name": "stderr",
     "output_type": "stream",
     "text": [
      " 62%|███████████████████████████████████████████████                             | 45822/74060 [50:01<29:44, 15.83it/s]"
     ]
    },
    {
     "name": "stdout",
     "output_type": "stream",
     "text": [
      "Could have Bought\n"
     ]
    },
    {
     "name": "stderr",
     "output_type": "stream",
     "text": [
      " 62%|███████████████████████████████████████████████                             | 45830/74060 [50:01<29:21, 16.02it/s]"
     ]
    },
    {
     "name": "stdout",
     "output_type": "stream",
     "text": [
      "Could have Bought\n"
     ]
    },
    {
     "name": "stderr",
     "output_type": "stream",
     "text": [
      " 62%|███████████████████████████████████████████████▏                            | 45934/74060 [50:07<28:44, 16.31it/s]"
     ]
    },
    {
     "name": "stdout",
     "output_type": "stream",
     "text": [
      "Could have Bought\n",
      "Could have Bought\n",
      "Could have Bought\n",
      "Could have Bought\n"
     ]
    },
    {
     "name": "stderr",
     "output_type": "stream",
     "text": [
      " 62%|███████████████████████████████████████████████▏                            | 45938/74060 [50:08<29:29, 15.89it/s]"
     ]
    },
    {
     "name": "stdout",
     "output_type": "stream",
     "text": [
      "Could have Bought\n",
      "Could have Bought\n",
      "Could have Bought\n",
      "Could have Bought\n"
     ]
    },
    {
     "name": "stderr",
     "output_type": "stream",
     "text": [
      " 62%|███████████████████████████████████████████████▏                            | 45942/74060 [50:08<29:21, 15.96it/s]"
     ]
    },
    {
     "name": "stdout",
     "output_type": "stream",
     "text": [
      "Could have Bought\n",
      "Could have Bought\n"
     ]
    },
    {
     "name": "stderr",
     "output_type": "stream",
     "text": [
      " 62%|███████████████████████████████████████████████▏                            | 45960/74060 [50:09<29:43, 15.75it/s]"
     ]
    },
    {
     "name": "stdout",
     "output_type": "stream",
     "text": [
      "Could have Bought\n",
      "Could have Bought\n",
      "Could have Bought\n",
      "Could have Bought\n"
     ]
    },
    {
     "name": "stderr",
     "output_type": "stream",
     "text": [
      " 62%|███████████████████████████████████████████████▏                            | 45964/74060 [50:09<29:33, 15.85it/s]"
     ]
    },
    {
     "name": "stdout",
     "output_type": "stream",
     "text": [
      "Could have Bought\n",
      "Could have Bought\n",
      "Could have Bought\n",
      "Could have Bought\n"
     ]
    },
    {
     "name": "stderr",
     "output_type": "stream",
     "text": [
      " 62%|███████████████████████████████████████████████▏                            | 45984/74060 [50:11<28:46, 16.26it/s]"
     ]
    },
    {
     "name": "stdout",
     "output_type": "stream",
     "text": [
      "Could have Bought\n",
      "Could have Bought\n",
      "Could have Bought\n",
      "Could have Bought\n"
     ]
    },
    {
     "name": "stderr",
     "output_type": "stream",
     "text": [
      " 62%|███████████████████████████████████████████████▏                            | 45988/74060 [50:11<29:18, 15.96it/s]"
     ]
    },
    {
     "name": "stdout",
     "output_type": "stream",
     "text": [
      "Could have Bought\n",
      "Could have Bought\n",
      "Could have Bought\n",
      "Could have Bought\n"
     ]
    },
    {
     "name": "stderr",
     "output_type": "stream",
     "text": [
      " 62%|███████████████████████████████████████████████▏                            | 45992/74060 [50:11<29:02, 16.11it/s]"
     ]
    },
    {
     "name": "stdout",
     "output_type": "stream",
     "text": [
      "Could have Bought\n",
      "Could have Bought\n"
     ]
    },
    {
     "name": "stderr",
     "output_type": "stream",
     "text": [
      " 62%|███████████████████████████████████████████████▎                            | 46138/74060 [50:20<29:31, 15.77it/s]"
     ]
    },
    {
     "name": "stdout",
     "output_type": "stream",
     "text": [
      "Could have Bought\n"
     ]
    },
    {
     "name": "stderr",
     "output_type": "stream",
     "text": [
      " 63%|███████████████████████████████████████████████▌                            | 46292/74060 [50:30<27:45, 16.67it/s]"
     ]
    },
    {
     "name": "stdout",
     "output_type": "stream",
     "text": [
      "Could have Bought\n"
     ]
    },
    {
     "name": "stderr",
     "output_type": "stream",
     "text": [
      " 63%|███████████████████████████████████████████████▌                            | 46296/74060 [50:30<29:15, 15.82it/s]"
     ]
    },
    {
     "name": "stdout",
     "output_type": "stream",
     "text": [
      "Could have Bought\n"
     ]
    },
    {
     "name": "stderr",
     "output_type": "stream",
     "text": [
      " 63%|███████████████████████████████████████████████▌                            | 46344/74060 [50:33<28:30, 16.20it/s]"
     ]
    },
    {
     "name": "stdout",
     "output_type": "stream",
     "text": [
      "Could have Bought\n",
      "Could have Bought\n"
     ]
    },
    {
     "name": "stderr",
     "output_type": "stream",
     "text": [
      " 63%|███████████████████████████████████████████████▌                            | 46348/74060 [50:34<28:28, 16.22it/s]"
     ]
    },
    {
     "name": "stdout",
     "output_type": "stream",
     "text": [
      "Could have Bought\n"
     ]
    },
    {
     "name": "stderr",
     "output_type": "stream",
     "text": [
      " 63%|███████████████████████████████████████████████▊                            | 46558/74060 [50:47<28:35, 16.03it/s]"
     ]
    },
    {
     "name": "stdout",
     "output_type": "stream",
     "text": [
      "Could have Bought\n",
      "Could have Bought\n"
     ]
    },
    {
     "name": "stderr",
     "output_type": "stream",
     "text": [
      " 63%|███████████████████████████████████████████████▊                            | 46650/74060 [50:52<28:12, 16.20it/s]"
     ]
    },
    {
     "name": "stdout",
     "output_type": "stream",
     "text": [
      "Could have Bought\n",
      "Could have Bought\n",
      "Could have Bought\n",
      "Could have Bought\n"
     ]
    },
    {
     "name": "stderr",
     "output_type": "stream",
     "text": [
      " 63%|███████████████████████████████████████████████▉                            | 46654/74060 [50:53<28:22, 16.09it/s]"
     ]
    },
    {
     "name": "stdout",
     "output_type": "stream",
     "text": [
      "Could have Bought\n",
      "Could have Bought\n",
      "Could have Bought\n"
     ]
    },
    {
     "name": "stderr",
     "output_type": "stream",
     "text": [
      " 64%|████████████████████████████████████████████████▎                           | 47072/74060 [51:19<27:46, 16.20it/s]"
     ]
    },
    {
     "name": "stdout",
     "output_type": "stream",
     "text": [
      "Could have Bought\n"
     ]
    },
    {
     "name": "stderr",
     "output_type": "stream",
     "text": [
      " 64%|████████████████████████████████████████████████▎                           | 47120/74060 [51:22<28:17, 15.87it/s]"
     ]
    },
    {
     "name": "stdout",
     "output_type": "stream",
     "text": [
      "Could have Bought\n"
     ]
    },
    {
     "name": "stderr",
     "output_type": "stream",
     "text": [
      " 64%|████████████████████████████████████████████████▌                           | 47336/74060 [51:35<27:00, 16.50it/s]"
     ]
    },
    {
     "name": "stdout",
     "output_type": "stream",
     "text": [
      "Could have Bought\n",
      "Could have Bought\n",
      "Could have Bought\n"
     ]
    },
    {
     "name": "stderr",
     "output_type": "stream",
     "text": [
      " 64%|████████████████████████████████████████████████▌                           | 47372/74060 [51:37<26:57, 16.50it/s]"
     ]
    },
    {
     "name": "stdout",
     "output_type": "stream",
     "text": [
      "Could have Bought\n",
      "Could have Bought\n",
      "Could have Bought\n"
     ]
    },
    {
     "name": "stderr",
     "output_type": "stream",
     "text": [
      "\r",
      " 64%|████████████████████████████████████████████████▌                           | 47374/74060 [51:37<27:12, 16.34it/s]"
     ]
    },
    {
     "name": "stdout",
     "output_type": "stream",
     "text": [
      "Could have Bought\n",
      "Could have Bought\n"
     ]
    },
    {
     "name": "stderr",
     "output_type": "stream",
     "text": [
      " 64%|████████████████████████████████████████████████▌                           | 47380/74060 [51:38<28:12, 15.77it/s]"
     ]
    },
    {
     "name": "stdout",
     "output_type": "stream",
     "text": [
      "Could have Bought\n",
      "Could have Bought\n"
     ]
    },
    {
     "name": "stderr",
     "output_type": "stream",
     "text": [
      " 64%|████████████████████████████████████████████████▋                           | 47386/74060 [51:38<27:39, 16.07it/s]"
     ]
    },
    {
     "name": "stdout",
     "output_type": "stream",
     "text": [
      "Could have Bought\n",
      "Could have Bought\n",
      "Could have Bought\n",
      "Could have Bought\n"
     ]
    },
    {
     "name": "stderr",
     "output_type": "stream",
     "text": [
      " 64%|████████████████████████████████████████████████▋                           | 47390/74060 [51:38<27:43, 16.03it/s]"
     ]
    },
    {
     "name": "stdout",
     "output_type": "stream",
     "text": [
      "Could have Bought\n",
      "Could have Bought\n"
     ]
    },
    {
     "name": "stderr",
     "output_type": "stream",
     "text": [
      " 64%|████████████████████████████████████████████████▋                           | 47406/74060 [51:39<27:55, 15.91it/s]"
     ]
    },
    {
     "name": "stdout",
     "output_type": "stream",
     "text": [
      "Could have Bought\n"
     ]
    },
    {
     "name": "stderr",
     "output_type": "stream",
     "text": [
      " 64%|████████████████████████████████████████████████▋                           | 47410/74060 [51:40<27:12, 16.33it/s]"
     ]
    },
    {
     "name": "stdout",
     "output_type": "stream",
     "text": [
      "Could have Bought\n",
      "Could have Bought\n",
      "Could have Bought\n",
      "Could have Bought\n"
     ]
    },
    {
     "name": "stderr",
     "output_type": "stream",
     "text": [
      " 64%|████████████████████████████████████████████████▋                           | 47414/74060 [51:40<27:48, 15.97it/s]"
     ]
    },
    {
     "name": "stdout",
     "output_type": "stream",
     "text": [
      "Could have Bought\n"
     ]
    },
    {
     "name": "stderr",
     "output_type": "stream",
     "text": [
      " 64%|████████████████████████████████████████████████▊                           | 47522/74060 [51:47<27:40, 15.98it/s]"
     ]
    },
    {
     "name": "stdout",
     "output_type": "stream",
     "text": [
      "Could have Bought\n",
      "Could have Bought\n",
      "Could have Bought\n"
     ]
    },
    {
     "name": "stderr",
     "output_type": "stream",
     "text": [
      " 64%|████████████████████████████████████████████████▊                           | 47526/74060 [51:47<27:37, 16.01it/s]"
     ]
    },
    {
     "name": "stdout",
     "output_type": "stream",
     "text": [
      "Could have Bought\n"
     ]
    },
    {
     "name": "stderr",
     "output_type": "stream",
     "text": [
      " 64%|████████████████████████████████████████████████▊                           | 47626/74060 [51:53<26:37, 16.55it/s]"
     ]
    },
    {
     "name": "stdout",
     "output_type": "stream",
     "text": [
      "Could have Bought\n",
      "Could have Bought\n",
      "Could have Bought\n",
      "Could have Bought\n"
     ]
    },
    {
     "name": "stderr",
     "output_type": "stream",
     "text": [
      " 64%|████████████████████████████████████████████████▉                           | 47630/74060 [51:53<27:04, 16.27it/s]"
     ]
    },
    {
     "name": "stdout",
     "output_type": "stream",
     "text": [
      "Could have Bought\n",
      "Could have Bought\n"
     ]
    },
    {
     "name": "stderr",
     "output_type": "stream",
     "text": [
      " 64%|████████████████████████████████████████████████▉                           | 47648/74060 [51:54<27:06, 16.23it/s]"
     ]
    },
    {
     "name": "stdout",
     "output_type": "stream",
     "text": [
      "Could have Bought\n",
      "Could have Bought\n",
      "Could have Bought\n"
     ]
    },
    {
     "name": "stderr",
     "output_type": "stream",
     "text": [
      " 64%|████████████████████████████████████████████████▉                           | 47652/74060 [51:55<28:28, 15.46it/s]"
     ]
    },
    {
     "name": "stdout",
     "output_type": "stream",
     "text": [
      "Could have Bought\n",
      "Could have Bought\n",
      "Could have Bought\n",
      "Could have Bought\n"
     ]
    },
    {
     "name": "stderr",
     "output_type": "stream",
     "text": [
      " 64%|████████████████████████████████████████████████▉                           | 47656/74060 [51:55<28:19, 15.53it/s]"
     ]
    },
    {
     "name": "stdout",
     "output_type": "stream",
     "text": [
      "Could have Bought\n",
      "Could have Bought\n",
      "Could have Bought\n",
      "Could have Bought\n"
     ]
    },
    {
     "name": "stderr",
     "output_type": "stream",
     "text": [
      " 64%|████████████████████████████████████████████████▉                           | 47660/74060 [51:55<27:22, 16.08it/s]"
     ]
    },
    {
     "name": "stdout",
     "output_type": "stream",
     "text": [
      "Could have Bought\n",
      "Could have Bought\n"
     ]
    },
    {
     "name": "stderr",
     "output_type": "stream",
     "text": [
      " 64%|████████████████████████████████████████████████▉                           | 47690/74060 [51:57<26:44, 16.43it/s]"
     ]
    },
    {
     "name": "stdout",
     "output_type": "stream",
     "text": [
      "Could have Bought\n",
      "Could have Bought\n"
     ]
    },
    {
     "name": "stderr",
     "output_type": "stream",
     "text": [
      " 64%|████████████████████████████████████████████████▉                           | 47694/74060 [51:57<27:03, 16.24it/s]"
     ]
    },
    {
     "name": "stdout",
     "output_type": "stream",
     "text": [
      "Could have Bought\n",
      "Could have Bought\n"
     ]
    },
    {
     "name": "stderr",
     "output_type": "stream",
     "text": [
      " 64%|████████████████████████████████████████████████▉                           | 47744/74060 [52:01<26:56, 16.28it/s]"
     ]
    },
    {
     "name": "stdout",
     "output_type": "stream",
     "text": [
      "Could have Bought\n",
      "Could have Bought\n",
      "Could have Bought\n"
     ]
    },
    {
     "name": "stderr",
     "output_type": "stream",
     "text": [
      " 65%|█████████████████████████████████████████████████                           | 47778/74060 [52:03<27:15, 16.07it/s]"
     ]
    },
    {
     "name": "stdout",
     "output_type": "stream",
     "text": [
      "Could have Bought\n",
      "Could have Bought\n",
      "Could have Bought\n"
     ]
    },
    {
     "name": "stderr",
     "output_type": "stream",
     "text": [
      " 65%|█████████████████████████████████████████████████                           | 47782/74060 [52:03<27:36, 15.86it/s]"
     ]
    },
    {
     "name": "stdout",
     "output_type": "stream",
     "text": [
      "Could have Bought\n",
      "Could have Bought\n",
      "Could have Bought\n",
      "Could have Bought\n"
     ]
    },
    {
     "name": "stderr",
     "output_type": "stream",
     "text": [
      " 65%|█████████████████████████████████████████████████                           | 47786/74060 [52:03<27:00, 16.21it/s]"
     ]
    },
    {
     "name": "stdout",
     "output_type": "stream",
     "text": [
      "Could have Bought\n",
      "Could have Bought\n",
      "Could have Bought\n",
      "Could have Bought\n"
     ]
    },
    {
     "name": "stderr",
     "output_type": "stream",
     "text": [
      " 65%|█████████████████████████████████████████████████                           | 47790/74060 [52:03<26:41, 16.40it/s]"
     ]
    },
    {
     "name": "stdout",
     "output_type": "stream",
     "text": [
      "Could have Bought\n",
      "Could have Bought\n",
      "Could have Bought\n",
      "Could have Bought\n"
     ]
    },
    {
     "name": "stderr",
     "output_type": "stream",
     "text": [
      " 65%|█████████████████████████████████████████████████                           | 47794/74060 [52:04<27:28, 15.93it/s]"
     ]
    },
    {
     "name": "stdout",
     "output_type": "stream",
     "text": [
      "Could have Bought\n",
      "Could have Bought\n",
      "Could have Bought\n"
     ]
    },
    {
     "name": "stderr",
     "output_type": "stream",
     "text": [
      " 65%|█████████████████████████████████████████████████▏                          | 47880/74060 [52:09<27:27, 15.89it/s]"
     ]
    },
    {
     "name": "stdout",
     "output_type": "stream",
     "text": [
      "Could have Bought\n",
      "Could have Bought\n",
      "Could have Bought\n",
      "Could have Bought\n"
     ]
    },
    {
     "name": "stderr",
     "output_type": "stream",
     "text": [
      " 65%|█████████████████████████████████████████████████▏                          | 47884/74060 [52:09<27:25, 15.90it/s]"
     ]
    },
    {
     "name": "stdout",
     "output_type": "stream",
     "text": [
      "Could have Bought\n"
     ]
    },
    {
     "name": "stderr",
     "output_type": "stream",
     "text": [
      " 65%|█████████████████████████████████████████████████▋                          | 48420/74060 [52:43<26:36, 16.06it/s]"
     ]
    },
    {
     "name": "stdout",
     "output_type": "stream",
     "text": [
      "Could have Bought\n",
      "Could have Bought\n"
     ]
    },
    {
     "name": "stderr",
     "output_type": "stream",
     "text": [
      " 65%|█████████████████████████████████████████████████▋                          | 48428/74060 [52:43<25:51, 16.53it/s]"
     ]
    },
    {
     "name": "stdout",
     "output_type": "stream",
     "text": [
      "Could have Bought\n"
     ]
    },
    {
     "name": "stderr",
     "output_type": "stream",
     "text": [
      " 66%|█████████████████████████████████████████████████▊                          | 48526/74060 [52:49<27:00, 15.76it/s]"
     ]
    },
    {
     "name": "stdout",
     "output_type": "stream",
     "text": [
      "Could have Bought\n",
      "Could have Bought\n",
      "Could have Bought\n",
      "Could have Bought\n"
     ]
    },
    {
     "name": "stderr",
     "output_type": "stream",
     "text": [
      " 66%|█████████████████████████████████████████████████▊                          | 48530/74060 [52:49<26:53, 15.83it/s]"
     ]
    },
    {
     "name": "stdout",
     "output_type": "stream",
     "text": [
      "Could have Bought\n",
      "Could have Bought\n",
      "Could have Bought\n",
      "Could have Bought\n"
     ]
    },
    {
     "name": "stderr",
     "output_type": "stream",
     "text": [
      " 66%|█████████████████████████████████████████████████▊                          | 48534/74060 [52:50<26:49, 15.86it/s]"
     ]
    },
    {
     "name": "stdout",
     "output_type": "stream",
     "text": [
      "Could have Bought\n",
      "Could have Bought\n",
      "Could have Bought\n",
      "Could have Bought\n"
     ]
    },
    {
     "name": "stderr",
     "output_type": "stream",
     "text": [
      " 66%|█████████████████████████████████████████████████▊                          | 48538/74060 [52:50<25:57, 16.39it/s]"
     ]
    },
    {
     "name": "stdout",
     "output_type": "stream",
     "text": [
      "Could have Bought\n",
      "Could have Bought\n",
      "Could have Bought\n",
      "Could have Bought\n"
     ]
    },
    {
     "name": "stderr",
     "output_type": "stream",
     "text": [
      " 66%|█████████████████████████████████████████████████▊                          | 48542/74060 [52:50<26:16, 16.18it/s]"
     ]
    },
    {
     "name": "stdout",
     "output_type": "stream",
     "text": [
      "Could have Bought\n",
      "Could have Bought\n",
      "Could have Bought\n",
      "Could have Bought\n"
     ]
    },
    {
     "name": "stderr",
     "output_type": "stream",
     "text": [
      " 66%|█████████████████████████████████████████████████▊                          | 48576/74060 [52:52<25:51, 16.43it/s]"
     ]
    },
    {
     "name": "stdout",
     "output_type": "stream",
     "text": [
      "Could have Bought\n"
     ]
    },
    {
     "name": "stderr",
     "output_type": "stream",
     "text": [
      " 66%|█████████████████████████████████████████████████▊                          | 48582/74060 [52:53<25:55, 16.38it/s]"
     ]
    },
    {
     "name": "stdout",
     "output_type": "stream",
     "text": [
      "Could have Bought\n"
     ]
    },
    {
     "name": "stderr",
     "output_type": "stream",
     "text": [
      " 66%|█████████████████████████████████████████████████▊                          | 48596/74060 [52:53<26:23, 16.08it/s]"
     ]
    },
    {
     "name": "stdout",
     "output_type": "stream",
     "text": [
      "Could have Bought\n",
      "Could have Bought\n",
      "Could have Bought\n"
     ]
    },
    {
     "name": "stderr",
     "output_type": "stream",
     "text": [
      " 66%|██████████████████████████████████████████████████▏                         | 48874/74060 [53:11<25:58, 16.16it/s]"
     ]
    },
    {
     "name": "stdout",
     "output_type": "stream",
     "text": [
      "Could have Bought\n",
      "Could have Bought\n"
     ]
    },
    {
     "name": "stderr",
     "output_type": "stream",
     "text": [
      " 66%|██████████████████████████████████████████████████▏                         | 48880/74060 [53:11<25:27, 16.49it/s]"
     ]
    },
    {
     "name": "stdout",
     "output_type": "stream",
     "text": [
      "Could have Bought\n"
     ]
    },
    {
     "name": "stderr",
     "output_type": "stream",
     "text": [
      " 66%|██████████████████████████████████████████████████▏                         | 48914/74060 [53:13<26:03, 16.09it/s]"
     ]
    },
    {
     "name": "stdout",
     "output_type": "stream",
     "text": [
      "Could have Bought\n",
      "Could have Bought\n",
      "Could have Bought\n",
      "Could have Bought\n"
     ]
    },
    {
     "name": "stderr",
     "output_type": "stream",
     "text": [
      " 66%|██████████████████████████████████████████████████▏                         | 48936/74060 [53:15<25:54, 16.16it/s]"
     ]
    },
    {
     "name": "stdout",
     "output_type": "stream",
     "text": [
      "Could have Bought\n",
      "Could have Bought\n",
      "Could have Bought\n"
     ]
    },
    {
     "name": "stderr",
     "output_type": "stream",
     "text": [
      " 66%|██████████████████████████████████████████████████▎                         | 48978/74060 [53:17<25:38, 16.31it/s]"
     ]
    },
    {
     "name": "stdout",
     "output_type": "stream",
     "text": [
      "Could have Bought\n"
     ]
    },
    {
     "name": "stderr",
     "output_type": "stream",
     "text": [
      " 66%|██████████████████████████████████████████████████▍                         | 49168/74060 [53:29<32:57, 12.59it/s]"
     ]
    },
    {
     "name": "stdout",
     "output_type": "stream",
     "text": [
      "Could have Bought\n"
     ]
    },
    {
     "name": "stderr",
     "output_type": "stream",
     "text": [
      " 67%|██████████████████████████████████████████████████▉                         | 49600/74060 [53:56<25:26, 16.02it/s]"
     ]
    },
    {
     "name": "stdout",
     "output_type": "stream",
     "text": [
      "Could have Bought\n"
     ]
    },
    {
     "name": "stderr",
     "output_type": "stream",
     "text": [
      " 67%|██████████████████████████████████████████████████▉                         | 49688/74060 [54:01<24:52, 16.33it/s]"
     ]
    },
    {
     "name": "stdout",
     "output_type": "stream",
     "text": [
      "Could have Bought\n",
      "Could have Bought\n",
      "Could have Bought\n",
      "Could have Bought\n"
     ]
    },
    {
     "name": "stderr",
     "output_type": "stream",
     "text": [
      " 67%|██████████████████████████████████████████████████▉                         | 49692/74060 [54:02<25:44, 15.78it/s]"
     ]
    },
    {
     "name": "stdout",
     "output_type": "stream",
     "text": [
      "Could have Bought\n",
      "Could have Bought\n",
      "Could have Bought\n"
     ]
    },
    {
     "name": "stderr",
     "output_type": "stream",
     "text": [
      " 67%|██████████████████████████████████████████████████▉                         | 49696/74060 [54:02<25:21, 16.01it/s]"
     ]
    },
    {
     "name": "stdout",
     "output_type": "stream",
     "text": [
      "Could have Bought\n",
      "Could have Bought\n"
     ]
    },
    {
     "name": "stderr",
     "output_type": "stream",
     "text": [
      " 67%|███████████████████████████████████████████████████                         | 49746/74060 [54:05<25:21, 15.98it/s]"
     ]
    },
    {
     "name": "stdout",
     "output_type": "stream",
     "text": [
      "Could have Bought\n"
     ]
    },
    {
     "name": "stderr",
     "output_type": "stream",
     "text": [
      " 67%|███████████████████████████████████████████████████▏                        | 49852/74060 [54:12<25:34, 15.77it/s]"
     ]
    },
    {
     "name": "stdout",
     "output_type": "stream",
     "text": [
      "Could have Bought\n"
     ]
    },
    {
     "name": "stderr",
     "output_type": "stream",
     "text": [
      " 67%|███████████████████████████████████████████████████▏                        | 49858/74060 [54:12<25:17, 15.95it/s]"
     ]
    },
    {
     "name": "stdout",
     "output_type": "stream",
     "text": [
      "Could have Bought\n"
     ]
    },
    {
     "name": "stderr",
     "output_type": "stream",
     "text": [
      " 68%|███████████████████████████████████████████████████▎                        | 50032/74060 [54:23<25:09, 15.91it/s]"
     ]
    },
    {
     "name": "stdout",
     "output_type": "stream",
     "text": [
      "Could have Bought\n"
     ]
    },
    {
     "name": "stderr",
     "output_type": "stream",
     "text": [
      " 68%|███████████████████████████████████████████████████▋                        | 50396/74060 [54:46<23:46, 16.59it/s]"
     ]
    },
    {
     "name": "stdout",
     "output_type": "stream",
     "text": [
      "Could have Bought\n",
      "Could have Bought\n",
      "Could have Bought\n",
      "Could have Bought\n"
     ]
    },
    {
     "name": "stderr",
     "output_type": "stream",
     "text": [
      " 68%|███████████████████████████████████████████████████▋                        | 50412/74060 [54:47<23:51, 16.52it/s]"
     ]
    },
    {
     "name": "stdout",
     "output_type": "stream",
     "text": [
      "Could have Bought\n",
      "Could have Bought\n",
      "Could have Bought\n",
      "Could have Bought\n"
     ]
    },
    {
     "name": "stderr",
     "output_type": "stream",
     "text": [
      " 68%|███████████████████████████████████████████████████▋                        | 50416/74060 [54:47<24:49, 15.88it/s]"
     ]
    },
    {
     "name": "stdout",
     "output_type": "stream",
     "text": [
      "Could have Bought\n"
     ]
    },
    {
     "name": "stderr",
     "output_type": "stream",
     "text": [
      " 68%|███████████████████████████████████████████████████▋                        | 50426/74060 [54:48<24:49, 15.87it/s]"
     ]
    },
    {
     "name": "stdout",
     "output_type": "stream",
     "text": [
      "Could have Bought\n",
      "Could have Bought\n"
     ]
    },
    {
     "name": "stderr",
     "output_type": "stream",
     "text": [
      " 68%|███████████████████████████████████████████████████▊                        | 50430/74060 [54:48<25:09, 15.65it/s]"
     ]
    },
    {
     "name": "stdout",
     "output_type": "stream",
     "text": [
      "Could have Bought\n",
      "Could have Bought\n",
      "Could have Bought\n",
      "Could have Bought\n"
     ]
    },
    {
     "name": "stderr",
     "output_type": "stream",
     "text": [
      " 68%|███████████████████████████████████████████████████▊                        | 50434/74060 [54:48<24:42, 15.93it/s]"
     ]
    },
    {
     "name": "stdout",
     "output_type": "stream",
     "text": [
      "Could have Bought\n",
      "Could have Bought\n",
      "Could have Bought\n",
      "Could have Bought\n"
     ]
    },
    {
     "name": "stderr",
     "output_type": "stream",
     "text": [
      " 68%|███████████████████████████████████████████████████▊                        | 50438/74060 [54:48<24:39, 15.97it/s]"
     ]
    },
    {
     "name": "stdout",
     "output_type": "stream",
     "text": [
      "Could have Bought\n",
      "Could have Bought\n"
     ]
    },
    {
     "name": "stderr",
     "output_type": "stream",
     "text": [
      " 69%|████████████████████████████████████████████████████▏                       | 50890/74060 [55:17<24:26, 15.80it/s]"
     ]
    },
    {
     "name": "stdout",
     "output_type": "stream",
     "text": [
      "Could have Bought\n"
     ]
    },
    {
     "name": "stderr",
     "output_type": "stream",
     "text": [
      " 69%|████████████████████████████████████████████████████▍                       | 51122/74060 [55:32<23:42, 16.13it/s]"
     ]
    },
    {
     "name": "stdout",
     "output_type": "stream",
     "text": [
      "Could have Bought\n",
      "Could have Bought\n",
      "Could have Bought\n",
      "Could have Bought\n"
     ]
    },
    {
     "name": "stderr",
     "output_type": "stream",
     "text": [
      " 69%|████████████████████████████████████████████████████▍                       | 51126/74060 [55:32<23:39, 16.16it/s]"
     ]
    },
    {
     "name": "stdout",
     "output_type": "stream",
     "text": [
      "Could have Bought\n",
      "Could have Bought\n",
      "Could have Bought\n",
      "Could have Bought\n"
     ]
    },
    {
     "name": "stderr",
     "output_type": "stream",
     "text": [
      " 69%|████████████████████████████████████████████████████▍                       | 51130/74060 [55:32<23:36, 16.19it/s]"
     ]
    },
    {
     "name": "stdout",
     "output_type": "stream",
     "text": [
      "Could have Bought\n"
     ]
    },
    {
     "name": "stderr",
     "output_type": "stream",
     "text": [
      " 69%|████████████████████████████████████████████████████▌                       | 51182/74060 [55:35<23:38, 16.13it/s]"
     ]
    },
    {
     "name": "stdout",
     "output_type": "stream",
     "text": [
      "Could have Bought\n",
      "Could have Bought\n",
      "Could have Bought\n"
     ]
    },
    {
     "name": "stderr",
     "output_type": "stream",
     "text": [
      " 69%|████████████████████████████████████████████████████▌                       | 51192/74060 [55:36<23:40, 16.09it/s]"
     ]
    },
    {
     "name": "stdout",
     "output_type": "stream",
     "text": [
      "Could have Bought\n",
      "Could have Bought\n"
     ]
    },
    {
     "name": "stderr",
     "output_type": "stream",
     "text": [
      " 70%|████████████████████████████████████████████████████▉                       | 51546/74060 [55:58<23:40, 15.85it/s]"
     ]
    },
    {
     "name": "stdout",
     "output_type": "stream",
     "text": [
      "CMP =  1229.1\n",
      "Shares Sold\n",
      "Average Predicted =  1215.6028\n",
      "Could have Sold\n"
     ]
    },
    {
     "name": "stderr",
     "output_type": "stream",
     "text": [
      " 70%|████████████████████████████████████████████████████▉                       | 51588/74060 [56:01<23:25, 15.99it/s]"
     ]
    },
    {
     "name": "stdout",
     "output_type": "stream",
     "text": [
      "CMP =  1251.5\n",
      "Shares Bought =  10.0\n",
      "Average Predicted =  1265.5955\n",
      "Could have Bought\n",
      "Could have Bought\n"
     ]
    },
    {
     "name": "stderr",
     "output_type": "stream",
     "text": [
      " 70%|████████████████████████████████████████████████████▉                       | 51592/74060 [56:01<22:55, 16.33it/s]"
     ]
    },
    {
     "name": "stdout",
     "output_type": "stream",
     "text": [
      "Could have Bought\n",
      "Could have Bought\n",
      "Could have Bought\n",
      "Could have Bought\n"
     ]
    },
    {
     "name": "stderr",
     "output_type": "stream",
     "text": [
      " 70%|█████████████████████████████████████████████████████▏                      | 51886/74060 [56:19<23:04, 16.01it/s]"
     ]
    },
    {
     "name": "stdout",
     "output_type": "stream",
     "text": [
      "Could have Bought\n",
      "Could have Bought\n",
      "Could have Bought\n",
      "Could have Bought\n"
     ]
    },
    {
     "name": "stderr",
     "output_type": "stream",
     "text": [
      " 70%|█████████████████████████████████████████████████████▏                      | 51890/74060 [56:20<22:13, 16.63it/s]"
     ]
    },
    {
     "name": "stdout",
     "output_type": "stream",
     "text": [
      "Could have Bought\n"
     ]
    },
    {
     "name": "stderr",
     "output_type": "stream",
     "text": [
      " 70%|█████████████████████████████████████████████████████▎                      | 51918/74060 [56:21<22:55, 16.10it/s]"
     ]
    },
    {
     "name": "stdout",
     "output_type": "stream",
     "text": [
      "Could have Bought\n",
      "Could have Bought\n",
      "Could have Bought\n"
     ]
    },
    {
     "name": "stderr",
     "output_type": "stream",
     "text": [
      " 70%|█████████████████████████████████████████████████████▎                      | 51922/74060 [56:22<22:08, 16.66it/s]"
     ]
    },
    {
     "name": "stdout",
     "output_type": "stream",
     "text": [
      "Could have Bought\n",
      "Could have Bought\n",
      "Could have Bought\n"
     ]
    },
    {
     "name": "stderr",
     "output_type": "stream",
     "text": [
      " 70%|█████████████████████████████████████████████████████▎                      | 51926/74060 [56:22<22:41, 16.26it/s]"
     ]
    },
    {
     "name": "stdout",
     "output_type": "stream",
     "text": [
      "Could have Bought\n"
     ]
    },
    {
     "name": "stderr",
     "output_type": "stream",
     "text": [
      " 71%|█████████████████████████████████████████████████████▌                      | 52220/74060 [56:41<22:55, 15.88it/s]"
     ]
    },
    {
     "name": "stdout",
     "output_type": "stream",
     "text": [
      "Could have Bought\n",
      "Could have Bought\n"
     ]
    },
    {
     "name": "stderr",
     "output_type": "stream",
     "text": [
      " 71%|█████████████████████████████████████████████████████▋                      | 52294/74060 [56:45<22:52, 15.86it/s]"
     ]
    },
    {
     "name": "stdout",
     "output_type": "stream",
     "text": [
      "Could have Bought\n"
     ]
    },
    {
     "name": "stderr",
     "output_type": "stream",
     "text": [
      " 71%|██████████████████████████████████████████████████████                      | 52656/74060 [57:08<22:48, 15.65it/s]"
     ]
    },
    {
     "name": "stdout",
     "output_type": "stream",
     "text": [
      "Could have Bought\n",
      "Could have Bought\n",
      "Could have Bought\n"
     ]
    },
    {
     "name": "stderr",
     "output_type": "stream",
     "text": [
      " 71%|██████████████████████████████████████████████████████                      | 52672/74060 [57:09<23:05, 15.44it/s]"
     ]
    },
    {
     "name": "stdout",
     "output_type": "stream",
     "text": [
      "Could have Bought\n"
     ]
    },
    {
     "name": "stderr",
     "output_type": "stream",
     "text": [
      " 71%|██████████████████████████████████████████████████████                      | 52678/74060 [57:09<22:22, 15.92it/s]"
     ]
    },
    {
     "name": "stdout",
     "output_type": "stream",
     "text": [
      "Could have Bought\n",
      "Could have Bought\n",
      "Could have Bought\n"
     ]
    },
    {
     "name": "stderr",
     "output_type": "stream",
     "text": [
      " 71%|██████████████████████████████████████████████████████                      | 52682/74060 [57:09<22:20, 15.95it/s]"
     ]
    },
    {
     "name": "stdout",
     "output_type": "stream",
     "text": [
      "Could have Bought\n"
     ]
    },
    {
     "name": "stderr",
     "output_type": "stream",
     "text": [
      " 71%|██████████████████████████████████████████████████████▎                     | 52910/74060 [57:23<21:49, 16.15it/s]"
     ]
    },
    {
     "name": "stdout",
     "output_type": "stream",
     "text": [
      "Could have Bought\n",
      "Could have Bought\n",
      "Could have Bought\n"
     ]
    },
    {
     "name": "stderr",
     "output_type": "stream",
     "text": [
      " 72%|██████████████████████████████████████████████████████▍                     | 53064/74060 [57:33<21:51, 16.01it/s]"
     ]
    },
    {
     "name": "stdout",
     "output_type": "stream",
     "text": [
      "Could have Bought\n",
      "Could have Bought\n",
      "Could have Bought\n",
      "Could have Bought\n"
     ]
    },
    {
     "name": "stderr",
     "output_type": "stream",
     "text": [
      " 72%|██████████████████████████████████████████████████████▍                     | 53068/74060 [57:33<21:51, 16.00it/s]"
     ]
    },
    {
     "name": "stdout",
     "output_type": "stream",
     "text": [
      "Could have Bought\n",
      "Could have Bought\n",
      "Could have Bought\n",
      "Could have Bought\n"
     ]
    },
    {
     "name": "stderr",
     "output_type": "stream",
     "text": [
      " 72%|██████████████████████████████████████████████████████▍                     | 53072/74060 [57:33<21:06, 16.57it/s]"
     ]
    },
    {
     "name": "stdout",
     "output_type": "stream",
     "text": [
      "Could have Bought\n"
     ]
    },
    {
     "name": "stderr",
     "output_type": "stream",
     "text": [
      " 72%|██████████████████████████████████████████████████████▍                     | 53078/74060 [57:34<21:59, 15.90it/s]"
     ]
    },
    {
     "name": "stdout",
     "output_type": "stream",
     "text": [
      "Could have Bought\n",
      "Could have Bought\n"
     ]
    },
    {
     "name": "stderr",
     "output_type": "stream",
     "text": [
      " 72%|██████████████████████████████████████████████████████▍                     | 53096/74060 [57:35<22:05, 15.81it/s]"
     ]
    },
    {
     "name": "stdout",
     "output_type": "stream",
     "text": [
      "Could have Bought\n"
     ]
    },
    {
     "name": "stderr",
     "output_type": "stream",
     "text": [
      " 72%|██████████████████████████████████████████████████████▌                     | 53126/74060 [57:37<21:42, 16.07it/s]"
     ]
    },
    {
     "name": "stdout",
     "output_type": "stream",
     "text": [
      "Could have Bought\n"
     ]
    },
    {
     "name": "stderr",
     "output_type": "stream",
     "text": [
      " 72%|██████████████████████████████████████████████████████▌                     | 53178/74060 [57:40<21:55, 15.87it/s]"
     ]
    },
    {
     "name": "stdout",
     "output_type": "stream",
     "text": [
      "Could have Bought\n",
      "Could have Bought\n",
      "Could have Bought\n"
     ]
    },
    {
     "name": "stderr",
     "output_type": "stream",
     "text": [
      " 72%|██████████████████████████████████████████████████████▌                     | 53182/74060 [57:40<21:44, 16.00it/s]"
     ]
    },
    {
     "name": "stdout",
     "output_type": "stream",
     "text": [
      "Could have Bought\n"
     ]
    },
    {
     "name": "stderr",
     "output_type": "stream",
     "text": [
      " 72%|██████████████████████████████████████████████████████▋                     | 53242/74060 [57:44<21:02, 16.49it/s]"
     ]
    },
    {
     "name": "stdout",
     "output_type": "stream",
     "text": [
      "Could have Bought\n",
      "Could have Bought\n",
      "Could have Bought\n",
      "Could have Bought\n"
     ]
    },
    {
     "name": "stderr",
     "output_type": "stream",
     "text": [
      " 72%|██████████████████████████████████████████████████████▋                     | 53258/74060 [57:45<22:14, 15.59it/s]"
     ]
    },
    {
     "name": "stdout",
     "output_type": "stream",
     "text": [
      "Could have Bought\n",
      "Could have Bought\n"
     ]
    },
    {
     "name": "stderr",
     "output_type": "stream",
     "text": [
      " 72%|██████████████████████████████████████████████████████▊                     | 53354/74060 [57:51<21:15, 16.24it/s]"
     ]
    },
    {
     "name": "stdout",
     "output_type": "stream",
     "text": [
      "Could have Bought\n",
      "Could have Bought\n"
     ]
    },
    {
     "name": "stderr",
     "output_type": "stream",
     "text": [
      " 72%|██████████████████████████████████████████████████████▊                     | 53426/74060 [57:55<21:35, 15.92it/s]"
     ]
    },
    {
     "name": "stdout",
     "output_type": "stream",
     "text": [
      "Could have Bought\n"
     ]
    },
    {
     "name": "stderr",
     "output_type": "stream",
     "text": [
      " 72%|██████████████████████████████████████████████████████▉                     | 53520/74060 [58:01<22:22, 15.30it/s]"
     ]
    },
    {
     "name": "stdout",
     "output_type": "stream",
     "text": [
      "Could have Bought\n",
      "Could have Bought\n",
      "Could have Bought\n",
      "Could have Bought\n"
     ]
    },
    {
     "name": "stderr",
     "output_type": "stream",
     "text": [
      " 72%|██████████████████████████████████████████████████████▉                     | 53524/74060 [58:02<21:47, 15.71it/s]"
     ]
    },
    {
     "name": "stdout",
     "output_type": "stream",
     "text": [
      "Could have Bought\n",
      "Could have Bought\n",
      "Could have Bought\n",
      "Could have Bought\n"
     ]
    },
    {
     "name": "stderr",
     "output_type": "stream",
     "text": [
      " 72%|██████████████████████████████████████████████████████▉                     | 53528/74060 [58:02<20:57, 16.33it/s]"
     ]
    },
    {
     "name": "stdout",
     "output_type": "stream",
     "text": [
      "Could have Bought\n"
     ]
    },
    {
     "name": "stderr",
     "output_type": "stream",
     "text": [
      " 72%|██████████████████████████████████████████████████████▉                     | 53594/74060 [58:06<21:04, 16.19it/s]"
     ]
    },
    {
     "name": "stdout",
     "output_type": "stream",
     "text": [
      "Could have Bought\n",
      "Could have Bought\n",
      "Could have Bought\n"
     ]
    },
    {
     "name": "stderr",
     "output_type": "stream",
     "text": [
      " 72%|███████████████████████████████████████████████████████                     | 53648/74060 [58:09<20:27, 16.63it/s]"
     ]
    },
    {
     "name": "stdout",
     "output_type": "stream",
     "text": [
      "Could have Bought\n",
      "Could have Bought\n"
     ]
    },
    {
     "name": "stderr",
     "output_type": "stream",
     "text": [
      " 73%|███████████████████████████████████████████████████████▏                    | 53790/74060 [58:18<21:06, 16.01it/s]"
     ]
    },
    {
     "name": "stdout",
     "output_type": "stream",
     "text": [
      "Could have Bought\n",
      "Could have Bought\n",
      "Could have Bought\n"
     ]
    },
    {
     "name": "stderr",
     "output_type": "stream",
     "text": [
      " 73%|███████████████████████████████████████████████████████▏                    | 53794/74060 [58:18<20:59, 16.10it/s]"
     ]
    },
    {
     "name": "stdout",
     "output_type": "stream",
     "text": [
      "Could have Bought\n",
      "Could have Bought\n"
     ]
    },
    {
     "name": "stderr",
     "output_type": "stream",
     "text": [
      " 73%|███████████████████████████████████████████████████████▍                    | 54038/74060 [58:33<20:46, 16.06it/s]"
     ]
    },
    {
     "name": "stdout",
     "output_type": "stream",
     "text": [
      "Could have Bought\n"
     ]
    },
    {
     "name": "stderr",
     "output_type": "stream",
     "text": [
      " 73%|███████████████████████████████████████████████████████▍                    | 54052/74060 [58:34<20:13, 16.48it/s]"
     ]
    },
    {
     "name": "stdout",
     "output_type": "stream",
     "text": [
      "Could have Bought\n",
      "Could have Bought\n",
      "Could have Bought\n",
      "Could have Bought\n"
     ]
    },
    {
     "name": "stderr",
     "output_type": "stream",
     "text": [
      " 73%|███████████████████████████████████████████████████████▍                    | 54056/74060 [58:34<20:32, 16.23it/s]"
     ]
    },
    {
     "name": "stdout",
     "output_type": "stream",
     "text": [
      "Could have Bought\n",
      "Could have Bought\n"
     ]
    },
    {
     "name": "stderr",
     "output_type": "stream",
     "text": [
      " 73%|███████████████████████████████████████████████████████▌                    | 54124/74060 [58:39<20:45, 16.00it/s]"
     ]
    },
    {
     "name": "stdout",
     "output_type": "stream",
     "text": [
      "Could have Bought\n",
      "Could have Bought\n"
     ]
    },
    {
     "name": "stderr",
     "output_type": "stream",
     "text": [
      " 73%|███████████████████████████████████████████████████████▌                    | 54192/74060 [58:43<20:04, 16.49it/s]"
     ]
    },
    {
     "name": "stdout",
     "output_type": "stream",
     "text": [
      "Could have Bought\n",
      "Could have Bought\n",
      "Could have Bought\n"
     ]
    },
    {
     "name": "stderr",
     "output_type": "stream",
     "text": [
      " 73%|███████████████████████████████████████████████████████▌                    | 54196/74060 [58:43<20:53, 15.85it/s]"
     ]
    },
    {
     "name": "stdout",
     "output_type": "stream",
     "text": [
      "Could have Bought\n",
      "Could have Bought\n"
     ]
    },
    {
     "name": "stderr",
     "output_type": "stream",
     "text": [
      " 73%|███████████████████████████████████████████████████████▋                    | 54222/74060 [58:45<20:33, 16.08it/s]"
     ]
    },
    {
     "name": "stdout",
     "output_type": "stream",
     "text": [
      "Could have Bought\n",
      "Could have Bought\n"
     ]
    },
    {
     "name": "stderr",
     "output_type": "stream",
     "text": [
      " 74%|████████████████████████████████████████████████████████▎                   | 54906/74060 [59:27<19:38, 16.26it/s]"
     ]
    },
    {
     "name": "stdout",
     "output_type": "stream",
     "text": [
      "Could have Bought\n",
      "Could have Bought\n"
     ]
    },
    {
     "name": "stderr",
     "output_type": "stream",
     "text": [
      " 74%|████████████████████████████████████████████████████████▎                   | 54910/74060 [59:27<20:02, 15.93it/s]"
     ]
    },
    {
     "name": "stdout",
     "output_type": "stream",
     "text": [
      "Could have Bought\n"
     ]
    },
    {
     "name": "stderr",
     "output_type": "stream",
     "text": [
      " 75%|███████████████████████████████████████████████████████▍                  | 55534/74060 [1:00:06<19:30, 15.83it/s]"
     ]
    },
    {
     "name": "stdout",
     "output_type": "stream",
     "text": [
      "Could have Bought\n"
     ]
    },
    {
     "name": "stderr",
     "output_type": "stream",
     "text": [
      "\r",
      " 75%|███████████████████████████████████████████████████████▍                  | 55536/74060 [1:00:06<18:58, 16.27it/s]"
     ]
    },
    {
     "name": "stdout",
     "output_type": "stream",
     "text": [
      "Could have Bought\n",
      "Could have Bought\n",
      "Could have Bought\n"
     ]
    },
    {
     "name": "stderr",
     "output_type": "stream",
     "text": [
      " 75%|███████████████████████████████████████████████████████▍                  | 55540/74060 [1:00:07<19:12, 16.07it/s]"
     ]
    },
    {
     "name": "stdout",
     "output_type": "stream",
     "text": [
      "Could have Bought\n",
      "Could have Bought\n",
      "Could have Bought\n"
     ]
    },
    {
     "name": "stderr",
     "output_type": "stream",
     "text": [
      " 75%|███████████████████████████████████████████████████████▌                  | 55564/74060 [1:00:08<19:42, 15.64it/s]"
     ]
    },
    {
     "name": "stdout",
     "output_type": "stream",
     "text": [
      "Could have Bought\n",
      "Could have Bought\n",
      "Could have Bought\n"
     ]
    },
    {
     "name": "stderr",
     "output_type": "stream",
     "text": [
      " 75%|███████████████████████████████████████████████████████▌                  | 55568/74060 [1:00:08<19:30, 15.80it/s]"
     ]
    },
    {
     "name": "stdout",
     "output_type": "stream",
     "text": [
      "Could have Bought\n",
      "Could have Bought\n"
     ]
    },
    {
     "name": "stderr",
     "output_type": "stream",
     "text": [
      " 75%|███████████████████████████████████████████████████████▌                  | 55574/74060 [1:00:09<19:15, 16.00it/s]"
     ]
    },
    {
     "name": "stdout",
     "output_type": "stream",
     "text": [
      "Could have Bought\n",
      "Could have Bought\n",
      "Could have Bought\n",
      "Could have Bought\n"
     ]
    },
    {
     "name": "stderr",
     "output_type": "stream",
     "text": [
      " 75%|███████████████████████████████████████████████████████▌                  | 55580/74060 [1:00:09<19:15, 16.00it/s]"
     ]
    },
    {
     "name": "stdout",
     "output_type": "stream",
     "text": [
      "Could have Bought\n"
     ]
    },
    {
     "name": "stderr",
     "output_type": "stream",
     "text": [
      " 75%|███████████████████████████████████████████████████████▌                  | 55652/74060 [1:00:14<18:40, 16.42it/s]"
     ]
    },
    {
     "name": "stdout",
     "output_type": "stream",
     "text": [
      "Could have Bought\n"
     ]
    },
    {
     "name": "stderr",
     "output_type": "stream",
     "text": [
      " 75%|███████████████████████████████████████████████████████▋                  | 55676/74060 [1:00:15<18:40, 16.40it/s]"
     ]
    },
    {
     "name": "stdout",
     "output_type": "stream",
     "text": [
      "Could have Bought\n"
     ]
    },
    {
     "name": "stderr",
     "output_type": "stream",
     "text": [
      " 75%|███████████████████████████████████████████████████████▊                  | 55886/74060 [1:00:28<18:27, 16.41it/s]"
     ]
    },
    {
     "name": "stdout",
     "output_type": "stream",
     "text": [
      "Could have Bought\n",
      "Could have Bought\n",
      "Could have Bought\n",
      "Could have Bought\n"
     ]
    },
    {
     "name": "stderr",
     "output_type": "stream",
     "text": [
      " 75%|███████████████████████████████████████████████████████▊                  | 55890/74060 [1:00:28<19:33, 15.49it/s]"
     ]
    },
    {
     "name": "stdout",
     "output_type": "stream",
     "text": [
      "Could have Bought\n",
      "Could have Bought\n",
      "Could have Bought\n"
     ]
    },
    {
     "name": "stderr",
     "output_type": "stream",
     "text": [
      " 75%|███████████████████████████████████████████████████████▊                  | 55894/74060 [1:00:29<19:27, 15.55it/s]"
     ]
    },
    {
     "name": "stdout",
     "output_type": "stream",
     "text": [
      "Could have Bought\n",
      "Could have Bought\n",
      "Could have Bought\n"
     ]
    },
    {
     "name": "stderr",
     "output_type": "stream",
     "text": [
      " 76%|███████████████████████████████████████████████████████▉                  | 55950/74060 [1:00:32<19:00, 15.88it/s]"
     ]
    },
    {
     "name": "stdout",
     "output_type": "stream",
     "text": [
      "Could have Bought\n"
     ]
    },
    {
     "name": "stderr",
     "output_type": "stream",
     "text": [
      " 76%|███████████████████████████████████████████████████████▉                  | 55954/74060 [1:00:32<18:46, 16.07it/s]"
     ]
    },
    {
     "name": "stdout",
     "output_type": "stream",
     "text": [
      "Could have Bought\n"
     ]
    },
    {
     "name": "stderr",
     "output_type": "stream",
     "text": [
      " 76%|████████████████████████████████████████████████████████▎                 | 56414/74060 [1:01:01<20:03, 14.66it/s]"
     ]
    },
    {
     "name": "stdout",
     "output_type": "stream",
     "text": [
      "Could have Bought\n",
      "Could have Bought\n",
      "Could have Bought\n",
      "Could have Bought\n"
     ]
    },
    {
     "name": "stderr",
     "output_type": "stream",
     "text": [
      " 76%|████████████████████████████████████████████████████████▎                 | 56418/74060 [1:01:01<19:06, 15.39it/s]"
     ]
    },
    {
     "name": "stdout",
     "output_type": "stream",
     "text": [
      "Could have Bought\n",
      "Could have Bought\n",
      "Could have Bought\n"
     ]
    },
    {
     "name": "stderr",
     "output_type": "stream",
     "text": [
      " 76%|████████████████████████████████████████████████████████▍                 | 56526/74060 [1:01:08<18:33, 15.74it/s]"
     ]
    },
    {
     "name": "stdout",
     "output_type": "stream",
     "text": [
      "Could have Bought\n",
      "Could have Bought\n"
     ]
    },
    {
     "name": "stderr",
     "output_type": "stream",
     "text": [
      " 77%|████████████████████████████████████████████████████████▋                 | 56688/74060 [1:01:18<17:29, 16.56it/s]"
     ]
    },
    {
     "name": "stdout",
     "output_type": "stream",
     "text": [
      "Could have Bought\n",
      "Could have Bought\n",
      "Could have Bought\n",
      "Could have Bought\n"
     ]
    },
    {
     "name": "stderr",
     "output_type": "stream",
     "text": [
      " 77%|████████████████████████████████████████████████████████▋                 | 56692/74060 [1:01:18<17:47, 16.27it/s]"
     ]
    },
    {
     "name": "stdout",
     "output_type": "stream",
     "text": [
      "Could have Bought\n",
      "Could have Bought\n",
      "Could have Bought\n",
      "Could have Bought\n"
     ]
    },
    {
     "name": "stderr",
     "output_type": "stream",
     "text": [
      " 77%|████████████████████████████████████████████████████████▋                 | 56696/74060 [1:01:19<17:58, 16.10it/s]"
     ]
    },
    {
     "name": "stdout",
     "output_type": "stream",
     "text": [
      "Could have Bought\n"
     ]
    },
    {
     "name": "stderr",
     "output_type": "stream",
     "text": [
      " 77%|████████████████████████████████████████████████████████▉                 | 57004/74060 [1:01:38<17:33, 16.18it/s]"
     ]
    },
    {
     "name": "stdout",
     "output_type": "stream",
     "text": [
      "Could have Bought\n"
     ]
    },
    {
     "name": "stderr",
     "output_type": "stream",
     "text": [
      " 77%|█████████████████████████████████████████████████████████                 | 57152/74060 [1:01:47<17:10, 16.41it/s]"
     ]
    },
    {
     "name": "stdout",
     "output_type": "stream",
     "text": [
      "Could have Bought\n",
      "Could have Bought\n",
      "Could have Bought\n",
      "Could have Bought\n"
     ]
    },
    {
     "name": "stderr",
     "output_type": "stream",
     "text": [
      " 77%|█████████████████████████████████████████████████████████                 | 57156/74060 [1:01:47<17:39, 15.95it/s]"
     ]
    },
    {
     "name": "stdout",
     "output_type": "stream",
     "text": [
      "Could have Bought\n",
      "Could have Bought\n",
      "Could have Bought\n",
      "Could have Bought\n"
     ]
    },
    {
     "name": "stderr",
     "output_type": "stream",
     "text": [
      " 77%|█████████████████████████████████████████████████████████                 | 57160/74060 [1:01:47<17:29, 16.10it/s]"
     ]
    },
    {
     "name": "stdout",
     "output_type": "stream",
     "text": [
      "Could have Bought\n"
     ]
    },
    {
     "name": "stderr",
     "output_type": "stream",
     "text": [
      " 77%|█████████████████████████████████████████████████████████▎                | 57318/74060 [1:01:57<17:01, 16.39it/s]"
     ]
    },
    {
     "name": "stdout",
     "output_type": "stream",
     "text": [
      "Could have Bought\n",
      "Could have Bought\n",
      "Could have Bought\n"
     ]
    },
    {
     "name": "stderr",
     "output_type": "stream",
     "text": [
      " 77%|█████████████████████████████████████████████████████████▎                | 57346/74060 [1:01:59<17:33, 15.86it/s]"
     ]
    },
    {
     "name": "stdout",
     "output_type": "stream",
     "text": [
      "Could have Bought\n"
     ]
    },
    {
     "name": "stderr",
     "output_type": "stream",
     "text": [
      " 77%|█████████████████████████████████████████████████████████▎                | 57352/74060 [1:01:59<16:56, 16.44it/s]"
     ]
    },
    {
     "name": "stdout",
     "output_type": "stream",
     "text": [
      "Could have Bought\n"
     ]
    },
    {
     "name": "stderr",
     "output_type": "stream",
     "text": [
      " 77%|█████████████████████████████████████████████████████████▎                | 57358/74060 [1:01:59<17:11, 16.20it/s]"
     ]
    },
    {
     "name": "stdout",
     "output_type": "stream",
     "text": [
      "Could have Bought\n"
     ]
    },
    {
     "name": "stderr",
     "output_type": "stream",
     "text": [
      " 77%|█████████████████████████████████████████████████████████▎                | 57372/74060 [1:02:00<17:25, 15.96it/s]"
     ]
    },
    {
     "name": "stdout",
     "output_type": "stream",
     "text": [
      "Could have Bought\n",
      "Could have Bought\n"
     ]
    },
    {
     "name": "stderr",
     "output_type": "stream",
     "text": [
      " 77%|█████████████████████████████████████████████████████████▎                | 57376/74060 [1:02:01<16:59, 16.37it/s]"
     ]
    },
    {
     "name": "stdout",
     "output_type": "stream",
     "text": [
      "Could have Bought\n"
     ]
    },
    {
     "name": "stderr",
     "output_type": "stream",
     "text": [
      " 77%|█████████████████████████████████████████████████████████▎                | 57382/74060 [1:02:01<17:19, 16.04it/s]"
     ]
    },
    {
     "name": "stdout",
     "output_type": "stream",
     "text": [
      "Could have Bought\n",
      "Could have Bought\n",
      "Could have Bought\n",
      "Could have Bought\n"
     ]
    },
    {
     "name": "stderr",
     "output_type": "stream",
     "text": [
      " 77%|█████████████████████████████████████████████████████████▎                | 57386/74060 [1:02:01<17:20, 16.02it/s]"
     ]
    },
    {
     "name": "stdout",
     "output_type": "stream",
     "text": [
      "Could have Bought\n",
      "Could have Bought\n",
      "Could have Bought\n",
      "Could have Bought\n"
     ]
    },
    {
     "name": "stderr",
     "output_type": "stream",
     "text": [
      " 78%|█████████████████████████████████████████████████████████▎                | 57406/74060 [1:02:02<17:31, 15.84it/s]"
     ]
    },
    {
     "name": "stdout",
     "output_type": "stream",
     "text": [
      "Could have Bought\n"
     ]
    },
    {
     "name": "stderr",
     "output_type": "stream",
     "text": [
      " 78%|█████████████████████████████████████████████████████████▎                | 57412/74060 [1:02:03<16:41, 16.63it/s]"
     ]
    },
    {
     "name": "stdout",
     "output_type": "stream",
     "text": [
      "Condition 3\n",
      "CMP =  1219.3\n",
      "Shares Sold\n",
      "Average Predicted =  1204.3486\n"
     ]
    },
    {
     "name": "stderr",
     "output_type": "stream",
     "text": [
      " 78%|█████████████████████████████████████████████████████████▎                | 57420/74060 [1:02:03<17:09, 16.16it/s]"
     ]
    },
    {
     "name": "stdout",
     "output_type": "stream",
     "text": [
      "CMP =  1197.9\n",
      "Shares Bought =  10.0\n",
      "Average Predicted =  1213.2708\n",
      "Could have Bought\n"
     ]
    },
    {
     "name": "stderr",
     "output_type": "stream",
     "text": [
      " 78%|█████████████████████████████████████████████████████████▍                | 57478/74060 [1:02:07<17:00, 16.24it/s]"
     ]
    },
    {
     "name": "stdout",
     "output_type": "stream",
     "text": [
      "CMP =  1238.25\n",
      "Shares Sold\n",
      "Average Predicted =  1223.0054\n"
     ]
    },
    {
     "name": "stderr",
     "output_type": "stream",
     "text": [
      " 78%|█████████████████████████████████████████████████████████▍                | 57482/74060 [1:02:07<17:08, 16.12it/s]"
     ]
    },
    {
     "name": "stdout",
     "output_type": "stream",
     "text": [
      "CMP =  1217.4\n",
      "Shares Bought =  10.0\n",
      "Average Predicted =  1230.2434\n",
      "Could have Bought\n",
      "Could have Bought\n"
     ]
    },
    {
     "name": "stderr",
     "output_type": "stream",
     "text": [
      " 78%|█████████████████████████████████████████████████████████▍                | 57486/74060 [1:02:07<17:17, 15.98it/s]"
     ]
    },
    {
     "name": "stdout",
     "output_type": "stream",
     "text": [
      "Could have Bought\n",
      "Could have Bought\n",
      "Could have Bought\n"
     ]
    },
    {
     "name": "stderr",
     "output_type": "stream",
     "text": [
      " 78%|█████████████████████████████████████████████████████████▍                | 57490/74060 [1:02:08<17:06, 16.14it/s]"
     ]
    },
    {
     "name": "stdout",
     "output_type": "stream",
     "text": [
      "Could have Bought\n",
      "Could have Bought\n",
      "Could have Bought\n",
      "Could have Bought\n"
     ]
    },
    {
     "name": "stderr",
     "output_type": "stream",
     "text": [
      " 78%|█████████████████████████████████████████████████████████▍                | 57526/74060 [1:02:10<17:25, 15.82it/s]"
     ]
    },
    {
     "name": "stdout",
     "output_type": "stream",
     "text": [
      "Could have Bought\n",
      "Could have Bought\n",
      "Could have Bought\n",
      "Could have Bought\n"
     ]
    },
    {
     "name": "stderr",
     "output_type": "stream",
     "text": [
      " 78%|█████████████████████████████████████████████████████████▍                | 57530/74060 [1:02:10<17:00, 16.21it/s]"
     ]
    },
    {
     "name": "stdout",
     "output_type": "stream",
     "text": [
      "Could have Bought\n",
      "Could have Bought\n",
      "Could have Bought\n",
      "Could have Bought\n"
     ]
    },
    {
     "name": "stderr",
     "output_type": "stream",
     "text": [
      " 78%|█████████████████████████████████████████████████████████▍                | 57534/74060 [1:02:10<17:16, 15.94it/s]"
     ]
    },
    {
     "name": "stdout",
     "output_type": "stream",
     "text": [
      "Could have Bought\n",
      "Could have Bought\n",
      "Could have Bought\n",
      "Could have Bought\n"
     ]
    },
    {
     "name": "stderr",
     "output_type": "stream",
     "text": [
      " 78%|█████████████████████████████████████████████████████████▍                | 57538/74060 [1:02:11<17:10, 16.03it/s]"
     ]
    },
    {
     "name": "stdout",
     "output_type": "stream",
     "text": [
      "Could have Bought\n",
      "Could have Bought\n",
      "Could have Bought\n",
      "Could have Bought\n"
     ]
    },
    {
     "name": "stderr",
     "output_type": "stream",
     "text": [
      " 78%|█████████████████████████████████████████████████████████▍                | 57542/74060 [1:02:11<16:45, 16.43it/s]"
     ]
    },
    {
     "name": "stdout",
     "output_type": "stream",
     "text": [
      "Could have Bought\n",
      "Could have Bought\n",
      "Could have Bought\n",
      "Could have Bought\n"
     ]
    },
    {
     "name": "stderr",
     "output_type": "stream",
     "text": [
      " 78%|█████████████████████████████████████████████████████████▍                | 57546/74060 [1:02:11<17:23, 15.83it/s]"
     ]
    },
    {
     "name": "stdout",
     "output_type": "stream",
     "text": [
      "Could have Bought\n",
      "Could have Bought\n"
     ]
    },
    {
     "name": "stderr",
     "output_type": "stream",
     "text": [
      " 78%|█████████████████████████████████████████████████████████▌                | 57608/74060 [1:02:15<17:12, 15.93it/s]"
     ]
    },
    {
     "name": "stdout",
     "output_type": "stream",
     "text": [
      "Could have Bought\n",
      "Could have Bought\n",
      "Could have Bought\n",
      "Could have Bought\n"
     ]
    },
    {
     "name": "stderr",
     "output_type": "stream",
     "text": [
      " 78%|█████████████████████████████████████████████████████████▌                | 57612/74060 [1:02:15<17:21, 15.79it/s]"
     ]
    },
    {
     "name": "stdout",
     "output_type": "stream",
     "text": [
      "Could have Bought\n",
      "Could have Bought\n",
      "Could have Bought\n"
     ]
    },
    {
     "name": "stderr",
     "output_type": "stream",
     "text": [
      " 78%|█████████████████████████████████████████████████████████▉                | 57924/74060 [1:02:35<16:36, 16.19it/s]"
     ]
    },
    {
     "name": "stdout",
     "output_type": "stream",
     "text": [
      "Could have Bought\n",
      "Could have Bought\n"
     ]
    },
    {
     "name": "stderr",
     "output_type": "stream",
     "text": [
      " 78%|█████████████████████████████████████████████████████████▉                | 57960/74060 [1:02:37<16:56, 15.84it/s]"
     ]
    },
    {
     "name": "stdout",
     "output_type": "stream",
     "text": [
      "Could have Bought\n"
     ]
    },
    {
     "name": "stderr",
     "output_type": "stream",
     "text": [
      " 78%|█████████████████████████████████████████████████████████▉                | 58010/74060 [1:02:40<16:38, 16.07it/s]"
     ]
    },
    {
     "name": "stdout",
     "output_type": "stream",
     "text": [
      "Could have Bought\n"
     ]
    },
    {
     "name": "stderr",
     "output_type": "stream",
     "text": [
      " 79%|██████████████████████████████████████████████████████████▏               | 58230/74060 [1:02:54<16:14, 16.24it/s]"
     ]
    },
    {
     "name": "stdout",
     "output_type": "stream",
     "text": [
      "Could have Bought\n"
     ]
    },
    {
     "name": "stderr",
     "output_type": "stream",
     "text": [
      " 79%|██████████████████████████████████████████████████████████▎               | 58318/74060 [1:02:59<16:01, 16.38it/s]"
     ]
    },
    {
     "name": "stdout",
     "output_type": "stream",
     "text": [
      "Could have Bought\n",
      "Could have Bought\n",
      "Could have Bought\n",
      "Could have Bought\n"
     ]
    },
    {
     "name": "stderr",
     "output_type": "stream",
     "text": [
      " 79%|██████████████████████████████████████████████████████████▎               | 58322/74060 [1:02:59<16:38, 15.76it/s]"
     ]
    },
    {
     "name": "stdout",
     "output_type": "stream",
     "text": [
      "Could have Bought\n",
      "Could have Bought\n"
     ]
    },
    {
     "name": "stderr",
     "output_type": "stream",
     "text": [
      " 79%|██████████████████████████████████████████████████████████▎               | 58328/74060 [1:03:00<15:51, 16.53it/s]"
     ]
    },
    {
     "name": "stdout",
     "output_type": "stream",
     "text": [
      "Could have Bought\n",
      "Could have Bought\n",
      "Could have Bought\n",
      "Could have Bought\n"
     ]
    },
    {
     "name": "stderr",
     "output_type": "stream",
     "text": [
      " 79%|██████████████████████████████████████████████████████████▎               | 58332/74060 [1:03:00<16:40, 15.71it/s]"
     ]
    },
    {
     "name": "stdout",
     "output_type": "stream",
     "text": [
      "Could have Bought\n",
      "Could have Bought\n",
      "Could have Bought\n"
     ]
    },
    {
     "name": "stderr",
     "output_type": "stream",
     "text": [
      " 79%|██████████████████████████████████████████████████████████▎               | 58336/74060 [1:03:00<16:34, 15.81it/s]"
     ]
    },
    {
     "name": "stdout",
     "output_type": "stream",
     "text": [
      "Could have Bought\n"
     ]
    },
    {
     "name": "stderr",
     "output_type": "stream",
     "text": [
      " 79%|██████████████████████████████████████████████████████████▎               | 58340/74060 [1:03:00<16:41, 15.69it/s]"
     ]
    },
    {
     "name": "stdout",
     "output_type": "stream",
     "text": [
      "Could have Bought\n"
     ]
    },
    {
     "name": "stderr",
     "output_type": "stream",
     "text": [
      " 79%|██████████████████████████████████████████████████████████▎               | 58344/74060 [1:03:01<16:30, 15.87it/s]"
     ]
    },
    {
     "name": "stdout",
     "output_type": "stream",
     "text": [
      "Could have Bought\n"
     ]
    },
    {
     "name": "stderr",
     "output_type": "stream",
     "text": [
      " 79%|██████████████████████████████████████████████████████████▎               | 58350/74060 [1:03:01<16:30, 15.85it/s]"
     ]
    },
    {
     "name": "stdout",
     "output_type": "stream",
     "text": [
      "Could have Bought\n"
     ]
    },
    {
     "name": "stderr",
     "output_type": "stream",
     "text": [
      " 80%|██████████████████████████████████████████████████████████▉               | 59040/74060 [1:03:44<15:45, 15.88it/s]"
     ]
    },
    {
     "name": "stdout",
     "output_type": "stream",
     "text": [
      "Could have Bought\n"
     ]
    },
    {
     "name": "stderr",
     "output_type": "stream",
     "text": [
      " 80%|███████████████████████████████████████████████████████████               | 59062/74060 [1:03:45<15:37, 16.00it/s]"
     ]
    },
    {
     "name": "stdout",
     "output_type": "stream",
     "text": [
      "Could have Bought\n"
     ]
    },
    {
     "name": "stderr",
     "output_type": "stream",
     "text": [
      " 80%|███████████████████████████████████████████████████████████▏              | 59186/74060 [1:03:53<15:28, 16.01it/s]"
     ]
    },
    {
     "name": "stdout",
     "output_type": "stream",
     "text": [
      "Could have Bought\n",
      "Could have Bought\n"
     ]
    },
    {
     "name": "stderr",
     "output_type": "stream",
     "text": [
      " 80%|███████████████████████████████████████████████████████████▏              | 59262/74060 [1:03:57<15:22, 16.04it/s]"
     ]
    },
    {
     "name": "stdout",
     "output_type": "stream",
     "text": [
      "Could have Bought\n",
      "Could have Bought\n"
     ]
    },
    {
     "name": "stderr",
     "output_type": "stream",
     "text": [
      " 80%|███████████████████████████████████████████████████████████▏              | 59266/74060 [1:03:58<14:50, 16.61it/s]"
     ]
    },
    {
     "name": "stdout",
     "output_type": "stream",
     "text": [
      "Could have Bought\n",
      "Could have Bought\n",
      "Could have Bought\n",
      "Could have Bought\n"
     ]
    },
    {
     "name": "stderr",
     "output_type": "stream",
     "text": [
      " 81%|███████████████████████████████████████████████████████████▊              | 59848/74060 [1:04:34<14:43, 16.09it/s]"
     ]
    },
    {
     "name": "stdout",
     "output_type": "stream",
     "text": [
      "Could have Bought\n",
      "Could have Bought\n",
      "Could have Bought\n"
     ]
    },
    {
     "name": "stderr",
     "output_type": "stream",
     "text": [
      " 81%|███████████████████████████████████████████████████████████▊              | 59862/74060 [1:04:35<14:30, 16.31it/s]"
     ]
    },
    {
     "name": "stdout",
     "output_type": "stream",
     "text": [
      "Could have Bought\n"
     ]
    },
    {
     "name": "stderr",
     "output_type": "stream",
     "text": [
      " 81%|███████████████████████████████████████████████████████████▊              | 59874/74060 [1:04:36<14:21, 16.46it/s]"
     ]
    },
    {
     "name": "stdout",
     "output_type": "stream",
     "text": [
      "Could have Bought\n",
      "Could have Bought\n"
     ]
    },
    {
     "name": "stderr",
     "output_type": "stream",
     "text": [
      " 82%|████████████████████████████████████████████████████████████▍             | 60526/74060 [1:05:16<13:47, 16.35it/s]"
     ]
    },
    {
     "name": "stdout",
     "output_type": "stream",
     "text": [
      "Could have Bought\n",
      "Could have Bought\n",
      "Could have Bought\n"
     ]
    },
    {
     "name": "stderr",
     "output_type": "stream",
     "text": [
      " 82%|████████████████████████████████████████████████████████████▌             | 60596/74060 [1:05:21<13:47, 16.27it/s]"
     ]
    },
    {
     "name": "stdout",
     "output_type": "stream",
     "text": [
      "Could have Bought\n",
      "Could have Bought\n",
      "Could have Bought\n",
      "Could have Bought\n"
     ]
    },
    {
     "name": "stderr",
     "output_type": "stream",
     "text": [
      " 82%|████████████████████████████████████████████████████████████▌             | 60600/74060 [1:05:21<13:49, 16.22it/s]"
     ]
    },
    {
     "name": "stdout",
     "output_type": "stream",
     "text": [
      "Could have Bought\n"
     ]
    },
    {
     "name": "stderr",
     "output_type": "stream",
     "text": [
      " 82%|████████████████████████████████████████████████████████████▊             | 60822/74060 [1:05:35<13:50, 15.94it/s]"
     ]
    },
    {
     "name": "stdout",
     "output_type": "stream",
     "text": [
      "Could have Bought\n",
      "Could have Bought\n",
      "Could have Bought\n",
      "Could have Bought\n"
     ]
    },
    {
     "name": "stderr",
     "output_type": "stream",
     "text": [
      " 82%|████████████████████████████████████████████████████████████▊             | 60826/74060 [1:05:35<14:11, 15.54it/s]"
     ]
    },
    {
     "name": "stdout",
     "output_type": "stream",
     "text": [
      "Could have Bought\n"
     ]
    },
    {
     "name": "stderr",
     "output_type": "stream",
     "text": [
      " 82%|████████████████████████████████████████████████████████████▊             | 60876/74060 [1:05:39<14:16, 15.40it/s]"
     ]
    },
    {
     "name": "stdout",
     "output_type": "stream",
     "text": [
      "Could have Bought\n"
     ]
    },
    {
     "name": "stderr",
     "output_type": "stream",
     "text": [
      " 82%|████████████████████████████████████████████████████████████▊             | 60916/74060 [1:05:41<13:39, 16.05it/s]"
     ]
    },
    {
     "name": "stdout",
     "output_type": "stream",
     "text": [
      "Could have Bought\n",
      "Could have Bought\n",
      "Could have Bought\n",
      "Could have Bought\n"
     ]
    },
    {
     "name": "stderr",
     "output_type": "stream",
     "text": [
      " 82%|████████████████████████████████████████████████████████████▊             | 60920/74060 [1:05:41<14:06, 15.52it/s]"
     ]
    },
    {
     "name": "stdout",
     "output_type": "stream",
     "text": [
      "Could have Bought\n",
      "Could have Bought\n",
      "Could have Bought\n",
      "Could have Bought\n"
     ]
    },
    {
     "name": "stderr",
     "output_type": "stream",
     "text": [
      " 82%|████████████████████████████████████████████████████████████▊             | 60924/74060 [1:05:42<13:56, 15.71it/s]"
     ]
    },
    {
     "name": "stdout",
     "output_type": "stream",
     "text": [
      "Could have Bought\n",
      "Could have Bought\n",
      "Could have Bought\n"
     ]
    },
    {
     "name": "stderr",
     "output_type": "stream",
     "text": [
      " 82%|████████████████████████████████████████████████████████████▉             | 60928/74060 [1:05:42<13:41, 15.98it/s]"
     ]
    },
    {
     "name": "stdout",
     "output_type": "stream",
     "text": [
      "Could have Bought\n"
     ]
    },
    {
     "name": "stderr",
     "output_type": "stream",
     "text": [
      " 82%|████████████████████████████████████████████████████████████▉             | 60964/74060 [1:05:44<13:57, 15.63it/s]"
     ]
    },
    {
     "name": "stdout",
     "output_type": "stream",
     "text": [
      "Could have Bought\n",
      "Could have Bought\n"
     ]
    },
    {
     "name": "stderr",
     "output_type": "stream",
     "text": [
      " 82%|████████████████████████████████████████████████████████████▉             | 60978/74060 [1:05:45<13:59, 15.59it/s]"
     ]
    },
    {
     "name": "stdout",
     "output_type": "stream",
     "text": [
      "Could have Bought\n",
      "Could have Bought\n",
      "Could have Bought\n"
     ]
    },
    {
     "name": "stderr",
     "output_type": "stream",
     "text": [
      " 82%|████████████████████████████████████████████████████████████▉             | 61020/74060 [1:05:48<13:27, 16.14it/s]"
     ]
    },
    {
     "name": "stdout",
     "output_type": "stream",
     "text": [
      "Could have Bought\n"
     ]
    },
    {
     "name": "stderr",
     "output_type": "stream",
     "text": [
      " 82%|█████████████████████████████████████████████████████████████             | 61056/74060 [1:05:50<13:21, 16.22it/s]"
     ]
    },
    {
     "name": "stdout",
     "output_type": "stream",
     "text": [
      "Could have Bought\n",
      "Could have Bought\n",
      "Could have Bought\n",
      "Could have Bought\n"
     ]
    },
    {
     "name": "stderr",
     "output_type": "stream",
     "text": [
      " 82%|█████████████████████████████████████████████████████████████             | 61060/74060 [1:05:50<13:18, 16.29it/s]"
     ]
    },
    {
     "name": "stdout",
     "output_type": "stream",
     "text": [
      "Could have Bought\n",
      "Could have Bought\n",
      "Could have Bought\n",
      "Could have Bought\n"
     ]
    },
    {
     "name": "stderr",
     "output_type": "stream",
     "text": [
      " 83%|█████████████████████████████████████████████████████████████             | 61170/74060 [1:05:57<13:28, 15.95it/s]"
     ]
    },
    {
     "name": "stdout",
     "output_type": "stream",
     "text": [
      "Could have Bought\n"
     ]
    },
    {
     "name": "stderr",
     "output_type": "stream",
     "text": [
      " 83%|█████████████████████████████████████████████████████████████▏            | 61290/74060 [1:06:05<13:22, 15.92it/s]"
     ]
    },
    {
     "name": "stdout",
     "output_type": "stream",
     "text": [
      "Could have Bought\n",
      "Could have Bought\n",
      "Could have Bought\n",
      "Could have Bought\n"
     ]
    },
    {
     "name": "stderr",
     "output_type": "stream",
     "text": [
      " 83%|█████████████████████████████████████████████████████████████▏            | 61294/74060 [1:06:05<13:12, 16.10it/s]"
     ]
    },
    {
     "name": "stdout",
     "output_type": "stream",
     "text": [
      "Could have Bought\n",
      "Could have Bought\n",
      "Could have Bought\n",
      "Could have Bought\n"
     ]
    },
    {
     "name": "stderr",
     "output_type": "stream",
     "text": [
      " 83%|█████████████████████████████████████████████████████████████▏            | 61298/74060 [1:06:05<13:14, 16.06it/s]"
     ]
    },
    {
     "name": "stdout",
     "output_type": "stream",
     "text": [
      "Could have Bought\n",
      "Could have Bought\n"
     ]
    },
    {
     "name": "stderr",
     "output_type": "stream",
     "text": [
      " 83%|█████████████████████████████████████████████████████████████▍            | 61448/74060 [1:06:14<12:59, 16.18it/s]"
     ]
    },
    {
     "name": "stdout",
     "output_type": "stream",
     "text": [
      "Could have Bought\n"
     ]
    },
    {
     "name": "stderr",
     "output_type": "stream",
     "text": [
      " 83%|█████████████████████████████████████████████████████████████▍            | 61504/74060 [1:06:18<12:54, 16.22it/s]"
     ]
    },
    {
     "name": "stdout",
     "output_type": "stream",
     "text": [
      "Could have Bought\n",
      "Could have Bought\n",
      "Could have Bought\n",
      "Could have Bought\n"
     ]
    },
    {
     "name": "stderr",
     "output_type": "stream",
     "text": [
      " 83%|█████████████████████████████████████████████████████████████▍            | 61510/74060 [1:06:18<13:10, 15.88it/s]"
     ]
    },
    {
     "name": "stdout",
     "output_type": "stream",
     "text": [
      "Could have Bought\n"
     ]
    },
    {
     "name": "stderr",
     "output_type": "stream",
     "text": [
      " 83%|█████████████████████████████████████████████████████████████▋            | 61688/74060 [1:06:29<12:59, 15.88it/s]"
     ]
    },
    {
     "name": "stdout",
     "output_type": "stream",
     "text": [
      "Could have Bought\n"
     ]
    },
    {
     "name": "stderr",
     "output_type": "stream",
     "text": [
      " 83%|█████████████████████████████████████████████████████████████▋            | 61704/74060 [1:06:30<13:00, 15.84it/s]"
     ]
    },
    {
     "name": "stdout",
     "output_type": "stream",
     "text": [
      "Could have Bought\n",
      "Could have Bought\n",
      "Could have Bought\n",
      "Could have Bought\n"
     ]
    },
    {
     "name": "stderr",
     "output_type": "stream",
     "text": [
      " 83%|█████████████████████████████████████████████████████████████▋            | 61708/74060 [1:06:31<12:58, 15.86it/s]"
     ]
    },
    {
     "name": "stdout",
     "output_type": "stream",
     "text": [
      "Could have Bought\n"
     ]
    },
    {
     "name": "stderr",
     "output_type": "stream",
     "text": [
      " 84%|██████████████████████████████████████████████████████████████            | 62072/74060 [1:06:53<12:38, 15.81it/s]"
     ]
    },
    {
     "name": "stdout",
     "output_type": "stream",
     "text": [
      "Could have Bought\n",
      "Could have Bought\n"
     ]
    },
    {
     "name": "stderr",
     "output_type": "stream",
     "text": [
      " 84%|██████████████████████████████████████████████████████████████            | 62076/74060 [1:06:54<12:39, 15.78it/s]"
     ]
    },
    {
     "name": "stdout",
     "output_type": "stream",
     "text": [
      "Could have Bought\n",
      "Could have Bought\n"
     ]
    },
    {
     "name": "stderr",
     "output_type": "stream",
     "text": [
      " 84%|██████████████████████████████████████████████████████████████            | 62098/74060 [1:06:55<12:27, 16.00it/s]"
     ]
    },
    {
     "name": "stdout",
     "output_type": "stream",
     "text": [
      "Could have Bought\n",
      "Could have Bought\n",
      "Could have Bought\n",
      "Could have Bought\n"
     ]
    },
    {
     "name": "stderr",
     "output_type": "stream",
     "text": [
      " 84%|██████████████████████████████████████████████████████████████            | 62102/74060 [1:06:55<12:25, 16.04it/s]"
     ]
    },
    {
     "name": "stdout",
     "output_type": "stream",
     "text": [
      "Could have Bought\n"
     ]
    },
    {
     "name": "stderr",
     "output_type": "stream",
     "text": [
      " 84%|██████████████████████████████████████████████████████████████▍           | 62460/74060 [1:07:18<11:55, 16.21it/s]"
     ]
    },
    {
     "name": "stdout",
     "output_type": "stream",
     "text": [
      "Could have Bought\n",
      "Could have Bought\n",
      "Could have Bought\n",
      "Could have Bought\n"
     ]
    },
    {
     "name": "stderr",
     "output_type": "stream",
     "text": [
      " 84%|██████████████████████████████████████████████████████████████▍           | 62466/74060 [1:07:18<12:01, 16.06it/s]"
     ]
    },
    {
     "name": "stdout",
     "output_type": "stream",
     "text": [
      "Could have Bought\n",
      "Could have Bought\n",
      "Could have Bought\n",
      "Could have Bought\n"
     ]
    },
    {
     "name": "stderr",
     "output_type": "stream",
     "text": [
      " 84%|██████████████████████████████████████████████████████████████▍           | 62470/74060 [1:07:19<11:54, 16.22it/s]"
     ]
    },
    {
     "name": "stdout",
     "output_type": "stream",
     "text": [
      "Could have Bought\n"
     ]
    },
    {
     "name": "stderr",
     "output_type": "stream",
     "text": [
      " 84%|██████████████████████████████████████████████████████████████▍           | 62536/74060 [1:07:23<11:59, 16.03it/s]"
     ]
    },
    {
     "name": "stdout",
     "output_type": "stream",
     "text": [
      "Could have Bought\n"
     ]
    },
    {
     "name": "stderr",
     "output_type": "stream",
     "text": [
      " 84%|██████████████████████████████████████████████████████████████▌           | 62558/74060 [1:07:24<12:18, 15.59it/s]"
     ]
    },
    {
     "name": "stdout",
     "output_type": "stream",
     "text": [
      "Could have Bought\n",
      "Could have Bought\n",
      "Could have Bought\n"
     ]
    },
    {
     "name": "stderr",
     "output_type": "stream",
     "text": [
      " 85%|██████████████████████████████████████████████████████████████▊           | 62836/74060 [1:07:42<11:36, 16.11it/s]"
     ]
    },
    {
     "name": "stdout",
     "output_type": "stream",
     "text": [
      "Could have Bought\n"
     ]
    },
    {
     "name": "stderr",
     "output_type": "stream",
     "text": [
      " 85%|██████████████████████████████████████████████████████████████▉           | 62996/74060 [1:07:52<11:56, 15.45it/s]"
     ]
    },
    {
     "name": "stdout",
     "output_type": "stream",
     "text": [
      "Could have Bought\n"
     ]
    },
    {
     "name": "stderr",
     "output_type": "stream",
     "text": [
      " 85%|██████████████████████████████████████████████████████████████▉           | 63000/74060 [1:07:52<11:41, 15.77it/s]"
     ]
    },
    {
     "name": "stdout",
     "output_type": "stream",
     "text": [
      "Could have Bought\n",
      "Could have Bought\n",
      "Could have Bought\n"
     ]
    },
    {
     "name": "stderr",
     "output_type": "stream",
     "text": [
      " 85%|███████████████████████████████████████████████████████████████           | 63122/74060 [1:08:00<11:24, 15.97it/s]"
     ]
    },
    {
     "name": "stdout",
     "output_type": "stream",
     "text": [
      "Could have Bought\n"
     ]
    },
    {
     "name": "stderr",
     "output_type": "stream",
     "text": [
      " 85%|███████████████████████████████████████████████████████████████           | 63140/74060 [1:08:01<11:43, 15.53it/s]"
     ]
    },
    {
     "name": "stdout",
     "output_type": "stream",
     "text": [
      "Could have Bought\n",
      "Could have Bought\n",
      "Could have Bought\n",
      "Could have Bought\n"
     ]
    },
    {
     "name": "stderr",
     "output_type": "stream",
     "text": [
      " 85%|███████████████████████████████████████████████████████████████           | 63144/74060 [1:08:01<11:34, 15.72it/s]"
     ]
    },
    {
     "name": "stdout",
     "output_type": "stream",
     "text": [
      "Could have Bought\n",
      "Could have Bought\n",
      "Could have Bought\n"
     ]
    },
    {
     "name": "stderr",
     "output_type": "stream",
     "text": [
      " 85%|███████████████████████████████████████████████████████████████           | 63148/74060 [1:08:02<11:22, 15.99it/s]"
     ]
    },
    {
     "name": "stdout",
     "output_type": "stream",
     "text": [
      "Could have Bought\n",
      "Could have Bought\n",
      "Could have Bought\n",
      "Could have Bought\n"
     ]
    },
    {
     "name": "stderr",
     "output_type": "stream",
     "text": [
      " 85%|███████████████████████████████████████████████████████████████           | 63152/74060 [1:08:02<11:44, 15.48it/s]"
     ]
    },
    {
     "name": "stdout",
     "output_type": "stream",
     "text": [
      "Could have Bought\n",
      "Could have Bought\n",
      "Could have Bought\n"
     ]
    },
    {
     "name": "stderr",
     "output_type": "stream",
     "text": [
      " 85%|███████████████████████████████████████████████████████████████           | 63156/74060 [1:08:02<11:34, 15.70it/s]"
     ]
    },
    {
     "name": "stdout",
     "output_type": "stream",
     "text": [
      "Could have Bought\n",
      "Could have Bought\n",
      "Could have Bought\n"
     ]
    },
    {
     "name": "stderr",
     "output_type": "stream",
     "text": [
      " 85%|███████████████████████████████████████████████████████████████           | 63172/74060 [1:08:03<11:18, 16.05it/s]"
     ]
    },
    {
     "name": "stdout",
     "output_type": "stream",
     "text": [
      "Could have Bought\n",
      "Could have Bought\n",
      "Could have Bought\n",
      "Could have Bought\n"
     ]
    },
    {
     "name": "stderr",
     "output_type": "stream",
     "text": [
      " 85%|███████████████████████████████████████████████████████████████           | 63176/74060 [1:08:03<11:41, 15.51it/s]"
     ]
    },
    {
     "name": "stdout",
     "output_type": "stream",
     "text": [
      "Could have Bought\n",
      "Could have Bought\n",
      "Could have Bought\n",
      "Could have Bought\n"
     ]
    },
    {
     "name": "stderr",
     "output_type": "stream",
     "text": [
      " 85%|███████████████████████████████████████████████████████████████▏          | 63186/74060 [1:08:04<11:36, 15.62it/s]"
     ]
    },
    {
     "name": "stdout",
     "output_type": "stream",
     "text": [
      "Could have Bought\n"
     ]
    },
    {
     "name": "stderr",
     "output_type": "stream",
     "text": [
      " 85%|███████████████████████████████████████████████████████████████▏          | 63194/74060 [1:08:05<11:45, 15.41it/s]"
     ]
    },
    {
     "name": "stdout",
     "output_type": "stream",
     "text": [
      "Could have Bought\n",
      "Could have Bought\n",
      "Could have Bought\n",
      "Could have Bought\n"
     ]
    },
    {
     "name": "stderr",
     "output_type": "stream",
     "text": [
      " 85%|███████████████████████████████████████████████████████████████▏          | 63198/74060 [1:08:05<11:11, 16.17it/s]"
     ]
    },
    {
     "name": "stdout",
     "output_type": "stream",
     "text": [
      "Could have Bought\n",
      "Could have Bought\n",
      "Could have Bought\n",
      "Could have Bought\n"
     ]
    },
    {
     "name": "stderr",
     "output_type": "stream",
     "text": [
      " 85%|███████████████████████████████████████████████████████████████▏          | 63202/74060 [1:08:05<11:34, 15.62it/s]"
     ]
    },
    {
     "name": "stdout",
     "output_type": "stream",
     "text": [
      "Could have Bought\n",
      "Could have Bought\n",
      "Could have Bought\n",
      "Could have Bought\n"
     ]
    },
    {
     "name": "stderr",
     "output_type": "stream",
     "text": [
      " 85%|███████████████████████████████████████████████████████████████▏          | 63206/74060 [1:08:05<11:29, 15.74it/s]"
     ]
    },
    {
     "name": "stdout",
     "output_type": "stream",
     "text": [
      "Could have Bought\n"
     ]
    },
    {
     "name": "stderr",
     "output_type": "stream",
     "text": [
      " 85%|███████████████████████████████████████████████████████████████▏          | 63210/74060 [1:08:06<11:25, 15.83it/s]"
     ]
    },
    {
     "name": "stdout",
     "output_type": "stream",
     "text": [
      "CMP =  1310.8\n",
      "Shares Sold\n",
      "Average Predicted =  1296.0579\n",
      "Could have Sold\n",
      "Could have Sold\n",
      "Could have Sold\n"
     ]
    },
    {
     "name": "stderr",
     "output_type": "stream",
     "text": [
      " 85%|███████████████████████████████████████████████████████████████▏          | 63214/74060 [1:08:06<11:18, 15.97it/s]"
     ]
    },
    {
     "name": "stdout",
     "output_type": "stream",
     "text": [
      "Could have Sold\n",
      "Could have Sold\n"
     ]
    },
    {
     "name": "stderr",
     "output_type": "stream",
     "text": [
      " 85%|███████████████████████████████████████████████████████████████▏          | 63256/74060 [1:08:08<11:23, 15.81it/s]"
     ]
    },
    {
     "name": "stdout",
     "output_type": "stream",
     "text": [
      "CMP =  1337.05\n",
      "Shares Bought =  10.0\n",
      "Average Predicted =  1352.3586\n"
     ]
    },
    {
     "name": "stderr",
     "output_type": "stream",
     "text": [
      " 85%|███████████████████████████████████████████████████████████████▏          | 63260/74060 [1:08:09<11:16, 15.96it/s]"
     ]
    },
    {
     "name": "stdout",
     "output_type": "stream",
     "text": [
      "Could have Bought\n",
      "Could have Bought\n",
      "Could have Bought\n"
     ]
    },
    {
     "name": "stderr",
     "output_type": "stream",
     "text": [
      " 85%|███████████████████████████████████████████████████████████████▏          | 63266/74060 [1:08:09<11:11, 16.07it/s]"
     ]
    },
    {
     "name": "stdout",
     "output_type": "stream",
     "text": [
      "Could have Bought\n",
      "Could have Bought\n",
      "Could have Bought\n",
      "Could have Bought\n"
     ]
    },
    {
     "name": "stderr",
     "output_type": "stream",
     "text": [
      " 85%|███████████████████████████████████████████████████████████████▏          | 63270/74060 [1:08:09<11:09, 16.12it/s]"
     ]
    },
    {
     "name": "stdout",
     "output_type": "stream",
     "text": [
      "Could have Bought\n",
      "Could have Bought\n",
      "Could have Bought\n",
      "Could have Bought\n"
     ]
    },
    {
     "name": "stderr",
     "output_type": "stream",
     "text": [
      " 85%|███████████████████████████████████████████████████████████████▏          | 63274/74060 [1:08:10<11:33, 15.55it/s]"
     ]
    },
    {
     "name": "stdout",
     "output_type": "stream",
     "text": [
      "Could have Bought\n"
     ]
    },
    {
     "name": "stderr",
     "output_type": "stream",
     "text": [
      " 86%|███████████████████████████████████████████████████████████████▎          | 63330/74060 [1:08:13<11:32, 15.50it/s]"
     ]
    },
    {
     "name": "stdout",
     "output_type": "stream",
     "text": [
      "Could have Bought\n"
     ]
    },
    {
     "name": "stderr",
     "output_type": "stream",
     "text": [
      " 86%|███████████████████████████████████████████████████████████████▎          | 63334/74060 [1:08:13<11:23, 15.69it/s]"
     ]
    },
    {
     "name": "stdout",
     "output_type": "stream",
     "text": [
      "Could have Bought\n",
      "Could have Bought\n",
      "Could have Bought\n"
     ]
    },
    {
     "name": "stderr",
     "output_type": "stream",
     "text": [
      " 86%|███████████████████████████████████████████████████████████████▎          | 63340/74060 [1:08:14<11:40, 15.31it/s]"
     ]
    },
    {
     "name": "stdout",
     "output_type": "stream",
     "text": [
      "Could have Bought\n"
     ]
    },
    {
     "name": "stderr",
     "output_type": "stream",
     "text": [
      " 86%|███████████████████████████████████████████████████████████████▌          | 63596/74060 [1:08:30<11:05, 15.72it/s]"
     ]
    },
    {
     "name": "stdout",
     "output_type": "stream",
     "text": [
      "Could have Bought\n",
      "Could have Bought\n",
      "Could have Bought\n"
     ]
    },
    {
     "name": "stderr",
     "output_type": "stream",
     "text": [
      " 86%|███████████████████████████████████████████████████████████████▌          | 63610/74060 [1:08:31<10:52, 16.02it/s]"
     ]
    },
    {
     "name": "stdout",
     "output_type": "stream",
     "text": [
      "Could have Bought\n"
     ]
    },
    {
     "name": "stderr",
     "output_type": "stream",
     "text": [
      " 86%|███████████████████████████████████████████████████████████████▌          | 63644/74060 [1:08:33<12:23, 14.02it/s]"
     ]
    },
    {
     "name": "stdout",
     "output_type": "stream",
     "text": [
      "Could have Bought\n",
      "Could have Bought\n"
     ]
    },
    {
     "name": "stderr",
     "output_type": "stream",
     "text": [
      " 86%|███████████████████████████████████████████████████████████████▋          | 63686/74060 [1:08:36<10:40, 16.21it/s]"
     ]
    },
    {
     "name": "stdout",
     "output_type": "stream",
     "text": [
      "Could have Bought\n",
      "Could have Bought\n",
      "Could have Bought\n",
      "Could have Bought\n"
     ]
    },
    {
     "name": "stderr",
     "output_type": "stream",
     "text": [
      " 86%|███████████████████████████████████████████████████████████████▋          | 63742/74060 [1:08:39<10:34, 16.26it/s]"
     ]
    },
    {
     "name": "stdout",
     "output_type": "stream",
     "text": [
      "Could have Bought\n"
     ]
    },
    {
     "name": "stderr",
     "output_type": "stream",
     "text": [
      " 86%|███████████████████████████████████████████████████████████████▉          | 63952/74060 [1:08:53<10:43, 15.72it/s]"
     ]
    },
    {
     "name": "stdout",
     "output_type": "stream",
     "text": [
      "Could have Bought\n",
      "Could have Bought\n",
      "Could have Bought\n",
      "Could have Bought\n"
     ]
    },
    {
     "name": "stderr",
     "output_type": "stream",
     "text": [
      " 86%|███████████████████████████████████████████████████████████████▉          | 63956/74060 [1:08:53<10:38, 15.83it/s]"
     ]
    },
    {
     "name": "stdout",
     "output_type": "stream",
     "text": [
      "Could have Bought\n",
      "Could have Bought\n"
     ]
    },
    {
     "name": "stderr",
     "output_type": "stream",
     "text": [
      " 86%|███████████████████████████████████████████████████████████████▉          | 63994/74060 [1:08:55<10:42, 15.66it/s]"
     ]
    },
    {
     "name": "stdout",
     "output_type": "stream",
     "text": [
      "Could have Bought\n"
     ]
    },
    {
     "name": "stderr",
     "output_type": "stream",
     "text": [
      " 87%|████████████████████████████████████████████████████████████████▎         | 64380/74060 [1:09:20<10:30, 15.36it/s]"
     ]
    },
    {
     "name": "stdout",
     "output_type": "stream",
     "text": [
      "Could have Bought\n",
      "Could have Bought\n",
      "Could have Bought\n",
      "Could have Bought\n"
     ]
    },
    {
     "name": "stderr",
     "output_type": "stream",
     "text": [
      " 87%|████████████████████████████████████████████████████████████████▎         | 64384/74060 [1:09:20<10:16, 15.70it/s]"
     ]
    },
    {
     "name": "stdout",
     "output_type": "stream",
     "text": [
      "Could have Bought\n",
      "Could have Bought\n",
      "Could have Bought\n",
      "Could have Bought\n"
     ]
    },
    {
     "name": "stderr",
     "output_type": "stream",
     "text": [
      " 87%|████████████████████████████████████████████████████████████████▎         | 64388/74060 [1:09:21<10:37, 15.17it/s]"
     ]
    },
    {
     "name": "stdout",
     "output_type": "stream",
     "text": [
      "Could have Bought\n",
      "Could have Bought\n",
      "Could have Bought\n"
     ]
    },
    {
     "name": "stderr",
     "output_type": "stream",
     "text": [
      " 87%|████████████████████████████████████████████████████████████████▎         | 64392/74060 [1:09:21<10:31, 15.30it/s]"
     ]
    },
    {
     "name": "stdout",
     "output_type": "stream",
     "text": [
      "Could have Bought\n",
      "Could have Bought\n",
      "Could have Bought\n",
      "Could have Bought\n"
     ]
    },
    {
     "name": "stderr",
     "output_type": "stream",
     "text": [
      " 87%|████████████████████████████████████████████████████████████████▍         | 64458/74060 [1:09:25<10:15, 15.60it/s]"
     ]
    },
    {
     "name": "stdout",
     "output_type": "stream",
     "text": [
      "Could have Bought\n"
     ]
    },
    {
     "name": "stderr",
     "output_type": "stream",
     "text": [
      " 87%|████████████████████████████████████████████████████████████████▋         | 64700/74060 [1:09:41<09:52, 15.80it/s]"
     ]
    },
    {
     "name": "stdout",
     "output_type": "stream",
     "text": [
      "Could have Bought\n",
      "Could have Bought\n",
      "Could have Bought\n"
     ]
    },
    {
     "name": "stderr",
     "output_type": "stream",
     "text": [
      " 87%|████████████████████████████████████████████████████████████████▋         | 64768/74060 [1:09:45<09:39, 16.03it/s]"
     ]
    },
    {
     "name": "stdout",
     "output_type": "stream",
     "text": [
      "Could have Bought\n",
      "Could have Bought\n",
      "Could have Bought\n"
     ]
    },
    {
     "name": "stderr",
     "output_type": "stream",
     "text": [
      " 88%|█████████████████████████████████████████████████████████████████         | 65090/74060 [1:10:05<10:49, 13.82it/s]"
     ]
    },
    {
     "name": "stdout",
     "output_type": "stream",
     "text": [
      "Could have Bought\n",
      "Could have Bought\n",
      "Could have Bought\n"
     ]
    },
    {
     "name": "stderr",
     "output_type": "stream",
     "text": [
      " 88%|█████████████████████████████████████████████████████████████████         | 65130/74060 [1:10:08<09:06, 16.35it/s]"
     ]
    },
    {
     "name": "stdout",
     "output_type": "stream",
     "text": [
      "Could have Bought\n",
      "Could have Bought\n",
      "Could have Bought\n",
      "Could have Bought\n"
     ]
    },
    {
     "name": "stderr",
     "output_type": "stream",
     "text": [
      " 88%|█████████████████████████████████████████████████████████████████         | 65134/74060 [1:10:08<09:14, 16.09it/s]"
     ]
    },
    {
     "name": "stdout",
     "output_type": "stream",
     "text": [
      "Could have Bought\n"
     ]
    },
    {
     "name": "stderr",
     "output_type": "stream",
     "text": [
      " 88%|█████████████████████████████████████████████████████████████████▏        | 65302/74060 [1:10:18<09:24, 15.52it/s]"
     ]
    },
    {
     "name": "stdout",
     "output_type": "stream",
     "text": [
      "Could have Bought\n",
      "Could have Bought\n"
     ]
    },
    {
     "name": "stderr",
     "output_type": "stream",
     "text": [
      " 88%|█████████████████████████████████████████████████████████████████▍        | 65456/74060 [1:10:28<08:59, 15.94it/s]"
     ]
    },
    {
     "name": "stdout",
     "output_type": "stream",
     "text": [
      "Could have Bought\n",
      "Could have Bought\n",
      "Could have Bought\n",
      "CMP =  1383.0\n",
      "Shares Sold\n",
      "Average Predicted =  1368.5837\n"
     ]
    },
    {
     "name": "stderr",
     "output_type": "stream",
     "text": [
      " 88%|█████████████████████████████████████████████████████████████████▍        | 65476/74060 [1:10:29<09:07, 15.68it/s]"
     ]
    },
    {
     "name": "stdout",
     "output_type": "stream",
     "text": [
      "CMP =  1362.4\n",
      "Shares Bought =  10.0\n",
      "Average Predicted =  1376.6996\n",
      "Could have Bought\n"
     ]
    },
    {
     "name": "stderr",
     "output_type": "stream",
     "text": [
      " 88%|█████████████████████████████████████████████████████████████████▍        | 65480/74060 [1:10:29<08:49, 16.21it/s]"
     ]
    },
    {
     "name": "stdout",
     "output_type": "stream",
     "text": [
      "Could have Bought\n",
      "Could have Bought\n",
      "Could have Bought\n",
      "Could have Bought\n"
     ]
    },
    {
     "name": "stderr",
     "output_type": "stream",
     "text": [
      " 88%|█████████████████████████████████████████████████████████████████▍        | 65484/74060 [1:10:30<09:02, 15.81it/s]"
     ]
    },
    {
     "name": "stdout",
     "output_type": "stream",
     "text": [
      "Could have Bought\n",
      "Could have Bought\n",
      "Could have Bought\n",
      "Could have Bought\n"
     ]
    },
    {
     "name": "stderr",
     "output_type": "stream",
     "text": [
      " 88%|█████████████████████████████████████████████████████████████████▍        | 65502/74060 [1:10:31<08:55, 15.99it/s]"
     ]
    },
    {
     "name": "stdout",
     "output_type": "stream",
     "text": [
      "Could have Bought\n"
     ]
    },
    {
     "name": "stderr",
     "output_type": "stream",
     "text": [
      " 89%|██████████████████████████████████████████████████████████████████▏       | 66260/74060 [1:11:18<08:05, 16.07it/s]"
     ]
    },
    {
     "name": "stdout",
     "output_type": "stream",
     "text": [
      "Could have Bought\n"
     ]
    },
    {
     "name": "stderr",
     "output_type": "stream",
     "text": [
      " 90%|██████████████████████████████████████████████████████████████████▌       | 66622/74060 [1:11:41<07:31, 16.48it/s]"
     ]
    },
    {
     "name": "stdout",
     "output_type": "stream",
     "text": [
      "Could have Bought\n",
      "Could have Bought\n"
     ]
    },
    {
     "name": "stderr",
     "output_type": "stream",
     "text": [
      " 90%|██████████████████████████████████████████████████████████████████▉       | 66960/74060 [1:12:02<07:22, 16.06it/s]"
     ]
    },
    {
     "name": "stdout",
     "output_type": "stream",
     "text": [
      "Could have Bought\n",
      "Could have Bought\n",
      "Could have Bought\n",
      "Could have Bought\n"
     ]
    },
    {
     "name": "stderr",
     "output_type": "stream",
     "text": [
      " 90%|██████████████████████████████████████████████████████████████████▉       | 66964/74060 [1:12:02<07:22, 16.03it/s]"
     ]
    },
    {
     "name": "stdout",
     "output_type": "stream",
     "text": [
      "Could have Bought\n",
      "Could have Bought\n",
      "Could have Bought\n"
     ]
    },
    {
     "name": "stderr",
     "output_type": "stream",
     "text": [
      " 91%|███████████████████████████████████████████████████████████████████▎      | 67336/74060 [1:12:26<07:04, 15.85it/s]"
     ]
    },
    {
     "name": "stdout",
     "output_type": "stream",
     "text": [
      "Could have Bought\n",
      "Could have Bought\n",
      "Could have Bought\n"
     ]
    },
    {
     "name": "stderr",
     "output_type": "stream",
     "text": [
      " 93%|█████████████████████████████████████████████████████████████████████▏    | 69210/74060 [1:14:23<05:03, 15.96it/s]"
     ]
    },
    {
     "name": "stdout",
     "output_type": "stream",
     "text": [
      "Could have Bought\n",
      "Could have Bought\n",
      "Could have Bought\n",
      "Could have Bought\n"
     ]
    },
    {
     "name": "stderr",
     "output_type": "stream",
     "text": [
      " 93%|█████████████████████████████████████████████████████████████████████▏    | 69214/74060 [1:14:23<05:03, 15.98it/s]"
     ]
    },
    {
     "name": "stdout",
     "output_type": "stream",
     "text": [
      "Could have Bought\n"
     ]
    },
    {
     "name": "stderr",
     "output_type": "stream",
     "text": [
      " 94%|█████████████████████████████████████████████████████████████████████▉    | 69960/74060 [1:15:10<04:09, 16.42it/s]"
     ]
    },
    {
     "name": "stdout",
     "output_type": "stream",
     "text": [
      "Could have Bought\n",
      "Could have Bought\n"
     ]
    },
    {
     "name": "stderr",
     "output_type": "stream",
     "text": [
      " 95%|██████████████████████████████████████████████████████████████████████▋   | 70712/74060 [1:15:55<03:14, 17.18it/s]"
     ]
    },
    {
     "name": "stdout",
     "output_type": "stream",
     "text": [
      "Could have Bought\n"
     ]
    },
    {
     "name": "stderr",
     "output_type": "stream",
     "text": [
      " 95%|██████████████████████████████████████████████████████████████████████▋   | 70716/74060 [1:15:55<03:08, 17.73it/s]"
     ]
    },
    {
     "name": "stdout",
     "output_type": "stream",
     "text": [
      "Could have Bought\n"
     ]
    },
    {
     "name": "stderr",
     "output_type": "stream",
     "text": [
      " 96%|██████████████████████████████████████████████████████████████████████▉   | 71024/74060 [1:16:14<03:16, 15.41it/s]"
     ]
    },
    {
     "name": "stdout",
     "output_type": "stream",
     "text": [
      "Could have Bought\n",
      "Could have Bought\n",
      "Could have Bought\n",
      "Could have Bought\n"
     ]
    },
    {
     "name": "stderr",
     "output_type": "stream",
     "text": [
      " 96%|██████████████████████████████████████████████████████████████████████▉   | 71028/74060 [1:16:15<03:19, 15.19it/s]"
     ]
    },
    {
     "name": "stdout",
     "output_type": "stream",
     "text": [
      "Could have Bought\n",
      "Could have Bought\n",
      "Could have Bought\n",
      "Could have Bought\n"
     ]
    },
    {
     "name": "stderr",
     "output_type": "stream",
     "text": [
      " 96%|██████████████████████████████████████████████████████████████████████▉   | 71032/74060 [1:16:15<03:12, 15.73it/s]"
     ]
    },
    {
     "name": "stdout",
     "output_type": "stream",
     "text": [
      "Could have Bought\n",
      "Could have Bought\n"
     ]
    },
    {
     "name": "stderr",
     "output_type": "stream",
     "text": [
      " 96%|██████████████████████████████████████████████████████████████████████▉   | 71040/74060 [1:16:15<03:13, 15.60it/s]"
     ]
    },
    {
     "name": "stdout",
     "output_type": "stream",
     "text": [
      "Could have Bought\n"
     ]
    },
    {
     "name": "stderr",
     "output_type": "stream",
     "text": [
      " 96%|██████████████████████████████████████████████████████████████████████▉   | 71046/74060 [1:16:16<03:14, 15.50it/s]"
     ]
    },
    {
     "name": "stdout",
     "output_type": "stream",
     "text": [
      "Could have Bought\n"
     ]
    },
    {
     "name": "stderr",
     "output_type": "stream",
     "text": [
      " 96%|██████████████████████████████████████████████████████████████████████▉   | 71050/74060 [1:16:16<03:11, 15.70it/s]"
     ]
    },
    {
     "name": "stdout",
     "output_type": "stream",
     "text": [
      "Could have Bought\n",
      "Could have Bought\n",
      "Could have Bought\n"
     ]
    },
    {
     "name": "stderr",
     "output_type": "stream",
     "text": [
      " 96%|██████████████████████████████████████████████████████████████████████▉   | 71054/74060 [1:16:16<03:14, 15.42it/s]"
     ]
    },
    {
     "name": "stdout",
     "output_type": "stream",
     "text": [
      "Could have Bought\n",
      "Could have Bought\n",
      "Could have Bought\n"
     ]
    },
    {
     "name": "stderr",
     "output_type": "stream",
     "text": [
      " 96%|███████████████████████████████████████████████████████████████████████   | 71078/74060 [1:16:18<03:12, 15.52it/s]"
     ]
    },
    {
     "name": "stdout",
     "output_type": "stream",
     "text": [
      "Could have Bought\n"
     ]
    },
    {
     "name": "stderr",
     "output_type": "stream",
     "text": [
      " 96%|███████████████████████████████████████████████████████████████████████   | 71096/74060 [1:16:19<03:09, 15.64it/s]"
     ]
    },
    {
     "name": "stdout",
     "output_type": "stream",
     "text": [
      "Could have Bought\n",
      "Could have Bought\n",
      "Could have Bought\n",
      "Could have Bought\n"
     ]
    },
    {
     "name": "stderr",
     "output_type": "stream",
     "text": [
      " 96%|███████████████████████████████████████████████████████████████████████   | 71102/74060 [1:16:19<03:10, 15.54it/s]"
     ]
    },
    {
     "name": "stdout",
     "output_type": "stream",
     "text": [
      "Could have Bought\n",
      "Could have Bought\n"
     ]
    },
    {
     "name": "stderr",
     "output_type": "stream",
     "text": [
      " 96%|███████████████████████████████████████████████████████████████████████   | 71106/74060 [1:16:20<03:08, 15.70it/s]"
     ]
    },
    {
     "name": "stdout",
     "output_type": "stream",
     "text": [
      "Could have Bought\n"
     ]
    },
    {
     "name": "stderr",
     "output_type": "stream",
     "text": [
      " 96%|███████████████████████████████████████████████████████████████████████   | 71110/74060 [1:16:20<03:11, 15.38it/s]"
     ]
    },
    {
     "name": "stdout",
     "output_type": "stream",
     "text": [
      "Could have Bought\n",
      "Could have Bought\n"
     ]
    },
    {
     "name": "stderr",
     "output_type": "stream",
     "text": [
      " 97%|███████████████████████████████████████████████████████████████████████▌  | 71596/74060 [1:16:51<02:42, 15.19it/s]"
     ]
    },
    {
     "name": "stdout",
     "output_type": "stream",
     "text": [
      "Could have Bought\n",
      "Could have Bought\n",
      "Could have Bought\n"
     ]
    },
    {
     "name": "stderr",
     "output_type": "stream",
     "text": [
      " 97%|███████████████████████████████████████████████████████████████████████▊  | 71834/74060 [1:17:06<02:21, 15.76it/s]"
     ]
    },
    {
     "name": "stdout",
     "output_type": "stream",
     "text": [
      "CMP =  1520.0\n",
      "Shares Sold\n",
      "Average Predicted =  1499.3645\n"
     ]
    },
    {
     "name": "stderr",
     "output_type": "stream",
     "text": [
      "100%|██████████████████████████████████████████████████████████████████████████| 74060/74060 [1:19:28<00:00, 15.53it/s]"
     ]
    },
    {
     "name": "stdout",
     "output_type": "stream",
     "text": [
      "CMP =  1557.95 \n",
      "Shares =  0\n",
      "Portfolio:  16200.149999999989\n"
     ]
    },
    {
     "name": "stderr",
     "output_type": "stream",
     "text": [
      "\n"
     ]
    }
   ],
   "source": [
    "investment = 10000 # initial capital in money\n",
    "shares = 0 # initial value of shares\n",
    "portfolio = 0\n",
    "price_bought = 0\n",
    "\n",
    "for i in tqdm(range(len(X_test))):\n",
    "    actual_X_test = sc.inverse_transform(X_test[i]) # Inverse transforming normalized value to get cmp\n",
    "    cmp = actual_X_test[-1][0] # cmp is the last value in X_test\n",
    "    #print(\"Actual Price = \", cmp)\n",
    "    input_value = np.reshape(X_test[i], newshape = (1, X_test[0].shape[0],  X_test[0].shape[1])) \n",
    "    # Reshaping the X_test to get it in shape for prediction\n",
    "    predicted_value = regressor.predict(input_value, verbose=0)\n",
    "    predicted_value = sc.inverse_transform(predicted_value)\n",
    "    #print(predicted_value.shape)\n",
    "    average_predicted = np.mean(predicted_value[0])\n",
    "    #print(average_predicted)\n",
    "    if (average_predicted >= cmp*1.01):\n",
    "        if shares == 0:\n",
    "            shares += investment//cmp # if buying condition is fulfilled then add shares and subtract from investment\n",
    "            investment -= shares*cmp\n",
    "            print(\"CMP = \", cmp)\n",
    "            price_bought = cmp\n",
    "            print(\"Shares Bought = \", shares)\n",
    "            print(\"Average Predicted = \", average_predicted)\n",
    "        else:\n",
    "            print(\"Could have Bought\")\n",
    "    elif (average_predicted <= cmp*0.99 or average_predicted <= price_bought*0.9 or cmp <= price_bought*0.9):\n",
    "        if shares == 0:\n",
    "            print(\"Could have Sold\")\n",
    "        else:\n",
    "            if average_predicted <= cmp*0.9:\n",
    "                print(\"Condition 1\")\n",
    "            if average_predicted <= price_bought*0.9:\n",
    "                print(\"Condition 2\")\n",
    "            if cmp <= price_bought:\n",
    "                print(\"Condition 3\")\n",
    "            investment += shares*cmp\n",
    "            shares = 0\n",
    "            print(\"CMP = \", cmp)\n",
    "            print(\"Shares Sold\")\n",
    "            print(\"Average Predicted = \", average_predicted)\n",
    "        \n",
    "cmp_arr = sc.inverse_transform(y_test[-1])\n",
    "#print(cmp_arr)\n",
    "cmp = cmp_arr[-1][0]investment = 10000 # initial capital in money\n",
    "shares = 0 # initial value of shares\n",
    "portfolio = 0\n",
    "price_bought = 0\n",
    "\n",
    "for i in tqdm(range(len(X_test))):\n",
    "    actual_X_test = sc.inverse_transform(X_test[i]) # Inverse transforming normalized value to get cmp\n",
    "    cmp = actual_X_test[-1][0] # cmp is the last value in X_test\n",
    "    #print(\"Actual Price = \", cmp)\n",
    "    input_value = np.reshape(X_test[i], newshape = (1, X_test[0].shape[0],  X_test[0].shape[1])) \n",
    "    # Reshaping the X_test to get it in shape for prediction\n",
    "    predicted_value = regressor.predict(input_value, verbose=0)\n",
    "    predicted_value = sc.inverse_transform(predicted_value)\n",
    "    #print(predicted_value.shape)\n",
    "    average_predicted = np.mean(predicted_value[0])\n",
    "    #print(average_predicted)\n",
    "    if (average_predicted >= cmp*1.01):\n",
    "        if shares == 0:\n",
    "            shares += investment//cmp # if buying condition is fulfilled then add shares and subtract from investment\n",
    "            investment -= shares*cmp\n",
    "            print(\"CMP = \", cmp)\n",
    "            price_bought = cmp\n",
    "            print(\"Shares Bought = \", shares)\n",
    "            print(\"Average Predicted = \", average_predicted)\n",
    "        else:\n",
    "            print(\"Could have Bought\")\n",
    "    elif (average_predicted <= cmp*0.99 or average_predicted <= price_bought*0.9 or cmp <= price_bought*0.9):\n",
    "        if shares == 0:\n",
    "            print(\"Could have Sold\")\n",
    "        else:\n",
    "            if average_predicted <= cmp*0.9:\n",
    "                print(\"Condition 1\")\n",
    "            if average_predicted <= price_bought*0.9:\n",
    "                print(\"Condition 2\")\n",
    "            if cmp <= price_bought:\n",
    "                print(\"Condition 3\")\n",
    "            investment += shares*cmp\n",
    "            shares = 0\n",
    "            print(\"CMP = \", cmp)\n",
    "            print(\"Shares Sold\")\n",
    "            print(\"Average Predicted = \", average_predicted)\n",
    "        \n",
    "cmp_arr = sc.inverse_transform(y_test[-1])\n",
    "#print(cmp_arr)\n",
    "cmp = cmp_arr[-1][0]\n",
    "print(\"CMP = \", cmp, \"\\nShares = \", shares)\n",
    "portfolio = investment + shares*cmp\n",
    "\n",
    "print(\"Portfolio: \", portfolio)\n",
    "print(\"CMP = \", cmp, \"\\nShares = \", shares)\n",
    "portfolio = investment + shares*cmp\n",
    "\n",
    "print(\"Portfolio: \", portfolio)"
   ]
  },
  {
   "cell_type": "code",
   "execution_count": null,
   "id": "dc3ca0ac",
   "metadata": {},
   "outputs": [],
   "source": []
  },
  {
   "cell_type": "code",
   "execution_count": null,
   "id": "04f7b5bc",
   "metadata": {},
   "outputs": [],
   "source": []
  },
  {
   "cell_type": "code",
   "execution_count": null,
   "id": "6452bbcc",
   "metadata": {},
   "outputs": [],
   "source": []
  },
  {
   "cell_type": "code",
   "execution_count": null,
   "id": "fec1bb45",
   "metadata": {},
   "outputs": [],
   "source": []
  },
  {
   "cell_type": "code",
   "execution_count": null,
   "id": "d00e8fff",
   "metadata": {},
   "outputs": [],
   "source": []
  },
  {
   "cell_type": "code",
   "execution_count": null,
   "id": "a2a8857e",
   "metadata": {},
   "outputs": [],
   "source": []
  },
  {
   "cell_type": "code",
   "execution_count": null,
   "id": "4da1efb2",
   "metadata": {},
   "outputs": [],
   "source": []
  },
  {
   "cell_type": "code",
   "execution_count": null,
   "id": "3b571e3f",
   "metadata": {},
   "outputs": [],
   "source": []
  },
  {
   "cell_type": "code",
   "execution_count": null,
   "id": "3f10d63e",
   "metadata": {},
   "outputs": [],
   "source": []
  },
  {
   "cell_type": "markdown",
   "id": "d05fcf5e",
   "metadata": {},
   "source": [
    "Links:\n",
    "\n",
    "https://towardsdatascience.com/basics-of-ohlc-charts-with-pythons-matplotlib-56d0e745a5be \\\n",
    "https://towardsdatascience.com/lstm-for-google-stock-price-prediction-e35f5cc84165 \\\n",
    "https://github.com/arpitgits/Stock-Market-predictions-using-different-ML-algorithms-for-swing-and-day-trading \\\n",
    "https://plotly.com/python/time-series/ \\\n",
    "https://plotly.com/python/getting-started/ \\\n",
    "https://www.investopedia.com/terms/o/ohlcchart.asp \\\n",
    "https://rapidapi.com/blog/best-stock-api/ \\\n",
    "https://www.moneycontrol.com/markets/indian-indices/ \\\n",
    "https://towardsdatascience.com/stock-market-analysis-in-python-part-1-getting-data-by-web-scraping-cb0589aca178 \\\n",
    "https://www.tensorflow.org/install/pip#windows-native_1 \\\n",
    "https://stackoverflow.com/questions/58142058/how-to-plot-multiple-lines-on-the-same-y-axis-using-plotly-express-in-python \\\n",
    "https://datascience.stackexchange.com/questions/82820/keras-predicts-nan-values \\\n",
    "https://www.tensorflow.org/tutorials/keras/save_and_load \\\n",
    "https://machinelearningmastery.com/difference-between-a-batch-and-an-epoch/ \\\n",
    "https://www.tensorflow.org/tensorboard/graphs \\\n",
    "https://neptune.ai/blog/installing-tensorflow-2-gpu-guide \\\n",
    "https://www.geeksforgeeks.org/using-jupyter-notebook-in-virtual-environment/ \\\n",
    "https://stackoverflow.com/questions/73424216/how-to-install-cudnn-and-cuda-toolkit-in-a-python-virtual-environment \\\n",
    "https://stackoverflow.com/questions/58068818/how-to-use-jupyter-notebooks-in-a-conda-environment \\\n",
    "https://www.tensorflow.org/tensorboard/graphs \\\n",
    "https://www.tensorflow.org/api_docs/python/tf/test/is_gpu_available \\\n",
    "https://stackoverflow.com/questions/44829085/tensorflow-not-running-on-gpu \\\n",
    "https://www.tensorflow.org/install/pip \\\n",
    "https://towardsdatascience.com/tensorflow-gpu-installation-made-easy-use-conda-instead-of-pip-52e5249374bc \\\n",
    "https://www.activestate.com/resources/quick-reads/how-to-install-keras-and-tensorflow/ \\\n",
    "https://keras.io/api/models/model_training_apis/ \\\n",
    "https://www.nseindia.com/all-reports \\\n",
    "https://www1.nseindia.com/products/content/debt/rdm/historical_rdm.htm \\\n",
    "https://www1.nseindia.com/products/content/equities/equities/eq_security.htm \\\n",
    "https://www.niftyindices.com/reports/historical-data \\\n",
    "https://groww.in/blog/most-volatile-stocks \\\n",
    "https://www.screener.in/screens/313326/high-volatility-stocks-a/ \\\n",
    "https://www.indmoney.com/articles/stocks/open-high-open-low-strategy-steps-to-execute-the-strategy \\\n",
    "https://www.analyticsvidhya.com/blog/2021/05/stock-price-prediction-and-forecasting-using-stacked-lstm/ \\\n",
    "https://analyzingalpha.com/open-high-low-close-stocks \\\n",
    "https://www.indmoney.com/articles/stocks/open-high-open-low-strategy-steps-to-execute-the-strategy \\\n",
    "https://colah.github.io/posts/2015-08-Understanding-LSTMs/ \\\n",
    "https://plotly.com/python/figure-labels/ \\\n",
    "\\\n",
    "For Future Scope: \\\n",
    "https://neptune.ai/blog/predicting-stock-prices-using-machine-learning \\\n",
    "https://neptune.ai/blog/select-model-for-time-series-prediction-task \\\n",
    "https://neptune.ai/blog/arima-vs-prophet-vs-lstm \\\n",
    "https://colah.github.io/posts/2015-08-Understanding-LSTMs/ \\\n",
    "http://www.columbia.edu/cu/biology/courses/w4070/Reading_List_Yuste/haas_04.pdf \\\n"
   ]
  },
  {
   "cell_type": "markdown",
   "id": "d86e0162",
   "metadata": {},
   "source": [
    "Literature Survey:\n",
    "\n",
    "https://scholar.google.com/scholar?hl=en&as_sdt=0%2C5&q=stock+price+prediction&btnG=&oq=stock+price \\\n",
    "\n",
    "https://ieeexplore.ieee.org/abstract/document/7046047 \\\n",
    "https://link.springer.com/article/10.1007/s00521-019-04212-x \\\n",
    "https://www.sciencedirect.com/science/article/abs/pii/092523129090013H \\ \n",
    "http://www.lrec-conf.org/proceedings/lrec2014/pdf/1065_Paper.pdf \\\n",
    "https://onlinelibrary.wiley.com/doi/abs/10.1002/(SICI)1099-1174(199703)6:1%3C11::AID-ISAF115%3E3.0.CO;2-3 \\\n",
    "https://ieeexplore.ieee.org/abstract/document/931880 \\\n"
   ]
  },
  {
   "cell_type": "code",
   "execution_count": null,
   "id": "cc32325b",
   "metadata": {},
   "outputs": [],
   "source": []
  }
 ],
 "metadata": {
  "kernelspec": {
   "display_name": "Python 3 (ipykernel)",
   "language": "python",
   "name": "python3"
  },
  "language_info": {
   "codemirror_mode": {
    "name": "ipython",
    "version": 3
   },
   "file_extension": ".py",
   "mimetype": "text/x-python",
   "name": "python",
   "nbconvert_exporter": "python",
   "pygments_lexer": "ipython3",
   "version": "3.9.12"
  }
 },
 "nbformat": 4,
 "nbformat_minor": 5
}
