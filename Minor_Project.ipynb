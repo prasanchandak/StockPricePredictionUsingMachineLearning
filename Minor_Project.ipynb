{
 "cells": [
  {
   "cell_type": "markdown",
   "id": "d7496335",
   "metadata": {},
   "source": [
    "# Single Run Required"
   ]
  },
  {
   "cell_type": "code",
   "execution_count": 193,
   "id": "89761a2a",
   "metadata": {},
   "outputs": [],
   "source": [
    "import math\n",
    "import numpy as np\n",
    "import pandas as pd\n",
    "import matplotlib.pyplot as plt\n",
    "from datetime import datetime\n",
    "import plotly.express as px\n",
    "from sklearn.preprocessing import MinMaxScaler\n",
    "import tensorflow as tf\n",
    "from tensorflow import keras\n",
    "from tensorflow.keras import layers\n",
    "from keras import Sequential\n",
    "from tensorflow.keras.layers import LSTM, Dropout, Dense"
   ]
  },
  {
   "cell_type": "code",
   "execution_count": 194,
   "id": "4d69fa62",
   "metadata": {},
   "outputs": [],
   "source": [
    "dataset = \"TitanData/TitanFullData.csv\"\n",
    "titan = pd.read_csv(dataset)"
   ]
  },
  {
   "cell_type": "code",
   "execution_count": 195,
   "id": "64d0e867",
   "metadata": {},
   "outputs": [
    {
     "data": {
      "text/plain": [
       "(370545, 6)"
      ]
     },
     "execution_count": 195,
     "metadata": {},
     "output_type": "execute_result"
    }
   ],
   "source": [
    "titan.shape"
   ]
  },
  {
   "cell_type": "code",
   "execution_count": 196,
   "id": "9daf25e8",
   "metadata": {},
   "outputs": [],
   "source": [
    "titan.dropna(inplace=True)"
   ]
  },
  {
   "cell_type": "code",
   "execution_count": 197,
   "id": "b46a7ecb",
   "metadata": {},
   "outputs": [],
   "source": [
    "titan.to_csv(\"TitanData/TitanFullDataCleaned.csv\")"
   ]
  },
  {
   "cell_type": "code",
   "execution_count": 198,
   "id": "f06681e6",
   "metadata": {},
   "outputs": [
    {
     "data": {
      "text/plain": [
       "(370404, 6)"
      ]
     },
     "execution_count": 198,
     "metadata": {},
     "output_type": "execute_result"
    }
   ],
   "source": [
    "titan.shape"
   ]
  },
  {
   "cell_type": "code",
   "execution_count": 199,
   "id": "c674e40f",
   "metadata": {},
   "outputs": [],
   "source": [
    "rows = titan.shape[0]\n",
    "train_limit = int(rows*0.8) + 1 # 80-20 split for test and train data"
   ]
  },
  {
   "cell_type": "code",
   "execution_count": 200,
   "id": "00fb41de",
   "metadata": {},
   "outputs": [],
   "source": [
    "titan_train = titan[:train_limit]"
   ]
  },
  {
   "cell_type": "code",
   "execution_count": 201,
   "id": "2f8e998c",
   "metadata": {},
   "outputs": [
    {
     "data": {
      "text/html": [
       "<div>\n",
       "<style scoped>\n",
       "    .dataframe tbody tr th:only-of-type {\n",
       "        vertical-align: middle;\n",
       "    }\n",
       "\n",
       "    .dataframe tbody tr th {\n",
       "        vertical-align: top;\n",
       "    }\n",
       "\n",
       "    .dataframe thead th {\n",
       "        text-align: right;\n",
       "    }\n",
       "</style>\n",
       "<table border=\"1\" class=\"dataframe\">\n",
       "  <thead>\n",
       "    <tr style=\"text-align: right;\">\n",
       "      <th></th>\n",
       "      <th>timestamp</th>\n",
       "      <th>open</th>\n",
       "      <th>high</th>\n",
       "      <th>low</th>\n",
       "      <th>close</th>\n",
       "      <th>volume</th>\n",
       "    </tr>\n",
       "  </thead>\n",
       "  <tbody>\n",
       "    <tr>\n",
       "      <th>0</th>\n",
       "      <td>2017-01-02 09:15:00+05:30</td>\n",
       "      <td>327.00</td>\n",
       "      <td>327.05</td>\n",
       "      <td>326.00</td>\n",
       "      <td>326.60</td>\n",
       "      <td>1135.0</td>\n",
       "    </tr>\n",
       "    <tr>\n",
       "      <th>1</th>\n",
       "      <td>2017-01-02 09:16:00+05:30</td>\n",
       "      <td>326.70</td>\n",
       "      <td>327.00</td>\n",
       "      <td>326.70</td>\n",
       "      <td>327.00</td>\n",
       "      <td>489.0</td>\n",
       "    </tr>\n",
       "    <tr>\n",
       "      <th>2</th>\n",
       "      <td>2017-01-02 09:17:00+05:30</td>\n",
       "      <td>327.00</td>\n",
       "      <td>327.05</td>\n",
       "      <td>326.85</td>\n",
       "      <td>326.85</td>\n",
       "      <td>4360.0</td>\n",
       "    </tr>\n",
       "    <tr>\n",
       "      <th>3</th>\n",
       "      <td>2017-01-02 09:18:00+05:30</td>\n",
       "      <td>326.85</td>\n",
       "      <td>326.85</td>\n",
       "      <td>325.80</td>\n",
       "      <td>326.00</td>\n",
       "      <td>3979.0</td>\n",
       "    </tr>\n",
       "    <tr>\n",
       "      <th>4</th>\n",
       "      <td>2017-01-02 09:19:00+05:30</td>\n",
       "      <td>326.00</td>\n",
       "      <td>326.75</td>\n",
       "      <td>326.00</td>\n",
       "      <td>326.75</td>\n",
       "      <td>177.0</td>\n",
       "    </tr>\n",
       "    <tr>\n",
       "      <th>...</th>\n",
       "      <td>...</td>\n",
       "      <td>...</td>\n",
       "      <td>...</td>\n",
       "      <td>...</td>\n",
       "      <td>...</td>\n",
       "      <td>...</td>\n",
       "    </tr>\n",
       "    <tr>\n",
       "      <th>296399</th>\n",
       "      <td>2020-03-18 11:59:00+05:30</td>\n",
       "      <td>939.20</td>\n",
       "      <td>942.50</td>\n",
       "      <td>939.00</td>\n",
       "      <td>940.35</td>\n",
       "      <td>11825.0</td>\n",
       "    </tr>\n",
       "    <tr>\n",
       "      <th>296400</th>\n",
       "      <td>2020-03-18 12:00:00+05:30</td>\n",
       "      <td>940.80</td>\n",
       "      <td>944.20</td>\n",
       "      <td>940.70</td>\n",
       "      <td>943.20</td>\n",
       "      <td>12666.0</td>\n",
       "    </tr>\n",
       "    <tr>\n",
       "      <th>296401</th>\n",
       "      <td>2020-03-18 12:01:00+05:30</td>\n",
       "      <td>943.25</td>\n",
       "      <td>943.35</td>\n",
       "      <td>939.00</td>\n",
       "      <td>940.05</td>\n",
       "      <td>9038.0</td>\n",
       "    </tr>\n",
       "    <tr>\n",
       "      <th>296402</th>\n",
       "      <td>2020-03-18 12:02:00+05:30</td>\n",
       "      <td>939.70</td>\n",
       "      <td>942.15</td>\n",
       "      <td>939.05</td>\n",
       "      <td>941.20</td>\n",
       "      <td>5171.0</td>\n",
       "    </tr>\n",
       "    <tr>\n",
       "      <th>296403</th>\n",
       "      <td>2020-03-18 12:03:00+05:30</td>\n",
       "      <td>941.20</td>\n",
       "      <td>941.90</td>\n",
       "      <td>938.30</td>\n",
       "      <td>939.45</td>\n",
       "      <td>6000.0</td>\n",
       "    </tr>\n",
       "  </tbody>\n",
       "</table>\n",
       "<p>296324 rows × 6 columns</p>\n",
       "</div>"
      ],
      "text/plain": [
       "                        timestamp    open    high     low   close   volume\n",
       "0       2017-01-02 09:15:00+05:30  327.00  327.05  326.00  326.60   1135.0\n",
       "1       2017-01-02 09:16:00+05:30  326.70  327.00  326.70  327.00    489.0\n",
       "2       2017-01-02 09:17:00+05:30  327.00  327.05  326.85  326.85   4360.0\n",
       "3       2017-01-02 09:18:00+05:30  326.85  326.85  325.80  326.00   3979.0\n",
       "4       2017-01-02 09:19:00+05:30  326.00  326.75  326.00  326.75    177.0\n",
       "...                           ...     ...     ...     ...     ...      ...\n",
       "296399  2020-03-18 11:59:00+05:30  939.20  942.50  939.00  940.35  11825.0\n",
       "296400  2020-03-18 12:00:00+05:30  940.80  944.20  940.70  943.20  12666.0\n",
       "296401  2020-03-18 12:01:00+05:30  943.25  943.35  939.00  940.05   9038.0\n",
       "296402  2020-03-18 12:02:00+05:30  939.70  942.15  939.05  941.20   5171.0\n",
       "296403  2020-03-18 12:03:00+05:30  941.20  941.90  938.30  939.45   6000.0\n",
       "\n",
       "[296324 rows x 6 columns]"
      ]
     },
     "execution_count": 201,
     "metadata": {},
     "output_type": "execute_result"
    }
   ],
   "source": [
    "titan_train"
   ]
  },
  {
   "cell_type": "code",
   "execution_count": 202,
   "id": "2ffafd4c",
   "metadata": {},
   "outputs": [],
   "source": [
    "titan_train.to_csv(\"TitanData/TitanTrain.csv\", index=False)"
   ]
  },
  {
   "cell_type": "code",
   "execution_count": 203,
   "id": "4492eeed",
   "metadata": {},
   "outputs": [],
   "source": [
    "titan_test = titan[train_limit:]"
   ]
  },
  {
   "cell_type": "code",
   "execution_count": 204,
   "id": "8f652a17",
   "metadata": {},
   "outputs": [
    {
     "data": {
      "text/html": [
       "<div>\n",
       "<style scoped>\n",
       "    .dataframe tbody tr th:only-of-type {\n",
       "        vertical-align: middle;\n",
       "    }\n",
       "\n",
       "    .dataframe tbody tr th {\n",
       "        vertical-align: top;\n",
       "    }\n",
       "\n",
       "    .dataframe thead th {\n",
       "        text-align: right;\n",
       "    }\n",
       "</style>\n",
       "<table border=\"1\" class=\"dataframe\">\n",
       "  <thead>\n",
       "    <tr style=\"text-align: right;\">\n",
       "      <th></th>\n",
       "      <th>timestamp</th>\n",
       "      <th>open</th>\n",
       "      <th>high</th>\n",
       "      <th>low</th>\n",
       "      <th>close</th>\n",
       "      <th>volume</th>\n",
       "    </tr>\n",
       "  </thead>\n",
       "  <tbody>\n",
       "    <tr>\n",
       "      <th>296404</th>\n",
       "      <td>2020-03-18 12:04:00+05:30</td>\n",
       "      <td>939.20</td>\n",
       "      <td>940.35</td>\n",
       "      <td>938.50</td>\n",
       "      <td>938.75</td>\n",
       "      <td>6475.0</td>\n",
       "    </tr>\n",
       "    <tr>\n",
       "      <th>296405</th>\n",
       "      <td>2020-03-18 12:05:00+05:30</td>\n",
       "      <td>938.65</td>\n",
       "      <td>939.25</td>\n",
       "      <td>938.00</td>\n",
       "      <td>938.50</td>\n",
       "      <td>5195.0</td>\n",
       "    </tr>\n",
       "    <tr>\n",
       "      <th>296406</th>\n",
       "      <td>2020-03-18 12:06:00+05:30</td>\n",
       "      <td>938.10</td>\n",
       "      <td>938.80</td>\n",
       "      <td>938.00</td>\n",
       "      <td>938.70</td>\n",
       "      <td>5400.0</td>\n",
       "    </tr>\n",
       "    <tr>\n",
       "      <th>296407</th>\n",
       "      <td>2020-03-18 12:07:00+05:30</td>\n",
       "      <td>938.00</td>\n",
       "      <td>939.75</td>\n",
       "      <td>938.00</td>\n",
       "      <td>939.75</td>\n",
       "      <td>7041.0</td>\n",
       "    </tr>\n",
       "    <tr>\n",
       "      <th>296408</th>\n",
       "      <td>2020-03-18 12:08:00+05:30</td>\n",
       "      <td>939.70</td>\n",
       "      <td>941.40</td>\n",
       "      <td>938.95</td>\n",
       "      <td>940.80</td>\n",
       "      <td>19337.0</td>\n",
       "    </tr>\n",
       "    <tr>\n",
       "      <th>...</th>\n",
       "      <td>...</td>\n",
       "      <td>...</td>\n",
       "      <td>...</td>\n",
       "      <td>...</td>\n",
       "      <td>...</td>\n",
       "      <td>...</td>\n",
       "    </tr>\n",
       "    <tr>\n",
       "      <th>370540</th>\n",
       "      <td>2021-01-01 15:25:00+05:30</td>\n",
       "      <td>1559.95</td>\n",
       "      <td>1561.95</td>\n",
       "      <td>1559.05</td>\n",
       "      <td>1560.90</td>\n",
       "      <td>4822.0</td>\n",
       "    </tr>\n",
       "    <tr>\n",
       "      <th>370541</th>\n",
       "      <td>2021-01-01 15:26:00+05:30</td>\n",
       "      <td>1560.95</td>\n",
       "      <td>1561.00</td>\n",
       "      <td>1559.25</td>\n",
       "      <td>1559.30</td>\n",
       "      <td>4585.0</td>\n",
       "    </tr>\n",
       "    <tr>\n",
       "      <th>370542</th>\n",
       "      <td>2021-01-01 15:27:00+05:30</td>\n",
       "      <td>1559.85</td>\n",
       "      <td>1560.00</td>\n",
       "      <td>1557.65</td>\n",
       "      <td>1557.95</td>\n",
       "      <td>2869.0</td>\n",
       "    </tr>\n",
       "    <tr>\n",
       "      <th>370543</th>\n",
       "      <td>2021-01-01 15:28:00+05:30</td>\n",
       "      <td>1557.95</td>\n",
       "      <td>1560.00</td>\n",
       "      <td>1557.25</td>\n",
       "      <td>1559.65</td>\n",
       "      <td>4476.0</td>\n",
       "    </tr>\n",
       "    <tr>\n",
       "      <th>370544</th>\n",
       "      <td>2021-01-01 15:29:00+05:30</td>\n",
       "      <td>1559.65</td>\n",
       "      <td>1559.75</td>\n",
       "      <td>1558.00</td>\n",
       "      <td>1558.00</td>\n",
       "      <td>2246.0</td>\n",
       "    </tr>\n",
       "  </tbody>\n",
       "</table>\n",
       "<p>74080 rows × 6 columns</p>\n",
       "</div>"
      ],
      "text/plain": [
       "                        timestamp     open     high      low    close   volume\n",
       "296404  2020-03-18 12:04:00+05:30   939.20   940.35   938.50   938.75   6475.0\n",
       "296405  2020-03-18 12:05:00+05:30   938.65   939.25   938.00   938.50   5195.0\n",
       "296406  2020-03-18 12:06:00+05:30   938.10   938.80   938.00   938.70   5400.0\n",
       "296407  2020-03-18 12:07:00+05:30   938.00   939.75   938.00   939.75   7041.0\n",
       "296408  2020-03-18 12:08:00+05:30   939.70   941.40   938.95   940.80  19337.0\n",
       "...                           ...      ...      ...      ...      ...      ...\n",
       "370540  2021-01-01 15:25:00+05:30  1559.95  1561.95  1559.05  1560.90   4822.0\n",
       "370541  2021-01-01 15:26:00+05:30  1560.95  1561.00  1559.25  1559.30   4585.0\n",
       "370542  2021-01-01 15:27:00+05:30  1559.85  1560.00  1557.65  1557.95   2869.0\n",
       "370543  2021-01-01 15:28:00+05:30  1557.95  1560.00  1557.25  1559.65   4476.0\n",
       "370544  2021-01-01 15:29:00+05:30  1559.65  1559.75  1558.00  1558.00   2246.0\n",
       "\n",
       "[74080 rows x 6 columns]"
      ]
     },
     "execution_count": 204,
     "metadata": {},
     "output_type": "execute_result"
    }
   ],
   "source": [
    "titan_test"
   ]
  },
  {
   "cell_type": "code",
   "execution_count": 205,
   "id": "271eff16",
   "metadata": {},
   "outputs": [],
   "source": [
    "titan_test.to_csv(\"TitanData/TitanTest.csv\", index=False)"
   ]
  },
  {
   "cell_type": "code",
   "execution_count": 206,
   "id": "604a7156",
   "metadata": {},
   "outputs": [],
   "source": [
    "titan_train = titan_train.iloc[:, 1:2].values"
   ]
  },
  {
   "cell_type": "code",
   "execution_count": 207,
   "id": "e370c5df",
   "metadata": {},
   "outputs": [
    {
     "data": {
      "text/plain": [
       "array([[327.  ],\n",
       "       [326.7 ],\n",
       "       [327.  ],\n",
       "       ...,\n",
       "       [943.25],\n",
       "       [939.7 ],\n",
       "       [941.2 ]])"
      ]
     },
     "execution_count": 207,
     "metadata": {},
     "output_type": "execute_result"
    }
   ],
   "source": [
    "titan_train"
   ]
  },
  {
   "cell_type": "markdown",
   "id": "717ec110",
   "metadata": {},
   "source": [
    "# Load Dataset"
   ]
  },
  {
   "cell_type": "code",
   "execution_count": 2,
   "id": "ae7db1c7",
   "metadata": {},
   "outputs": [],
   "source": [
    "import math\n",
    "import numpy as np\n",
    "import pandas as pd\n",
    "import matplotlib.pyplot as plt\n",
    "import time\n",
    "from datetime import datetime\n",
    "import plotly.express as px\n",
    "from sklearn.preprocessing import MinMaxScaler\n",
    "import tensorflow as tf\n",
    "from tensorflow import keras\n",
    "from tensorflow.keras import layers\n",
    "from keras import Sequential\n",
    "from tensorflow.keras.layers import LSTM, Dropout, Dense"
   ]
  },
  {
   "cell_type": "code",
   "execution_count": 32,
   "id": "a2befd71",
   "metadata": {},
   "outputs": [],
   "source": [
    "titan = pd.read_csv(\"TitanData/TitanFullDataCleaned.csv\")"
   ]
  },
  {
   "cell_type": "code",
   "execution_count": 54,
   "id": "28f2682a",
   "metadata": {},
   "outputs": [],
   "source": [
    "rows = titan.shape[0]\n",
    "train_limit = int(rows*0.8) + 1 # 80-20 split for test and train data"
   ]
  },
  {
   "cell_type": "code",
   "execution_count": 3,
   "id": "0fe64023",
   "metadata": {
    "scrolled": true
   },
   "outputs": [],
   "source": [
    "titan_train = pd.read_csv(\"TitanData/TitanTrain.csv\")"
   ]
  },
  {
   "cell_type": "code",
   "execution_count": 4,
   "id": "54eb6b59",
   "metadata": {},
   "outputs": [
    {
     "data": {
      "text/html": [
       "<div>\n",
       "<style scoped>\n",
       "    .dataframe tbody tr th:only-of-type {\n",
       "        vertical-align: middle;\n",
       "    }\n",
       "\n",
       "    .dataframe tbody tr th {\n",
       "        vertical-align: top;\n",
       "    }\n",
       "\n",
       "    .dataframe thead th {\n",
       "        text-align: right;\n",
       "    }\n",
       "</style>\n",
       "<table border=\"1\" class=\"dataframe\">\n",
       "  <thead>\n",
       "    <tr style=\"text-align: right;\">\n",
       "      <th></th>\n",
       "      <th>timestamp</th>\n",
       "      <th>open</th>\n",
       "      <th>high</th>\n",
       "      <th>low</th>\n",
       "      <th>close</th>\n",
       "      <th>volume</th>\n",
       "    </tr>\n",
       "  </thead>\n",
       "  <tbody>\n",
       "    <tr>\n",
       "      <th>0</th>\n",
       "      <td>2017-01-02 09:15:00+05:30</td>\n",
       "      <td>327.00</td>\n",
       "      <td>327.05</td>\n",
       "      <td>326.00</td>\n",
       "      <td>326.60</td>\n",
       "      <td>1135.0</td>\n",
       "    </tr>\n",
       "    <tr>\n",
       "      <th>1</th>\n",
       "      <td>2017-01-02 09:16:00+05:30</td>\n",
       "      <td>326.70</td>\n",
       "      <td>327.00</td>\n",
       "      <td>326.70</td>\n",
       "      <td>327.00</td>\n",
       "      <td>489.0</td>\n",
       "    </tr>\n",
       "    <tr>\n",
       "      <th>2</th>\n",
       "      <td>2017-01-02 09:17:00+05:30</td>\n",
       "      <td>327.00</td>\n",
       "      <td>327.05</td>\n",
       "      <td>326.85</td>\n",
       "      <td>326.85</td>\n",
       "      <td>4360.0</td>\n",
       "    </tr>\n",
       "    <tr>\n",
       "      <th>3</th>\n",
       "      <td>2017-01-02 09:18:00+05:30</td>\n",
       "      <td>326.85</td>\n",
       "      <td>326.85</td>\n",
       "      <td>325.80</td>\n",
       "      <td>326.00</td>\n",
       "      <td>3979.0</td>\n",
       "    </tr>\n",
       "    <tr>\n",
       "      <th>4</th>\n",
       "      <td>2017-01-02 09:19:00+05:30</td>\n",
       "      <td>326.00</td>\n",
       "      <td>326.75</td>\n",
       "      <td>326.00</td>\n",
       "      <td>326.75</td>\n",
       "      <td>177.0</td>\n",
       "    </tr>\n",
       "    <tr>\n",
       "      <th>...</th>\n",
       "      <td>...</td>\n",
       "      <td>...</td>\n",
       "      <td>...</td>\n",
       "      <td>...</td>\n",
       "      <td>...</td>\n",
       "      <td>...</td>\n",
       "    </tr>\n",
       "    <tr>\n",
       "      <th>296319</th>\n",
       "      <td>2020-03-18 11:59:00+05:30</td>\n",
       "      <td>939.20</td>\n",
       "      <td>942.50</td>\n",
       "      <td>939.00</td>\n",
       "      <td>940.35</td>\n",
       "      <td>11825.0</td>\n",
       "    </tr>\n",
       "    <tr>\n",
       "      <th>296320</th>\n",
       "      <td>2020-03-18 12:00:00+05:30</td>\n",
       "      <td>940.80</td>\n",
       "      <td>944.20</td>\n",
       "      <td>940.70</td>\n",
       "      <td>943.20</td>\n",
       "      <td>12666.0</td>\n",
       "    </tr>\n",
       "    <tr>\n",
       "      <th>296321</th>\n",
       "      <td>2020-03-18 12:01:00+05:30</td>\n",
       "      <td>943.25</td>\n",
       "      <td>943.35</td>\n",
       "      <td>939.00</td>\n",
       "      <td>940.05</td>\n",
       "      <td>9038.0</td>\n",
       "    </tr>\n",
       "    <tr>\n",
       "      <th>296322</th>\n",
       "      <td>2020-03-18 12:02:00+05:30</td>\n",
       "      <td>939.70</td>\n",
       "      <td>942.15</td>\n",
       "      <td>939.05</td>\n",
       "      <td>941.20</td>\n",
       "      <td>5171.0</td>\n",
       "    </tr>\n",
       "    <tr>\n",
       "      <th>296323</th>\n",
       "      <td>2020-03-18 12:03:00+05:30</td>\n",
       "      <td>941.20</td>\n",
       "      <td>941.90</td>\n",
       "      <td>938.30</td>\n",
       "      <td>939.45</td>\n",
       "      <td>6000.0</td>\n",
       "    </tr>\n",
       "  </tbody>\n",
       "</table>\n",
       "<p>296324 rows × 6 columns</p>\n",
       "</div>"
      ],
      "text/plain": [
       "                        timestamp    open    high     low   close   volume\n",
       "0       2017-01-02 09:15:00+05:30  327.00  327.05  326.00  326.60   1135.0\n",
       "1       2017-01-02 09:16:00+05:30  326.70  327.00  326.70  327.00    489.0\n",
       "2       2017-01-02 09:17:00+05:30  327.00  327.05  326.85  326.85   4360.0\n",
       "3       2017-01-02 09:18:00+05:30  326.85  326.85  325.80  326.00   3979.0\n",
       "4       2017-01-02 09:19:00+05:30  326.00  326.75  326.00  326.75    177.0\n",
       "...                           ...     ...     ...     ...     ...      ...\n",
       "296319  2020-03-18 11:59:00+05:30  939.20  942.50  939.00  940.35  11825.0\n",
       "296320  2020-03-18 12:00:00+05:30  940.80  944.20  940.70  943.20  12666.0\n",
       "296321  2020-03-18 12:01:00+05:30  943.25  943.35  939.00  940.05   9038.0\n",
       "296322  2020-03-18 12:02:00+05:30  939.70  942.15  939.05  941.20   5171.0\n",
       "296323  2020-03-18 12:03:00+05:30  941.20  941.90  938.30  939.45   6000.0\n",
       "\n",
       "[296324 rows x 6 columns]"
      ]
     },
     "execution_count": 4,
     "metadata": {},
     "output_type": "execute_result"
    }
   ],
   "source": [
    "titan_train"
   ]
  },
  {
   "cell_type": "code",
   "execution_count": 5,
   "id": "fc2cf4cf",
   "metadata": {},
   "outputs": [],
   "source": [
    "titan_test = pd.read_csv(\"TitanData/TitanTest.csv\")"
   ]
  },
  {
   "cell_type": "code",
   "execution_count": 6,
   "id": "c0962ca4",
   "metadata": {},
   "outputs": [
    {
     "data": {
      "text/html": [
       "<div>\n",
       "<style scoped>\n",
       "    .dataframe tbody tr th:only-of-type {\n",
       "        vertical-align: middle;\n",
       "    }\n",
       "\n",
       "    .dataframe tbody tr th {\n",
       "        vertical-align: top;\n",
       "    }\n",
       "\n",
       "    .dataframe thead th {\n",
       "        text-align: right;\n",
       "    }\n",
       "</style>\n",
       "<table border=\"1\" class=\"dataframe\">\n",
       "  <thead>\n",
       "    <tr style=\"text-align: right;\">\n",
       "      <th></th>\n",
       "      <th>timestamp</th>\n",
       "      <th>open</th>\n",
       "      <th>high</th>\n",
       "      <th>low</th>\n",
       "      <th>close</th>\n",
       "      <th>volume</th>\n",
       "    </tr>\n",
       "  </thead>\n",
       "  <tbody>\n",
       "    <tr>\n",
       "      <th>0</th>\n",
       "      <td>2020-03-18 12:04:00+05:30</td>\n",
       "      <td>939.20</td>\n",
       "      <td>940.35</td>\n",
       "      <td>938.50</td>\n",
       "      <td>938.75</td>\n",
       "      <td>6475.0</td>\n",
       "    </tr>\n",
       "    <tr>\n",
       "      <th>1</th>\n",
       "      <td>2020-03-18 12:05:00+05:30</td>\n",
       "      <td>938.65</td>\n",
       "      <td>939.25</td>\n",
       "      <td>938.00</td>\n",
       "      <td>938.50</td>\n",
       "      <td>5195.0</td>\n",
       "    </tr>\n",
       "    <tr>\n",
       "      <th>2</th>\n",
       "      <td>2020-03-18 12:06:00+05:30</td>\n",
       "      <td>938.10</td>\n",
       "      <td>938.80</td>\n",
       "      <td>938.00</td>\n",
       "      <td>938.70</td>\n",
       "      <td>5400.0</td>\n",
       "    </tr>\n",
       "    <tr>\n",
       "      <th>3</th>\n",
       "      <td>2020-03-18 12:07:00+05:30</td>\n",
       "      <td>938.00</td>\n",
       "      <td>939.75</td>\n",
       "      <td>938.00</td>\n",
       "      <td>939.75</td>\n",
       "      <td>7041.0</td>\n",
       "    </tr>\n",
       "    <tr>\n",
       "      <th>4</th>\n",
       "      <td>2020-03-18 12:08:00+05:30</td>\n",
       "      <td>939.70</td>\n",
       "      <td>941.40</td>\n",
       "      <td>938.95</td>\n",
       "      <td>940.80</td>\n",
       "      <td>19337.0</td>\n",
       "    </tr>\n",
       "    <tr>\n",
       "      <th>...</th>\n",
       "      <td>...</td>\n",
       "      <td>...</td>\n",
       "      <td>...</td>\n",
       "      <td>...</td>\n",
       "      <td>...</td>\n",
       "      <td>...</td>\n",
       "    </tr>\n",
       "    <tr>\n",
       "      <th>74075</th>\n",
       "      <td>2021-01-01 15:25:00+05:30</td>\n",
       "      <td>1559.95</td>\n",
       "      <td>1561.95</td>\n",
       "      <td>1559.05</td>\n",
       "      <td>1560.90</td>\n",
       "      <td>4822.0</td>\n",
       "    </tr>\n",
       "    <tr>\n",
       "      <th>74076</th>\n",
       "      <td>2021-01-01 15:26:00+05:30</td>\n",
       "      <td>1560.95</td>\n",
       "      <td>1561.00</td>\n",
       "      <td>1559.25</td>\n",
       "      <td>1559.30</td>\n",
       "      <td>4585.0</td>\n",
       "    </tr>\n",
       "    <tr>\n",
       "      <th>74077</th>\n",
       "      <td>2021-01-01 15:27:00+05:30</td>\n",
       "      <td>1559.85</td>\n",
       "      <td>1560.00</td>\n",
       "      <td>1557.65</td>\n",
       "      <td>1557.95</td>\n",
       "      <td>2869.0</td>\n",
       "    </tr>\n",
       "    <tr>\n",
       "      <th>74078</th>\n",
       "      <td>2021-01-01 15:28:00+05:30</td>\n",
       "      <td>1557.95</td>\n",
       "      <td>1560.00</td>\n",
       "      <td>1557.25</td>\n",
       "      <td>1559.65</td>\n",
       "      <td>4476.0</td>\n",
       "    </tr>\n",
       "    <tr>\n",
       "      <th>74079</th>\n",
       "      <td>2021-01-01 15:29:00+05:30</td>\n",
       "      <td>1559.65</td>\n",
       "      <td>1559.75</td>\n",
       "      <td>1558.00</td>\n",
       "      <td>1558.00</td>\n",
       "      <td>2246.0</td>\n",
       "    </tr>\n",
       "  </tbody>\n",
       "</table>\n",
       "<p>74080 rows × 6 columns</p>\n",
       "</div>"
      ],
      "text/plain": [
       "                       timestamp     open     high      low    close   volume\n",
       "0      2020-03-18 12:04:00+05:30   939.20   940.35   938.50   938.75   6475.0\n",
       "1      2020-03-18 12:05:00+05:30   938.65   939.25   938.00   938.50   5195.0\n",
       "2      2020-03-18 12:06:00+05:30   938.10   938.80   938.00   938.70   5400.0\n",
       "3      2020-03-18 12:07:00+05:30   938.00   939.75   938.00   939.75   7041.0\n",
       "4      2020-03-18 12:08:00+05:30   939.70   941.40   938.95   940.80  19337.0\n",
       "...                          ...      ...      ...      ...      ...      ...\n",
       "74075  2021-01-01 15:25:00+05:30  1559.95  1561.95  1559.05  1560.90   4822.0\n",
       "74076  2021-01-01 15:26:00+05:30  1560.95  1561.00  1559.25  1559.30   4585.0\n",
       "74077  2021-01-01 15:27:00+05:30  1559.85  1560.00  1557.65  1557.95   2869.0\n",
       "74078  2021-01-01 15:28:00+05:30  1557.95  1560.00  1557.25  1559.65   4476.0\n",
       "74079  2021-01-01 15:29:00+05:30  1559.65  1559.75  1558.00  1558.00   2246.0\n",
       "\n",
       "[74080 rows x 6 columns]"
      ]
     },
     "execution_count": 6,
     "metadata": {},
     "output_type": "execute_result"
    }
   ],
   "source": [
    "titan_test"
   ]
  },
  {
   "cell_type": "code",
   "execution_count": 7,
   "id": "875a6f87",
   "metadata": {},
   "outputs": [],
   "source": [
    "#titan_test = titan_train.test[:, 1:2].values"
   ]
  },
  {
   "cell_type": "code",
   "execution_count": 8,
   "id": "d4c3a2aa",
   "metadata": {},
   "outputs": [],
   "source": [
    "titan_train = titan_train.iloc[:, 1:2].values"
   ]
  },
  {
   "cell_type": "code",
   "execution_count": 9,
   "id": "f9a18af8",
   "metadata": {},
   "outputs": [],
   "source": [
    "titan_test = titan_test.iloc[:, 1:2].values"
   ]
  },
  {
   "cell_type": "code",
   "execution_count": 10,
   "id": "cf71ccb7",
   "metadata": {},
   "outputs": [],
   "source": [
    "sc = MinMaxScaler(feature_range = (0, 1))\n",
    "titan_train_scaled = sc.fit_transform(titan_train)"
   ]
  },
  {
   "cell_type": "code",
   "execution_count": 11,
   "id": "0ce8f7d9",
   "metadata": {},
   "outputs": [],
   "source": [
    "# titan_train_scaled"
   ]
  },
  {
   "cell_type": "code",
   "execution_count": 12,
   "id": "4a1355dd",
   "metadata": {},
   "outputs": [],
   "source": [
    "n_inputs = 200 # No of previous input values \n",
    "n_outputs = 20 # No of next values to predict\n",
    "\n",
    "X_train = [] \n",
    "y_train = []\n",
    "\n",
    "for i in range(n_inputs, len(titan_train_scaled)-n_outputs):\n",
    "    X_train.append(titan_train_scaled[i-n_inputs: i, 0]) # Take last n_inputs values\n",
    "    y_train.append(titan_train_scaled[i:i+n_outputs, 0]) # In y-train append next n_outputs values\n",
    "    \n",
    "X_train, y_train = np.array(X_train), np.array(y_train)\n",
    "\n",
    "# for loop Starting from 10th value in the dataset until the last value in the dataset.\n",
    "# We append 10 values to X-train and the next value to y-train."
   ]
  },
  {
   "cell_type": "code",
   "execution_count": 13,
   "id": "4f51ed51",
   "metadata": {},
   "outputs": [
    {
     "data": {
      "text/plain": [
       "(296104, 200)"
      ]
     },
     "execution_count": 13,
     "metadata": {},
     "output_type": "execute_result"
    }
   ],
   "source": [
    "X_train.shape"
   ]
  },
  {
   "cell_type": "code",
   "execution_count": 14,
   "id": "29110272",
   "metadata": {},
   "outputs": [
    {
     "data": {
      "text/plain": [
       "(296104, 20)"
      ]
     },
     "execution_count": 14,
     "metadata": {},
     "output_type": "execute_result"
    }
   ],
   "source": [
    "y_train.shape"
   ]
  },
  {
   "cell_type": "code",
   "execution_count": 15,
   "id": "a02f8584",
   "metadata": {},
   "outputs": [
    {
     "data": {
      "text/plain": [
       "array([[0.00136246, 0.00136246, 0.00136246, ..., 0.00173831, 0.00173831,\n",
       "        0.00173831],\n",
       "       [0.00136246, 0.00136246, 0.00136246, ..., 0.00173831, 0.00173831,\n",
       "        0.00164435],\n",
       "       [0.00136246, 0.00136246, 0.00131548, ..., 0.00173831, 0.00164435,\n",
       "        0.00164435],\n",
       "       ...,\n",
       "       [0.57369039, 0.57322058, 0.57228095, ..., 0.57556965, 0.57660324,\n",
       "        0.57810665],\n",
       "       [0.57322058, 0.57228095, 0.57077754, ..., 0.57660324, 0.57810665,\n",
       "        0.58040874],\n",
       "       [0.57228095, 0.57077754, 0.57101245, ..., 0.57810665, 0.58040874,\n",
       "        0.57707306]])"
      ]
     },
     "execution_count": 15,
     "metadata": {},
     "output_type": "execute_result"
    }
   ],
   "source": [
    "y_train"
   ]
  },
  {
   "cell_type": "code",
   "execution_count": 16,
   "id": "2dfa9fc7",
   "metadata": {},
   "outputs": [],
   "source": [
    "# print(titan_train_scaled)"
   ]
  },
  {
   "cell_type": "code",
   "execution_count": 17,
   "id": "f66ab0ee",
   "metadata": {},
   "outputs": [],
   "source": [
    "X_train = np.reshape(X_train, newshape = (X_train.shape[0], X_train.shape[1], 1))"
   ]
  },
  {
   "cell_type": "code",
   "execution_count": 18,
   "id": "638b186f",
   "metadata": {},
   "outputs": [
    {
     "data": {
      "text/plain": [
       "(296104, 200, 1)"
      ]
     },
     "execution_count": 18,
     "metadata": {},
     "output_type": "execute_result"
    }
   ],
   "source": [
    "X_train.shape"
   ]
  },
  {
   "cell_type": "code",
   "execution_count": 19,
   "id": "ba8cace8",
   "metadata": {},
   "outputs": [],
   "source": [
    "y_train = np.reshape(y_train, newshape = (y_train.shape[0], y_train.shape[1], 1))"
   ]
  },
  {
   "cell_type": "code",
   "execution_count": 20,
   "id": "3172296c",
   "metadata": {},
   "outputs": [
    {
     "data": {
      "text/plain": [
       "(296104, 20, 1)"
      ]
     },
     "execution_count": 20,
     "metadata": {},
     "output_type": "execute_result"
    }
   ],
   "source": [
    "y_train.shape"
   ]
  },
  {
   "cell_type": "code",
   "execution_count": 21,
   "id": "55ec8a63",
   "metadata": {},
   "outputs": [],
   "source": [
    "regressor = Sequential()"
   ]
  },
  {
   "cell_type": "code",
   "execution_count": 22,
   "id": "c9ae6247",
   "metadata": {},
   "outputs": [],
   "source": [
    "n_units = 100\n",
    "n_epochs = 10\n",
    "batch_size = 512\n",
    "\n",
    "regressor.add(LSTM(units = n_units, return_sequences = True, input_shape = (X_train.shape[1], 1)))\n",
    "\n",
    "regressor.add(Dropout(rate = 0.2))"
   ]
  },
  {
   "cell_type": "code",
   "execution_count": 23,
   "id": "b614119a",
   "metadata": {},
   "outputs": [],
   "source": [
    "##add 2nd lstm layer\n",
    "regressor.add(LSTM(units = n_units, return_sequences = True))\n",
    "regressor.add(Dropout(rate = 0.2))##add 3rd lstm layer\n",
    "regressor.add(LSTM(units = n_units, return_sequences = True))\n",
    "regressor.add(Dropout(rate = 0.2))##add 4th lstm layer\n",
    "regressor.add(LSTM(units = n_units, return_sequences = False))\n",
    "regressor.add(Dropout(rate = 0.2))"
   ]
  },
  {
   "cell_type": "code",
   "execution_count": 24,
   "id": "f0af047c",
   "metadata": {},
   "outputs": [],
   "source": [
    "regressor.add(Dense(units = n_outputs))\n",
    "regressor.compile(optimizer = 'adam', loss = 'mean_squared_error')"
   ]
  },
  {
   "cell_type": "code",
   "execution_count": 25,
   "id": "20ada1f1",
   "metadata": {},
   "outputs": [
    {
     "name": "stdout",
     "output_type": "stream",
     "text": [
      "Epoch 1/10\n",
      "579/579 [==============================] - 232s 371ms/step - loss: 0.0082\n",
      "Epoch 2/10\n",
      "579/579 [==============================] - 236s 408ms/step - loss: 0.0017\n",
      "Epoch 3/10\n",
      "579/579 [==============================] - 237s 410ms/step - loss: 0.0011\n",
      "Epoch 4/10\n",
      "579/579 [==============================] - 198s 342ms/step - loss: 8.0028e-04\n",
      "Epoch 5/10\n",
      "579/579 [==============================] - 254s 439ms/step - loss: 6.2382e-04\n",
      "Epoch 6/10\n",
      "579/579 [==============================] - 135s 232ms/step - loss: 4.9071e-04\n",
      "Epoch 7/10\n",
      "579/579 [==============================] - 136s 235ms/step - loss: 4.0214e-04\n",
      "Epoch 8/10\n",
      "579/579 [==============================] - 137s 237ms/step - loss: 3.3610e-04\n",
      "Epoch 9/10\n",
      "579/579 [==============================] - 137s 236ms/step - loss: 3.0192e-04\n",
      "Epoch 10/10\n",
      "579/579 [==============================] - 137s 236ms/step - loss: 2.7483e-04\n"
     ]
    },
    {
     "data": {
      "text/plain": [
       "<keras.callbacks.History at 0x2028ff0d040>"
      ]
     },
     "execution_count": 25,
     "metadata": {},
     "output_type": "execute_result"
    }
   ],
   "source": [
    "regressor.fit(x = X_train, y = y_train, batch_size = batch_size, epochs = n_epochs)"
   ]
  },
  {
   "cell_type": "code",
   "execution_count": 26,
   "id": "d8db515d",
   "metadata": {},
   "outputs": [],
   "source": [
    "real_stock_price = titan_test"
   ]
  },
  {
   "cell_type": "code",
   "execution_count": 33,
   "id": "d9a3bd1c",
   "metadata": {},
   "outputs": [],
   "source": [
    "titan_open = titan['open']"
   ]
  },
  {
   "cell_type": "code",
   "execution_count": 34,
   "id": "753ce206",
   "metadata": {},
   "outputs": [
    {
     "data": {
      "text/plain": [
       "0          327.00\n",
       "1          326.70\n",
       "2          327.00\n",
       "3          326.85\n",
       "4          326.00\n",
       "           ...   \n",
       "370399    1559.95\n",
       "370400    1560.95\n",
       "370401    1559.85\n",
       "370402    1557.95\n",
       "370403    1559.65\n",
       "Name: open, Length: 370404, dtype: float64"
      ]
     },
     "execution_count": 34,
     "metadata": {},
     "output_type": "execute_result"
    }
   ],
   "source": [
    "titan_open"
   ]
  },
  {
   "cell_type": "code",
   "execution_count": 35,
   "id": "f09cd8cc",
   "metadata": {},
   "outputs": [],
   "source": [
    "inputs = titan_open[len(titan_open) - len(titan_test)-n_inputs:].values"
   ]
  },
  {
   "cell_type": "code",
   "execution_count": 36,
   "id": "0d48a0dd",
   "metadata": {},
   "outputs": [],
   "source": [
    "inputs = inputs.reshape(-1, 1)"
   ]
  },
  {
   "cell_type": "code",
   "execution_count": 37,
   "id": "e168219a",
   "metadata": {},
   "outputs": [],
   "source": [
    "inputs = sc.transform(inputs)"
   ]
  },
  {
   "cell_type": "code",
   "execution_count": 38,
   "id": "eff6b017",
   "metadata": {},
   "outputs": [
    {
     "data": {
      "text/plain": [
       "array([[0.64806202],\n",
       "       [0.64416256],\n",
       "       [0.64204839],\n",
       "       ...,\n",
       "       [1.15978389],\n",
       "       [1.15799859],\n",
       "       [1.15959596]])"
      ]
     },
     "execution_count": 38,
     "metadata": {},
     "output_type": "execute_result"
    }
   ],
   "source": [
    "inputs"
   ]
  },
  {
   "cell_type": "code",
   "execution_count": 39,
   "id": "f7eef7fa",
   "metadata": {},
   "outputs": [],
   "source": [
    "X_test = []\n",
    "y_test = []\n",
    "\n",
    "for i in range(n_inputs, len(inputs)-n_outputs): \n",
    "    X_test.append(inputs[i-n_inputs: i, 0])\n",
    "    y_test.append(inputs[i:i+n_outputs, 0])\n",
    "X_test = np.array(X_test)\n",
    "y_test = np.array(y_test)\n",
    "#make numpy array as 3D , adding num of indicator\n",
    "X_test = np.reshape(X_test, newshape = (X_test.shape[0],  X_test.shape[1], 1))\n",
    "y_test = np.reshape(y_test, newshape = (y_test.shape[0],  y_test.shape[1], 1))"
   ]
  },
  {
   "cell_type": "code",
   "execution_count": 40,
   "id": "e066df38",
   "metadata": {},
   "outputs": [
    {
     "data": {
      "text/plain": [
       "array([[[0.64806202],\n",
       "        [0.64416256],\n",
       "        [0.64204839],\n",
       "        ...,\n",
       "        [0.58040874],\n",
       "        [0.57707306],\n",
       "        [0.5784825 ]],\n",
       "\n",
       "       [[0.64416256],\n",
       "        [0.64204839],\n",
       "        [0.63819591],\n",
       "        ...,\n",
       "        [0.57707306],\n",
       "        [0.5784825 ],\n",
       "        [0.57660324]],\n",
       "\n",
       "       [[0.64204839],\n",
       "        [0.63819591],\n",
       "        [0.6351891 ],\n",
       "        ...,\n",
       "        [0.5784825 ],\n",
       "        [0.57660324],\n",
       "        [0.57608645]],\n",
       "\n",
       "       ...,\n",
       "\n",
       "       [[1.16631431],\n",
       "        [1.1668311 ],\n",
       "        [1.16603242],\n",
       "        ...,\n",
       "        [1.15917313],\n",
       "        [1.15809255],\n",
       "        [1.15804557]],\n",
       "\n",
       "       [[1.1668311 ],\n",
       "        [1.16603242],\n",
       "        [1.16603242],\n",
       "        ...,\n",
       "        [1.15809255],\n",
       "        [1.15804557],\n",
       "        [1.15912615]],\n",
       "\n",
       "       [[1.16603242],\n",
       "        [1.16603242],\n",
       "        [1.16570355],\n",
       "        ...,\n",
       "        [1.15804557],\n",
       "        [1.15912615],\n",
       "        [1.15954898]]])"
      ]
     },
     "execution_count": 40,
     "metadata": {},
     "output_type": "execute_result"
    }
   ],
   "source": [
    "X_test"
   ]
  },
  {
   "cell_type": "code",
   "execution_count": 41,
   "id": "a2342d25",
   "metadata": {},
   "outputs": [
    {
     "data": {
      "text/plain": [
       "array([[[0.57660324],\n",
       "        [0.57608645],\n",
       "        [0.57556965],\n",
       "        ...,\n",
       "        [0.58224101],\n",
       "        [0.5817712 ],\n",
       "        [0.5792342 ]],\n",
       "\n",
       "       [[0.57608645],\n",
       "        [0.57556965],\n",
       "        [0.57547569],\n",
       "        ...,\n",
       "        [0.5817712 ],\n",
       "        [0.5792342 ],\n",
       "        [0.57735494]],\n",
       "\n",
       "       [[0.57556965],\n",
       "        [0.57547569],\n",
       "        [0.57707306],\n",
       "        ...,\n",
       "        [0.5792342 ],\n",
       "        [0.57735494],\n",
       "        [0.5789993 ]],\n",
       "\n",
       "       ...,\n",
       "\n",
       "       [[1.15912615],\n",
       "        [1.15954898],\n",
       "        [1.15968992],\n",
       "        ...,\n",
       "        [1.15875029],\n",
       "        [1.15987785],\n",
       "        [1.16081748]],\n",
       "\n",
       "       [[1.15954898],\n",
       "        [1.15968992],\n",
       "        [1.15964294],\n",
       "        ...,\n",
       "        [1.15987785],\n",
       "        [1.16081748],\n",
       "        [1.15978389]],\n",
       "\n",
       "       [[1.15968992],\n",
       "        [1.15964294],\n",
       "        [1.15992483],\n",
       "        ...,\n",
       "        [1.16081748],\n",
       "        [1.15978389],\n",
       "        [1.15799859]]])"
      ]
     },
     "execution_count": 41,
     "metadata": {},
     "output_type": "execute_result"
    }
   ],
   "source": [
    "y_test"
   ]
  },
  {
   "cell_type": "code",
   "execution_count": 42,
   "id": "b82bf3e8",
   "metadata": {},
   "outputs": [
    {
     "data": {
      "text/plain": [
       "(74060, 200, 1)"
      ]
     },
     "execution_count": 42,
     "metadata": {},
     "output_type": "execute_result"
    }
   ],
   "source": [
    "X_test.shape"
   ]
  },
  {
   "cell_type": "code",
   "execution_count": 43,
   "id": "58acfe6c",
   "metadata": {},
   "outputs": [
    {
     "data": {
      "text/plain": [
       "(74060, 20, 1)"
      ]
     },
     "execution_count": 43,
     "metadata": {},
     "output_type": "execute_result"
    }
   ],
   "source": [
    "y_test.shape"
   ]
  },
  {
   "cell_type": "code",
   "execution_count": 44,
   "id": "1230d166",
   "metadata": {},
   "outputs": [
    {
     "name": "stdout",
     "output_type": "stream",
     "text": [
      "2315/2315 [==============================] - 56s 23ms/step\n"
     ]
    }
   ],
   "source": [
    "predicted_stock_price = regressor.predict(X_test)"
   ]
  },
  {
   "cell_type": "code",
   "execution_count": 45,
   "id": "bf898bd0",
   "metadata": {},
   "outputs": [
    {
     "data": {
      "text/plain": [
       "array([[0.5835758 , 0.5836734 , 0.58320624, ..., 0.58326066, 0.58312744,\n",
       "        0.5832985 ],\n",
       "       [0.58386207, 0.5839669 , 0.5834923 , ..., 0.58355135, 0.58340824,\n",
       "        0.58358765],\n",
       "       [0.5841161 , 0.5842259 , 0.58374715, ..., 0.5838096 , 0.58365834,\n",
       "        0.58384436],\n",
       "       ...,\n",
       "       [1.1574104 , 1.1590542 , 1.1566398 , ..., 1.1575048 , 1.1576439 ,\n",
       "        1.1564424 ],\n",
       "       [1.1571987 , 1.1588392 , 1.15643   , ..., 1.1572932 , 1.1574347 ,\n",
       "        1.1562313 ],\n",
       "       [1.1569753 , 1.1586123 , 1.1562082 , ..., 1.1570694 , 1.1572132 ,\n",
       "        1.156008  ]], dtype=float32)"
      ]
     },
     "execution_count": 45,
     "metadata": {},
     "output_type": "execute_result"
    }
   ],
   "source": [
    "pred_backup = predicted_stock_price\n",
    "predicted_stock_price"
   ]
  },
  {
   "cell_type": "code",
   "execution_count": 46,
   "id": "b6ad95da",
   "metadata": {},
   "outputs": [
    {
     "data": {
      "text/plain": [
       "(74060, 20)"
      ]
     },
     "execution_count": 46,
     "metadata": {},
     "output_type": "execute_result"
    }
   ],
   "source": [
    "predicted_stock_price.shape"
   ]
  },
  {
   "cell_type": "code",
   "execution_count": 47,
   "id": "5ccf0172",
   "metadata": {},
   "outputs": [],
   "source": [
    "predicted_stock_price = sc.inverse_transform(predicted_stock_price)"
   ]
  },
  {
   "cell_type": "code",
   "execution_count": 48,
   "id": "2c005218",
   "metadata": {},
   "outputs": [
    {
     "data": {
      "text/plain": [
       "74060"
      ]
     },
     "execution_count": 48,
     "metadata": {},
     "output_type": "execute_result"
    }
   ],
   "source": [
    "len(predicted_stock_price)"
   ]
  },
  {
   "cell_type": "code",
   "execution_count": 49,
   "id": "93be4ae4",
   "metadata": {},
   "outputs": [
    {
     "data": {
      "text/plain": [
       "array([[ 946.62054,  946.7244 ,  946.22723, ...,  946.28516,  946.1434 ,\n",
       "         946.32544],\n",
       "       [ 946.9252 ,  947.0368 ,  946.5317 , ...,  946.5945 ,  946.4422 ,\n",
       "         946.6331 ],\n",
       "       [ 947.19556,  947.3124 ,  946.8029 , ...,  946.8694 ,  946.7084 ,\n",
       "         946.9064 ],\n",
       "       ...,\n",
       "       [1557.324  , 1559.0734 , 1556.5039 , ..., 1557.4244 , 1557.5725 ,\n",
       "        1556.2938 ],\n",
       "       [1557.0986 , 1558.8446 , 1556.2806 , ..., 1557.1993 , 1557.3499 ,\n",
       "        1556.0691 ],\n",
       "       [1556.861  , 1558.603  , 1556.0446 , ..., 1556.9612 , 1557.1141 ,\n",
       "        1555.8315 ]], dtype=float32)"
      ]
     },
     "execution_count": 49,
     "metadata": {},
     "output_type": "execute_result"
    }
   ],
   "source": [
    "predicted_stock_price"
   ]
  },
  {
   "cell_type": "code",
   "execution_count": 50,
   "id": "4acaab7b",
   "metadata": {},
   "outputs": [
    {
     "data": {
      "text/plain": [
       "(74060, 20)"
      ]
     },
     "execution_count": 50,
     "metadata": {},
     "output_type": "execute_result"
    }
   ],
   "source": [
    "predicted_stock_price.shape"
   ]
  },
  {
   "cell_type": "code",
   "execution_count": 55,
   "id": "abf8864e",
   "metadata": {},
   "outputs": [],
   "source": [
    "timestamps = titan['timestamp'][train_limit:len(titan['timestamp'])-n_outputs]"
   ]
  },
  {
   "cell_type": "code",
   "execution_count": 56,
   "id": "2ab623af",
   "metadata": {},
   "outputs": [
    {
     "data": {
      "text/plain": [
       "74060"
      ]
     },
     "execution_count": 56,
     "metadata": {},
     "output_type": "execute_result"
    }
   ],
   "source": [
    "len(timestamps)"
   ]
  },
  {
   "cell_type": "code",
   "execution_count": 57,
   "id": "9f7cc795",
   "metadata": {},
   "outputs": [
    {
     "data": {
      "text/plain": [
       "74060"
      ]
     },
     "execution_count": 57,
     "metadata": {},
     "output_type": "execute_result"
    }
   ],
   "source": [
    "len(y_test)"
   ]
  },
  {
   "cell_type": "code",
   "execution_count": 58,
   "id": "8687863e",
   "metadata": {},
   "outputs": [
    {
     "data": {
      "text/plain": [
       "74060"
      ]
     },
     "execution_count": 58,
     "metadata": {},
     "output_type": "execute_result"
    }
   ],
   "source": [
    "len(predicted_stock_price)"
   ]
  },
  {
   "cell_type": "code",
   "execution_count": 59,
   "id": "bab17bfd",
   "metadata": {},
   "outputs": [
    {
     "data": {
      "text/plain": [
       "(74060,)"
      ]
     },
     "execution_count": 59,
     "metadata": {},
     "output_type": "execute_result"
    }
   ],
   "source": [
    "timestamps.shape"
   ]
  },
  {
   "cell_type": "code",
   "execution_count": 60,
   "id": "e0757ea1",
   "metadata": {},
   "outputs": [
    {
     "data": {
      "text/plain": [
       "(74080, 1)"
      ]
     },
     "execution_count": 60,
     "metadata": {},
     "output_type": "execute_result"
    }
   ],
   "source": [
    "real_stock_price.shape"
   ]
  },
  {
   "cell_type": "code",
   "execution_count": 61,
   "id": "17e01a09",
   "metadata": {},
   "outputs": [],
   "source": [
    "# real_stock_price = real_stock_price[:, 0]\n",
    "# real_stock_price.shape"
   ]
  },
  {
   "cell_type": "code",
   "execution_count": 62,
   "id": "ed0b24a4",
   "metadata": {},
   "outputs": [],
   "source": [
    "#predicted_stock_price = real_stock_price+10\n",
    "#predicted_stock_price = predicted_stock_price[:, 0]"
   ]
  },
  {
   "cell_type": "code",
   "execution_count": 63,
   "id": "48c8edb6",
   "metadata": {},
   "outputs": [
    {
     "data": {
      "text/plain": [
       "(74060, 20)"
      ]
     },
     "execution_count": 63,
     "metadata": {},
     "output_type": "execute_result"
    }
   ],
   "source": [
    "predicted_stock_price.shape"
   ]
  },
  {
   "cell_type": "code",
   "execution_count": 64,
   "id": "da74f0ff",
   "metadata": {},
   "outputs": [
    {
     "data": {
      "text/plain": [
       "array([[ 946.62054,  946.7244 ,  946.22723, ...,  946.28516,  946.1434 ,\n",
       "         946.32544],\n",
       "       [ 946.9252 ,  947.0368 ,  946.5317 , ...,  946.5945 ,  946.4422 ,\n",
       "         946.6331 ],\n",
       "       [ 947.19556,  947.3124 ,  946.8029 , ...,  946.8694 ,  946.7084 ,\n",
       "         946.9064 ],\n",
       "       ...,\n",
       "       [1557.324  , 1559.0734 , 1556.5039 , ..., 1557.4244 , 1557.5725 ,\n",
       "        1556.2938 ],\n",
       "       [1557.0986 , 1558.8446 , 1556.2806 , ..., 1557.1993 , 1557.3499 ,\n",
       "        1556.0691 ],\n",
       "       [1556.861  , 1558.603  , 1556.0446 , ..., 1556.9612 , 1557.1141 ,\n",
       "        1555.8315 ]], dtype=float32)"
      ]
     },
     "execution_count": 64,
     "metadata": {},
     "output_type": "execute_result"
    }
   ],
   "source": [
    "predicted_stock_price"
   ]
  },
  {
   "cell_type": "code",
   "execution_count": 65,
   "id": "6c6e0a7b",
   "metadata": {},
   "outputs": [],
   "source": [
    "# titan_predict_compare = {'Timestamps': list(timestamps), 'Real': list(real_stock_price), 'Predicted': list(predicted_stock_price)}\n",
    "\n",
    "# titan_predict_df = pd.DataFrame(titan_predict_compare)\n",
    "\n",
    "# titan_predict_df"
   ]
  },
  {
   "cell_type": "code",
   "execution_count": 66,
   "id": "c55d8296",
   "metadata": {},
   "outputs": [],
   "source": [
    "y_test = np.reshape(y_test, newshape = (y_test.shape[0],  y_test.shape[1]))"
   ]
  },
  {
   "cell_type": "code",
   "execution_count": 67,
   "id": "53ff9fd9",
   "metadata": {},
   "outputs": [],
   "source": [
    "y_test = sc.inverse_transform(y_test)"
   ]
  },
  {
   "cell_type": "code",
   "execution_count": 68,
   "id": "fdc0c262",
   "metadata": {},
   "outputs": [
    {
     "data": {
      "text/plain": [
       "array([[-7.42054443, -8.07442627, -8.12723389, ..., -1.08515625,\n",
       "        -1.44337158, -4.32543945],\n",
       "       [-8.2751709 , -8.9368042 , -8.53167725, ..., -1.89448242,\n",
       "        -4.44219971, -6.63311768],\n",
       "       [-9.09555664, -9.31237793, -7.10291748, ..., -4.86938477,\n",
       "        -6.70837402, -5.15637207],\n",
       "       ...,\n",
       "       [ 1.82602539,  0.52663574,  3.24609375, ...,  1.32556152,\n",
       "         2.37749023,  4.65617676],\n",
       "       [ 2.50136719,  0.90539551,  3.41936035, ...,  2.75065918,\n",
       "         3.60014648,  3.7809082 ],\n",
       "       [ 2.88903809,  1.09697266,  3.95544434, ...,  3.98881836,\n",
       "         2.73586426,  2.11845703]])"
      ]
     },
     "execution_count": 68,
     "metadata": {},
     "output_type": "execute_result"
    }
   ],
   "source": [
    "y_test - predicted_stock_price"
   ]
  },
  {
   "cell_type": "code",
   "execution_count": 69,
   "id": "dbe4e797",
   "metadata": {},
   "outputs": [],
   "source": [
    "import numpy as np\n",
    "def accuracy(real, pred):\n",
    "    diff = real-pred\n",
    "    diff_abs = np.absolute(real-pred)\n",
    "    #print(diff_abs)\n",
    "    ratio = diff_abs/real\n",
    "    #print(ratio.shape)\n",
    "    #print(ratio)\n",
    "    rms = np.sqrt(np.mean(diff**2, axis=0))\n",
    "    #print(rms)\n",
    "    absolute = np.mean(diff_abs, axis=0)\n",
    "    print(\"Absolute Avg Error = \", absolute)\n",
    "    print(\"RMS Error = \", rms)"
   ]
  },
  {
   "cell_type": "code",
   "execution_count": 70,
   "id": "e940a129",
   "metadata": {},
   "outputs": [],
   "source": [
    "# import numpy as np\n",
    "# def accuracy(real, pred):\n",
    "#     diff = real-pred\n",
    "#     diff_abs = np.absolute(real-pred)\n",
    "#     rms = np.sqrt(np.mean(diff**2))\n",
    "#     absolute = np.mean(diff_abs)\n",
    "#     print(\"Absolute Avg Error = \", absolute)\n",
    "#     print(\"RMS Error = \", rms)"
   ]
  },
  {
   "cell_type": "code",
   "execution_count": 71,
   "id": "e8333a80",
   "metadata": {},
   "outputs": [
    {
     "name": "stdout",
     "output_type": "stream",
     "text": [
      "Absolute Avg Error =  [6.94515192 7.29190767 6.6690841  7.04039798 6.73191409 6.9723663\n",
      " 7.24672891 7.31638902 6.85442125 7.23897343 7.20011136 7.28418432\n",
      " 6.97592678 7.28107854 7.29803414 7.27986358 7.2561496  7.45277889\n",
      " 7.42797868 7.47788346]\n",
      "RMS Error =  [7.9194255  8.28002698 7.8071961  8.19146647 7.99039292 8.28066554\n",
      " 8.60858743 8.73431431 8.37658188 8.78753574 8.81188126 8.94586891\n",
      " 8.7346783  9.05559378 9.13094666 9.15685917 9.21023631 9.41781163\n",
      " 9.44647052 9.5505641 ]\n"
     ]
    }
   ],
   "source": [
    "accuracy(y_test, predicted_stock_price)"
   ]
  },
  {
   "cell_type": "code",
   "execution_count": 160,
   "id": "027ccfa5",
   "metadata": {},
   "outputs": [],
   "source": [
    "#titan_predict_df.columns[1:]"
   ]
  },
  {
   "cell_type": "code",
   "execution_count": null,
   "id": "fc78a468",
   "metadata": {
    "scrolled": true
   },
   "outputs": [],
   "source": [
    "#fig = px.line(titan, x=timestamps, y=real_stock_rice, title=\"Titan Prediction\")\n",
    "#fig = go.Figure(go.Scatter(titan_predict_df, x='Timestamps', y=titan_predict_df.columns[1:]))\n",
    "# fig = go.Figure(go.Scatter(x=timestamps, y=predicted_stock_price))\n",
    "fig = px.line(x = timestamps, y=[y_test[:, 0], predicted_stock_price[:, 0]])\n",
    "fig.show()"
   ]
  },
  {
   "cell_type": "code",
   "execution_count": null,
   "id": "0206cbc8",
   "metadata": {},
   "outputs": [],
   "source": [
    "#fig = px.line(titan, x=timestamps, y=real_stock_rice, title=\"Titan Prediction\")\n",
    "#fig = go.Figure(go.Scatter(titan_predict_df, x='Timestamps', y=titan_predict_df.columns[1:]))\n",
    "# fig = go.Figure(go.Scatter(x=timestamps, y=predicted_stock_price))\n",
    "fig = px.line(x = timestamps, y=[y_test[:, 1], predicted_stock_price[:, 1]])\n",
    "fig.show()"
   ]
  },
  {
   "cell_type": "code",
   "execution_count": null,
   "id": "be92ef23",
   "metadata": {},
   "outputs": [],
   "source": [
    "#fig = px.line(titan, x=timestamps, y=real_stock_rice, title=\"Titan Prediction\")\n",
    "#fig = go.Figure(go.Scatter(titan_predict_df, x='Timestamps', y=titan_predict_df.columns[1:]))\n",
    "# fig = go.Figure(go.Scatter(x=timestamps, y=predicted_stock_price))\n",
    "fig = px.line(x = timestamps, y=[y_test[:, 2], predicted_stock_price[:, 2]])\n",
    "fig.show()"
   ]
  },
  {
   "cell_type": "code",
   "execution_count": null,
   "id": "a9480c4c",
   "metadata": {},
   "outputs": [],
   "source": [
    "#fig = px.line(titan, x=timestamps, y=real_stock_rice, title=\"Titan Prediction\")\n",
    "#fig = go.Figure(go.Scatter(titan_predict_df, x='Timestamps', y=titan_predict_df.columns[1:]))\n",
    "# fig = go.Figure(go.Scatter(x=timestamps, y=predicted_stock_price))\n",
    "fig = px.line(x = timestamps, y=[y_test[:, 3], predicted_stock_price[:, 3]])\n",
    "fig.show()"
   ]
  },
  {
   "cell_type": "code",
   "execution_count": null,
   "id": "13bc2e74",
   "metadata": {},
   "outputs": [],
   "source": [
    "#fig = px.line(titan, x=timestamps, y=real_stock_rice, title=\"Titan Prediction\")\n",
    "#fig = go.Figure(go.Scatter(titan_predict_df, x='Timestamps', y=titan_predict_df.columns[1:]))\n",
    "# fig = go.Figure(go.Scatter(x=timestamps, y=predicted_stock_price))\n",
    "fig = px.line(x = timestamps, y=[y_test[:, 4], predicted_stock_price[:, 4]])\n",
    "fig.show()"
   ]
  },
  {
   "cell_type": "code",
   "execution_count": 166,
   "id": "533c8392",
   "metadata": {},
   "outputs": [
    {
     "name": "stdout",
     "output_type": "stream",
     "text": [
      "Model: \"sequential\"\n",
      "_________________________________________________________________\n",
      " Layer (type)                Output Shape              Param #   \n",
      "=================================================================\n",
      " lstm (LSTM)                 (None, 200, 100)          40800     \n",
      "                                                                 \n",
      " dropout (Dropout)           (None, 200, 100)          0         \n",
      "                                                                 \n",
      " lstm_1 (LSTM)               (None, 200, 100)          80400     \n",
      "                                                                 \n",
      " dropout_1 (Dropout)         (None, 200, 100)          0         \n",
      "                                                                 \n",
      " lstm_2 (LSTM)               (None, 200, 100)          80400     \n",
      "                                                                 \n",
      " dropout_2 (Dropout)         (None, 200, 100)          0         \n",
      "                                                                 \n",
      " lstm_3 (LSTM)               (None, 100)               80400     \n",
      "                                                                 \n",
      " dropout_3 (Dropout)         (None, 100)               0         \n",
      "                                                                 \n",
      " dense (Dense)               (None, 20)                2020      \n",
      "                                                                 \n",
      "=================================================================\n",
      "Total params: 284,020\n",
      "Trainable params: 284,020\n",
      "Non-trainable params: 0\n",
      "_________________________________________________________________\n"
     ]
    }
   ],
   "source": [
    "regressor.summary()"
   ]
  },
  {
   "cell_type": "code",
   "execution_count": 167,
   "id": "fce3952b",
   "metadata": {},
   "outputs": [
    {
     "name": "stderr",
     "output_type": "stream",
     "text": [
      "WARNING:absl:Found untraced functions such as lstm_cell_layer_call_fn, lstm_cell_layer_call_and_return_conditional_losses, lstm_cell_1_layer_call_fn, lstm_cell_1_layer_call_and_return_conditional_losses, lstm_cell_2_layer_call_fn while saving (showing 5 of 8). These functions will not be directly callable after loading.\n"
     ]
    },
    {
     "name": "stdout",
     "output_type": "stream",
     "text": [
      "INFO:tensorflow:Assets written to: Models/200inputs_100units_10epochs_512batch_20outputs\\assets\n"
     ]
    },
    {
     "name": "stderr",
     "output_type": "stream",
     "text": [
      "INFO:tensorflow:Assets written to: Models/200inputs_100units_10epochs_512batch_20outputs\\assets\n"
     ]
    }
   ],
   "source": [
    "regressor.save('Models/{}inputs_{}units_{}epochs_{}batch_{}outputs'.format(n_inputs, n_units, n_epochs, batch_size, n_outputs))"
   ]
  },
  {
   "cell_type": "code",
   "execution_count": null,
   "id": "281bba09",
   "metadata": {},
   "outputs": [],
   "source": []
  },
  {
   "cell_type": "code",
   "execution_count": null,
   "id": "fde65259",
   "metadata": {},
   "outputs": [],
   "source": []
  },
  {
   "cell_type": "code",
   "execution_count": null,
   "id": "c7b705fe",
   "metadata": {},
   "outputs": [],
   "source": []
  },
  {
   "cell_type": "code",
   "execution_count": null,
   "id": "6de871b9",
   "metadata": {},
   "outputs": [],
   "source": []
  },
  {
   "cell_type": "code",
   "execution_count": null,
   "id": "c26fed26",
   "metadata": {},
   "outputs": [],
   "source": []
  },
  {
   "cell_type": "code",
   "execution_count": null,
   "id": "aefdf309",
   "metadata": {},
   "outputs": [],
   "source": []
  },
  {
   "cell_type": "markdown",
   "id": "eeb6c5bd",
   "metadata": {},
   "source": [
    "Links:\n",
    "\n",
    "https://towardsdatascience.com/basics-of-ohlc-charts-with-pythons-matplotlib-56d0e745a5be \\\n",
    "https://towardsdatascience.com/lstm-for-google-stock-price-prediction-e35f5cc84165 \\\n",
    "https://github.com/arpitgits/Stock-Market-predictions-using-different-ML-algorithms-for-swing-and-day-trading \\\n",
    "https://plotly.com/python/time-series/ \\\n",
    "https://plotly.com/python/getting-started/ \\\n",
    "https://www.investopedia.com/terms/o/ohlcchart.asp \\\n",
    "https://rapidapi.com/blog/best-stock-api/ \\\n",
    "https://www.moneycontrol.com/markets/indian-indices/ \\\n",
    "https://towardsdatascience.com/stock-market-analysis-in-python-part-1-getting-data-by-web-scraping-cb0589aca178 \\\n",
    "https://www.tensorflow.org/install/pip#windows-native_1 \\\n",
    "https://stackoverflow.com/questions/58142058/how-to-plot-multiple-lines-on-the-same-y-axis-using-plotly-express-in-python \\\n",
    "https://datascience.stackexchange.com/questions/82820/keras-predicts-nan-values \\\n",
    "https://www.tensorflow.org/tutorials/keras/save_and_load \\\n",
    "https://machinelearningmastery.com/difference-between-a-batch-and-an-epoch/ \\\n",
    "https://www.tensorflow.org/tensorboard/graphs \\\n",
    "https://neptune.ai/blog/installing-tensorflow-2-gpu-guide \\\n",
    "https://www.geeksforgeeks.org/using-jupyter-notebook-in-virtual-environment/ \\\n",
    "https://stackoverflow.com/questions/73424216/how-to-install-cudnn-and-cuda-toolkit-in-a-python-virtual-environment \\\n",
    "https://stackoverflow.com/questions/58068818/how-to-use-jupyter-notebooks-in-a-conda-environment \\\n",
    "https://www.tensorflow.org/tensorboard/graphs \\\n",
    "https://www.tensorflow.org/api_docs/python/tf/test/is_gpu_available \\\n",
    "https://stackoverflow.com/questions/44829085/tensorflow-not-running-on-gpu \\\n",
    "https://www.tensorflow.org/install/pip \\\n",
    "https://towardsdatascience.com/tensorflow-gpu-installation-made-easy-use-conda-instead-of-pip-52e5249374bc \\\n",
    "https://www.activestate.com/resources/quick-reads/how-to-install-keras-and-tensorflow/ \\\n",
    "https://keras.io/api/models/model_training_apis/ \\\n",
    "https://www.nseindia.com/all-reports \\\n",
    "https://www1.nseindia.com/products/content/debt/rdm/historical_rdm.htm \\\n",
    "https://www1.nseindia.com/products/content/equities/equities/eq_security.htm \\\n",
    "https://www.niftyindices.com/reports/historical-data \\\n",
    "https://groww.in/blog/most-volatile-stocks \\\n",
    "https://www.screener.in/screens/313326/high-volatility-stocks-a/ \\\n",
    "https://www.indmoney.com/articles/stocks/open-high-open-low-strategy-steps-to-execute-the-strategy \\"
   ]
  },
  {
   "cell_type": "code",
   "execution_count": null,
   "id": "9f22d71f",
   "metadata": {},
   "outputs": [],
   "source": []
  }
 ],
 "metadata": {
  "kernelspec": {
   "display_name": "Python 3 (ipykernel)",
   "language": "python",
   "name": "python3"
  },
  "language_info": {
   "codemirror_mode": {
    "name": "ipython",
    "version": 3
   },
   "file_extension": ".py",
   "mimetype": "text/x-python",
   "name": "python",
   "nbconvert_exporter": "python",
   "pygments_lexer": "ipython3",
   "version": "3.9.12"
  }
 },
 "nbformat": 4,
 "nbformat_minor": 5
}
